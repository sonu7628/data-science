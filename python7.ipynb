{
 "cells": [
  {
   "cell_type": "markdown",
   "id": "6612f4d7-c0c4-4c3c-a76d-de73f9fa97fc",
   "metadata": {},
   "source": [
    "### SET"
   ]
  },
  {
   "cell_type": "raw",
   "id": "702671fd-2b3c-4680-af32-3aede1576ac5",
   "metadata": {},
   "source": [
    "-In built DS in python\n",
    "-Linear DS\n",
    "-well defined object.\n",
    "-it is un-ordered fixed for the element.\n",
    "-set will contain the unique value.\n",
    "-Duplicates are not allowed.\n",
    "SYNTAX:-\n",
    "s={item1,item2,item3,...}\n",
    "-each item separated by comma.\n",
    "-we can't access the set element because set are un ordered.\n",
    "-sets are mutable.\n"
   ]
  },
  {
   "cell_type": "code",
   "execution_count": 1,
   "id": "e50f20fb-821e-4b3d-88b0-5805598d85c3",
   "metadata": {},
   "outputs": [
    {
     "data": {
      "text/plain": [
       "set"
      ]
     },
     "execution_count": 1,
     "metadata": {},
     "output_type": "execute_result"
    }
   ],
   "source": [
    "s=set()\n",
    "type(s)"
   ]
  },
  {
   "cell_type": "code",
   "execution_count": 2,
   "id": "95324f68-c5b4-4500-9fbb-378fb8617fb6",
   "metadata": {},
   "outputs": [
    {
     "data": {
      "text/plain": [
       "{1, 2, 3, 4, 5, 6}"
      ]
     },
     "execution_count": 2,
     "metadata": {},
     "output_type": "execute_result"
    }
   ],
   "source": [
    "s={1,2,3,4,5,6}\n",
    "s"
   ]
  },
  {
   "cell_type": "code",
   "execution_count": 3,
   "id": "6f93ddca-c06c-4547-bbf5-e9cf9abfba31",
   "metadata": {},
   "outputs": [
    {
     "ename": "TypeError",
     "evalue": "unhashable type: 'set'",
     "output_type": "error",
     "traceback": [
      "\u001b[1;31m---------------------------------------------------------------------------\u001b[0m",
      "\u001b[1;31mTypeError\u001b[0m                                 Traceback (most recent call last)",
      "Cell \u001b[1;32mIn[3], line 1\u001b[0m\n\u001b[1;32m----> 1\u001b[0m s\u001b[38;5;241m=\u001b[39m{\u001b[38;5;241m1\u001b[39m,\u001b[38;5;241m2\u001b[39m,{\u001b[38;5;241m3\u001b[39m,\u001b[38;5;241m4\u001b[39m}}\n\u001b[0;32m      2\u001b[0m s\n",
      "\u001b[1;31mTypeError\u001b[0m: unhashable type: 'set'"
     ]
    }
   ],
   "source": [
    "s={1,2,{3,4}}\n",
    "s"
   ]
  },
  {
   "cell_type": "code",
   "execution_count": 5,
   "id": "7806477a-ef59-4fec-bd54-6036a84ad30d",
   "metadata": {},
   "outputs": [
    {
     "ename": "TypeError",
     "evalue": "'set' object is not subscriptable",
     "output_type": "error",
     "traceback": [
      "\u001b[1;31m---------------------------------------------------------------------------\u001b[0m",
      "\u001b[1;31mTypeError\u001b[0m                                 Traceback (most recent call last)",
      "Cell \u001b[1;32mIn[5], line 1\u001b[0m\n\u001b[1;32m----> 1\u001b[0m \u001b[43ms\u001b[49m\u001b[43m[\u001b[49m\u001b[38;5;241;43m0\u001b[39;49m\u001b[43m]\u001b[49m\n",
      "\u001b[1;31mTypeError\u001b[0m: 'set' object is not subscriptable"
     ]
    }
   ],
   "source": [
    "s[0]"
   ]
  },
  {
   "cell_type": "code",
   "execution_count": 7,
   "id": "1831a442-bae0-4c3e-aea3-50bba6cbc03f",
   "metadata": {},
   "outputs": [
    {
     "data": {
      "text/plain": [
       "{1, 2, 3, 4, 6}"
      ]
     },
     "execution_count": 7,
     "metadata": {},
     "output_type": "execute_result"
    }
   ],
   "source": [
    "s.remove(5)\n",
    "s"
   ]
  },
  {
   "cell_type": "code",
   "execution_count": 8,
   "id": "ae387e24-68e3-4efb-8ac0-2e853125efe4",
   "metadata": {},
   "outputs": [
    {
     "data": {
      "text/plain": [
       "{1, 2, 3, 4, 6, 7}"
      ]
     },
     "execution_count": 8,
     "metadata": {},
     "output_type": "execute_result"
    }
   ],
   "source": [
    "s.add(7)\n",
    "s"
   ]
  },
  {
   "cell_type": "code",
   "execution_count": 9,
   "id": "8fa08977-8ff5-4d62-8bd0-a5fb298ea98e",
   "metadata": {},
   "outputs": [
    {
     "data": {
      "text/plain": [
       "[1, 2, 3, 4, 6, 7]"
      ]
     },
     "execution_count": 9,
     "metadata": {},
     "output_type": "execute_result"
    }
   ],
   "source": [
    "list1=list(s)\n",
    "list1"
   ]
  },
  {
   "cell_type": "code",
   "execution_count": 10,
   "id": "e5dc56f1-5b84-41dc-ae4e-ca6ae9c9b96b",
   "metadata": {},
   "outputs": [
    {
     "data": {
      "text/plain": [
       "{1, 2, 3, 4, 6, 7}"
      ]
     },
     "execution_count": 10,
     "metadata": {},
     "output_type": "execute_result"
    }
   ],
   "source": [
    "s=set(list1)\n",
    "s"
   ]
  },
  {
   "cell_type": "code",
   "execution_count": 14,
   "id": "5653905c-f9eb-4e5d-9bd3-a131043ac26a",
   "metadata": {},
   "outputs": [
    {
     "data": {
      "text/plain": [
       "{1, 2, 3, 4, 6, 7, 12, 89, 90, 112, 894}"
      ]
     },
     "execution_count": 14,
     "metadata": {},
     "output_type": "execute_result"
    }
   ],
   "source": [
    "s.update({112,12})\n",
    "s"
   ]
  },
  {
   "cell_type": "code",
   "execution_count": 12,
   "id": "eb88e491-5a66-4562-9fbc-c4384cfba765",
   "metadata": {},
   "outputs": [
    {
     "ename": "TypeError",
     "evalue": "unsupported operand type(s) for +: 'set' and 'set'",
     "output_type": "error",
     "traceback": [
      "\u001b[1;31m---------------------------------------------------------------------------\u001b[0m",
      "\u001b[1;31mTypeError\u001b[0m                                 Traceback (most recent call last)",
      "Cell \u001b[1;32mIn[12], line 1\u001b[0m\n\u001b[1;32m----> 1\u001b[0m \u001b[43m{\u001b[49m\u001b[38;5;241;43m1\u001b[39;49m\u001b[43m,\u001b[49m\u001b[38;5;241;43m2\u001b[39;49m\u001b[43m,\u001b[49m\u001b[38;5;241;43m3\u001b[39;49m\u001b[43m}\u001b[49m\u001b[38;5;241;43m+\u001b[39;49m\u001b[43m{\u001b[49m\u001b[38;5;241;43m4\u001b[39;49m\u001b[43m,\u001b[49m\u001b[38;5;241;43m5\u001b[39;49m\u001b[43m,\u001b[49m\u001b[38;5;241;43m6\u001b[39;49m\u001b[43m}\u001b[49m\n",
      "\u001b[1;31mTypeError\u001b[0m: unsupported operand type(s) for +: 'set' and 'set'"
     ]
    }
   ],
   "source": [
    "{1,2,3}+{4,5,6}"
   ]
  },
  {
   "cell_type": "code",
   "execution_count": 17,
   "id": "986e931c-ab02-4b84-9534-ad5b97d64fb8",
   "metadata": {},
   "outputs": [
    {
     "data": {
      "text/plain": [
       "{0, 2, 3, 4, 5, 7}"
      ]
     },
     "execution_count": 17,
     "metadata": {},
     "output_type": "execute_result"
    }
   ],
   "source": [
    "set={2,3,4,5,6,7,0}\n",
    "set.discard(6)\n",
    "set"
   ]
  },
  {
   "cell_type": "code",
   "execution_count": 18,
   "id": "86506b7e-981b-423a-9f4a-b7e14f7bcc37",
   "metadata": {},
   "outputs": [
    {
     "data": {
      "text/plain": [
       "False"
      ]
     },
     "execution_count": 18,
     "metadata": {},
     "output_type": "execute_result"
    }
   ],
   "source": [
    "all(set)"
   ]
  },
  {
   "cell_type": "code",
   "execution_count": 19,
   "id": "e86c164b-eb57-465f-9e22-0ca4663b35de",
   "metadata": {},
   "outputs": [
    {
     "data": {
      "text/plain": [
       "True"
      ]
     },
     "execution_count": 19,
     "metadata": {},
     "output_type": "execute_result"
    }
   ],
   "source": [
    "any(set)"
   ]
  },
  {
   "cell_type": "code",
   "execution_count": 20,
   "id": "051bf962-9485-4f63-af23-15c44522d638",
   "metadata": {},
   "outputs": [
    {
     "data": {
      "text/plain": [
       "7"
      ]
     },
     "execution_count": 20,
     "metadata": {},
     "output_type": "execute_result"
    }
   ],
   "source": [
    "max(set)"
   ]
  },
  {
   "cell_type": "code",
   "execution_count": 21,
   "id": "c5c0c27b-6094-42ce-a9be-84f7759c214b",
   "metadata": {},
   "outputs": [
    {
     "data": {
      "text/plain": [
       "0"
      ]
     },
     "execution_count": 21,
     "metadata": {},
     "output_type": "execute_result"
    }
   ],
   "source": [
    "min(set)"
   ]
  },
  {
   "cell_type": "code",
   "execution_count": 22,
   "id": "8b42f5ff-3cd1-429e-a5dc-cdca1eb8ce2e",
   "metadata": {},
   "outputs": [
    {
     "data": {
      "text/plain": [
       "21"
      ]
     },
     "execution_count": 22,
     "metadata": {},
     "output_type": "execute_result"
    }
   ],
   "source": [
    "sum(set)"
   ]
  },
  {
   "cell_type": "code",
   "execution_count": 23,
   "id": "864944f8-2f5d-4db1-8cde-8b910383fe8c",
   "metadata": {},
   "outputs": [
    {
     "data": {
      "text/plain": [
       "6"
      ]
     },
     "execution_count": 23,
     "metadata": {},
     "output_type": "execute_result"
    }
   ],
   "source": [
    "len(set)"
   ]
  },
  {
   "cell_type": "raw",
   "id": "1d56928f-c7d9-4bde-bafe-bbec442afc30",
   "metadata": {},
   "source": [
    "set operations:-\n"
   ]
  },
  {
   "cell_type": "code",
   "execution_count": 25,
   "id": "3a8e06d8-0d66-4733-b07e-b10c8255d0cd",
   "metadata": {},
   "outputs": [
    {
     "name": "stdout",
     "output_type": "stream",
     "text": [
      "{1, 2, 3, 4, 9, 11, 78, 56}\n"
     ]
    }
   ],
   "source": [
    "s1={1,2,3,4}\n",
    "s2={56,78,9,11}\n",
    "s3=(s1.union(s2))\n",
    "s3="
   ]
  },
  {
   "cell_type": "code",
   "execution_count": 6,
   "id": "483dd3d3-7f68-4f93-b2ae-d09102444245",
   "metadata": {},
   "outputs": [
    {
     "name": "stdout",
     "output_type": "stream",
     "text": [
      "Mean: 20.5\n"
     ]
    }
   ],
   "source": [
    "s1 = {1, 2, 3, 4}\n",
    "s2 = {56, 78, 9, 11}\n",
    "\n",
    "# Calculate the total sum of elements in both sets\n",
    "total_sum = sum(s1) + sum(s2)\n",
    "\n",
    "# Calculate the total number of elements in both sets\n",
    "total_len = len(s1) + len(s2)\n",
    "\n",
    "# Calculate the mean\n",
    "mean = total_sum / total_len\n",
    "\n",
    "print(\"Mean:\", mean)\n"
   ]
  },
  {
   "cell_type": "code",
   "execution_count": 28,
   "id": "60345c72-bb2f-4788-8eb2-6769573fe3da",
   "metadata": {},
   "outputs": [
    {
     "data": {
      "text/plain": [
       "{1, 2, 3, 4, 9, 11, 56, 78}"
      ]
     },
     "execution_count": 28,
     "metadata": {},
     "output_type": "execute_result"
    }
   ],
   "source": [
    "s1.update(s2)\n",
    "s1"
   ]
  },
  {
   "cell_type": "code",
   "execution_count": 4,
   "id": "0a82f4ba-3f8d-47c5-adf5-b721bc537731",
   "metadata": {},
   "outputs": [],
   "source": [
    "s1={1,2,3,4}\n",
    "sorted_list=sorted(s1)\n",
    "if len(s1)%2==0:\n",
    "    mid1=len(s1)//2\n",
    "    mid2=mid1-1\n",
    "    median=(sorted_list[mid1]+sorted_list[mid2])/2\n",
    "else:\n",
    "    mid=len(s1)//2\n",
    "    median=sorted_list[mid]"
   ]
  },
  {
   "cell_type": "code",
   "execution_count": 5,
   "id": "74049e72-5961-4d1b-8e0d-6923e6a4329d",
   "metadata": {},
   "outputs": [
    {
     "data": {
      "text/plain": [
       "2.5"
      ]
     },
     "execution_count": 5,
     "metadata": {},
     "output_type": "execute_result"
    }
   ],
   "source": [
    "median"
   ]
  },
  {
   "cell_type": "code",
   "execution_count": 40,
   "id": "04c6215f-6893-436d-8bac-e24a808400f7",
   "metadata": {},
   "outputs": [
    {
     "name": "stdout",
     "output_type": "stream",
     "text": [
      "{1, 2, 3, 4, 9, 11, 78, 56}\n"
     ]
    }
   ],
   "source": [
    "s1={1,2,3,4,56}\n",
    "s2={56,78,9,11}\n",
    "print(s1|s2)"
   ]
  },
  {
   "cell_type": "code",
   "execution_count": 41,
   "id": "c5efc843-fade-4bda-9160-c1b5897eca08",
   "metadata": {},
   "outputs": [
    {
     "data": {
      "text/plain": [
       "{56}"
      ]
     },
     "execution_count": 41,
     "metadata": {},
     "output_type": "execute_result"
    }
   ],
   "source": [
    "s1.intersection(s2)"
   ]
  },
  {
   "cell_type": "code",
   "execution_count": 42,
   "id": "15468694-f60b-4e83-b23d-62421325709f",
   "metadata": {},
   "outputs": [
    {
     "data": {
      "text/plain": [
       "{56}"
      ]
     },
     "execution_count": 42,
     "metadata": {},
     "output_type": "execute_result"
    }
   ],
   "source": [
    "s1&s2"
   ]
  },
  {
   "cell_type": "code",
   "execution_count": 1,
   "id": "46fc70d5-5533-400c-8e73-70e23473e7a5",
   "metadata": {},
   "outputs": [
    {
     "name": "stdout",
     "output_type": "stream",
     "text": [
      "[2, 3]\n"
     ]
    }
   ],
   "source": [
    "list1=[1,2,3,4]\n",
    "list2=[2,3,45,6]\n",
    "set1=set(list1)\n",
    "set2=set(list2)\n",
    "set3=set1&set2\n",
    "list3=list(set3)\n",
    "print(list3)"
   ]
  },
  {
   "cell_type": "code",
   "execution_count": 5,
   "id": "a79eeca7-a17b-48ec-b868-9bab9bcb8054",
   "metadata": {},
   "outputs": [
    {
     "name": "stdout",
     "output_type": "stream",
     "text": [
      "1\n",
      "4\n"
     ]
    }
   ],
   "source": [
    "list1=[1,2,3,4]\n",
    "list2=[2,3,45,6]\n",
    "for i in list1:\n",
    "    if i not in list2:\n",
    "        print(i)\n",
    "\n"
   ]
  },
  {
   "cell_type": "code",
   "execution_count": 7,
   "id": "5624bdff-2780-4651-a884-54a0710cfe3e",
   "metadata": {},
   "outputs": [
    {
     "name": "stdout",
     "output_type": "stream",
     "text": [
      "{1, 4, 23}\n"
     ]
    }
   ],
   "source": [
    "s1={1,2,3}\n",
    "s2={23,4,2,3}\n",
    "print(s1.symmetric_difference(s2))\n"
   ]
  },
  {
   "cell_type": "code",
   "execution_count": 8,
   "id": "48d0043d-674c-46fb-bb41-c056651d6c52",
   "metadata": {},
   "outputs": [
    {
     "data": {
      "text/plain": [
       "{1, 4, 23}"
      ]
     },
     "execution_count": 8,
     "metadata": {},
     "output_type": "execute_result"
    }
   ],
   "source": [
    "s1^s2"
   ]
  },
  {
   "cell_type": "code",
   "execution_count": 9,
   "id": "48a489f3-622c-4cb8-967f-03f26d1c3908",
   "metadata": {},
   "outputs": [
    {
     "data": {
      "text/plain": [
       "False"
      ]
     },
     "execution_count": 9,
     "metadata": {},
     "output_type": "execute_result"
    }
   ],
   "source": [
    "s1.isdisjoint(s2)"
   ]
  },
  {
   "cell_type": "code",
   "execution_count": 10,
   "id": "8b35a53f-8a6d-452f-87e5-8c1ac29238e1",
   "metadata": {},
   "outputs": [
    {
     "name": "stdout",
     "output_type": "stream",
     "text": [
      "True\n"
     ]
    }
   ],
   "source": [
    "s1={1,2}\n",
    "s2={1,2,3,4}\n",
    "print(s1.issubset(s2))"
   ]
  },
  {
   "cell_type": "code",
   "execution_count": 11,
   "id": "ac90f3cb-56f8-4b1b-bfd0-b22528515271",
   "metadata": {},
   "outputs": [
    {
     "data": {
      "text/plain": [
       "False"
      ]
     },
     "execution_count": 11,
     "metadata": {},
     "output_type": "execute_result"
    }
   ],
   "source": [
    "s2.issubset(s1)"
   ]
  },
  {
   "cell_type": "code",
   "execution_count": 14,
   "id": "3d8656f6-6255-4ff1-aa1b-bda8818927e9",
   "metadata": {},
   "outputs": [
    {
     "name": "stdout",
     "output_type": "stream",
     "text": [
      "{1, 3, 4, 5, 6, 7, 8}\n"
     ]
    }
   ],
   "source": [
    "s3={1,2,3,4,5}\n",
    "s4={2,6,7,8}\n",
    "s5=s3^s4\n",
    "print(s5)\n",
    "\n"
   ]
  },
  {
   "cell_type": "code",
   "execution_count": 6,
   "id": "4b0f9788-659e-4f6f-afc5-9a9e115a1dd7",
   "metadata": {},
   "outputs": [],
   "source": [
    "s={3,4,5}\n",
    "s.clear()"
   ]
  },
  {
   "cell_type": "code",
   "execution_count": 7,
   "id": "2ffde4d7-6475-48b5-a5fd-5deb42c51021",
   "metadata": {},
   "outputs": [
    {
     "data": {
      "text/plain": [
       "set()"
      ]
     },
     "execution_count": 7,
     "metadata": {},
     "output_type": "execute_result"
    }
   ],
   "source": [
    "s"
   ]
  },
  {
   "cell_type": "code",
   "execution_count": 10,
   "id": "0e815d40-324a-448f-9761-59b96c642794",
   "metadata": {},
   "outputs": [
    {
     "data": {
      "text/plain": [
       "1"
      ]
     },
     "execution_count": 10,
     "metadata": {},
     "output_type": "execute_result"
    }
   ],
   "source": [
    "a={1,2,3,4}\n",
    "a.pop()\n"
   ]
  },
  {
   "cell_type": "code",
   "execution_count": 13,
   "id": "47d5811f-e426-476d-8c0f-283b279711fb",
   "metadata": {},
   "outputs": [
    {
     "data": {
      "text/plain": [
       "True"
      ]
     },
     "execution_count": 13,
     "metadata": {},
     "output_type": "execute_result"
    }
   ],
   "source": [
    "#frozen set:-\n",
    "s1=frozenset({1,2,3,4})\n",
    "s2=frozenset({5,6,7,8})\n",
    "#frozen sets are not mutable.\n",
    "s1.isdisjoint(s2)"
   ]
  }
 ],
 "metadata": {
  "kernelspec": {
   "display_name": "Python 3 (ipykernel)",
   "language": "python",
   "name": "python3"
  },
  "language_info": {
   "codemirror_mode": {
    "name": "ipython",
    "version": 3
   },
   "file_extension": ".py",
   "mimetype": "text/x-python",
   "name": "python",
   "nbconvert_exporter": "python",
   "pygments_lexer": "ipython3",
   "version": "3.13.0"
  }
 },
 "nbformat": 4,
 "nbformat_minor": 5
}
