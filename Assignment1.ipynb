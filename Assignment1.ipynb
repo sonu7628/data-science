{
 "cells": [
  {
   "cell_type": "markdown",
   "id": "242efb2b-88a7-44dc-827b-740ec2f835a2",
   "metadata": {},
   "source": [
    "#### Assignments"
   ]
  },
  {
   "cell_type": "raw",
   "id": "ab57d4f5-ca8f-437c-a839-636f3d9cd177",
   "metadata": {},
   "source": [
    "Q1. Given two integer variables a and b, and a boolean variable flag. The task is \n",
    "to check the status and return accordingly. \n",
    "Return True for the following cases:\n",
    " ● Either a or b (not both) is non-negative and the flag is false. \n",
    "● Both a and b are negative and the flag is true.\n",
    " Otherwise, return false."
   ]
  },
  {
   "cell_type": "code",
   "execution_count": 1,
   "id": "dd71acbf-7922-47ba-8dcf-9d0a3d02c5a9",
   "metadata": {},
   "outputs": [
    {
     "name": "stdin",
     "output_type": "stream",
     "text": [
      "Enter any number: 3\n",
      "Enter any number: -7\n"
     ]
    },
    {
     "name": "stdout",
     "output_type": "stream",
     "text": [
      "True\n"
     ]
    }
   ],
   "source": [
    "def check_status(a,b,flag):\n",
    "    if (a>=0 and b<0) or (a<0 or b>=0) and not flag:\n",
    "        return True\n",
    "    elif a<0 and b<0 and flag:\n",
    "        return True\n",
    "    else:\n",
    "        return False\n",
    "a=int(input(\"Enter any number:\"))\n",
    "b=int(input(\"Enter any number:\"))\n",
    "print(check_status(a,b,True))\n",
    "        "
   ]
  },
  {
   "cell_type": "raw",
   "id": "09569de9-98c5-4b65-a322-876027689219",
   "metadata": {},
   "source": [
    "Q2 .You are given a number n. The number n can be negative or positive. If n \n",
    "is negative, print numbers from n to 0 by adding 1 to n in the neg function. If \n",
    "positive, print numbers from n-1 to 0 by subtracting 1 from n in \n",
    "the pos function."
   ]
  },
  {
   "cell_type": "code",
   "execution_count": 2,
   "id": "57e6631a-9473-4e8f-93e7-d5960bb46332",
   "metadata": {},
   "outputs": [
    {
     "name": "stdin",
     "output_type": "stream",
     "text": [
      "Enter any number: -7\n"
     ]
    },
    {
     "name": "stdout",
     "output_type": "stream",
     "text": [
      "-7\n",
      "-6\n",
      "-5\n",
      "-4\n",
      "-3\n",
      "-2\n",
      "-1\n",
      "0\n",
      "None\n"
     ]
    }
   ],
   "source": [
    "def pos(n):\n",
    "    i=n-1\n",
    "    while i>=0:\n",
    "        print(i)\n",
    "        i-=1\n",
    "def neg(n):\n",
    "    while n<=0:\n",
    "        print(n)\n",
    "        n+=1\n",
    "n=int(input(\"Enter any number:\"))\n",
    "if n>0:\n",
    "    print(pos(n))\n",
    "elif n==0:\n",
    "    print(\"Already zero\")\n",
    "else:\n",
    "    print(neg(n))\n"
   ]
  },
  {
   "cell_type": "raw",
   "id": "ac4aa451-f3c5-4bed-b13e-5e1a8c00a1d1",
   "metadata": {},
   "source": [
    "3.User will input (3ages).Find the oldest one"
   ]
  },
  {
   "cell_type": "code",
   "execution_count": 3,
   "id": "bfef3a36-af7c-4a78-bacd-53c22b7ee4e1",
   "metadata": {},
   "outputs": [
    {
     "name": "stdin",
     "output_type": "stream",
     "text": [
      "Enter the age of a : 34\n",
      "Enter the age of b : 56\n",
      "Enter the age of c : 78\n"
     ]
    },
    {
     "name": "stdout",
     "output_type": "stream",
     "text": [
      "c is oldest\n",
      "None\n"
     ]
    }
   ],
   "source": [
    "def oldest(a,b,c):\n",
    "    if a>b and a>c:\n",
    "        print(\"a is oldest\")\n",
    "    elif b>a and b>c:\n",
    "        print(\"b is oldest\")\n",
    "    else:\n",
    "        print(\"c is oldest\")\n",
    "a=int(input(\"Enter the age of a :\"))\n",
    "b=int(input(\"Enter the age of b :\"))\n",
    "c=int(input(\"Enter the age of c :\"))\n",
    "print(oldest(a,b,c))\n"
   ]
  },
  {
   "cell_type": "raw",
   "id": "4187f683-58b6-41b9-ad95-38050d4c26bd",
   "metadata": {},
   "source": [
    "4.Write a program that will convert celsius value to fahrenheit."
   ]
  },
  {
   "cell_type": "code",
   "execution_count": 4,
   "id": "e3b06c0a-a657-4baf-9abb-f386eba8d92e",
   "metadata": {},
   "outputs": [
    {
     "name": "stdin",
     "output_type": "stream",
     "text": [
      "Enter the temp in celsius: 56\n"
     ]
    },
    {
     "name": "stdout",
     "output_type": "stream",
     "text": [
      "132.8\n",
      "None\n"
     ]
    }
   ],
   "source": [
    "def conversion(C):\n",
    "    F=(C*9/5)+32\n",
    "    print(F)\n",
    "C=int(input(\"Enter the temp in celsius:\"))\n",
    "print(conversion(C))\n"
   ]
  },
  {
   "cell_type": "raw",
   "id": "7424c7a1-ce56-4057-a65d-62882950f369",
   "metadata": {},
   "source": [
    "5.User will input (2numbers).Write a program to swap the numbers"
   ]
  },
  {
   "cell_type": "code",
   "execution_count": 5,
   "id": "f05f008e-2fc8-45cf-a98e-34c1e69dffe2",
   "metadata": {},
   "outputs": [
    {
     "name": "stdin",
     "output_type": "stream",
     "text": [
      "Enter value of a: 10\n",
      "Emter value of b: 30\n"
     ]
    },
    {
     "name": "stdout",
     "output_type": "stream",
     "text": [
      "Changing Value of a: 30 Changing Value of b: 10\n"
     ]
    }
   ],
   "source": [
    "a=int(input(\"Enter value of a:\"))\n",
    "b=int(input(\"Emter value of b:\"))\n",
    "a=a^b\n",
    "b=a^b\n",
    "a=a^b\n",
    "print(\"Changing Value of a:\",a,\"Changing Value of b:\",b)"
   ]
  },
  {
   "cell_type": "raw",
   "id": "7b5897a2-203a-430d-848f-f8f3670fc1c9",
   "metadata": {},
   "source": [
    "6.Write a program that will give you the sum of 3 digits."
   ]
  },
  {
   "cell_type": "code",
   "execution_count": 6,
   "id": "9b756735-a110-4917-bb96-e97beaebeaf4",
   "metadata": {},
   "outputs": [
    {
     "name": "stdin",
     "output_type": "stream",
     "text": [
      "Enter any number: 789\n"
     ]
    },
    {
     "name": "stdout",
     "output_type": "stream",
     "text": [
      "24\n"
     ]
    }
   ],
   "source": [
    "n=int(input(\"Enter any number:\"))\n",
    "sum=0\n",
    "while n>0:\n",
    "    digit=n%10\n",
    "    sum+=digit\n",
    "    n//=10\n",
    "print(sum)"
   ]
  },
  {
   "cell_type": "raw",
   "id": "95398c8b-433d-4d38-b586-d8384d330f65",
   "metadata": {},
   "source": [
    "7.Write a program that will reverse a four digit number.Also it checks \n",
    "whether the reverse is true."
   ]
  },
  {
   "cell_type": "code",
   "execution_count": 7,
   "id": "d3cf20b9-06dc-445d-abb5-a6833cb0f59e",
   "metadata": {},
   "outputs": [
    {
     "name": "stdin",
     "output_type": "stream",
     "text": [
      "Enter four number: 12321\n"
     ]
    },
    {
     "name": "stdout",
     "output_type": "stream",
     "text": [
      "12321\n",
      "reverse also true\n"
     ]
    }
   ],
   "source": [
    "n=int(input(\"Enter four number:\"))\n",
    "temp=n\n",
    "reverse=0\n",
    "while n>0:\n",
    "    digit=n%10\n",
    "    reverse=reverse*10+digit\n",
    "    n//=10\n",
    "print(reverse)\n",
    "if reverse==temp:\n",
    "    print(\"reverse also true\")\n",
    "else:\n",
    "    print(\"reverse is not true\")"
   ]
  },
  {
   "cell_type": "raw",
   "id": "f650358c-050f-4ba7-8d8f-3a73c8aff411",
   "metadata": {},
   "source": [
    "8.Write a program that will tell whether the number entered by the user is \n",
    "odd or even."
   ]
  },
  {
   "cell_type": "code",
   "execution_count": 8,
   "id": "50f5b108-e9f5-45e8-8292-792a8e56ead3",
   "metadata": {},
   "outputs": [
    {
     "name": "stdin",
     "output_type": "stream",
     "text": [
      "Enter any number: 13\n"
     ]
    },
    {
     "name": "stdout",
     "output_type": "stream",
     "text": [
      "number is odd\n"
     ]
    }
   ],
   "source": [
    "n=int(input(\"Enter any number:\"))\n",
    "if n%2==0:\n",
    "    print(\"number is even\")\n",
    "else:\n",
    "    print(\"number is odd\")"
   ]
  },
  {
   "cell_type": "raw",
   "id": "e19762e9-7af0-47b4-9733-1d3d36aca45d",
   "metadata": {},
   "source": [
    "9.Write a program that will tell whether the given year is a leap year or \n",
    "not."
   ]
  },
  {
   "cell_type": "code",
   "execution_count": 9,
   "id": "f9986b1b-a9f7-45a2-bb3e-d98352647bd7",
   "metadata": {},
   "outputs": [
    {
     "name": "stdin",
     "output_type": "stream",
     "text": [
      "enter any year: 2024\n"
     ]
    },
    {
     "name": "stdout",
     "output_type": "stream",
     "text": [
      "This is a leap year\n"
     ]
    }
   ],
   "source": [
    "year=int(input(\"enter any year:\"))\n",
    "if year%400==0:\n",
    "    print(\"This is leap year\")\n",
    "elif year%100==0:\n",
    "    print(\"This is not leap year\")\n",
    "elif year%4==0:\n",
    "    print(\"This is a leap year\")"
   ]
  },
  {
   "cell_type": "raw",
   "id": "4e4eb723-81da-4bf9-a178-66468ef50ee5",
   "metadata": {},
   "source": [
    "10.Write a program to find the euclidean distance between two \n",
    "coordinates."
   ]
  },
  {
   "cell_type": "code",
   "execution_count": 12,
   "id": "7732233d-11a3-469c-af05-ebf1204d5528",
   "metadata": {},
   "outputs": [
    {
     "name": "stdin",
     "output_type": "stream",
     "text": [
      "Enter the point in x-coordinate: 5\n",
      "Enter the point in x-coordinate: 6\n",
      "Enter the point in y-coordinate: 7\n",
      "Enter the point in y-coordinate: 8\n"
     ]
    },
    {
     "name": "stdout",
     "output_type": "stream",
     "text": [
      "1\n",
      "None\n"
     ]
    }
   ],
   "source": [
    "def calc_dist(x1,y1,x2,y2):\n",
    "    distance=((y2-y1)**2+(x2-x1)**2)**0.5\n",
    "    print(int(distance))\n",
    "x1=int(input(\"Enter the point in x-coordinate:\"))\n",
    "x2=int(input(\"Enter the point in x-coordinate:\"))\n",
    "y1=int(input(\"Enter the point in y-coordinate:\"))\n",
    "y2=int(input(\"Enter the point in y-coordinate:\"))\n",
    "print(calc_dist(x1,y1,x2,y2))"
   ]
  },
  {
   "cell_type": "raw",
   "id": "5ee0e704-886a-4869-a09e-4f5effa97ac8",
   "metadata": {},
   "source": [
    "11.Write a program that take a user inputr of three angles and will find out \n",
    "whether it can form a triangle or not."
   ]
  },
  {
   "cell_type": "code",
   "execution_count": 13,
   "id": "03f72147-95ba-4f1d-a162-3b047cba2de2",
   "metadata": {},
   "outputs": [
    {
     "name": "stdin",
     "output_type": "stream",
     "text": [
      "Enter the angle: 60\n",
      "Enter the angle: 60\n",
      "Enter the angle: 60\n"
     ]
    },
    {
     "name": "stdout",
     "output_type": "stream",
     "text": [
      "this is a triangle\n",
      "None\n"
     ]
    }
   ],
   "source": [
    "def proving_triangle(angle1,angle2,angle3):\n",
    "    if (angle1+angle2+angle3==180):\n",
    "        print(\"this is a triangle\")\n",
    "    else:\n",
    "        print(\"This is not a triangle.\")\n",
    "angle1=int(input(\"Enter the angle:\"))\n",
    "angle2=int(input(\"Enter the angle:\"))\n",
    "angle3=int(input(\"Enter the angle:\"))\n",
    "print(proving_triangle(angle1,angle2,angle3))"
   ]
  },
  {
   "cell_type": "raw",
   "id": "96b1a5d8-397f-4856-808b-b5fc8d43038b",
   "metadata": {},
   "source": [
    "12.Write a program that will take user input of cost price and selling price \n",
    "and determines whether its a loss or a profit"
   ]
  },
  {
   "cell_type": "code",
   "execution_count": 1,
   "id": "fe307b7b-bed5-44d3-9490-00e392998ad2",
   "metadata": {},
   "outputs": [
    {
     "name": "stdin",
     "output_type": "stream",
     "text": [
      "Enter the value of cost-price: 100\n",
      "Enter the valuee of selling price: 120\n"
     ]
    },
    {
     "name": "stdout",
     "output_type": "stream",
     "text": [
      "profit 20\n",
      "None\n"
     ]
    }
   ],
   "source": [
    "def determine(cp,sp):\n",
    "    if cp<sp:\n",
    "        print(\"profit\",sp-cp)\n",
    "    elif cp==sp:\n",
    "        print(\"no profit no loss\")\n",
    "    else:\n",
    "        print(\"loss:\",cp-sp)\n",
    "cp=int(input(\"Enter the value of cost-price:\"))\n",
    "sp=int(input(\"Enter the valuee of selling price:\"))\n",
    "print(determine(cp,sp))"
   ]
  },
  {
   "cell_type": "raw",
   "id": "029caa6f-f1db-4430-bb44-b2f9193ddf01",
   "metadata": {},
   "source": [
    "13.Write a program to find the simple interest when the value of \n",
    "principle,rate of interest and time period is given."
   ]
  },
  {
   "cell_type": "code",
   "execution_count": 2,
   "id": "927467ea-849d-47d4-a4ee-329cd02a395b",
   "metadata": {},
   "outputs": [
    {
     "name": "stdin",
     "output_type": "stream",
     "text": [
      "Enter principal: 100\n",
      "enter the value of rate of intrest: 10\n",
      "Enter the time-period: 2\n"
     ]
    },
    {
     "name": "stdout",
     "output_type": "stream",
     "text": [
      "20.0\n",
      "None\n"
     ]
    }
   ],
   "source": [
    "def intrest(i):\n",
    "    i+=(p*r*t)//100\n",
    "    print(i)\n",
    "p=int(input(\"Enter principal:\"))\n",
    "r=float(input(\"enter the value of rate of intrest:\"))\n",
    "t=int(input(\"Enter the time-period:\"))\n",
    "i=0\n",
    "print(intrest(i))"
   ]
  },
  {
   "cell_type": "raw",
   "id": "cad8df6f-8332-4ca0-a539-b674980d929d",
   "metadata": {},
   "source": [
    "14. Write a program to find the volume of the cylinder. Also find the cost \n",
    "when ,when the cost of 1litre milk is 40Rs."
   ]
  },
  {
   "cell_type": "code",
   "execution_count": 3,
   "id": "13afd73a-0f1f-4ff3-8a09-f3eabbbe8585",
   "metadata": {},
   "outputs": [
    {
     "name": "stdin",
     "output_type": "stream",
     "text": [
      "Enter radius of cylinder: 6\n",
      "Enter height of cylinder: 8\n"
     ]
    },
    {
     "name": "stdout",
     "output_type": "stream",
     "text": [
      "904.32\n",
      "None\n"
     ]
    }
   ],
   "source": [
    "def volume_cyl(v):\n",
    "    v=3.14*(r**2)*h\n",
    "    print(v)\n",
    "r=int(input(\"Enter radius of cylinder:\"))\n",
    "h=float(input(\"Enter height of cylinder:\"))\n",
    "v=0\n",
    "print(volume_cyl(v))"
   ]
  },
  {
   "cell_type": "raw",
   "id": "a7469f1c-6bb3-48f7-b498-0ad1d0e28061",
   "metadata": {},
   "source": [
    "15.Write  a program that will tell whether the given number is divisible by 3 \n",
    "& 6."
   ]
  },
  {
   "cell_type": "code",
   "execution_count": 4,
   "id": "4760f875-a6ab-4de1-8ea0-9045ed71b738",
   "metadata": {},
   "outputs": [
    {
     "name": "stdin",
     "output_type": "stream",
     "text": [
      "enter any number: 9\n"
     ]
    },
    {
     "name": "stdout",
     "output_type": "stream",
     "text": [
      "divisible by 3 but not by 6\n",
      "None\n"
     ]
    }
   ],
   "source": [
    "def is_divisible(n):\n",
    "    if n%3==0:\n",
    "        if n%6==0:\n",
    "            print(\"divisible by both 3 and 6\")\n",
    "        else:\n",
    "            print(\"divisible by 3 but not by 6\")\n",
    "    else:\n",
    "        print(\"not divisible by both\")\n",
    "n=int(input(\"enter any number:\"))\n",
    "print(is_divisible(n))"
   ]
  },
  {
   "cell_type": "raw",
   "id": "c0521ac6-aaa9-40f5-a0fb-01c34265115f",
   "metadata": {},
   "source": [
    "16.Write a program that will tell the number of dogs and chicken are there \n",
    "when the user will provide the value of total heads and legs."
   ]
  },
  {
   "cell_type": "code",
   "execution_count": 1,
   "id": "b1da41cb-ae96-45fd-9d08-d0bfc4ac9ceb",
   "metadata": {},
   "outputs": [
    {
     "name": "stdin",
     "output_type": "stream",
     "text": [
      "enter total number of head: 10\n",
      "enter total number legs: 28\n"
     ]
    },
    {
     "name": "stdout",
     "output_type": "stream",
     "text": [
      "number of dog: 4 number of chicken: 6\n",
      "None\n"
     ]
    }
   ],
   "source": [
    "def count(total_head,total_leg):\n",
    "    \"\"\"x+y=total_head\n",
    "    4*x+2*y=total_leg\n",
    "    2*x+2*y=2*total_head\n",
    "    2*x=total_leg-2*total_head\n",
    "    x=(total_leg-2*total_head)//2\n",
    "    y=total_head-x\"\"\"\n",
    "    x=(total_leg-2*total_head)//2\n",
    "    y=total_head-x\n",
    "    print(\"number of dog:\",x,\"number of chicken:\",y)\n",
    "total_head=int(input(\"enter total number of head:\"))\n",
    "total_leg=int(input(\"enter total number legs:\"))\n",
    "print(count(total_head,total_leg))"
   ]
  },
  {
   "cell_type": "raw",
   "id": "3ae49492-5834-4c95-a1c8-be2884b8385d",
   "metadata": {},
   "source": [
    "17.Write a program that will swap numbers."
   ]
  },
  {
   "cell_type": "code",
   "execution_count": 3,
   "id": "d8904bac-2c4b-4eda-8ad1-a163aaeac4d6",
   "metadata": {},
   "outputs": [
    {
     "name": "stdin",
     "output_type": "stream",
     "text": [
      "enter any number: 10\n",
      "enter any number: 20\n"
     ]
    },
    {
     "name": "stdout",
     "output_type": "stream",
     "text": [
      "value of a: 20 value of b: 10\n",
      "None\n"
     ]
    }
   ],
   "source": [
    "def swap(a,b):\n",
    "    a=a^b\n",
    "    b=a^b\n",
    "    a=a^b\n",
    "    print(\"value of a:\",a,\"value of b:\",b)\n",
    "a=int(input(\"enter any number:\"))\n",
    "b=int(input(\"enter any number:\"))\n",
    "print(swap(a,b))\n"
   ]
  },
  {
   "cell_type": "raw",
   "id": "030d52ed-226f-418a-a8a1-9017e23bae63",
   "metadata": {},
   "source": [
    "18.Write a program to find the sum of first n numbers, where n will be \n",
    "provided by the user. Eg if the user provides n=10 the output should be \n",
    "55."
   ]
  },
  {
   "cell_type": "code",
   "execution_count": 4,
   "id": "1039e7ac-e973-4259-92a3-530689a3b6eb",
   "metadata": {},
   "outputs": [
    {
     "name": "stdin",
     "output_type": "stream",
     "text": [
      "Enter any number: 12\n"
     ]
    },
    {
     "name": "stdout",
     "output_type": "stream",
     "text": [
      "78\n"
     ]
    }
   ],
   "source": [
    "def sum(n):\n",
    "    if n==0:\n",
    "        return 0\n",
    "    else:\n",
    "        return n+sum(n-1)\n",
    "n=int(input(\"Enter any number:\"))\n",
    "print(sum(n))"
   ]
  },
  {
   "cell_type": "raw",
   "id": "480b9fe5-fdb0-4251-ae1a-9b2778c4b893",
   "metadata": {},
   "source": [
    "19.Write a program that can multiply 2 numbers provided by the user \n",
    "without using the * operator"
   ]
  },
  {
   "cell_type": "code",
   "execution_count": 5,
   "id": "21327c9d-78b5-43cd-ba59-2b1469bcbe77",
   "metadata": {},
   "outputs": [
    {
     "name": "stdin",
     "output_type": "stream",
     "text": [
      "Enter value of a: 23\n",
      "Enter value of b: 4\n"
     ]
    },
    {
     "name": "stdout",
     "output_type": "stream",
     "text": [
      "92\n"
     ]
    }
   ],
   "source": [
    "def multi(a,b):\n",
    "    if b==0:\n",
    "        return 0\n",
    "    else:\n",
    "        return a+multi(a,b-1)\n",
    "a=int(input(\"Enter value of a:\"))\n",
    "b=int(input(\"Enter value of b:\"))\n",
    "print(multi(a,b))"
   ]
  },
  {
   "cell_type": "raw",
   "id": "1b5836ae-9ca2-4573-854a-5b46ab0692f1",
   "metadata": {},
   "source": [
    "20.Write a program that can find the factorial of a given number provided \n",
    "by the user."
   ]
  },
  {
   "cell_type": "code",
   "execution_count": 6,
   "id": "3d950ac7-731c-4d56-b182-40014924198c",
   "metadata": {},
   "outputs": [
    {
     "name": "stdin",
     "output_type": "stream",
     "text": [
      "Enter any number: 5\n"
     ]
    },
    {
     "name": "stdout",
     "output_type": "stream",
     "text": [
      "120\n"
     ]
    }
   ],
   "source": [
    "def factorial(n):\n",
    "    if n==0:\n",
    "        return 1\n",
    "    else:\n",
    "        return n*factorial(n-1)\n",
    "n=int(input(\"Enter any number:\"))\n",
    "print(factorial(n))"
   ]
  },
  {
   "cell_type": "raw",
   "id": "1c70a449-4ce7-479a-915f-97ccd9036699",
   "metadata": {},
   "source": [
    "21.Write a program to print the first 25 odd numbers"
   ]
  },
  {
   "cell_type": "code",
   "execution_count": 7,
   "id": "71bc4406-b71a-4e08-8ee9-515e5353dae9",
   "metadata": {},
   "outputs": [
    {
     "name": "stdout",
     "output_type": "stream",
     "text": [
      "1\n",
      "3\n",
      "5\n",
      "7\n",
      "9\n",
      "11\n",
      "13\n",
      "15\n",
      "17\n",
      "19\n",
      "21\n",
      "23\n",
      "25\n",
      "27\n",
      "29\n",
      "31\n",
      "33\n",
      "35\n",
      "37\n",
      "39\n",
      "41\n",
      "43\n",
      "45\n",
      "47\n",
      "49\n"
     ]
    }
   ],
   "source": [
    "def print_odd(n):\n",
    "    i=1\n",
    "    while i<=2*n:\n",
    "        print(i)\n",
    "        i+=2\n",
    "print_odd(25)\n",
    "        "
   ]
  },
  {
   "cell_type": "raw",
   "id": "913272fb-f06b-4bdd-a7c0-48ce6d46ca7d",
   "metadata": {},
   "source": [
    "22.Write a program to print whether a given number is prime number or \n",
    "not"
   ]
  },
  {
   "cell_type": "code",
   "execution_count": 10,
   "id": "f6340ae7-98fa-4680-803c-a91123ff7d7f",
   "metadata": {},
   "outputs": [
    {
     "name": "stdin",
     "output_type": "stream",
     "text": [
      "enter any number: 23\n"
     ]
    },
    {
     "name": "stdout",
     "output_type": "stream",
     "text": [
      "number is prime\n",
      "None\n"
     ]
    }
   ],
   "source": [
    "def check_prime(n):\n",
    "    count=0\n",
    "    for i in range(1,n+1):\n",
    "        if n%i==0:\n",
    "            count+=1\n",
    "    if count==2:\n",
    "        print(\"number is prime\")\n",
    "    else:\n",
    "        print(\"number is composite\")\n",
    "n=int(input(\"enter any number:\"))\n",
    "print(check_prime(n))\n",
    "        "
   ]
  },
  {
   "cell_type": "raw",
   "id": "7f7a9275-8b2b-4002-bc92-9decc2de3c54",
   "metadata": {},
   "source": [
    "23.Print all the armstrong numbers in the range of 100 to 1000."
   ]
  },
  {
   "cell_type": "code",
   "execution_count": 1,
   "id": "1cd311ea-378d-4ff8-93c8-0785d2c43245",
   "metadata": {},
   "outputs": [
    {
     "name": "stdout",
     "output_type": "stream",
     "text": [
      "153\n",
      "370\n",
      "371\n",
      "407\n"
     ]
    }
   ],
   "source": [
    "def print_amstrong(start,end):\n",
    "    for num in range(start,end+1):\n",
    "        temp=num\n",
    "        sum=0\n",
    "        order=len(str(num))\n",
    "        while temp>0:\n",
    "            digit=temp%10\n",
    "            digit=digit**(order)\n",
    "            sum+=digit\n",
    "            temp//=10\n",
    "        if num==sum:\n",
    "            print(num)\n",
    "print_amstrong(100,1000)"
   ]
  },
  {
   "cell_type": "raw",
   "id": "d158c0a4-475c-419b-8fc7-83fbe3ca8f57",
   "metadata": {},
   "source": [
    "24.The current population of a town is 10000. The population of the town is \n",
    "increasing at the rate of 10% per year. You have to write a program to \n",
    "find out the population at the end of each of the last 10 years. For eg \n",
    "current population is 10000 so the output should be like this:\n",
    " 10th year - 10000\n",
    " 9th year - 9000\n",
    " 8th year - 8100 and so on"
   ]
  },
  {
   "cell_type": "code",
   "execution_count": 3,
   "id": "ec46d29c-4afa-4b5c-95f2-84941608bbf9",
   "metadata": {},
   "outputs": [
    {
     "name": "stdout",
     "output_type": "stream",
     "text": [
      "Decresing pupulation:\n",
      "year 1: Population = 9000.00\n",
      "year 2: Population = 8100.00\n",
      "year 3: Population = 7290.00\n",
      "year 4: Population = 6561.00\n",
      "year 5: Population = 5904.90\n",
      "year 6: Population = 5314.41\n",
      "year 7: Population = 4782.97\n",
      "year 8: Population = 4304.67\n",
      "year 9: Population = 3874.20\n",
      "year 10: Population = 3486.78\n"
     ]
    }
   ],
   "source": [
    "def count_population(n, initial_pop=10000, rate=10):\n",
    "    population = initial_pop\n",
    "    for i in range(1, n+1):\n",
    "        decline = population * (rate / 100)\n",
    "        population -= decline\n",
    "        print(f\"year {i}: Population = {population:.2f}\")\n",
    "\n",
    "print(\"Decresing pupulation:\")\n",
    "count_population(10)\n"
   ]
  },
  {
   "cell_type": "raw",
   "id": "8d97275c-162a-46de-b9f0-343329539982",
   "metadata": {},
   "source": [
    "25.Write a program to print all the unique combinations of 1,2,3 and 4"
   ]
  },
  {
   "cell_type": "code",
   "execution_count": 5,
   "id": "e83a8e22-44ea-4cc8-b57b-5c307a9e0142",
   "metadata": {},
   "outputs": [
    {
     "name": "stdout",
     "output_type": "stream",
     "text": [
      "All unique combinations:\n",
      "[1]\n",
      "[2]\n",
      "[1, 2]\n",
      "[3]\n",
      "[1, 3]\n",
      "[2, 3]\n",
      "[1, 2, 3]\n",
      "[4]\n",
      "[1, 4]\n",
      "[2, 4]\n",
      "[1, 2, 4]\n",
      "[3, 4]\n",
      "[1, 3, 4]\n",
      "[2, 3, 4]\n",
      "[1, 2, 3, 4]\n"
     ]
    }
   ],
   "source": [
    "def print_combinations(numbers):\n",
    "    n = len(numbers)\n",
    "    for i in range(1 << n):  # 1 << n hai 2^n ka equivalent\n",
    "        combination = [numbers[j] for j in range(n) if (i & (1 << j))]\n",
    "        if combination:\n",
    "            print(combination)\n",
    "\n",
    "numbers = [1, 2, 3, 4]\n",
    "print(\"All unique combinations:\")\n",
    "print_combinations(numbers)\n"
   ]
  },
  {
   "cell_type": "raw",
   "id": "87bcaed3-85ef-43c4-86f7-88fda9d1c524",
   "metadata": {},
   "source": [
    "26.User will provide 2 numbers you have to find the HCF of those 2 numbers."
   ]
  },
  {
   "cell_type": "code",
   "execution_count": 6,
   "id": "49376e88-4340-495d-8260-9a4fc114e4d6",
   "metadata": {},
   "outputs": [
    {
     "data": {
      "text/plain": [
       "15"
      ]
     },
     "execution_count": 6,
     "metadata": {},
     "output_type": "execute_result"
    }
   ],
   "source": [
    "def gcd(x,y):\n",
    "    if x==y:\n",
    "        return x\n",
    "    elif x>y:\n",
    "        return gcd(x-y,y)\n",
    "    else:\n",
    "        return gcd(x,y-x)\n",
    "    \n",
    "gcd(15,225)"
   ]
  },
  {
   "cell_type": "raw",
   "id": "ee8d0e87-5dcf-416e-af9f-f1c3611bbc61",
   "metadata": {},
   "source": [
    "27.User will provide 2 numbers you have to find the by LCM of those 2 \n",
    "numbers."
   ]
  },
  {
   "cell_type": "code",
   "execution_count": 1,
   "id": "844ded80-5f3c-460d-85b4-f3d2497541f4",
   "metadata": {},
   "outputs": [
    {
     "name": "stdout",
     "output_type": "stream",
     "text": [
      "300\n"
     ]
    }
   ],
   "source": [
    "def gcd(a,b):\n",
    "    if b==0:\n",
    "        return a\n",
    "    else:\n",
    "        return gcd(b,a%b)\n",
    "\n",
    "def lcm(a,b):\n",
    "    return (a*b)//gcd(a,b)\n",
    "\n",
    "print(lcm(60,25))\n"
   ]
  },
  {
   "cell_type": "raw",
   "id": "b487af16-1885-48fc-8979-7276b0e5db60",
   "metadata": {},
   "source": [
    "28.Print first 25 prime numbers."
   ]
  },
  {
   "cell_type": "code",
   "execution_count": 2,
   "id": "3c8180a5-34e9-4017-8886-75b4c137e45e",
   "metadata": {},
   "outputs": [
    {
     "name": "stdout",
     "output_type": "stream",
     "text": [
      "2\n",
      "3\n",
      "5\n",
      "7\n",
      "11\n",
      "13\n",
      "17\n",
      "19\n",
      "23\n",
      "29\n",
      "31\n",
      "37\n",
      "41\n",
      "43\n",
      "47\n",
      "53\n",
      "59\n",
      "61\n",
      "67\n",
      "71\n",
      "73\n",
      "79\n",
      "83\n",
      "89\n",
      "97\n"
     ]
    }
   ],
   "source": [
    "for num in range(2,101):\n",
    "        is_prime=True\n",
    "        for i in range(2,num):\n",
    "            if num%i==0:\n",
    "                is_prime=False\n",
    "                break\n",
    "        if is_prime==True:\n",
    "            print(num)"
   ]
  },
  {
   "cell_type": "raw",
   "id": "c7e18d41-6dd5-44ce-921a-a01384be323e",
   "metadata": {},
   "source": [
    "29.Print the first 20 numbers of a Fibonacci series"
   ]
  },
  {
   "cell_type": "code",
   "execution_count": 4,
   "id": "b2531d71-10dd-4097-8dba-f01e6b5cfdae",
   "metadata": {},
   "outputs": [
    {
     "name": "stdout",
     "output_type": "stream",
     "text": [
      "[0, 1, 1, 2, 3, 5, 8, 13, 21, 34, 55, 89, 144, 233, 377, 610, 987, 1597, 2584, 4181]\n"
     ]
    }
   ],
   "source": [
    "def fibonacci(n):\n",
    "    fib_sequence = [0, 1]\n",
    "    while len(fib_sequence) < n:\n",
    "        fib_sequence.append(fib_sequence[-1] + fib_sequence[-2])\n",
    "    return fib_sequence\n",
    "\n",
    "first_20_fib = fibonacci(20)\n",
    "print(first_20_fib)"
   ]
  },
  {
   "cell_type": "raw",
   "id": "97d9e692-fddf-49df-8ac0-9e435fec81cd",
   "metadata": {},
   "source": [
    "30.Write a program to find the compound interest "
   ]
  },
  {
   "cell_type": "code",
   "execution_count": 6,
   "id": "5f8297ba-bab1-4c22-97f2-6e320f867171",
   "metadata": {},
   "outputs": [
    {
     "name": "stdin",
     "output_type": "stream",
     "text": [
      "Enter value of principle: 100\n",
      "Enter value of rate: 10\n",
      "Enter the time-period: 3\n"
     ]
    },
    {
     "name": "stdout",
     "output_type": "stream",
     "text": [
      "133\n",
      "None\n"
     ]
    }
   ],
   "source": [
    "def compound_intrest(p,r,t):\n",
    "    CI=p*(1+r/100)**t\n",
    "    print(int(CI))\n",
    "p=int(input(\"Enter value of principle:\"))\n",
    "r=int(input(\"Enter value of rate:\"))\n",
    "t=int(input(\"Enter the time-period:\"))\n",
    "print(compound_intrest(p,r,t))"
   ]
  },
  {
   "cell_type": "raw",
   "id": "9634ec9c-4f84-460a-9647-4d4d6ca21434",
   "metadata": {},
   "source": [
    "31.Write a Python program that accepts an integer (n) and computes the \n",
    "value of     n+nn+nnn."
   ]
  },
  {
   "cell_type": "code",
   "execution_count": 1,
   "id": "80c77344-e4d0-4807-9c5f-1d5a71d12253",
   "metadata": {},
   "outputs": [
    {
     "name": "stdin",
     "output_type": "stream",
     "text": [
      "Enter an integer:  7\n"
     ]
    },
    {
     "name": "stdout",
     "output_type": "stream",
     "text": [
      "The result of n + nn + nnn is: 861\n"
     ]
    }
   ],
   "source": [
    "def compute_value(n):\n",
    "    str_n = str(n)\n",
    "    \n",
    "    # Compute the values of nn and nnn\n",
    "    nn = int(str_n * 2)\n",
    "    nnn = int(str_n * 3)\n",
    "    \n",
    "    # Calculate the final result\n",
    "    result = n + nn + nnn\n",
    "    \n",
    "    return result\n",
    "\n",
    "# Accept an integer input from the user\n",
    "n = int(input(\"Enter an integer: \"))\n",
    "\n",
    "# Compute and print the result\n",
    "result = compute_value(n)\n",
    "print(f\"The result of n + nn + nnn is: {result}\")\n"
   ]
  },
  {
   "cell_type": "raw",
   "id": "68cda2b4-f4d4-4315-a449-d724334de4de",
   "metadata": {},
   "source": [
    "32.Take a number from the user and find the number of digits in it. "
   ]
  },
  {
   "cell_type": "code",
   "execution_count": null,
   "id": "ed5cc24f-23e8-4d2d-b1bd-24a5e8af23df",
   "metadata": {},
   "outputs": [],
   "source": [
    "def count_digit(n):\n",
    "    count=0\n",
    "    while n>=0:\n",
    "        count+=1\n",
    "        n=n//10\n",
    "    print(count)\n",
    "print(count_digit(1234))"
   ]
  },
  {
   "cell_type": "raw",
   "id": "83d1eff2-7751-4466-91c9-6f6b10c47b07",
   "metadata": {},
   "source": [
    "33.. Print all factors of a given number provided by the user."
   ]
  },
  {
   "cell_type": "code",
   "execution_count": 1,
   "id": "dd76f377-23c2-42f9-93b6-c45acc6f2803",
   "metadata": {},
   "outputs": [
    {
     "name": "stdin",
     "output_type": "stream",
     "text": [
      "Enter a number:  10\n"
     ]
    },
    {
     "name": "stdout",
     "output_type": "stream",
     "text": [
      "Factors of 10 are: [1, 2, 5, 10]\n"
     ]
    }
   ],
   "source": [
    "def print_factors(n):\n",
    "    factors = []\n",
    "    for i in range(1, n + 1):\n",
    "        if n % i == 0:\n",
    "            factors.append(i)\n",
    "    return factors\n",
    "\n",
    "num = int(input(\"Enter a number: \"))\n",
    "factors = print_factors(num)\n",
    "print(\"Factors of\", num, \"are:\", factors)\n"
   ]
  },
  {
   "cell_type": "raw",
   "id": "ea44a748-d691-4efc-918b-97ebdb29c462",
   "metadata": {},
   "source": [
    "34.Find the reverse of a number provided by the user(any number of digit) "
   ]
  },
  {
   "cell_type": "code",
   "execution_count": 2,
   "id": "c8d763f6-40ee-4dc5-b94e-7e6241dae4e8",
   "metadata": {},
   "outputs": [
    {
     "name": "stdin",
     "output_type": "stream",
     "text": [
      "Enter a number:  123\n"
     ]
    },
    {
     "name": "stdout",
     "output_type": "stream",
     "text": [
      "Reverse of 123 is: 321\n"
     ]
    }
   ],
   "source": [
    "def reverse_number(n):\n",
    "    reverse = 0\n",
    "    while n != 0:\n",
    "        remainder = n % 10\n",
    "        reverse = reverse * 10 + remainder\n",
    "        n = n // 10\n",
    "    return reverse\n",
    "\n",
    "num = int(input(\"Enter a number: \"))\n",
    "reverse = reverse_number(num)\n",
    "print(\"Reverse of\", num, \"is:\", reverse)\n"
   ]
  },
  {
   "cell_type": "code",
   "execution_count": null,
   "id": "0a5198be-8b46-449f-872f-05a57b7d849b",
   "metadata": {},
   "outputs": [],
   "source": []
  }
 ],
 "metadata": {
  "kernelspec": {
   "display_name": "Python 3 (ipykernel)",
   "language": "python",
   "name": "python3"
  },
  "language_info": {
   "codemirror_mode": {
    "name": "ipython",
    "version": 3
   },
   "file_extension": ".py",
   "mimetype": "text/x-python",
   "name": "python",
   "nbconvert_exporter": "python",
   "pygments_lexer": "ipython3",
   "version": "3.13.0"
  }
 },
 "nbformat": 4,
 "nbformat_minor": 5
}
