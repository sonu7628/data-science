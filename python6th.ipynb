{
 "cells": [
  {
   "cell_type": "raw",
   "id": "dd96e180-a8e0-4e4f-858e-f09fffaf7437",
   "metadata": {},
   "source": [
    "LIST FUNCTIONS"
   ]
  },
  {
   "cell_type": "code",
   "execution_count": 1,
   "id": "beedad23-1fb3-44af-b518-29c89854dfc1",
   "metadata": {},
   "outputs": [
    {
     "name": "stdout",
     "output_type": "stream",
     "text": [
      "[2, 4, 6, 7, 9, 10, 15]\n"
     ]
    }
   ],
   "source": [
    "list=[4,6,7,9,10,2,15]\n",
    "print(sorted(list))"
   ]
  },
  {
   "cell_type": "code",
   "execution_count": 2,
   "id": "304c6c91-0dbe-4310-9660-a40c6971cb02",
   "metadata": {},
   "outputs": [
    {
     "name": "stdout",
     "output_type": "stream",
     "text": [
      "[15, 10, 9, 7, 6, 4, 2]\n"
     ]
    }
   ],
   "source": [
    "print(sorted(list,reverse=True))"
   ]
  },
  {
   "cell_type": "code",
   "execution_count": 3,
   "id": "a9fe9469-311c-496f-ad85-a8c606b8af33",
   "metadata": {},
   "outputs": [
    {
     "name": "stdout",
     "output_type": "stream",
     "text": [
      "[4, 23, 45, 67, 89, 90]\n"
     ]
    }
   ],
   "source": [
    "list=[4,23,45,67,89,90]\n",
    "new_list=list.copy()\n",
    "print(new_list)"
   ]
  },
  {
   "cell_type": "code",
   "execution_count": 9,
   "id": "63ed4d55-b30b-46c2-a50c-ddd934ea08ca",
   "metadata": {},
   "outputs": [
    {
     "name": "stdout",
     "output_type": "stream",
     "text": [
      "[1, 2, 3, 4]\n"
     ]
    }
   ],
   "source": [
    "def copy(list):\n",
    "    list2=[]\n",
    "    for i in range(0,len(list)):\n",
    "        list2.append(list[i])\n",
    "    return list2\n",
    "list=[1,2,3,4]\n",
    "print(copy(list))"
   ]
  },
  {
   "cell_type": "code",
   "execution_count": 11,
   "id": "0735fbab-2c71-4172-a0cc-613ee78bbb04",
   "metadata": {},
   "outputs": [
    {
     "name": "stdout",
     "output_type": "stream",
     "text": [
      "[1, 2, 3, 4]\n"
     ]
    }
   ],
   "source": [
    "def copy(list):\n",
    "    list2=[]\n",
    "    for i in range(0,len(list)):\n",
    "        for j in range(0,len(list)):\n",
    "        if list[i]==j\n",
    "    return list2\n",
    "list=[1,2,3,4]\n",
    "print(copy(list))"
   ]
  },
  {
   "cell_type": "code",
   "execution_count": 12,
   "id": "db91f5a5-bf96-4da6-9d2f-3a813d7ba647",
   "metadata": {},
   "outputs": [
    {
     "name": "stdout",
     "output_type": "stream",
     "text": [
      "True\n"
     ]
    }
   ],
   "source": [
    "list1=[1,2,3,4]\n",
    "print(any(list1))"
   ]
  },
  {
   "cell_type": "code",
   "execution_count": 21,
   "id": "31aa8271-bbcb-428a-91f9-8acb972cad16",
   "metadata": {},
   "outputs": [
    {
     "name": "stdout",
     "output_type": "stream",
     "text": [
      "False\n"
     ]
    }
   ],
   "source": [
    "def any_fun(list):\n",
    "    for i in range(0,len(list)):\n",
    "        if list[i]==0:\n",
    "            return False\n",
    "        else:\n",
    "            return True\n",
    "list=[0,0,0,0,0]\n",
    "print(any_fun(list))"
   ]
  },
  {
   "cell_type": "code",
   "execution_count": 28,
   "id": "fad8a676-31f8-40c4-9df3-8d0a20978c0e",
   "metadata": {},
   "outputs": [
    {
     "name": "stdout",
     "output_type": "stream",
     "text": [
      "False\n"
     ]
    }
   ],
   "source": [
    "def all_fun(list):\n",
    "    for i in range(0,len(list)):\n",
    "        if list[i]==0:\n",
    "            return False\n",
    "    else:\n",
    "        return True\n",
    "list=[1,2,3,0]\n",
    "print(all_fun(list))"
   ]
  },
  {
   "cell_type": "raw",
   "id": "2755a6db-5fd5-41e7-a9f5-b3a3094f62c9",
   "metadata": {},
   "source": [
    "joins,index"
   ]
  },
  {
   "cell_type": "code",
   "execution_count": 5,
   "id": "618f97c7-d067-405f-833f-6dddb125e115",
   "metadata": {},
   "outputs": [
    {
     "name": "stdout",
     "output_type": "stream",
     "text": [
      "a,b,c\n"
     ]
    }
   ],
   "source": [
    "list1=[\"a\",\"b\",\"c\"]\n",
    "str=\",\".join(list1)\n",
    "print(str)\n"
   ]
  },
  {
   "cell_type": "raw",
   "id": "162a42ab-4fd7-47a8-8016-5968fec09552",
   "metadata": {},
   "source": [
    "list comprehension:-\n",
    "-with the help of list comprehension we will able to write consize code.\n",
    "ex:\n",
    "-list comprehension will provide better readability.\n",
    "syntax:-\n",
    "[expression for item in list if condition==True]\n"
   ]
  },
  {
   "cell_type": "code",
   "execution_count": 29,
   "id": "1074210f-3666-412e-b9e9-a507c60d3f6c",
   "metadata": {},
   "outputs": [
    {
     "data": {
      "text/plain": [
       "[1, 8, 27, 0]"
      ]
     },
     "execution_count": 29,
     "metadata": {},
     "output_type": "execute_result"
    }
   ],
   "source": [
    "list=[i**3 for i in list]\n",
    "list"
   ]
  },
  {
   "cell_type": "code",
   "execution_count": 32,
   "id": "eb967a6e-dcaa-4a5a-9ded-4ebaeda5b955",
   "metadata": {},
   "outputs": [
    {
     "data": {
      "text/plain": [
       "[0, 2, 4, 6, 8, 10, 12, 14, 16, 18, 20]"
      ]
     },
     "execution_count": 32,
     "metadata": {},
     "output_type": "execute_result"
    }
   ],
   "source": [
    "list=[i for i in range(0,22) if i%2==0]\n",
    "list"
   ]
  },
  {
   "cell_type": "code",
   "execution_count": 33,
   "id": "15d6ca78-a764-49f1-b472-36a271836323",
   "metadata": {},
   "outputs": [
    {
     "data": {
      "text/plain": [
       "[1, 3, 5, 7, 9, 11, 13, 15, 17, 19]"
      ]
     },
     "execution_count": 33,
     "metadata": {},
     "output_type": "execute_result"
    }
   ],
   "source": [
    "list=[i for i in range(21) if i%2!=0]\n",
    "list"
   ]
  },
  {
   "cell_type": "code",
   "execution_count": 34,
   "id": "25d2da25-5a36-4063-9a3e-788548923439",
   "metadata": {},
   "outputs": [
    {
     "data": {
      "text/plain": [
       "[7, 14, 21, 28, 35, 42, 49, 56, 63, 70, 77, 84, 91, 98]"
      ]
     },
     "execution_count": 34,
     "metadata": {},
     "output_type": "execute_result"
    }
   ],
   "source": [
    "list=[i for i in range(1,100) if i%7==0]\n",
    "list"
   ]
  },
  {
   "cell_type": "code",
   "execution_count": 36,
   "id": "1ef99fb9-1363-444c-af37-3446651faa4f",
   "metadata": {},
   "outputs": [
    {
     "data": {
      "text/plain": [
       "[10,\n",
       " 20,\n",
       " 30,\n",
       " 40,\n",
       " 50,\n",
       " 60,\n",
       " 70,\n",
       " 80,\n",
       " 90,\n",
       " 100,\n",
       " 110,\n",
       " 120,\n",
       " 130,\n",
       " 140,\n",
       " 150,\n",
       " 160,\n",
       " 170,\n",
       " 180,\n",
       " 190,\n",
       " 200,\n",
       " 210,\n",
       " 220,\n",
       " 230,\n",
       " 240,\n",
       " 250,\n",
       " 260,\n",
       " 270,\n",
       " 280,\n",
       " 290,\n",
       " 300,\n",
       " 310,\n",
       " 320,\n",
       " 330,\n",
       " 340,\n",
       " 350,\n",
       " 360,\n",
       " 370,\n",
       " 380,\n",
       " 390,\n",
       " 400,\n",
       " 410,\n",
       " 420,\n",
       " 430,\n",
       " 440,\n",
       " 450,\n",
       " 460,\n",
       " 470,\n",
       " 480,\n",
       " 490,\n",
       " 500,\n",
       " 510,\n",
       " 520,\n",
       " 530,\n",
       " 540,\n",
       " 550,\n",
       " 560,\n",
       " 570,\n",
       " 580,\n",
       " 590,\n",
       " 600,\n",
       " 610,\n",
       " 620,\n",
       " 630,\n",
       " 640,\n",
       " 650,\n",
       " 660,\n",
       " 670,\n",
       " 680,\n",
       " 690,\n",
       " 700,\n",
       " 710,\n",
       " 720,\n",
       " 730,\n",
       " 740,\n",
       " 750,\n",
       " 760,\n",
       " 770,\n",
       " 780,\n",
       " 790,\n",
       " 800,\n",
       " 810,\n",
       " 820,\n",
       " 830,\n",
       " 840,\n",
       " 850,\n",
       " 860,\n",
       " 870,\n",
       " 880,\n",
       " 890,\n",
       " 900,\n",
       " 910,\n",
       " 920,\n",
       " 930,\n",
       " 940,\n",
       " 950,\n",
       " 960,\n",
       " 970,\n",
       " 980,\n",
       " 990]"
      ]
     },
     "execution_count": 36,
     "metadata": {},
     "output_type": "execute_result"
    }
   ],
   "source": [
    "list=[i for i in range(1,1000) if i%5==0 and i%10==0]\n",
    "list"
   ]
  },
  {
   "cell_type": "code",
   "execution_count": 1,
   "id": "f51f032f-f3d4-4a99-9841-fd1099c7699e",
   "metadata": {},
   "outputs": [
    {
     "data": {
      "text/plain": [
       "[5, 8, 9, 10]"
      ]
     },
     "execution_count": 1,
     "metadata": {},
     "output_type": "execute_result"
    }
   ],
   "source": [
    "list=[3.4,5,6.7,8,9,10]\n",
    "list=[i for i in list if i==int(i)]\n",
    "list"
   ]
  },
  {
   "cell_type": "code",
   "execution_count": 7,
   "id": "1cb7b7e6-c738-4bf3-8f53-baf96449e2c1",
   "metadata": {},
   "outputs": [
    {
     "data": {
      "text/plain": [
       "['1', '2', '3', '4']"
      ]
     },
     "execution_count": 7,
     "metadata": {},
     "output_type": "execute_result"
    }
   ],
   "source": [
    "list=[1,2,3,4]\n",
    "list=[str(list[i]) for i in range(0,len(list)) ]\n",
    "list"
   ]
  },
  {
   "cell_type": "raw",
   "id": "7759d31c-0fc2-468f-adb1-35888662357e",
   "metadata": {},
   "source": [
    "NESTED LIST:-"
   ]
  },
  {
   "cell_type": "code",
   "execution_count": 10,
   "id": "d69f8631-3da5-4e38-ad77-d14e19f251e3",
   "metadata": {},
   "outputs": [
    {
     "name": "stdout",
     "output_type": "stream",
     "text": [
      "1\n",
      "2\n",
      "3\n",
      "4\n",
      "5\n",
      "6\n",
      "7\n",
      "8\n",
      "9\n",
      "10\n",
      "11\n",
      "None\n"
     ]
    }
   ],
   "source": [
    "list=[[1,2,3],[4,5],[6,7,8,9],[10,11]]\n",
    "def print_list(list):\n",
    "    for inner_list in list:\n",
    "        for i in inner_list:\n",
    "            print(i)\n",
    "                \n",
    "                \n",
    "print(print_list(list))"
   ]
  },
  {
   "cell_type": "code",
   "execution_count": 2,
   "id": "73d6073c-15e8-4b91-b49e-42f09dec4738",
   "metadata": {},
   "outputs": [
    {
     "data": {
      "text/plain": [
       "[3, 5, 9, 11]"
      ]
     },
     "execution_count": 2,
     "metadata": {},
     "output_type": "execute_result"
    }
   ],
   "source": [
    "list=[[1,2,3],[4,5],[6,7,8,9],[10,11]]\n",
    "list=[max(inner_list) for inner_list in list  ]\n",
    "list"
   ]
  },
  {
   "cell_type": "markdown",
   "id": "945d89ec-0c8e-45fb-a534-1034be04a190",
   "metadata": {},
   "source": [
    "#### TUPLE"
   ]
  },
  {
   "cell_type": "raw",
   "id": "1e155a4c-23a4-4db4-b9af-18072f5f9e70",
   "metadata": {},
   "source": [
    "-In built DS in python.\n",
    "-It is also a linear DS.\n",
    "-It is also collection of heterogenous kind of data.\n",
    "syntax:-\n",
    "tuple_name=(item1,item2,item33,...)\n",
    "-each element in the tuple separated by a comma.\n"
   ]
  },
  {
   "cell_type": "code",
   "execution_count": 1,
   "id": "ca075317-03e6-459d-bdf8-b269d71ea77c",
   "metadata": {},
   "outputs": [
    {
     "data": {
      "text/plain": [
       "()"
      ]
     },
     "execution_count": 1,
     "metadata": {},
     "output_type": "execute_result"
    }
   ],
   "source": [
    "#creating empty tuple\n",
    "t=()\n",
    "t\n"
   ]
  },
  {
   "cell_type": "code",
   "execution_count": 2,
   "id": "8e4e9b34-78fc-45f3-a9c1-225772a5242c",
   "metadata": {},
   "outputs": [
    {
     "data": {
      "text/plain": [
       "(1, 2, 3, 4, 5)"
      ]
     },
     "execution_count": 2,
     "metadata": {},
     "output_type": "execute_result"
    }
   ],
   "source": [
    "#creating tuple of integers\n",
    "t1=(1,2,3,4,5)\n",
    "t1"
   ]
  },
  {
   "cell_type": "code",
   "execution_count": 3,
   "id": "6a1c06c8-6b8e-4ac1-842b-acb1072801c7",
   "metadata": {},
   "outputs": [
    {
     "data": {
      "text/plain": [
       "tuple"
      ]
     },
     "execution_count": 3,
     "metadata": {},
     "output_type": "execute_result"
    }
   ],
   "source": [
    "type(t1)"
   ]
  },
  {
   "cell_type": "code",
   "execution_count": 4,
   "id": "ac5adb1d-64dc-4376-88a5-36658ca27841",
   "metadata": {},
   "outputs": [
    {
     "data": {
      "text/plain": [
       "(4.5, 6, 7.8)"
      ]
     },
     "execution_count": 4,
     "metadata": {},
     "output_type": "execute_result"
    }
   ],
   "source": [
    "#creating the tuple for float\n",
    "t2=(4.5,6,7.8)\n",
    "t2"
   ]
  },
  {
   "cell_type": "code",
   "execution_count": 5,
   "id": "5d9582e1-b1c1-4e08-9509-f84d1732e97f",
   "metadata": {},
   "outputs": [
    {
     "data": {
      "text/plain": [
       "('mayur', 'satish', 'rama')"
      ]
     },
     "execution_count": 5,
     "metadata": {},
     "output_type": "execute_result"
    }
   ],
   "source": [
    "#tuple of string\n",
    "t3=(\"mayur\",\"satish\",\"rama\")\n",
    "t3"
   ]
  },
  {
   "cell_type": "code",
   "execution_count": 6,
   "id": "8552fee7-a91c-4761-b50e-70f26c0c9214",
   "metadata": {},
   "outputs": [
    {
     "data": {
      "text/plain": [
       "('mayur', 101, 45.5)"
      ]
     },
     "execution_count": 6,
     "metadata": {},
     "output_type": "execute_result"
    }
   ],
   "source": [
    "#miscellaneous tuple\n",
    "t4=(\"mayur\",101,45.5)\n",
    "t4"
   ]
  },
  {
   "cell_type": "raw",
   "id": "5e446c5c-df39-4164-b7ad-bac2272616f8",
   "metadata": {},
   "source": [
    "- to access the tuple element we need index.\n",
    "- tuples are immutable\n",
    "-we can access tuple elements in 0(1) times.\n",
    "-"
   ]
  },
  {
   "cell_type": "code",
   "execution_count": 7,
   "id": "c5b9a1fe-3f0a-4754-b195-d81e00225d30",
   "metadata": {},
   "outputs": [],
   "source": [
    "list4=list(t4)"
   ]
  },
  {
   "cell_type": "code",
   "execution_count": 9,
   "id": "92d5f888-fa31-4d33-8858-23345a399fdd",
   "metadata": {},
   "outputs": [
    {
     "data": {
      "text/plain": [
       "list"
      ]
     },
     "execution_count": 9,
     "metadata": {},
     "output_type": "execute_result"
    }
   ],
   "source": [
    "type(list4)"
   ]
  },
  {
   "cell_type": "code",
   "execution_count": 10,
   "id": "7c5ebee1-1da3-4d1c-a7d2-2342eb8e906b",
   "metadata": {},
   "outputs": [
    {
     "data": {
      "text/plain": [
       "['mayur', 101, 45.5]"
      ]
     },
     "execution_count": 10,
     "metadata": {},
     "output_type": "execute_result"
    }
   ],
   "source": [
    "list4"
   ]
  },
  {
   "cell_type": "code",
   "execution_count": 11,
   "id": "8d5a435e-dae9-4ab8-b3db-8773eadfe835",
   "metadata": {},
   "outputs": [],
   "source": [
    "list4.remove(101)\n"
   ]
  },
  {
   "cell_type": "code",
   "execution_count": 12,
   "id": "953f8b96-e20e-4ca2-a609-db3800617435",
   "metadata": {},
   "outputs": [
    {
     "data": {
      "text/plain": [
       "['mayur', 45.5]"
      ]
     },
     "execution_count": 12,
     "metadata": {},
     "output_type": "execute_result"
    }
   ],
   "source": [
    "list4"
   ]
  },
  {
   "cell_type": "code",
   "execution_count": 14,
   "id": "70b0ad3b-b31e-4b88-a827-874660576b5e",
   "metadata": {},
   "outputs": [
    {
     "data": {
      "text/plain": [
       "('mayur', 45.5)"
      ]
     },
     "execution_count": 14,
     "metadata": {},
     "output_type": "execute_result"
    }
   ],
   "source": [
    "t=tuple(list4)\n",
    "t"
   ]
  },
  {
   "cell_type": "code",
   "execution_count": 27,
   "id": "1ab3b281-7805-4248-a2f7-57adc3ce49c4",
   "metadata": {},
   "outputs": [
    {
     "name": "stdout",
     "output_type": "stream",
     "text": [
      "1 number is not prime\n",
      "2 number is prime\n",
      "3 number is prime\n",
      "4 number is not prime\n",
      "5 number is prime\n",
      "56 number is not prime\n",
      "78 number is not prime\n",
      "90 number is not prime\n",
      "23 number is prime\n"
     ]
    }
   ],
   "source": [
    "t1=(1,2,3,4,5)\n",
    "t2=(56,78,90,23)\n",
    "t3=t1+t2\n",
    "for i in t3:\n",
    "    count=0\n",
    "    for j in range(1,i+1):\n",
    "        if i%j==0:\n",
    "            count+=1\n",
    "    if count==2:\n",
    "        print(i,\"number is prime\")\n",
    "    else:\n",
    "        print(i,\"number is not prime\")\n",
    "        \n"
   ]
  },
  {
   "cell_type": "code",
   "execution_count": 28,
   "id": "f056041d-02f9-48b0-92a5-c7df374c505c",
   "metadata": {},
   "outputs": [
    {
     "data": {
      "text/plain": [
       "('mayur', 'mayur', 'mayur', 'mayur', 'mayur')"
      ]
     },
     "execution_count": 28,
     "metadata": {},
     "output_type": "execute_result"
    }
   ],
   "source": [
    "t=((\"mayur\",)*5)\n",
    "t"
   ]
  },
  {
   "cell_type": "code",
   "execution_count": 29,
   "id": "6d113c20-5414-4a10-9510-9eb028aafcce",
   "metadata": {},
   "outputs": [],
   "source": [
    "del t"
   ]
  },
  {
   "cell_type": "code",
   "execution_count": 30,
   "id": "49222e9e-5b2a-4918-a512-88f7785a00b7",
   "metadata": {},
   "outputs": [
    {
     "ename": "NameError",
     "evalue": "name 't' is not defined",
     "output_type": "error",
     "traceback": [
      "\u001b[1;31m---------------------------------------------------------------------------\u001b[0m",
      "\u001b[1;31mNameError\u001b[0m                                 Traceback (most recent call last)",
      "Cell \u001b[1;32mIn[30], line 1\u001b[0m\n\u001b[1;32m----> 1\u001b[0m \u001b[43mt\u001b[49m\n",
      "\u001b[1;31mNameError\u001b[0m: name 't' is not defined"
     ]
    }
   ],
   "source": [
    "t\n"
   ]
  },
  {
   "cell_type": "code",
   "execution_count": 32,
   "id": "3da5434d-8147-49a4-ab47-415beb476686",
   "metadata": {},
   "outputs": [
    {
     "data": {
      "text/plain": [
       "0"
      ]
     },
     "execution_count": 32,
     "metadata": {},
     "output_type": "execute_result"
    }
   ],
   "source": [
    "t=(1,2,3,5)\n",
    "t.count(4)"
   ]
  },
  {
   "cell_type": "code",
   "execution_count": 33,
   "id": "e19588ec-220d-4a5e-97f5-9e1d3421d8ff",
   "metadata": {},
   "outputs": [
    {
     "data": {
      "text/plain": [
       "3"
      ]
     },
     "execution_count": 33,
     "metadata": {},
     "output_type": "execute_result"
    }
   ],
   "source": [
    "t.index(5)"
   ]
  },
  {
   "cell_type": "code",
   "execution_count": 34,
   "id": "50e6d076-4aba-44f4-b8bd-aabe28677a78",
   "metadata": {},
   "outputs": [
    {
     "name": "stdout",
     "output_type": "stream",
     "text": [
      "True\n"
     ]
    }
   ],
   "source": [
    "print(3 in t)"
   ]
  },
  {
   "cell_type": "code",
   "execution_count": 35,
   "id": "fd4b5cbf-42c6-4ef6-9c69-1692bb72969c",
   "metadata": {},
   "outputs": [
    {
     "ename": "AttributeError",
     "evalue": "'tuple' object has no attribute 'append'",
     "output_type": "error",
     "traceback": [
      "\u001b[1;31m---------------------------------------------------------------------------\u001b[0m",
      "\u001b[1;31mAttributeError\u001b[0m                            Traceback (most recent call last)",
      "Cell \u001b[1;32mIn[35], line 1\u001b[0m\n\u001b[1;32m----> 1\u001b[0m \u001b[43mt\u001b[49m\u001b[38;5;241;43m.\u001b[39;49m\u001b[43mappend\u001b[49m(\u001b[38;5;241m6\u001b[39m)\n",
      "\u001b[1;31mAttributeError\u001b[0m: 'tuple' object has no attribute 'append'"
     ]
    }
   ],
   "source": [
    "t.append(6)"
   ]
  },
  {
   "cell_type": "code",
   "execution_count": 36,
   "id": "c6e863b1-f780-46d7-8ddb-95e4f9ead855",
   "metadata": {},
   "outputs": [
    {
     "data": {
      "text/plain": [
       "(1, 2, 1)"
      ]
     },
     "execution_count": 36,
     "metadata": {},
     "output_type": "execute_result"
    }
   ],
   "source": [
    "t=(1,2,1)\n",
    "t"
   ]
  },
  {
   "cell_type": "code",
   "execution_count": 37,
   "id": "d01c0e40-ddf9-47b0-85a7-239b342a7bce",
   "metadata": {},
   "outputs": [
    {
     "ename": "AttributeError",
     "evalue": "'tuple' object has no attribute 'sort'",
     "output_type": "error",
     "traceback": [
      "\u001b[1;31m---------------------------------------------------------------------------\u001b[0m",
      "\u001b[1;31mAttributeError\u001b[0m                            Traceback (most recent call last)",
      "Cell \u001b[1;32mIn[37], line 1\u001b[0m\n\u001b[1;32m----> 1\u001b[0m \u001b[43mt\u001b[49m\u001b[38;5;241;43m.\u001b[39;49m\u001b[43msort\u001b[49m()\n",
      "\u001b[1;31mAttributeError\u001b[0m: 'tuple' object has no attribute 'sort'"
     ]
    }
   ],
   "source": [
    "t.sort()"
   ]
  },
  {
   "cell_type": "code",
   "execution_count": 60,
   "id": "47eeecea-1f17-4208-a940-f06e11dbb672",
   "metadata": {},
   "outputs": [
    {
     "data": {
      "text/plain": [
       "(1, 2, 3, 4, 21, 334)"
      ]
     },
     "execution_count": 60,
     "metadata": {},
     "output_type": "execute_result"
    }
   ],
   "source": [
    "t=(1,2,3,4,334,21)\n",
    "t1=tuple(sorted(t))\n",
    "t1"
   ]
  },
  {
   "cell_type": "code",
   "execution_count": 40,
   "id": "8dd2cfc0-4721-40e7-9237-680dc856fa46",
   "metadata": {},
   "outputs": [],
   "source": [
    "maximum=max(t)"
   ]
  },
  {
   "cell_type": "code",
   "execution_count": 41,
   "id": "23000243-a6ed-4c9e-900a-46d72da6e3f3",
   "metadata": {},
   "outputs": [
    {
     "data": {
      "text/plain": [
       "334"
      ]
     },
     "execution_count": 41,
     "metadata": {},
     "output_type": "execute_result"
    }
   ],
   "source": [
    "maximum"
   ]
  },
  {
   "cell_type": "code",
   "execution_count": 42,
   "id": "2f62ff6d-8299-41de-9cd3-9b3aaec55e96",
   "metadata": {},
   "outputs": [],
   "source": [
    "minimum=min(t)"
   ]
  },
  {
   "cell_type": "code",
   "execution_count": 44,
   "id": "887d2d86-fe2e-4c9d-a2bf-7a1c41428c88",
   "metadata": {},
   "outputs": [
    {
     "data": {
      "text/plain": [
       "1"
      ]
     },
     "execution_count": 44,
     "metadata": {},
     "output_type": "execute_result"
    }
   ],
   "source": [
    "minimum"
   ]
  },
  {
   "cell_type": "code",
   "execution_count": 45,
   "id": "18cca45a-f050-4598-ac64-766dd5372d86",
   "metadata": {},
   "outputs": [],
   "source": [
    "add=sum(t)"
   ]
  },
  {
   "cell_type": "code",
   "execution_count": 46,
   "id": "e477f3b4-74b5-4339-a6b5-70be01af4b8a",
   "metadata": {},
   "outputs": [
    {
     "data": {
      "text/plain": [
       "365"
      ]
     },
     "execution_count": 46,
     "metadata": {},
     "output_type": "execute_result"
    }
   ],
   "source": [
    "add"
   ]
  },
  {
   "cell_type": "code",
   "execution_count": 47,
   "id": "2eb4d390-fcef-408c-9953-6162361f0c60",
   "metadata": {},
   "outputs": [
    {
     "data": {
      "text/plain": [
       "True"
      ]
     },
     "execution_count": 47,
     "metadata": {},
     "output_type": "execute_result"
    }
   ],
   "source": [
    "all(t)"
   ]
  },
  {
   "cell_type": "code",
   "execution_count": 48,
   "id": "9f68e2fe-894b-4de9-be8f-d775345eb31f",
   "metadata": {},
   "outputs": [
    {
     "data": {
      "text/plain": [
       "True"
      ]
     },
     "execution_count": 48,
     "metadata": {},
     "output_type": "execute_result"
    }
   ],
   "source": [
    "any(t)"
   ]
  },
  {
   "cell_type": "code",
   "execution_count": 59,
   "id": "28ad06f2-a3da-4905-9843-f41a870158f1",
   "metadata": {},
   "outputs": [
    {
     "data": {
      "text/plain": [
       "[21, 334, 4, 3, 2, 1]"
      ]
     },
     "execution_count": 59,
     "metadata": {},
     "output_type": "execute_result"
    }
   ],
   "source": [
    "a=list(reversed(t))\n",
    "a"
   ]
  },
  {
   "cell_type": "code",
   "execution_count": null,
   "id": "7c71a1fc-b352-4b8d-a009-36ca85b824f1",
   "metadata": {},
   "outputs": [],
   "source": [
    "  "
   ]
  },
  {
   "cell_type": "code",
   "execution_count": null,
   "id": "23935fc5-9f92-4b29-b394-b7191c82063d",
   "metadata": {},
   "outputs": [],
   "source": []
  }
 ],
 "metadata": {
  "kernelspec": {
   "display_name": "Python 3 (ipykernel)",
   "language": "python",
   "name": "python3"
  },
  "language_info": {
   "codemirror_mode": {
    "name": "ipython",
    "version": 3
   },
   "file_extension": ".py",
   "mimetype": "text/x-python",
   "name": "python",
   "nbconvert_exporter": "python",
   "pygments_lexer": "ipython3",
   "version": "3.13.0"
  }
 },
 "nbformat": 4,
 "nbformat_minor": 5
}
