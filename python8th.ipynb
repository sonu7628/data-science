{
 "cells": [
  {
   "cell_type": "markdown",
   "id": "4f71bbfe-b8b9-4f8b-a11c-73fe41d1c2eb",
   "metadata": {},
   "source": [
    "### DICTIONARY"
   ]
  },
  {
   "cell_type": "raw",
   "id": "1d5e3c93-27ea-4c0c-8455-4f84d2aa0177",
   "metadata": {},
   "source": [
    "-it is widely used data structure in all languages.\n",
    "HASH TABLE:-\n",
    "-HASHING is a kind of\n",
    "technique for mapping.\n",
    "-Insertion,deletion,lookups all will take 0(1)time.\n",
    "-dictionary is collection of un ordered data items.\n",
    "-dictionary will store the data in key value pair.\n",
    "syntax:-\n",
    "dictionary_name={\n",
    "        \"key1\":value1,\n",
    "        \"key2\":value2,\n",
    "            }"
   ]
  },
  {
   "cell_type": "code",
   "execution_count": 2,
   "id": "bde60dc0-0e41-43d6-85b9-60a50ae2ba77",
   "metadata": {},
   "outputs": [
    {
     "data": {
      "text/plain": [
       "dict"
      ]
     },
     "execution_count": 2,
     "metadata": {},
     "output_type": "execute_result"
    }
   ],
   "source": [
    "my_dict={}\n",
    "type(my_dict)"
   ]
  },
  {
   "cell_type": "code",
   "execution_count": 3,
   "id": "0cbb3d1b-a1fb-416d-97a9-d9db5e54e70b",
   "metadata": {},
   "outputs": [
    {
     "data": {
      "text/plain": [
       "{1: 'mayur', 2: 'kulkarni'}"
      ]
     },
     "execution_count": 3,
     "metadata": {},
     "output_type": "execute_result"
    }
   ],
   "source": [
    "dict1={1:\"mayur\",2:\"kulkarni\"}\n",
    "dict1"
   ]
  },
  {
   "cell_type": "code",
   "execution_count": 7,
   "id": "9f2bebde-1ea6-4ce3-8ef1-24b3c72c8873",
   "metadata": {},
   "outputs": [
    {
     "data": {
      "text/plain": [
       "{'first': 'sonu', 'second': 'akhi', 'third': 'hari'}"
      ]
     },
     "execution_count": 7,
     "metadata": {},
     "output_type": "execute_result"
    }
   ],
   "source": [
    "dict2={\"first\":\"sonu\",\n",
    "       \"second\":\"akhi\",\n",
    "       \"third\":\"hari\"}\n",
    "dict2"
   ]
  },
  {
   "cell_type": "code",
   "execution_count": 4,
   "id": "dd1b62a9-22d3-48ee-8e41-44f86f736556",
   "metadata": {},
   "outputs": [
    {
     "name": "stdout",
     "output_type": "stream",
     "text": [
      "[5]\n"
     ]
    }
   ],
   "source": [
    "def fun(s):\n",
    "    if len(s)==0:\n",
    "        return []\n",
    "    x=s.pop()\n",
    "    return fun(s)+[x]\n",
    "s={5}\n",
    "print(fun(s))\n"
   ]
  },
  {
   "cell_type": "code",
   "execution_count": 15,
   "id": "7ed24ec3-8c58-4915-b3a3-0ad203be4c9f",
   "metadata": {},
   "outputs": [
    {
     "ename": "NameError",
     "evalue": "name 'num' is not defined",
     "output_type": "error",
     "traceback": [
      "\u001b[1;31m---------------------------------------------------------------------------\u001b[0m",
      "\u001b[1;31mNameError\u001b[0m                                 Traceback (most recent call last)",
      "Cell \u001b[1;32mIn[15], line 8\u001b[0m\n\u001b[0;32m      6\u001b[0m my_list\u001b[38;5;241m=\u001b[39m[\u001b[38;5;241m1\u001b[39m,\u001b[38;5;241m2\u001b[39m,\u001b[38;5;241m56\u001b[39m,\u001b[38;5;241m76\u001b[39m]\n\u001b[0;32m      7\u001b[0m var\u001b[38;5;241m=\u001b[39m\u001b[38;5;241m10\u001b[39m\n\u001b[1;32m----> 8\u001b[0m result\u001b[38;5;241m=\u001b[39mmodify_list(my_list,\u001b[43mnum\u001b[49m)\n\u001b[0;32m      9\u001b[0m \u001b[38;5;28mprint\u001b[39m(result)\n\u001b[0;32m     10\u001b[0m \u001b[38;5;28mprint\u001b[39m(my_list)\n",
      "\u001b[1;31mNameError\u001b[0m: name 'num' is not defined"
     ]
    }
   ],
   "source": [
    "def modify_list(list,var):\n",
    "    list.append(10)\n",
    "    list=[1,2,3]\n",
    "    var=20\n",
    "    return list,var\n",
    "my_list=[1,2,56,76]\n",
    "n=10\n",
    "result=modify_list(my_list,num)\n",
    "print(result)\n",
    "print(my_list)\n",
    "print(var)"
   ]
  },
  {
   "cell_type": "raw",
   "id": "16296afc-c38a-4877-98ad-6f07777c82ff",
   "metadata": {},
   "source": []
  },
  {
   "cell_type": "code",
   "execution_count": 10,
   "id": "6e2a4b1f-2b05-46d7-a3fd-fa0327db3d1d",
   "metadata": {},
   "outputs": [
    {
     "data": {
      "text/plain": [
       "{1.1: 'sonu', True: [1, 2, 3], (1, 2, 3): 'koi'}"
      ]
     },
     "execution_count": 10,
     "metadata": {},
     "output_type": "execute_result"
    }
   ],
   "source": [
    "dict1={1.1:\"sonu\",\n",
    "       True:[1,2,3],\n",
    "       (1,2,3):\"koi\"}\n",
    "dict1"
   ]
  },
  {
   "cell_type": "code",
   "execution_count": 16,
   "id": "10b7147c-a739-4380-9f75-2202ed5f79dd",
   "metadata": {},
   "outputs": [],
   "source": [
    "dict={\n",
    "    \"roll_no\":101,\n",
    "    \"name\":\"mayur\",\n",
    "    \"city\":\"hydrabad\"}\n",
    "dict[\"degree\"]=\"Mtech\""
   ]
  },
  {
   "cell_type": "code",
   "execution_count": 17,
   "id": "360dfe9c-cb16-4730-9af8-65dc862167cc",
   "metadata": {},
   "outputs": [
    {
     "data": {
      "text/plain": [
       "{'roll_no': 101, 'name': 'mayur', 'city': 'hydrabad', 'degree': 'Mtech'}"
      ]
     },
     "execution_count": 17,
     "metadata": {},
     "output_type": "execute_result"
    }
   ],
   "source": [
    "dict"
   ]
  },
  {
   "cell_type": "code",
   "execution_count": 19,
   "id": "30d5c0da-b589-40fc-a4db-9187e3f4303a",
   "metadata": {},
   "outputs": [
    {
     "data": {
      "text/plain": [
       "{'roll_no': 101, 'name': 'sonu', 'city': 'hydrabad', 'degree': 'Mtech'}"
      ]
     },
     "execution_count": 19,
     "metadata": {},
     "output_type": "execute_result"
    }
   ],
   "source": [
    "dict[\"name\"]=\"sonu\"\n",
    "dict"
   ]
  },
  {
   "cell_type": "code",
   "execution_count": 20,
   "id": "ff169bf8-c8f7-4344-bb1a-ee69b37f137b",
   "metadata": {},
   "outputs": [
    {
     "data": {
      "text/plain": [
       "'sonu'"
      ]
     },
     "execution_count": 20,
     "metadata": {},
     "output_type": "execute_result"
    }
   ],
   "source": [
    "dict.pop(\"name\")"
   ]
  },
  {
   "cell_type": "code",
   "execution_count": 21,
   "id": "8af4bc27-a070-4c5c-b752-b369fb9c0320",
   "metadata": {},
   "outputs": [
    {
     "data": {
      "text/plain": [
       "{'roll_no': 101, 'city': 'hydrabad', 'degree': 'Mtech'}"
      ]
     },
     "execution_count": 21,
     "metadata": {},
     "output_type": "execute_result"
    }
   ],
   "source": [
    "dict"
   ]
  },
  {
   "cell_type": "code",
   "execution_count": 22,
   "id": "bf067890-e758-4b8a-82fa-0b18fbeb5e2a",
   "metadata": {},
   "outputs": [
    {
     "data": {
      "text/plain": [
       "('degree', 'Mtech')"
      ]
     },
     "execution_count": 22,
     "metadata": {},
     "output_type": "execute_result"
    }
   ],
   "source": [
    "dict.popitem()"
   ]
  },
  {
   "cell_type": "code",
   "execution_count": null,
   "id": "eefb44bb-212b-4e3c-8459-876d9fb3fa23",
   "metadata": {},
   "outputs": [],
   "source": [
    "dict={\n",
    "    \"roll_no\":101,\n",
    "    \"name\":\"mayur\",\n",
    "    \"city\":\"hydrabad\"}\n"
   ]
  },
  {
   "cell_type": "code",
   "execution_count": 13,
   "id": "9e904cc0-65c7-4544-ae4f-14ec4aa9fa54",
   "metadata": {},
   "outputs": [
    {
     "name": "stdout",
     "output_type": "stream",
     "text": [
      "\n",
      "\n",
      "\n",
      "{'roll_no': 101, 'name': 'mayur'}\n"
     ]
    }
   ],
   "source": [
    "def pop_item(dict):\n",
    "    for key in dict:\n",
    "        print()\n",
    "    return key  \n",
    "dict={\n",
    "    \"roll_no\":101,\n",
    "    \"name\":\"mayur\",\n",
    "    \"city\":\"hydrabad\"}\n",
    "result=()\n",
    "del dict[pop_item(dict)]\n",
    "print(dict)\n"
   ]
  },
  {
   "cell_type": "code",
   "execution_count": 27,
   "id": "b6225014-8e90-49e4-9c80-792ee1619b55",
   "metadata": {},
   "outputs": [
    {
     "name": "stdout",
     "output_type": "stream",
     "text": [
      "hydrabad\n",
      "{'roll_no': 101, 'name': 'mayur'}\n"
     ]
    }
   ],
   "source": [
    "def pop_item(dict,index=0):\n",
    "    if index==len(dict):\n",
    "        return \n",
    "    keys=list(dict.keys())\n",
    "    key_to_pop=keys[index]\n",
    "    value=dict.pop(key_to_pop)\n",
    "    return value\n",
    "        \n",
    "dict={\n",
    "    \"roll_no\":101,\n",
    "    \"name\":\"mayur\",\n",
    "    \"city\":\"hydrabad\"}\n",
    "print(pop_item(dict,len(dict)-1))\n",
    "print(dict)\n",
    "    "
   ]
  },
  {
   "cell_type": "code",
   "execution_count": 9,
   "id": "8c5d523d-8ce8-4fda-9bdd-ab0ed0910ab4",
   "metadata": {},
   "outputs": [
    {
     "name": "stdout",
     "output_type": "stream",
     "text": [
      "mayur\n",
      "{'roll_no': 101, 'city': 'hydrabad'}\n"
     ]
    }
   ],
   "source": [
    "def pop_item(dict, index=0):\n",
    "    if index < 0 or index >= len(dict):\n",
    "        raise IndexError(\"Index out of range\")\n",
    "    \n",
    "    keys = list(dict.keys())\n",
    "    key_to_pop = keys[index]\n",
    "    value = dict.pop(key_to_pop)\n",
    "    return value\n",
    "\n",
    "dict = {\n",
    "    \"roll_no\": 101,\n",
    "    \"name\": \"mayur\",\n",
    "    \"city\": \"hydrabad\"\n",
    "}\n",
    "\n",
    "print(pop_item(dict, 1))  # Pops the value at index 1 (which is 'name')\n",
    "print(dict)  # Print the dictionary after the pop operation"
   ]
  },
  {
   "cell_type": "code",
   "execution_count": 10,
   "id": "330efdef-ec91-4565-9bc7-030bc762f3bd",
   "metadata": {},
   "outputs": [
    {
     "data": {
      "text/plain": [
       "['__class__',\n",
       " '__class_getitem__',\n",
       " '__contains__',\n",
       " '__delattr__',\n",
       " '__delitem__',\n",
       " '__dir__',\n",
       " '__doc__',\n",
       " '__eq__',\n",
       " '__format__',\n",
       " '__ge__',\n",
       " '__getattribute__',\n",
       " '__getitem__',\n",
       " '__getstate__',\n",
       " '__gt__',\n",
       " '__hash__',\n",
       " '__init__',\n",
       " '__init_subclass__',\n",
       " '__ior__',\n",
       " '__iter__',\n",
       " '__le__',\n",
       " '__len__',\n",
       " '__lt__',\n",
       " '__ne__',\n",
       " '__new__',\n",
       " '__or__',\n",
       " '__reduce__',\n",
       " '__reduce_ex__',\n",
       " '__repr__',\n",
       " '__reversed__',\n",
       " '__ror__',\n",
       " '__setattr__',\n",
       " '__setitem__',\n",
       " '__sizeof__',\n",
       " '__str__',\n",
       " '__subclasshook__',\n",
       " 'clear',\n",
       " 'copy',\n",
       " 'fromkeys',\n",
       " 'get',\n",
       " 'items',\n",
       " 'keys',\n",
       " 'pop',\n",
       " 'popitem',\n",
       " 'setdefault',\n",
       " 'update',\n",
       " 'values']"
      ]
     },
     "execution_count": 10,
     "metadata": {},
     "output_type": "execute_result"
    }
   ],
   "source": [
    "dir({})"
   ]
  },
  {
   "cell_type": "code",
   "execution_count": 24,
   "id": "e0ae817f-75b1-4e6e-b259-6353c8eb2147",
   "metadata": {},
   "outputs": [
    {
     "name": "stdout",
     "output_type": "stream",
     "text": [
      "Remaining dictionary: {'roll_no': 101, 'name': 'mayur'}\n"
     ]
    }
   ],
   "source": [
    "def pop_item(d, keys=0):\n",
    "    if keys==0:\n",
    "        keys = list(d.keys())\n",
    "    if len(keys) == 1:\n",
    "        return keys[0]\n",
    "    return pop_item(d, keys[1:])\n",
    "\n",
    "dict = {\n",
    "    \"roll_no\": 101,\n",
    "    \"name\": \"mayur\",\n",
    "    \"city\": \"hydrabad\"\n",
    "}\n",
    "key_to_pop = pop_item(dict)\n",
    "del dict[key_to_pop]\n",
    "print(\"Remaining dictionary:\", dict)"
   ]
  },
  {
   "cell_type": "code",
   "execution_count": 1,
   "id": "59befa99-3593-4f58-95a7-ee5a4fd7d18c",
   "metadata": {},
   "outputs": [
    {
     "data": {
      "text/plain": [
       "dict_items([('abc', 1), ('xyz', 2), ('kffi', 3)])"
      ]
     },
     "execution_count": 1,
     "metadata": {},
     "output_type": "execute_result"
    }
   ],
   "source": [
    "dict={\n",
    "    \"abc\":1,\n",
    "    \"xyz\":2,\n",
    "    \"kffi\":3\n",
    "}\n",
    "dict.items()"
   ]
  },
  {
   "cell_type": "code",
   "execution_count": 2,
   "id": "54881c14-a4f7-41f5-9dce-7a3bb6b12e48",
   "metadata": {},
   "outputs": [
    {
     "data": {
      "text/plain": [
       "dict_values([1, 2, 3])"
      ]
     },
     "execution_count": 2,
     "metadata": {},
     "output_type": "execute_result"
    }
   ],
   "source": [
    "dict.values()"
   ]
  },
  {
   "cell_type": "code",
   "execution_count": 3,
   "id": "b3632d51-4b92-442f-9989-5fc0a234bb6c",
   "metadata": {},
   "outputs": [
    {
     "ename": "KeyError",
     "evalue": "34",
     "output_type": "error",
     "traceback": [
      "\u001b[1;31m---------------------------------------------------------------------------\u001b[0m",
      "\u001b[1;31mKeyError\u001b[0m                                  Traceback (most recent call last)",
      "Cell \u001b[1;32mIn[3], line 5\u001b[0m\n\u001b[0;32m      3\u001b[0m \u001b[38;5;28mdict\u001b[39m\u001b[38;5;241m=\u001b[39m{}\n\u001b[0;32m      4\u001b[0m \u001b[38;5;28;01mfor\u001b[39;00m ele \u001b[38;5;129;01min\u001b[39;00m \u001b[38;5;28mrange\u001b[39m(\u001b[38;5;28mlen\u001b[39m(\u001b[38;5;28mlist\u001b[39m)):\n\u001b[1;32m----> 5\u001b[0m     \u001b[38;5;28mdict\u001b[39m[ele]\u001b[38;5;241m=\u001b[39m\u001b[38;5;28;43mdict\u001b[39;49m\u001b[43m[\u001b[49m\u001b[38;5;28;43mlist\u001b[39;49m\u001b[43m[\u001b[49m\u001b[43mele\u001b[49m\u001b[43m]\u001b[49m\u001b[43m]\u001b[49m\n\u001b[0;32m      6\u001b[0m \u001b[38;5;28mdict\u001b[39m\n",
      "\u001b[1;31mKeyError\u001b[0m: 34"
     ]
    }
   ],
   "source": [
    "#creating list to dictionary\n",
    "list=[34,45,89,67]\n",
    "dict={}\n",
    "for ele in range(len(list)):\n",
    "    ele=dict[list[ele]]\n",
    "dict\n",
    "    "
   ]
  },
  {
   "cell_type": "code",
   "execution_count": 10,
   "id": "4f1920cf-cff1-4de5-8072-7dfd41d44d93",
   "metadata": {},
   "outputs": [
    {
     "name": "stdout",
     "output_type": "stream",
     "text": [
      "[34, 89]\n"
     ]
    }
   ],
   "source": [
    "list1=[34,45,89,67]\n",
    "list2=[12,34,56,78,89]\n",
    "dict={}\n",
    "list3=[]\n",
    "for ele in range(len(list1)):\n",
    "    dict[list[ele]]=ele\n",
    "for j in list2:\n",
    "    if j in dict:\n",
    "        list3.append(j)\n",
    "print(list3)\n",
    "\n"
   ]
  },
  {
   "cell_type": "code",
   "execution_count": 18,
   "id": "c0e91b37-84a5-4d94-ba73-9cf6488f07f6",
   "metadata": {},
   "outputs": [
    {
     "name": "stdout",
     "output_type": "stream",
     "text": [
      "332\n"
     ]
    }
   ],
   "source": [
    "dict={\n",
    "    \"abc\":100,\n",
    "    \"xyz\":120,\n",
    "    \"kffi\":34,\n",
    "    \"jei\":78\n",
    "}\n",
    "\n",
    "value=0\n",
    "for ele in dict.values():\n",
    "    value+=ele\n",
    "    \n",
    "print(value)"
   ]
  },
  {
   "cell_type": "code",
   "execution_count": 22,
   "id": "03e41e72-119f-4def-b602-fad7ebb53045",
   "metadata": {},
   "outputs": [
    {
     "name": "stdout",
     "output_type": "stream",
     "text": [
      "34 120\n"
     ]
    }
   ],
   "source": [
    "dict={\n",
    "    \"abc\":100,\n",
    "    \"xyz\":120,\n",
    "    \"kffi\":34,\n",
    "    \"jei\":78\n",
    "}\n",
    "for ele in dict:\n",
    "    min_value=dict[ele]\n",
    "    max_value=dict[ele]\n",
    "    for i in dict.values():\n",
    "        if i<min_value :\n",
    "            min_value=i\n",
    "        else:\n",
    "            i+=1\n",
    "    for j in dict.values():\n",
    "        if j>max_value:\n",
    "            max_value=j\n",
    "        else:\n",
    "            j+=1\n",
    "print(min_value,max_value)\n",
    "        "
   ]
  },
  {
   "cell_type": "code",
   "execution_count": null,
   "id": "57ddc371-2222-4a8b-b295-03142a0c2bd1",
   "metadata": {},
   "outputs": [],
   "source": [
    "dict.clear()\n"
   ]
  },
  {
   "cell_type": "code",
   "execution_count": 27,
   "id": "869578af-e963-46bc-b683-ff99ddf86faf",
   "metadata": {},
   "outputs": [
    {
     "data": {
      "text/plain": [
       "{'abc': 100, 'xyz': 120, 'kffi': 34, 'jei': 78}"
      ]
     },
     "execution_count": 27,
     "metadata": {},
     "output_type": "execute_result"
    }
   ],
   "source": [
    "dict2=dict.copy()\n",
    "dict2"
   ]
  },
  {
   "cell_type": "code",
   "execution_count": 35,
   "id": "a19c4a22-7144-49a7-9553-bf3594e9de2d",
   "metadata": {},
   "outputs": [
    {
     "name": "stdout",
     "output_type": "stream",
     "text": [
      "{1: 1, 2: 2, 3: 2, 4: 1, 5: 1}\n"
     ]
    }
   ],
   "source": [
    "def create_dict(list1):\n",
    "    dict={}\n",
    "    for ele in list1:\n",
    "            if ele in dict:\n",
    "                dict[ele]+=1\n",
    "            else:\n",
    "                dict[ele]=1\n",
    "    return dict\n",
    "list1=[1,2,2,3,4,3,5]\n",
    "print(create_dict(list1))\n",
    "        \n",
    "        "
   ]
  },
  {
   "cell_type": "code",
   "execution_count": 39,
   "id": "f5418678-58e7-41ad-98ec-e4e94ef727fa",
   "metadata": {},
   "outputs": [
    {
     "name": "stdout",
     "output_type": "stream",
     "text": [
      "1\n",
      "4\n",
      "5\n"
     ]
    }
   ],
   "source": [
    "def create_dict(list1):\n",
    "    dict1 = {}\n",
    "    for ele in list1:\n",
    "        if ele in dict1:\n",
    "            dict1[ele] += 1\n",
    "        else:\n",
    "            dict1[ele] = 1\n",
    "    return dict1\n",
    "\n",
    "list1 = [1, 2, 2, 3, 4, 3, 5]\n",
    "result=create_dict(list1)\n",
    "for i,j in result.items():\n",
    "    if j%2!=0:\n",
    "        print(i)\n",
    "\n"
   ]
  },
  {
   "cell_type": "code",
   "execution_count": 2,
   "id": "287e0043-47bb-4a9a-8823-70738ef84b57",
   "metadata": {},
   "outputs": [
    {
     "data": {
      "text/plain": [
       "'mayur'"
      ]
     },
     "execution_count": 2,
     "metadata": {},
     "output_type": "execute_result"
    }
   ],
   "source": [
    "dict={\n",
    "    \"roll_no\":101,\n",
    "    \"name\":\"mayur\",\n",
    "    \"city\":\"hydrabad\"}\n",
    "dict[\"name\"]"
   ]
  },
  {
   "cell_type": "raw",
   "id": "edf67425-f643-408c-9459-52cebc447f27",
   "metadata": {},
   "source": [
    " tuple slicing:-\n",
    "tuple_name[start:end:step_size]\n"
   ]
  }
 ],
 "metadata": {
  "kernelspec": {
   "display_name": "Python 3 (ipykernel)",
   "language": "python",
   "name": "python3"
  },
  "language_info": {
   "codemirror_mode": {
    "name": "ipython",
    "version": 3
   },
   "file_extension": ".py",
   "mimetype": "text/x-python",
   "name": "python",
   "nbconvert_exporter": "python",
   "pygments_lexer": "ipython3",
   "version": "3.13.0"
  }
 },
 "nbformat": 4,
 "nbformat_minor": 5
}
