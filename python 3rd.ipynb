{
 "cells": [
  {
   "cell_type": "markdown",
   "id": "cc74f4a7-3510-44cd-b671-4bfb5d72669e",
   "metadata": {},
   "source": [
    "## data structure\n"
   ]
  },
  {
   "cell_type": "raw",
   "id": "e2101984-7112-411e-8dd0-827ad6e9b3a8",
   "metadata": {},
   "source": [
    "-Way of organizing the data in a optimal way\n",
    "-it will take less time to retrive the data and also take less space for storing.\n",
    "-goal: optimize the time and space\n",
    "-Based on the data organization classified into 2 types,\n",
    "1.Linear\n",
    "2.Non-linear\n",
    "1.organizing data in a  linear fashion\n",
    " ex- list,queue,stack,tuple,Linklist\n",
    "2.Arranging data in non linear fashion\n",
    " ex- tree,graph\n",
    "-tree and graph are logical data structure\n",
    "so if we want to create tree or graph in memory we have to use two representation:-\n",
    "1.Array representation\n",
    "2.Linked list representation\n",
    "Data structure classified into 2 types:-\n",
    "1. In-built function\n",
    "    a.List\n",
    "    b.Tuple\n",
    "    c.Set\n",
    "    d.Dictionary\n",
    "2. Generic DS\n",
    "    a.array\n",
    "    b.stack\n",
    "    c.Tree\n",
    "\n",
    "\n"
   ]
  },
  {
   "cell_type": "markdown",
   "id": "1240921b-b7d6-441c-9ad9-90402d048926",
   "metadata": {},
   "source": [
    "### IN BUILT DATA STRUCTURES\n"
   ]
  },
  {
   "cell_type": "markdown",
   "id": "7c6155c2-c4c7-46d3-a0ca-fa7000202c35",
   "metadata": {},
   "source": [
    "#### 1.LIST"
   ]
  },
  {
   "cell_type": "raw",
   "id": "a55a045e-e13c-45b1-b3ef-7d5b6a956fad",
   "metadata": {},
   "source": [
    "It is a in-built data structure.\n",
    "-it is also called as collection or sequence.\n",
    "-List is a collection of heterogeneous kind of items.\n",
    "-We can use list to store the different kind of data\n",
    "- we are using subscript operator to create a list\n",
    "-Each item in a list is separated by comma\n",
    "-Through index only we are accessing the list items\n",
    "-List is dynamic in nature(mutable)\n",
    "-We can change the content.\n",
    "-List will be created inside the heap segment of the memory.\n",
    "syntax:\n",
    "list_name=[item1,item2,...,itemN]\n"
   ]
  },
  {
   "cell_type": "code",
   "execution_count": 2,
   "id": "261f67b9-8771-421b-b2ea-c063dfadd7ae",
   "metadata": {},
   "outputs": [],
   "source": [
    "#creating the empty list\n",
    "list1=[]"
   ]
  },
  {
   "cell_type": "code",
   "execution_count": 3,
   "id": "994971b2-5613-4dae-8552-d46acc6fa694",
   "metadata": {},
   "outputs": [
    {
     "data": {
      "text/plain": [
       "[]"
      ]
     },
     "execution_count": 3,
     "metadata": {},
     "output_type": "execute_result"
    }
   ],
   "source": [
    "list1\n"
   ]
  },
  {
   "cell_type": "code",
   "execution_count": 4,
   "id": "7e2f1d1e-3d21-4409-a8af-fa31762ca185",
   "metadata": {},
   "outputs": [],
   "source": [
    "#creaating intigers list\n",
    "list2=[1,2,3,4,5]\n"
   ]
  },
  {
   "cell_type": "code",
   "execution_count": 5,
   "id": "a5c31445-5a07-4002-a121-7f53666b3d8b",
   "metadata": {},
   "outputs": [
    {
     "data": {
      "text/plain": [
       "[1, 2, 3, 4, 5]"
      ]
     },
     "execution_count": 5,
     "metadata": {},
     "output_type": "execute_result"
    }
   ],
   "source": [
    "list2"
   ]
  },
  {
   "cell_type": "code",
   "execution_count": 6,
   "id": "9aaa1d6a-f861-43c9-ad7c-2449e5333fbd",
   "metadata": {},
   "outputs": [],
   "source": [
    "#list of float\n",
    "list3=[2.9,3.4,4.5,6.7]"
   ]
  },
  {
   "cell_type": "code",
   "execution_count": 7,
   "id": "ac51a4f5-5d0f-4af2-a66c-1b28499a94c0",
   "metadata": {},
   "outputs": [
    {
     "data": {
      "text/plain": [
       "[2.9, 3.4, 4.5, 6.7]"
      ]
     },
     "execution_count": 7,
     "metadata": {},
     "output_type": "execute_result"
    }
   ],
   "source": [
    "list3\n"
   ]
  },
  {
   "cell_type": "code",
   "execution_count": 8,
   "id": "01395f2a-ef31-4599-b240-53dfbd944b2d",
   "metadata": {},
   "outputs": [],
   "source": [
    "#list of string\n",
    "list4=[\"mayur\",\"hi\",\"hello\"]"
   ]
  },
  {
   "cell_type": "code",
   "execution_count": 9,
   "id": "26c7c33e-ebbc-4b53-91be-9713191d3609",
   "metadata": {},
   "outputs": [
    {
     "data": {
      "text/plain": [
       "['mayur', 'hi', 'hello']"
      ]
     },
     "execution_count": 9,
     "metadata": {},
     "output_type": "execute_result"
    }
   ],
   "source": [
    "list4"
   ]
  },
  {
   "cell_type": "code",
   "execution_count": 10,
   "id": "9a4472b1-ac68-46ae-8409-2582d287173a",
   "metadata": {},
   "outputs": [],
   "source": [
    "#miscellaneous\n",
    "list5=[\"mayur\",8,9.8]\n"
   ]
  },
  {
   "cell_type": "code",
   "execution_count": 11,
   "id": "e4d56ca1-1d32-4f39-9b06-1ece22a38a7d",
   "metadata": {},
   "outputs": [
    {
     "data": {
      "text/plain": [
       "['mayur', 8, 9.8]"
      ]
     },
     "execution_count": 11,
     "metadata": {},
     "output_type": "execute_result"
    }
   ],
   "source": [
    "list5"
   ]
  },
  {
   "cell_type": "code",
   "execution_count": 12,
   "id": "2458b967-78a8-4c5e-8a51-413e24469c1d",
   "metadata": {},
   "outputs": [
    {
     "data": {
      "text/plain": [
       "8"
      ]
     },
     "execution_count": 12,
     "metadata": {},
     "output_type": "execute_result"
    }
   ],
   "source": [
    "list5[1]"
   ]
  },
  {
   "cell_type": "code",
   "execution_count": 13,
   "id": "62a3d141-e65e-488d-b4ba-492705147c1b",
   "metadata": {},
   "outputs": [
    {
     "data": {
      "text/plain": [
       "'a'"
      ]
     },
     "execution_count": 13,
     "metadata": {},
     "output_type": "execute_result"
    }
   ],
   "source": [
    "list5[0][1]"
   ]
  },
  {
   "cell_type": "code",
   "execution_count": 14,
   "id": "0096cce5-01f8-4f08-8750-4f0b1b5a739f",
   "metadata": {},
   "outputs": [],
   "source": [
    "list=[23,45,46,34]\n"
   ]
  },
  {
   "cell_type": "code",
   "execution_count": 15,
   "id": "c55976e3-5f78-4632-83d2-b89ab710bc2b",
   "metadata": {},
   "outputs": [
    {
     "data": {
      "text/plain": [
       "23"
      ]
     },
     "execution_count": 15,
     "metadata": {},
     "output_type": "execute_result"
    }
   ],
   "source": [
    "list[0]"
   ]
  },
  {
   "cell_type": "raw",
   "id": "56494646-f49f-4137-9700-ff206eefa510",
   "metadata": {},
   "source": [
    "-Accessing the elements in the list.\n",
    "-Through indexing\n",
    "-TRAVERSING:-\n",
    "-visiting every element of the list.\n"
   ]
  },
  {
   "cell_type": "code",
   "execution_count": 16,
   "id": "886041fb-59f1-420e-ab40-e652f7e680a0",
   "metadata": {},
   "outputs": [
    {
     "name": "stdout",
     "output_type": "stream",
     "text": [
      "12\n",
      "34\n",
      "56\n",
      "36\n",
      "87\n"
     ]
    }
   ],
   "source": [
    "list=[12,34,56,36,87]\n",
    "for i in list:\n",
    "    print(i)"
   ]
  },
  {
   "cell_type": "code",
   "execution_count": 17,
   "id": "3986a300-705c-41c0-a85c-d6ea8308c9fb",
   "metadata": {},
   "outputs": [
    {
     "name": "stdout",
     "output_type": "stream",
     "text": [
      "4\n"
     ]
    }
   ],
   "source": [
    "#len()\n",
    "list=[10,34,45,67]\n",
    "print(len(list))\n"
   ]
  },
  {
   "cell_type": "code",
   "execution_count": 19,
   "id": "be5cf45b-6ddf-4b16-9ff9-9c1527467d24",
   "metadata": {},
   "outputs": [
    {
     "name": "stdout",
     "output_type": "stream",
     "text": [
      "5\n"
     ]
    }
   ],
   "source": [
    "list=[10,34,45,67,89]\n",
    "count=0\n",
    "for i in list:\n",
    "    count+=1\n",
    "print(count)\n",
    "    "
   ]
  },
  {
   "cell_type": "code",
   "execution_count": null,
   "id": "c0c2c561-6128-4a1b-9f37-333a83526887",
   "metadata": {},
   "outputs": [],
   "source": [
    "#size of list"
   ]
  },
  {
   "cell_type": "code",
   "execution_count": 6,
   "id": "34d61a76-a75b-4c5e-9899-260410639fda",
   "metadata": {},
   "outputs": [
    {
     "name": "stdout",
     "output_type": "stream",
     "text": [
      "Length of the list: 5\n"
     ]
    }
   ],
   "source": [
    "def list_length(lst, count=0):\n",
    "    if lst==[]:\n",
    "        return count\n",
    "    else:\n",
    "        return list_length(lst[1:], count + 1)\n",
    "\n",
    "my_list = [1, 2, 3, 4, 5]\n",
    "print(\"Length of the list:\", list_length(my_list))"
   ]
  },
  {
   "cell_type": "code",
   "execution_count": 30,
   "id": "3385eeaa-f49e-49e8-ae89-8e25bb75612e",
   "metadata": {},
   "outputs": [
    {
     "name": "stdout",
     "output_type": "stream",
     "text": [
      "True\n"
     ]
    }
   ],
   "source": [
    "#membership\n",
    "list=[23,56,89]\n",
    "print(89 in list)"
   ]
  },
  {
   "cell_type": "code",
   "execution_count": 31,
   "id": "f278aee7-ebc8-41be-938d-37e52368dd1b",
   "metadata": {},
   "outputs": [
    {
     "name": "stdout",
     "output_type": "stream",
     "text": [
      "False\n"
     ]
    }
   ],
   "source": [
    "print(100 in list)"
   ]
  },
  {
   "cell_type": "raw",
   "id": "259b1349-2201-4df8-bd46-402d0fe2da6e",
   "metadata": {},
   "source": []
  },
  {
   "cell_type": "code",
   "execution_count": null,
   "id": "85fa4add-0554-4183-ae0a-0dce89bded31",
   "metadata": {},
   "outputs": [],
   "source": [
    "#search number"
   ]
  },
  {
   "cell_type": "code",
   "execution_count": 20,
   "id": "d34c29b4-570d-4e82-9d71-f151690b77c0",
   "metadata": {},
   "outputs": [
    {
     "name": "stdin",
     "output_type": "stream",
     "text": [
      "enter any number: 56\n"
     ]
    },
    {
     "name": "stdout",
     "output_type": "stream",
     "text": [
      "Number is present\n"
     ]
    }
   ],
   "source": [
    "list=[23,56,89]\n",
    "num=int(input(\"enter any number:\"))\n",
    "is_found=\"False\"\n",
    "for i in list:\n",
    "    if i==num:\n",
    "        is_found=\"True\"\n",
    "        print(\"Number is present\")\n",
    "        break\n",
    "else:\n",
    "    is_found=\"False\"\n",
    "    print(\"Number is not present\")\n",
    "        \n",
    "\n"
   ]
  },
  {
   "cell_type": "raw",
   "id": "dc7de9b9-7ef6-4c44-96c7-3592124652af",
   "metadata": {},
   "source": [
    "#seach a number\n"
   ]
  },
  {
   "cell_type": "code",
   "execution_count": 31,
   "id": "a7ec7ecc-2a51-4eee-ba1d-29fe31d99b2c",
   "metadata": {},
   "outputs": [
    {
     "data": {
      "text/plain": [
       "True"
      ]
     },
     "execution_count": 31,
     "metadata": {},
     "output_type": "execute_result"
    }
   ],
   "source": [
    "def search(list,key):\n",
    "    if list==[]:\n",
    "        return False\n",
    "    elif list[0]==key:\n",
    "        return True\n",
    "    else:\n",
    "        return search(list[1:],key)\n",
    "my_list=[12,45,67,89]\n",
    "search(my_list,67)\n",
    "            "
   ]
  },
  {
   "cell_type": "code",
   "execution_count": null,
   "id": "3baf9370-dd74-4bb8-bea9-bc91b33aa8c1",
   "metadata": {},
   "outputs": [],
   "source": []
  }
 ],
 "metadata": {
  "kernelspec": {
   "display_name": "Python 3 (ipykernel)",
   "language": "python",
   "name": "python3"
  },
  "language_info": {
   "codemirror_mode": {
    "name": "ipython",
    "version": 3
   },
   "file_extension": ".py",
   "mimetype": "text/x-python",
   "name": "python",
   "nbconvert_exporter": "python",
   "pygments_lexer": "ipython3",
   "version": "3.13.0"
  }
 },
 "nbformat": 4,
 "nbformat_minor": 5
}
