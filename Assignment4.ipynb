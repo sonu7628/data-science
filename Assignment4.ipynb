{
 "cells": [
  {
   "cell_type": "raw",
   "id": "48936bc9-4770-4d46-aacc-ec005b0098fe",
   "metadata": {},
   "source": [
    "Q1 suppose you have given a list of sequence and you have to find out longest consecutive\n",
    "sequenece element—\n",
    "-list of size n is given.\n",
    "-you are required to print largest sequence of consecutive element in list (ignoring duplicates)\n",
    "-In case there are two sequences of equal length and they are also the longest then print one for\n",
    "which the starting point of which occurs first in a list\n",
    "Sample:\n",
    "10,5,9,1,11,8,6,15,3,12,2\n",
    "Sequences are (1,2,3),(5,6),(8,9,10,11,12),(15)\n",
    "Output: (8,9,10,11,12)"
   ]
  },
  {
   "cell_type": "code",
   "execution_count": 5,
   "id": "db0051cc-198f-40a5-9e7b-832d0ecb362d",
   "metadata": {},
   "outputs": [
    {
     "name": "stdout",
     "output_type": "stream",
     "text": [
      "(8, 9, 10, 11, 12)\n"
     ]
    }
   ],
   "source": [
    "def get_longest_consequtive_seq(nums):\n",
    "    num_set=set(nums)\n",
    "    longest_seq=[]\n",
    "    for num in num_set:\n",
    "        if num-1 not in num_set:\n",
    "            current_num=num\n",
    "            current_seq=[]\n",
    "        while current_num in num_set:\n",
    "            current_seq.append(current_num)\n",
    "            current_num+=1\n",
    "        if len(current_seq)>len(longest_seq):\n",
    "            longest_seq=current_seq\n",
    "        elif len(current_seq)==len(longest_seq):\n",
    "            if nums.index(current_seq[0])<nums.index(longest_seq[0]):\n",
    "                longest_seq=current_seq\n",
    "    return tuple(longest_seq)\n",
    "nums=[10,5,9,1,11,8,6,15,3,12,2]\n",
    "print(get_longest_consequtive_seq(nums))"
   ]
  },
  {
   "cell_type": "raw",
   "id": "d4da2860-8479-46ef-b005-76140a4b44c5",
   "metadata": {},
   "source": [
    "Q2. Given an List containing 0s and 1s. Find the number of sublist having equal number of 0s and 1s."
   ]
  },
  {
   "cell_type": "code",
   "execution_count": null,
   "id": "63e9b275-7a61-4e1f-9e64-629922914504",
   "metadata": {},
   "outputs": [],
   "source": []
  },
  {
   "cell_type": "raw",
   "id": "699fc6fe-1a5e-4cc0-8d67-8cf5c0d5e9ff",
   "metadata": {},
   "source": []
  }
 ],
 "metadata": {
  "kernelspec": {
   "display_name": "Python 3 (ipykernel)",
   "language": "python",
   "name": "python3"
  },
  "language_info": {
   "codemirror_mode": {
    "name": "ipython",
    "version": 3
   },
   "file_extension": ".py",
   "mimetype": "text/x-python",
   "name": "python",
   "nbconvert_exporter": "python",
   "pygments_lexer": "ipython3",
   "version": "3.13.0"
  }
 },
 "nbformat": 4,
 "nbformat_minor": 5
}
