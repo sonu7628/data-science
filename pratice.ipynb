{
 "cells": [
  {
   "cell_type": "code",
   "execution_count": 9,
   "id": "0d5062d8-5ddd-4eae-9b2f-0b6f7c6f450f",
   "metadata": {},
   "outputs": [
    {
     "name": "stdout",
     "output_type": "stream",
     "text": [
      "{0: 11, 1: 34, 2: 23, 3: 56, 4: 89, 5: 67}\n"
     ]
    }
   ],
   "source": [
    "def create_dict(list):\n",
    "    dict={}\n",
    "    for i in range(len(list)):\n",
    "        dict[i]=list[i]\n",
    "        \n",
    "    return dict\n",
    "list=[11,34,23,56,89,67]\n",
    "print(create_dict(list))"
   ]
  },
  {
   "cell_type": "code",
   "execution_count": 9,
   "id": "e03329d0-04c0-430c-9aef-84efa6c094b1",
   "metadata": {},
   "outputs": [
    {
     "name": "stdout",
     "output_type": "stream",
     "text": [
      "[67, 89, 56, 23, 34, 11]\n"
     ]
    }
   ],
   "source": [
    "list=[11,34,23,56,89,67]\n",
    "i=-1\n",
    "list2=[]\n",
    "while i>=-len(list):\n",
    "    list2.append(list[i])\n",
    "    i-=1\n",
    "print(list2)\n",
    "        "
   ]
  },
  {
   "cell_type": "code",
   "execution_count": null,
   "id": "db8c0fee-12c5-4993-822b-6a9ec479de1a",
   "metadata": {},
   "outputs": [],
   "source": []
  },
  {
   "cell_type": "code",
   "execution_count": 41,
   "id": "8ac03fd5-ee7d-4c84-8abe-e37d79db2b6c",
   "metadata": {},
   "outputs": [
    {
     "name": "stdout",
     "output_type": "stream",
     "text": [
      "[14, 56, 45, 12, 34, 23]\n"
     ]
    }
   ],
   "source": [
    "def rotate_from_key(list,key):\n",
    "    if key==0:\n",
    "        return list\n",
    "    \n",
    "    key=key%len(list)\n",
    "    return (list[key:]+list[:key])\n",
    "list=[12,34,23,14,56,45]\n",
    "key=3\n",
    "print(rotate_from_key(list,key))\n",
    "        \n",
    "        "
   ]
  },
  {
   "cell_type": "code",
   "execution_count": 34,
   "id": "49381687-11a2-4b91-9cf9-20f8c4e016c2",
   "metadata": {},
   "outputs": [
    {
     "name": "stdout",
     "output_type": "stream",
     "text": [
      "False\n"
     ]
    }
   ],
   "source": [
    "a=5\n",
    "b=-6\n",
    "result=a^b\n",
    "if result<0:\n",
    "    print(\"False\")\n",
    "else:\n",
    "    print(\"True\")\n",
    "\n",
    "    "
   ]
  },
  {
   "cell_type": "code",
   "execution_count": 6,
   "id": "f1f756d7-bde7-4d84-a3b4-84cdd1b46ca7",
   "metadata": {},
   "outputs": [
    {
     "data": {
      "text/plain": [
       "'good night'"
      ]
     },
     "execution_count": 6,
     "metadata": {},
     "output_type": "execute_result"
    }
   ],
   "source": [
    "#concatenate\n",
    "s1=\"good\"\n",
    "s2=\" night\"\n",
    "s1+s2"
   ]
  },
  {
   "cell_type": "raw",
   "id": "45536fe3-fdad-421c-a806-31ec882572d6",
   "metadata": {},
   "source": [
    "-How to use bitwise operator to calculate 2^n."
   ]
  },
  {
   "cell_type": "code",
   "execution_count": 3,
   "id": "cd087303-0a10-46db-a7d8-0f43bc69c4ae",
   "metadata": {},
   "outputs": [
    {
     "name": "stdout",
     "output_type": "stream",
     "text": [
      "2\n",
      "4\n",
      "8\n",
      "16\n",
      "32\n",
      "64\n",
      "128\n",
      "256\n",
      "512\n"
     ]
    }
   ],
   "source": [
    "def calc_power_two(n):\n",
    "    result=1<<n\n",
    "    return result\n",
    "for i in range(1,10):\n",
    "    print(calc_power_two(i))"
   ]
  },
  {
   "cell_type": "code",
   "execution_count": 7,
   "id": "9e907be5-402f-42f4-a3e0-5140c0440aa8",
   "metadata": {},
   "outputs": [
    {
     "name": "stdout",
     "output_type": "stream",
     "text": [
      "{1, 4, 5}\n"
     ]
    }
   ],
   "source": [
    "a={1,2,3,4,5}\n",
    "b={2,3,6,7,8}\n",
    "diff_set=a-b\n",
    "dict_diff={i : None for i in diff_set}\n",
    "print(diff_set)"
   ]
  },
  {
   "cell_type": "code",
   "execution_count": 7,
   "id": "7f207e40-b170-45d3-a9c8-ebf7a20b55e3",
   "metadata": {},
   "outputs": [
    {
     "name": "stdout",
     "output_type": "stream",
     "text": [
      "found\n"
     ]
    }
   ],
   "source": [
    "s=\"ababaaababababaaab\"\n",
    "p=\"baba\"\n",
    "for i in range(len(s)-len(p)+1):\n",
    "    match=True\n",
    "    for j in range(len(p)):\n",
    "        if s[i+j]!=p[j]:\n",
    "            match=False\n",
    "            break\n",
    "            \n",
    "    if match:\n",
    "        print(\"found\")\n",
    "        break"
   ]
  },
  {
   "cell_type": "raw",
   "id": "10d14732-8cef-47df-9404-ba4a68eed256",
   "metadata": {},
   "source": [
    "strts with()"
   ]
  },
  {
   "cell_type": "code",
   "execution_count": 9,
   "id": "71b7d817-7411-4e79-83a5-bdf0100fe153",
   "metadata": {},
   "outputs": [
    {
     "name": "stdout",
     "output_type": "stream",
     "text": [
      "True\n"
     ]
    }
   ],
   "source": [
    "s=\"hello how are you\"\n",
    "a=s.split(\" \")\n",
    "if a[0]==\"hello\":\n",
    "    print(True)\n",
    "else:\n",
    "    print(False)"
   ]
  },
  {
   "cell_type": "raw",
   "id": "3f19271d-a0c7-41e6-9f27-844ae2089725",
   "metadata": {},
   "source": [
    "find"
   ]
  },
  {
   "cell_type": "code",
   "execution_count": 13,
   "id": "d3c589fb-1323-492c-be74-f6f1588a451b",
   "metadata": {},
   "outputs": [
    {
     "name": "stdout",
     "output_type": "stream",
     "text": [
      "12\n"
     ]
    }
   ],
   "source": [
    "s=\"ababaababababaaab\"\n",
    "p=\"baaab\"\n",
    "for i in range(len(s)-len(p)+1):\n",
    "    match=True\n",
    "    for j in range(len(p)):\n",
    "        if s[i+j]!=p[j]:\n",
    "            match=False\n",
    "            break\n",
    "    if match:\n",
    "        print(i)\n",
    "        "
   ]
  },
  {
   "cell_type": "code",
   "execution_count": 15,
   "id": "55c18f50-1c55-4c20-be10-ac2bc7a800ed",
   "metadata": {},
   "outputs": [
    {
     "name": "stdout",
     "output_type": "stream",
     "text": [
      "hello\n"
     ]
    }
   ],
   "source": [
    "def find_longest_word(string):\n",
    "    string=\"hello how are you\"\n",
    "    a=string.split(\" \")\n",
    "    max_word=\"\"\n",
    "    for i in a:\n",
    "        if len(i)>len(max_word):\n",
    "            max_word=i\n",
    "    return max_word\n",
    "string=\"hello how are you\"\n",
    "print(find_longest_word(string))\n",
    "    \n",
    "    "
   ]
  },
  {
   "cell_type": "code",
   "execution_count": 1,
   "id": "f2e05672-d175-418e-ba40-575906e27eb1",
   "metadata": {},
   "outputs": [
    {
     "name": "stdout",
     "output_type": "stream",
     "text": [
      "how\n"
     ]
    }
   ],
   "source": [
    "# Initialize the list\n",
    "my_list = [\"hi\", \"how\"]\n",
    "\n",
    "# Initialize an empty dictionary to store the lengths of the strings\n",
    "length_dict = {}\n",
    "\n",
    "# Initialize a variable to store the maximum length found\n",
    "max_val = 0\n",
    "\n",
    "# Loop through each string in the list\n",
    "for i in my_list:\n",
    "    # Store the length of the string in the dictionary\n",
    "    length_dict[i] = len(i)\n",
    "    \n",
    "    # Update the maximum length found if the current string's length is greater\n",
    "    if len(i) > max_val:\n",
    "        max_val = len(i)\n",
    "\n",
    "# Loop through the dictionary to find and print the string(s) with the maximum length\n",
    "for key, value in length_dict.items():\n",
    "    if value == max_val:\n",
    "        print(key)\n"
   ]
  },
  {
   "cell_type": "raw",
   "id": "3e2a1899-1697-469a-b101-fc3cf9c54728",
   "metadata": {},
   "source": [
    "count vowels"
   ]
  },
  {
   "cell_type": "code",
   "execution_count": 6,
   "id": "c88c101a-d5c7-4bbe-9486-0871e31b4a3c",
   "metadata": {},
   "outputs": [
    {
     "name": "stdout",
     "output_type": "stream",
     "text": [
      "8\n",
      "None\n"
     ]
    }
   ],
   "source": [
    "def count_vowels(str):\n",
    "    vowels=\"a,e,i,o,u,A,E,I,O,U\"\n",
    "    count=[1 for i in str if i in vowels ]\n",
    "    print(sum(count))\n",
    "str=\"soubhagya Ranjan LENKA\"\n",
    "print(count_vowels(str))"
   ]
  },
  {
   "cell_type": "raw",
   "id": "d338c187-904b-4bc1-b641-816b06e479f1",
   "metadata": {},
   "source": [
    "remove duplicates"
   ]
  },
  {
   "cell_type": "code",
   "execution_count": 21,
   "id": "a7bdfb61-0768-47e2-a6a8-4b02c62ed84d",
   "metadata": {},
   "outputs": [
    {
     "name": "stdout",
     "output_type": "stream",
     "text": [
      "s o u b h a g y   R n j L E N K A\n"
     ]
    }
   ],
   "source": [
    "def remove_duplicate(str):\n",
    "    return \" \".join(sorted(set(str),key=str.index))\n",
    " \n",
    "string=\"soubhagya Ranjan LENKA\"\n",
    "print(remove_duplicate(string))\n",
    "        \n",
    "    \n",
    "        "
   ]
  },
  {
   "cell_type": "code",
   "execution_count": 18,
   "id": "93bcbc87-ebaa-42b0-9a5b-b2dbaac2490c",
   "metadata": {},
   "outputs": [
    {
     "name": "stdout",
     "output_type": "stream",
     "text": [
      "progamin\n"
     ]
    }
   ],
   "source": [
    "def remove_duplicates(s):\n",
    "    return ''.join(sorted(set(s), key=s.index))\n",
    "\n",
    "# Example usage:\n",
    "input_str = \"programming\"\n",
    "print(remove_duplicates(input_str))  # Output: \"progamin\"\n"
   ]
  },
  {
   "cell_type": "raw",
   "id": "b4bf4f55-12e0-4004-b087-aebea514c9cf",
   "metadata": {},
   "source": [
    "find the longest word"
   ]
  },
  {
   "cell_type": "code",
   "execution_count": 23,
   "id": "c464bfec-27ea-4933-bfb8-61609c68ea71",
   "metadata": {},
   "outputs": [
    {
     "name": "stdout",
     "output_type": "stream",
     "text": [
      "soubhagya\n"
     ]
    }
   ],
   "source": [
    "def find_longest(string):\n",
    "    a=string.split(\" \")\n",
    "    max_word=\"\"\n",
    "    for i in a:\n",
    "        if len(i)>len(max_word):\n",
    "            max_word=i\n",
    "    return max_word\n",
    "string=\"soubhagya Ranjan LENKA\"\n",
    "print(find_longest(string))\n",
    "    "
   ]
  },
  {
   "cell_type": "raw",
   "id": "b4752b7d-73bf-406e-b883-0abae860b0ab",
   "metadata": {},
   "source": [
    "reverse a string recurssively"
   ]
  },
  {
   "cell_type": "code",
   "execution_count": 5,
   "id": "c2c40371-acce-4e33-a032-1136f27382c8",
   "metadata": {},
   "outputs": [
    {
     "name": "stdout",
     "output_type": "stream",
     "text": [
      "AKNEL najnaR aygahbuos\n"
     ]
    }
   ],
   "source": [
    "def reverse_string(string):\n",
    "    if len(string)==0:\n",
    "        return string\n",
    "    else:\n",
    "        return reverse_string(string[1:])+string[0]\n",
    "string=\"soubhagya Ranjan LENKA\"\n",
    "print(reverse_string(string))\n",
    "        "
   ]
  },
  {
   "cell_type": "raw",
   "id": "7cf13112-81e0-4131-acfb-fac996fbc774",
   "metadata": {},
   "source": [
    "check palindrome recurssively"
   ]
  },
  {
   "cell_type": "code",
   "execution_count": 8,
   "id": "62fb1bfa-1dc3-4562-968a-821d48c823a5",
   "metadata": {},
   "outputs": [
    {
     "name": "stdout",
     "output_type": "stream",
     "text": [
      "it is palindrome\n"
     ]
    }
   ],
   "source": [
    "def check_palindrome(str):\n",
    "    if len(str)==0:\n",
    "        return str\n",
    "    else:\n",
    "        return check_palindrome(str[1:])+str[0]\n",
    "string=\"mam\"\n",
    "result=check_palindrome(string)\n",
    "if result==string:\n",
    "    print(\"it is palindrome\")\n",
    "else:\n",
    "    print(\"it is not palindrome\")"
   ]
  },
  {
   "cell_type": "raw",
   "id": "637a0099-0bb6-4726-a962-2d3ee28d5936",
   "metadata": {},
   "source": [
    "find the length of a string recurssively."
   ]
  },
  {
   "cell_type": "code",
   "execution_count": 15,
   "id": "6622173c-29c9-43b4-abeb-05c452beafdb",
   "metadata": {},
   "outputs": [
    {
     "name": "stdout",
     "output_type": "stream",
     "text": [
      "8\n"
     ]
    }
   ],
   "source": [
    "def find_length(string):\n",
    "    if string ==\"\":\n",
    "        return 0 \n",
    "    else:\n",
    "        return 1+find_length(string[1:])\n",
    "string=\"dkjnknvn\"\n",
    "print(find_length(string))"
   ]
  },
  {
   "cell_type": "raw",
   "id": "e837ecea-a806-4101-8899-2375d8b0bba1",
   "metadata": {},
   "source": [
    "find the occurence of a character recurssively"
   ]
  },
  {
   "cell_type": "code",
   "execution_count": 20,
   "id": "9b41c2ee-247a-44bf-9f83-01d24a37f40a",
   "metadata": {},
   "outputs": [
    {
     "name": "stdout",
     "output_type": "stream",
     "text": [
      "2\n"
     ]
    }
   ],
   "source": [
    "def find_occurence(string,char):\n",
    "    if string==\"\":\n",
    "        return 0\n",
    "    elif string[0]==char:\n",
    "        return 1+ find_occurence(string[1:],char)\n",
    "    else:\n",
    "        return find_occurence(string[1:],char)\n",
    "input_string=\"i am a data-science student\"\n",
    "char=\"i\"\n",
    "print(find_occurence(input_string,char))        "
   ]
  },
  {
   "cell_type": "raw",
   "id": "5af38103-6922-4078-813a-f3c0716d0f2d",
   "metadata": {},
   "source": [
    "replace a sub-string recurssively"
   ]
  },
  {
   "cell_type": "code",
   "execution_count": 27,
   "id": "173cc642-666b-4852-8e03-930f86c8e90c",
   "metadata": {},
   "outputs": [
    {
     "name": "stdout",
     "output_type": "stream",
     "text": [
      "hello how much are you\n"
     ]
    }
   ],
   "source": [
    "def replace_substring(string,old,new):\n",
    "    if string==\"\":\n",
    "        return string\n",
    "    elif string.startswith(old):\n",
    "        return new+replace_substring(string[len(old):],old,new)\n",
    "    else:\n",
    "        return string[0]+replace_substring(string[1:],old,new)\n",
    "string=\"hello how are you\"\n",
    "old=\"how\"\n",
    "new=\"how much\"\n",
    "print(replace_substring(string,old,new))"
   ]
  },
  {
   "cell_type": "code",
   "execution_count": 42,
   "id": "f3f87d2b-6e93-4939-8a63-b81fa02b64ab",
   "metadata": {},
   "outputs": [
    {
     "data": {
      "text/plain": [
       "2"
      ]
     },
     "execution_count": 42,
     "metadata": {},
     "output_type": "execute_result"
    }
   ],
   "source": []
  },
  {
   "cell_type": "raw",
   "id": "32281bf5-d0e7-4f88-82de-e7ea61d9d0e0",
   "metadata": {},
   "source": [
    "gnome sort"
   ]
  },
  {
   "cell_type": "code",
   "execution_count": 4,
   "id": "e8099f9f-9938-478a-af75-91f8496c8f26",
   "metadata": {},
   "outputs": [
    {
     "name": "stdout",
     "output_type": "stream",
     "text": [
      "[3, 12, 40, 56, 86, 95, 76, 59]\n"
     ]
    }
   ],
   "source": [
    "def gnome_sort(list):\n",
    "    index=0\n",
    "    for i in range(len(list)):\n",
    "        if index==0 or list[index]>=list[index-1]:\n",
    "            index+=1\n",
    "        else:\n",
    "            list[index-1],list[index]=list[index],list[index-1]\n",
    "            index-=1\n",
    "    return list\n",
    "list=[12,3,40,56,86,95,76,59]\n",
    "print(gnome_sort(list))\n",
    "        "
   ]
  },
  {
   "cell_type": "raw",
   "id": "63e137b3-9342-4260-9016-2946e8a7888d",
   "metadata": {},
   "source": [
    "write a programme to print adjacent numbers to the prime numbers."
   ]
  },
  {
   "cell_type": "code",
   "execution_count": 7,
   "id": "cf848020-53d9-4348-bb42-83a1cd71e040",
   "metadata": {},
   "outputs": [
    {
     "name": "stdin",
     "output_type": "stream",
     "text": [
      "enter any number: 4\n"
     ]
    },
    {
     "name": "stdout",
     "output_type": "stream",
     "text": [
      "False\n"
     ]
    }
   ],
   "source": [
    "def is_prime(num,count=0):\n",
    "    if num<2:\n",
    "        return False\n",
    "    for i in range(2,num):\n",
    "        if num%i==0:\n",
    "            return False\n",
    "    return True\n",
    "num=int(input(\"enter any number:\"))\n",
    "print(is_prime(num))"
   ]
  },
  {
   "cell_type": "raw",
   "id": "92cef6b8-97e2-4f21-ac18-f86375eb224f",
   "metadata": {},
   "source": [
    "adjacent prime "
   ]
  },
  {
   "cell_type": "code",
   "execution_count": 12,
   "id": "aa03a4a1-c44a-4f85-b585-64a4e4c2e4e1",
   "metadata": {},
   "outputs": [
    {
     "name": "stdout",
     "output_type": "stream",
     "text": [
      "[2, 4, 16, 17]\n"
     ]
    }
   ],
   "source": [
    "def is_prime(n):\n",
    "    if n<2:\n",
    "        return False\n",
    "    for i in range(2,n):\n",
    "        if n%i==0:\n",
    "            return False\n",
    "    return True\n",
    "def adj_prime(list):\n",
    "    adjacent_prime=set()\n",
    "    for i in range(len(list)):\n",
    "        if is_prime(list[i]):\n",
    "            if i>0:\n",
    "                adjacent_prime.add(list[i-1])\n",
    "            if i<len(list)-1:\n",
    "                adjacent_prime.add(list[i+1])\n",
    "            #adjacent_prime.add(list[i])\n",
    "    return sorted(adjacent_prime)\n",
    "list=[2, 17, 16, 0, 6, 4, 5]\n",
    "print(adj_prime(list))\n"
   ]
  },
  {
   "cell_type": "raw",
   "id": "2bd22dc8-4655-40c4-84bf-ee77b933f206",
   "metadata": {},
   "source": [
    "check palindrome in s=\"abccba\""
   ]
  },
  {
   "cell_type": "code",
   "execution_count": 16,
   "id": "73262d5d-9012-4190-af09-7d31ba89c559",
   "metadata": {},
   "outputs": [
    {
     "name": "stdout",
     "output_type": "stream",
     "text": [
      "a\n",
      "abccba\n",
      "b\n",
      "bccb\n",
      "c\n",
      "cc\n",
      "c\n",
      "b\n",
      "a\n",
      "None\n"
     ]
    }
   ],
   "source": [
    "def print_pallindrome(s):\n",
    "    for i  in range(len(s)):\n",
    "        for j in range(i+1,len(s)+1):\n",
    "            sub_string=s[i:j]\n",
    "            if sub_string==sub_string[::-1]:\n",
    "                print(sub_string)\n",
    "            \n",
    "s=\"abccba\"\n",
    "print(print_pallindrome(s))\n",
    "        \n",
    "        \n",
    "        "
   ]
  },
  {
   "cell_type": "raw",
   "id": "4f5571a6-d5c5-4c18-8c70-8ea3eb28e9fb",
   "metadata": {},
   "source": [
    "print even pallindrome numbers"
   ]
  },
  {
   "cell_type": "code",
   "execution_count": 23,
   "id": "a91911d5-4c4e-42c3-b9fc-2239b91d52a9",
   "metadata": {},
   "outputs": [
    {
     "name": "stdout",
     "output_type": "stream",
     "text": [
      "0\n",
      "2\n",
      "4\n",
      "6\n",
      "8\n",
      "22\n",
      "44\n",
      "66\n",
      "88\n",
      "202\n",
      "212\n",
      "222\n",
      "232\n",
      "242\n",
      "252\n",
      "262\n",
      "272\n",
      "282\n",
      "292\n",
      "404\n",
      "414\n",
      "424\n",
      "434\n",
      "444\n",
      "454\n",
      "464\n",
      "474\n",
      "484\n",
      "494\n",
      "606\n",
      "616\n",
      "626\n",
      "636\n",
      "646\n",
      "656\n",
      "666\n",
      "676\n",
      "686\n",
      "696\n",
      "808\n",
      "818\n",
      "828\n",
      "838\n",
      "848\n",
      "858\n",
      "868\n",
      "878\n",
      "888\n",
      "898\n",
      "None\n"
     ]
    }
   ],
   "source": [
    "def print_even_pallindrome(n):\n",
    "    for i in range(0,n+1):\n",
    "        if i%2==0:\n",
    "            if str(i)==str(i)[::-1]:\n",
    "                print(i)\n",
    "n=1000\n",
    "print(print_even_pallindrome(n))"
   ]
  },
  {
   "cell_type": "raw",
   "id": "9296673b-d241-48ad-87f1-fb9d2d134a3a",
   "metadata": {},
   "source": [
    "compress a given sequence s=\"aaaaabbbbbccccccc\""
   ]
  },
  {
   "cell_type": "code",
   "execution_count": 25,
   "id": "e2c9c181-7472-41ad-b5b2-131d4bc443ec",
   "metadata": {},
   "outputs": [
    {
     "name": "stdout",
     "output_type": "stream",
     "text": [
      "abc\n"
     ]
    }
   ],
   "source": [
    "def compress(s):\n",
    "    b=\"\"\n",
    "    for i in range(len(s)):\n",
    "        if s[i]!=s[i-1]:\n",
    "            b+=s[i]\n",
    "    return b\n",
    "s=\"aaaaabbbbbbcccc\"\n",
    "print(compress(s))"
   ]
  },
  {
   "cell_type": "raw",
   "id": "50c42338-ab4a-42e0-a209-9a3024f56108",
   "metadata": {},
   "source": [
    "get me a triplet which  sum is 0,Input: [[1343532, -2920635, 332], [-27, 18, 9], [4, 0, -4], [2, 2, 2], [-20, 16, 4]]"
   ]
  },
  {
   "cell_type": "code",
   "execution_count": 33,
   "id": "d010a22c-2791-4a4d-bace-cd57412c140a",
   "metadata": {},
   "outputs": [
    {
     "name": "stdout",
     "output_type": "stream",
     "text": [
      "[True, False, True, True, False, True]\n"
     ]
    }
   ],
   "source": [
    "def sum_triplet(list):\n",
    "    is_zero=False\n",
    "    list2=[]\n",
    "    for inner_list in list:\n",
    "        for i in range(len(inner_list)-2):\n",
    "            if inner_list[i]+inner_list[i+1]+inner_list[i+2]==0:\n",
    "                is_zero=True\n",
    "                list2.append(is_zero)\n",
    "            else:\n",
    "                is_zero=False\n",
    "                list2.append(is_zero)\n",
    "    return list2           \n",
    "list=[[2,-4,2],[1343532, -2920635, 332], [-27, 18, 9], [4, 0, -4], [2, 2, 2], [-20, 16, 4]]\n",
    "print(sum_triplet(list))\n",
    "            \n",
    "            "
   ]
  },
  {
   "cell_type": "code",
   "execution_count": 34,
   "id": "4bd60cb5-8334-4e3f-8f23-c87adc918c23",
   "metadata": {},
   "outputs": [
    {
     "name": "stdout",
     "output_type": "stream",
     "text": [
      "one two three four five six seven eight nine\n"
     ]
    }
   ],
   "source": [
    "def sort_string(s):\n",
    "    a = s.split(\" \")\n",
    "    mapping = {\n",
    "        \"one\": 1,\n",
    "        \"two\": 2,\n",
    "        \"three\": 3,\n",
    "        \"four\": 4,\n",
    "        \"five\": 5,\n",
    "        \"six\": 6,\n",
    "        \"seven\": 7,\n",
    "        \"eight\": 8,\n",
    "        \"nine\": 9\n",
    "    }\n",
    "    \n",
    "    # Create a list of tuples (word, value)\n",
    "    tuples_list = [(word, mapping[word]) for word in a if word in mapping]\n",
    "    \n",
    "    # Sort the list of tuples by the value\n",
    "    sorted_tuples = sorted(tuples_list, key=lambda item: item[1])\n",
    "    \n",
    "    # Extract the sorted words\n",
    "    sorted_words = [word for word, value in sorted_tuples]\n",
    "    \n",
    "    # Join the sorted words into a string\n",
    "    sorted_string = \" \".join(sorted_words)\n",
    "    \n",
    "    return sorted_string\n",
    "\n",
    "s = \"nine eight seven six five four three two one\"\n",
    "print(sort_string(s))\n"
   ]
  },
  {
   "cell_type": "raw",
   "id": "963bfd49-3579-44bd-a354-1c6529f4da3f",
   "metadata": {},
   "source": [
    "Q4. Write a Python program to change the position of every n-th value to the (n+1)th in a list.\n",
    "Sample list: [0,1,2,3,4,5]\n",
    "Expected Output: [1, 0, 3, 2, 5, 4] would be truncated to -2."
   ]
  },
  {
   "cell_type": "code",
   "execution_count": 8,
   "id": "c2f930f4-40f4-48d1-af40-14f737311c3f",
   "metadata": {},
   "outputs": [
    {
     "name": "stdout",
     "output_type": "stream",
     "text": [
      "[1, 0, 3, 2, 5, 4]\n"
     ]
    }
   ],
   "source": [
    "def change_position(list):\n",
    "    list2=[]\n",
    "    for i in range(len(list)):\n",
    "        for j in range(0,len(list),2):\n",
    "            if list[i]==list[j]:\n",
    "                list2.append(list[i+1])\n",
    "                list2.append(list[i])\n",
    "    return list2\n",
    "list=[0,1,2,3,4,5]\n",
    "print(change_position(list))\n",
    "        "
   ]
  },
  {
   "cell_type": "raw",
   "id": "5cadf86c-1982-4726-ab72-574d45157fac",
   "metadata": {},
   "source": [
    "Q5. Write a Python program to compute the product of the odd digits in a given number, or 0 if there aren't any.\n",
    "Input: 123456789\n",
    "Output:\n",
    "945\n",
    "Input: 2468\n",
    "Output:\n",
    "0\n",
    "Input: 13579\n",
    "Output:\n",
    "945"
   ]
  },
  {
   "cell_type": "code",
   "execution_count": 2,
   "id": "1ce68956-5f92-483e-9ed4-9384b6eb8d09",
   "metadata": {},
   "outputs": [
    {
     "name": "stdout",
     "output_type": "stream",
     "text": [
      "945\n"
     ]
    }
   ],
   "source": [
    "def calc_product(num):\n",
    "    product=1\n",
    "    while num>0:\n",
    "        digit=num%10\n",
    "        num=num//10\n",
    "        if digit%2!=0:\n",
    "            product*=digit\n",
    "    return product\n",
    "num=123456789\n",
    "print(calc_product(num))"
   ]
  },
  {
   "cell_type": "raw",
   "id": "e3e6bd4e-5552-4d6a-b5cf-da9c9011f4d5",
   "metadata": {},
   "source": [
    "Q6. Write a Python program to find the largest integer divisor of a number n that is less than n.\n",
    "Input: 18\n",
    "Output:\n",
    "9"
   ]
  },
  {
   "cell_type": "code",
   "execution_count": 7,
   "id": "3a030907-0c4e-44d5-be41-bfbc43418758",
   "metadata": {},
   "outputs": [
    {
     "name": "stdin",
     "output_type": "stream",
     "text": [
      "enter any number: 125\n"
     ]
    },
    {
     "name": "stdout",
     "output_type": "stream",
     "text": [
      "25\n"
     ]
    }
   ],
   "source": [
    "def largest_divisor(n):\n",
    "    for i in range(n//2,0,-1):\n",
    "        if n%i==0:\n",
    "            return i\n",
    "            break\n",
    "n=int(input(\"enter any number:\"))\n",
    "print(largest_divisor(n))"
   ]
  },
  {
   "cell_type": "code",
   "execution_count": 8,
   "id": "deffa760-9f47-4704-a665-e57491722f03",
   "metadata": {},
   "outputs": [
    {
     "name": "stdout",
     "output_type": "stream",
     "text": [
      "2\n"
     ]
    }
   ],
   "source": [
    "#beauty of string :difference between the chr occur max time and character occur least time.\n",
    "s=\"aabacc\"\n",
    "dict={}\n",
    "for i in s:\n",
    "    if i in dict:\n",
    "        dict[i]+=1\n",
    "    else:\n",
    "        dict[i]=1\n",
    "for key,value in dict.items():\n",
    "    result=max(dict.values())-min(dict.values())\n",
    "print(result)"
   ]
  },
  {
   "cell_type": "code",
   "execution_count": 16,
   "id": "62335fe6-88a6-47fc-9a18-f5953118f917",
   "metadata": {},
   "outputs": [
    {
     "name": "stdout",
     "output_type": "stream",
     "text": [
      "baba\n",
      "bbabab\n",
      "aba\n",
      "aab\n",
      "ab\n",
      "bba\n",
      "aa\n",
      "bab\n",
      "abab\n",
      "bbab\n",
      "bb\n",
      "aabb\n",
      "babab\n",
      "abb\n",
      "bbaba\n",
      "a\n",
      "ba\n",
      "b\n"
     ]
    }
   ],
   "source": [
    "s1=\"aabbabababb\"\n",
    "s2=\"aabbbbbabab\"\n",
    "res1=[]\n",
    "res2=[]\n",
    "for i in range(len(s1)):\n",
    "    for j in range(i+1,len(s1)+1):\n",
    "        res1.append(s1[i:j])\n",
    "for i in range(len(s2)):\n",
    "    for j in range(i+1,len(s2)+1):\n",
    "        res2.append(s2[i:j])\n",
    "common_string=set(res1).intersection(res2)\n",
    "for i in common_string:\n",
    "    print(i)\n",
    "\n"
   ]
  },
  {
   "cell_type": "code",
   "execution_count": 20,
   "id": "6635dc73-9c02-4659-a416-dbb9c7a00f4b",
   "metadata": {},
   "outputs": [
    {
     "name": "stdout",
     "output_type": "stream",
     "text": [
      "a\n",
      "a\n",
      "a\n",
      "a\n",
      "aa\n",
      "aab\n",
      "aabb\n",
      "a\n",
      "a\n",
      "a\n",
      "a\n",
      "ab\n",
      "ab\n",
      "ab\n",
      "abb\n",
      "b\n",
      "b\n",
      "b\n",
      "b\n",
      "b\n",
      "b\n",
      "b\n",
      "bb\n",
      "bb\n",
      "bb\n",
      "bb\n",
      "bba\n",
      "bbab\n",
      "bbaba\n",
      "bbabab\n",
      "b\n",
      "b\n",
      "b\n",
      "b\n",
      "b\n",
      "b\n",
      "b\n",
      "ba\n",
      "ba\n",
      "bab\n",
      "bab\n",
      "baba\n",
      "babab\n",
      "a\n",
      "a\n",
      "a\n",
      "a\n",
      "ab\n",
      "ab\n",
      "ab\n",
      "aba\n",
      "abab\n",
      "b\n",
      "b\n",
      "b\n",
      "b\n",
      "b\n",
      "b\n",
      "b\n",
      "ba\n",
      "ba\n",
      "bab\n",
      "bab\n",
      "baba\n",
      "babab\n",
      "a\n",
      "a\n",
      "a\n",
      "a\n",
      "ab\n",
      "ab\n",
      "ab\n",
      "aba\n",
      "abab\n",
      "b\n",
      "b\n",
      "b\n",
      "b\n",
      "b\n",
      "b\n",
      "b\n",
      "ba\n",
      "ba\n",
      "bab\n",
      "bab\n",
      "a\n",
      "a\n",
      "a\n",
      "a\n",
      "ab\n",
      "ab\n",
      "ab\n",
      "abb\n",
      "b\n",
      "b\n",
      "b\n",
      "b\n",
      "b\n",
      "b\n",
      "b\n",
      "bb\n",
      "bb\n",
      "bb\n",
      "bb\n",
      "b\n",
      "b\n",
      "b\n",
      "b\n",
      "b\n",
      "b\n",
      "b\n"
     ]
    }
   ],
   "source": [
    "s1=\"aabbabababb\"\n",
    "s2=\"aabbbbbabab\"\n",
    "res1=[]\n",
    "res2=[]\n",
    "for i in range(len(s1)):\n",
    "    for j in range(i+1,len(s1)+1):\n",
    "        res1.append(s1[i:j])\n",
    "for i in range(len(s2)):\n",
    "    for j in range(i+1,len(s2)+1):\n",
    "        res2.append(s2[i:j])\n",
    "for i in res1:\n",
    "    for j in res2:\n",
    "        if i==j:\n",
    "            print(i)"
   ]
  },
  {
   "cell_type": "code",
   "execution_count": 2,
   "id": "2faa546d-64b0-423b-95e4-e7cfa85433b5",
   "metadata": {},
   "outputs": [
    {
     "name": "stdout",
     "output_type": "stream",
     "text": [
      "abc\n"
     ]
    }
   ],
   "source": [
    "string=\"aaaabbbbbccccc\"\n",
    "def compress(s):\n",
    "    if s==\"\":\n",
    "        return\n",
    "    current=s[0]\n",
    "    for i in range(1,len(s)):\n",
    "        if s[i]!=s[i-1]:\n",
    "            current+=s[i]\n",
    "    return current\n",
    "s=\"aaaabbbbbccccc\"\n",
    "print(compress(s))\n",
    "            "
   ]
  },
  {
   "cell_type": "code",
   "execution_count": null,
   "id": "9f155ead-c51e-45e9-b2d9-70964b960e3b",
   "metadata": {},
   "outputs": [],
   "source": [
    "s = \"maYUR\"\n",
    "b = \"\"\n",
    "for i in range(len(s)):\n",
    "    if 'A' <= s[i] <= 'Z':\n",
    "        b += chr(ord(s[i]) + ord('a') - ord('A'))\n",
    "    elif 'a' <= s[i] <= 'z':\n",
    "        b += chr(ord(s[i]) + ord('A') - ord('a'))\n",
    "print(b)\n"
   ]
  },
  {
   "cell_type": "code",
   "execution_count": 5,
   "id": "40b36b75-81c5-4d08-9e44-9406ce780f5e",
   "metadata": {},
   "outputs": [
    {
     "name": "stdout",
     "output_type": "stream",
     "text": [
      "soNU\n"
     ]
    }
   ],
   "source": [
    "s=\"SOnu\"\n",
    "a=\"\"\n",
    "for i in range(len(s)):\n",
    "    if \"A\"<=s[i]<=\"Z\":\n",
    "        a+=chr(ord(s[i])+ord(\"a\")-ord(\"A\"))\n",
    "    elif \"a\"<=s[i]<=\"z\":\n",
    "        a+=chr(ord(s[i])+ord(\"A\")-ord(\"a\"))\n",
    "print(a)"
   ]
  },
  {
   "cell_type": "code",
   "execution_count": 6,
   "id": "38f41a7f-b7df-4683-bd5e-183ca44afc38",
   "metadata": {},
   "outputs": [
    {
     "name": "stdin",
     "output_type": "stream",
     "text": [
      "enter a number 100\n"
     ]
    },
    {
     "name": "stdout",
     "output_type": "stream",
     "text": [
      "[2, 3, 5, 7, 11, 13, 17, 19, 23, 29, 31, 37, 41, 43, 47, 53, 59, 61, 67, 71, 73, 79, 83, 89, 97]\n"
     ]
    }
   ],
   "source": [
    "#sieve of eratothenes\n",
    "def sieve(num):\n",
    "    l=[]\n",
    "    for i in range(2,num):\n",
    "        l.append(i)\n",
    "    for i in l:\n",
    "        mult(l,i)\n",
    "    return l\n",
    "def mult(list,n):\n",
    "    for i in list:\n",
    "        if(i%n==0 and i!=n):\n",
    "            list.remove(i)\n",
    "    return list\n",
    "num=int(input(\"enter a number\"))\n",
    "print(sieve(num))"
   ]
  },
  {
   "cell_type": "code",
   "execution_count": 2,
   "id": "c2d250ee-fab1-44ee-b03c-73bc0c73938f",
   "metadata": {},
   "outputs": [
    {
     "name": "stdout",
     "output_type": "stream",
     "text": [
      "(2, 'ba')\n"
     ]
    }
   ],
   "source": [
    "def is_pallindrome(string):\n",
    "    for i in range(len(s)):\n",
    "        if s[i:]==s[i:][::-1]:\n",
    "            return len(s[:i]),s[:i][::-1]\n",
    "string=\"abc\"\n",
    "print(is_pallindrome(string))\n",
    "        "
   ]
  },
  {
   "cell_type": "code",
   "execution_count": 2,
   "id": "0615bc72-e231-48e6-97df-ac6f128693be",
   "metadata": {},
   "outputs": [
    {
     "name": "stdin",
     "output_type": "stream",
     "text": [
      "enter any number: 100\n"
     ]
    },
    {
     "name": "stdout",
     "output_type": "stream",
     "text": [
      "[2, 3, 5, 7, 11, 13, 17, 19, 23, 29, 31, 37, 41, 43, 47, 53, 59, 61, 67, 71, 73, 79, 83, 89, 97]\n"
     ]
    }
   ],
   "source": [
    "#sieve of eratothenes\n",
    "def sieve_eratothenes(num):\n",
    "    primes=[True]*num\n",
    "    primes[0]=primes[1]=False\n",
    "    for i in range(2,int(num**0.5)+1):\n",
    "        if primes[i]:\n",
    "            for j in range(i*i,num,i):\n",
    "                primes[j]=False\n",
    "    return [i for i in range(num) if primes[i]]\n",
    "num=int(input(\"enter any number:\"))\n",
    "print(sieve_eratothenes(num))\n",
    "                "
   ]
  },
  {
   "cell_type": "code",
   "execution_count": 3,
   "id": "f1aecc52-98be-428f-8cc4-11049585b4bc",
   "metadata": {},
   "outputs": [
    {
     "name": "stdout",
     "output_type": "stream",
     "text": [
      "[5, 9, 5]\n"
     ]
    }
   ],
   "source": [
    "str1 = \"52\"\n",
    "str2 = \"679\"\n",
    "str3 = \"4520\"\n",
    "str4 = \"4620\"\n",
    "\n",
    "list1 = [str1, str2, str3, str4]\n",
    "list2 = []\n",
    "\n",
    "for i in list1:\n",
    "    odd_digits = [int(j) for j in i if int(j) % 2 != 0]  # Filter odd digits\n",
    "    if odd_digits:  # Check if there are any odd digits\n",
    "        list2.append(max(odd_digits))  # Append the maximum odd digit\n",
    "\n",
    "print(list2)\n"
   ]
  },
  {
   "cell_type": "code",
   "execution_count": null,
   "id": "3532d19c-b71d-4c84-a0eb-4c8dfa32cbaa",
   "metadata": {},
   "outputs": [],
   "source": []
  }
 ],
 "metadata": {
  "kernelspec": {
   "display_name": "Python 3 (ipykernel)",
   "language": "python",
   "name": "python3"
  },
  "language_info": {
   "codemirror_mode": {
    "name": "ipython",
    "version": 3
   },
   "file_extension": ".py",
   "mimetype": "text/x-python",
   "name": "python",
   "nbconvert_exporter": "python",
   "pygments_lexer": "ipython3",
   "version": "3.13.0"
  }
 },
 "nbformat": 4,
 "nbformat_minor": 5
}
