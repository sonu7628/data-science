{
 "cells": [
  {
   "cell_type": "markdown",
   "id": "92259f5c-dbe1-4d1b-8155-5b1fd19e2d75",
   "metadata": {},
   "source": [
    "#### STRING"
   ]
  },
  {
   "cell_type": "raw",
   "id": "ee7200d1-5815-426e-bb5a-305e8e487573",
   "metadata": {},
   "source": [
    "-It is a sequence of character.\n",
    "syntax:-\n",
    "string_name=\"\"or''\n",
    "ASCII code:-\n",
    "Decimal codes for the characters.\n",
    "-strings are immutable.\n",
    "\n"
   ]
  },
  {
   "cell_type": "code",
   "execution_count": 2,
   "id": "0f9e7443-6392-4f75-bda4-0586f7db6d89",
   "metadata": {},
   "outputs": [
    {
     "data": {
      "text/plain": [
       "str"
      ]
     },
     "execution_count": 2,
     "metadata": {},
     "output_type": "execute_result"
    }
   ],
   "source": [
    "str1=\"sonu\"\n",
    "type(str1)"
   ]
  },
  {
   "cell_type": "code",
   "execution_count": 3,
   "id": "20df9088-fa12-444f-9956-b7571679db22",
   "metadata": {},
   "outputs": [
    {
     "data": {
      "text/plain": [
       "'s'"
      ]
     },
     "execution_count": 3,
     "metadata": {},
     "output_type": "execute_result"
    }
   ],
   "source": [
    "str1[0]"
   ]
  },
  {
   "cell_type": "code",
   "execution_count": 4,
   "id": "d3a3f3ff-2d0b-422d-8cf7-2dabeb1e278e",
   "metadata": {},
   "outputs": [
    {
     "name": "stdout",
     "output_type": "stream",
     "text": [
      "s\n",
      "o\n",
      "n\n",
      "u\n"
     ]
    }
   ],
   "source": [
    "for i in str1:\n",
    "    print(i)"
   ]
  },
  {
   "cell_type": "code",
   "execution_count": 1,
   "id": "ce2f8188-321b-4f3d-810f-0be4c852d576",
   "metadata": {},
   "outputs": [
    {
     "name": "stdout",
     "output_type": "stream",
     "text": [
      "found\n"
     ]
    }
   ],
   "source": [
    "s=\"aabaabaabbababa\"\n",
    "p=\"aabb\"\n",
    "for i in range(len(s)-len(p)+1):\n",
    "    match=True\n",
    "    for j in range(len(p)):\n",
    "        if s[i+j]!=p[j]:\n",
    "            match=False\n",
    "            break\n",
    "    if match:\n",
    "        print(\"found\")    "
   ]
  },
  {
   "cell_type": "code",
   "execution_count": 11,
   "id": "1d87a1e4-e0fb-492d-aaf3-f5730f9e0321",
   "metadata": {},
   "outputs": [
    {
     "name": "stdout",
     "output_type": "stream",
     "text": [
      "False\n"
     ]
    }
   ],
   "source": [
    "str1=\"hi how are you?\"\n",
    "str2=\"hi! how are you?\"\n",
    "print(str1==str2)"
   ]
  },
  {
   "cell_type": "code",
   "execution_count": 12,
   "id": "a9f02025-7adb-496d-81ab-b5c9a4799d29",
   "metadata": {},
   "outputs": [
    {
     "name": "stdout",
     "output_type": "stream",
     "text": [
      "True\n"
     ]
    }
   ],
   "source": [
    "print(\"hi\" in str1)"
   ]
  },
  {
   "cell_type": "code",
   "execution_count": 15,
   "id": "2bc8e00e-5a41-40d8-9e50-d65c968868cc",
   "metadata": {},
   "outputs": [],
   "source": [
    "#concatenate\n",
    "s1=\"good\"\n",
    "s2=\" night\"\n",
    "s=s1+s2"
   ]
  },
  {
   "cell_type": "code",
   "execution_count": 16,
   "id": "70fc277e-4150-4c6c-821b-28ddf39874af",
   "metadata": {},
   "outputs": [
    {
     "data": {
      "text/plain": [
       "'oo'"
      ]
     },
     "execution_count": 16,
     "metadata": {},
     "output_type": "execute_result"
    }
   ],
   "source": [
    "s[1:3]"
   ]
  },
  {
   "cell_type": "code",
   "execution_count": 19,
   "id": "8a77e32d-0d5a-419b-a2ed-c99db1c89524",
   "metadata": {},
   "outputs": [
    {
     "data": {
      "text/plain": [
       "'a a a b  a'"
      ]
     },
     "execution_count": 19,
     "metadata": {},
     "output_type": "execute_result"
    }
   ],
   "source": [
    "s.replace(\"ab\",\" \")"
   ]
  },
  {
   "cell_type": "code",
   "execution_count": 37,
   "id": "e8413bda-eaa0-4acc-8622-1b9ea2ca13c7",
   "metadata": {},
   "outputs": [
    {
     "data": {
      "text/plain": [
       "12"
      ]
     },
     "execution_count": 37,
     "metadata": {},
     "output_type": "execute_result"
    }
   ],
   "source": [
    "a=\"12GB\"\n",
    "a=a.replace(\"GB\",\"\")\n",
    "b=int(a)\n",
    "b"
   ]
  },
  {
   "cell_type": "code",
   "execution_count": 29,
   "id": "84b6b763-e566-451c-8822-505b9d53f88b",
   "metadata": {},
   "outputs": [
    {
     "name": "stdout",
     "output_type": "stream",
     "text": [
      "mayur\n"
     ]
    }
   ],
   "source": [
    "str1='MAYUR'\n",
    "print(str1.lower())"
   ]
  },
  {
   "cell_type": "code",
   "execution_count": 31,
   "id": "12679846-89e0-485a-8646-5b58d022bc31",
   "metadata": {},
   "outputs": [
    {
     "name": "stdout",
     "output_type": "stream",
     "text": [
      "string is palindrome\n"
     ]
    }
   ],
   "source": [
    "str=\"sos\"\n",
    "temp=str\n",
    "reverse=str[::-1]\n",
    "if temp==reverse:\n",
    "    print(\"string is palindrome\")\n",
    "else:\n",
    "    print(\"string is not palindrome\")"
   ]
  },
  {
   "cell_type": "code",
   "execution_count": 36,
   "id": "e24dd800-1430-4684-bb73-a6300c2943f7",
   "metadata": {},
   "outputs": [
    {
     "name": "stdout",
     "output_type": "stream",
     "text": [
      "t\n",
      "s\n",
      "o\n",
      "s\n"
     ]
    }
   ],
   "source": [
    "str=\"sost\"\n",
    "for i in range(-1,-len(str)-1,-1):\n",
    "    print(str[i])\n",
    "    \n",
    "    "
   ]
  },
  {
   "cell_type": "code",
   "execution_count": 11,
   "id": "0c2b8419-34bc-4b9c-a75a-90ca04b4cdca",
   "metadata": {},
   "outputs": [
    {
     "name": "stdout",
     "output_type": "stream",
     "text": [
      "{'g': 2, 'o': 2, 'l': 1, 'e': 1, '.': 1, 'c': 1, 'm': 1}\n"
     ]
    }
   ],
   "source": [
    "s=\"google.com\"\n",
    "count=1\n",
    "dict={}\n",
    "for i in s:\n",
    "    if i in dict:\n",
    "        dict[i]=count+1\n",
    "    else:\n",
    "        dict[i]=count\n",
    "print(dict)\n",
    "    \n",
    "    "
   ]
  },
  {
   "cell_type": "code",
   "execution_count": 33,
   "id": "4f5b84d0-e0fe-4fd1-8588-f81f0798e9fc",
   "metadata": {},
   "outputs": [
    {
     "name": "stdout",
     "output_type": "stream",
     "text": [
      "goom\n"
     ]
    }
   ],
   "source": [
    "\n",
    "s=\"google.com\"\n",
    "result=s[0:2]+s[-2::]\n",
    "print(result)"
   ]
  },
  {
   "cell_type": "code",
   "execution_count": 34,
   "id": "06d9710a-bd4b-4530-83d6-b8f0c4928a61",
   "metadata": {},
   "outputs": [
    {
     "name": "stdout",
     "output_type": "stream",
     "text": [
      "GOOGLE\n"
     ]
    }
   ],
   "source": [
    "string=\"google\"\n",
    "print(string.upper())"
   ]
  },
  {
   "cell_type": "code",
   "execution_count": 35,
   "id": "773470f9-9276-4567-aeb9-167e75c7e8b0",
   "metadata": {},
   "outputs": [
    {
     "name": "stdout",
     "output_type": "stream",
     "text": [
      "11\n"
     ]
    }
   ],
   "source": [
    "string=\"abbbababababaaab\"\n",
    "print(string.find(\"baaab\"))"
   ]
  },
  {
   "cell_type": "code",
   "execution_count": 40,
   "id": "182a51d1-985f-4b27-b8d5-64e97a7311a0",
   "metadata": {},
   "outputs": [
    {
     "name": "stdout",
     "output_type": "stream",
     "text": [
      "('', 'hello', ' world')\n"
     ]
    }
   ],
   "source": [
    "string=\"hello world\"\n",
    "print(string.partition(\"hello\"))"
   ]
  },
  {
   "cell_type": "code",
   "execution_count": 4,
   "id": "cfe93cc7-73c2-45a2-ac34-62c86571989e",
   "metadata": {},
   "outputs": [
    {
     "name": "stdout",
     "output_type": "stream",
     "text": [
      "3\n"
     ]
    }
   ],
   "source": [
    "#find the largest word in the string\n",
    "def largestword(list):\n",
    "    list.sort()\n",
    "    max_len=0\n",
    "    dict={}\n",
    "    for i in list:\n",
    "        if len(i)>max_len:\n",
    "            max_len=len(i)\n",
    "    for i in list:\n",
    "        dict[i]=max_len\n",
    "    return dict[i]\n",
    "list=[\"hi\",\"how\"]\n",
    "        \n",
    "print(largestword(list))\n",
    "    \n",
    "\n",
    "\n",
    "\n",
    "    \n"
   ]
  },
  {
   "cell_type": "code",
   "execution_count": 1,
   "id": "ff306486-be6a-41b9-a3ab-4f30c197a2c3",
   "metadata": {},
   "outputs": [
    {
     "name": "stdout",
     "output_type": "stream",
     "text": [
      "how\n"
     ]
    }
   ],
   "source": [
    "list=[\"hi\",\"how\"]\n",
    "dict={}\n",
    "max_val=0\n",
    "for i in list:\n",
    "    dict[i]=len(i)\n",
    "    if len(i)>max_val:\n",
    "        max_val=len(i)\n",
    "for key,value in dict.items():\n",
    "    if value==max_val:\n",
    "        print(key)\n",
    "            \n"
   ]
  },
  {
   "cell_type": "code",
   "execution_count": 59,
   "id": "e44192a6-ac02-48f3-b37f-162caa6b6ba7",
   "metadata": {},
   "outputs": [
    {
     "name": "stdout",
     "output_type": "stream",
     "text": [
      "['hello', 'how', 'are']\n"
     ]
    }
   ],
   "source": [
    "s=\"hello,how,are\"\n",
    "print(s.split(\",\"))"
   ]
  },
  {
   "cell_type": "raw",
   "id": "d3ebcd36-8b96-4800-a120-591ce86c72d0",
   "metadata": {},
   "source": [
    "swap 1st and last word."
   ]
  },
  {
   "cell_type": "code",
   "execution_count": 9,
   "id": "d3c964bc-8e39-406e-9e94-97d15dcb41aa",
   "metadata": {},
   "outputs": [
    {
     "name": "stdout",
     "output_type": "stream",
     "text": [
      "you are how\n"
     ]
    }
   ],
   "source": [
    "s=\"how are you\"\n",
    "a=s.split(\" \")\n",
    "a[0],a[len(a)-1]=a[len(a)-1],a[0]\n",
    "swaped_string=\" \".join(a)\n",
    "    \n",
    "print(swaped_string)\n",
    "    \n",
    "\n"
   ]
  },
  {
   "cell_type": "code",
   "execution_count": 65,
   "id": "b47d2e59-b22d-425a-9662-22be82045ef7",
   "metadata": {},
   "outputs": [
    {
     "name": "stdout",
     "output_type": "stream",
     "text": [
      "True\n"
     ]
    }
   ],
   "source": [
    "print(s.startswith(\"how\"))"
   ]
  },
  {
   "cell_type": "code",
   "execution_count": 67,
   "id": "cff381a6-3648-4dba-9ea5-b18054a7331d",
   "metadata": {},
   "outputs": [
    {
     "name": "stdout",
     "output_type": "stream",
     "text": [
      "True\n"
     ]
    }
   ],
   "source": [
    "string=\"2045840\"\n",
    "print(string.isnumeric())"
   ]
  },
  {
   "cell_type": "code",
   "execution_count": 68,
   "id": "ad036429-8328-415c-86a2-ad03f17a68d4",
   "metadata": {},
   "outputs": [
    {
     "name": "stdout",
     "output_type": "stream",
     "text": [
      "False\n"
     ]
    }
   ],
   "source": [
    "string=\"dhrurbinrc\"\n",
    "print(string.isnumeric())"
   ]
  },
  {
   "cell_type": "code",
   "execution_count": 70,
   "id": "bcf7e8f2-f911-45a3-9942-c901c098d04a",
   "metadata": {},
   "outputs": [
    {
     "name": "stdout",
     "output_type": "stream",
     "text": [
      "4\n"
     ]
    }
   ],
   "source": [
    "string=\"how are you\"\n",
    "print(string.index(\"are\"))"
   ]
  },
  {
   "cell_type": "code",
   "execution_count": 5,
   "id": "a1abaac1-b737-4a9b-9cfd-46390f454dc6",
   "metadata": {},
   "outputs": [
    {
     "name": "stdout",
     "output_type": "stream",
     "text": [
      "a\n",
      "ab\n",
      "abc\n",
      "abcd\n",
      "abcda\n",
      "abcdab\n",
      "abcdaba\n",
      "abcdabab\n",
      "abcdababa\n",
      "abcdababab\n",
      "b\n",
      "bc\n",
      "bcd\n",
      "bcda\n",
      "bcdab\n",
      "bcdaba\n",
      "bcdabab\n",
      "bcdababa\n",
      "bcdababab\n",
      "c\n",
      "cd\n",
      "cda\n",
      "cdab\n",
      "cdaba\n",
      "cdabab\n",
      "cdababa\n",
      "cdababab\n",
      "d\n",
      "da\n",
      "dab\n",
      "daba\n",
      "dabab\n",
      "dababa\n",
      "dababab\n",
      "a\n",
      "ab\n",
      "aba\n",
      "abab\n",
      "ababa\n",
      "ababab\n",
      "b\n",
      "ba\n",
      "bab\n",
      "baba\n",
      "babab\n",
      "a\n",
      "ab\n",
      "aba\n",
      "abab\n",
      "b\n",
      "ba\n",
      "bab\n",
      "a\n",
      "ab\n",
      "b\n"
     ]
    }
   ],
   "source": [
    "s=\"abcdababab\"\n",
    "for i in range(len(s)):\n",
    "    for j in range(i+1,len(s)+1):\n",
    "        print(s[i:j])"
   ]
  },
  {
   "cell_type": "code",
   "execution_count": 35,
   "id": "2b0d60e8-5cf8-4d29-bcf5-995009a8a30b",
   "metadata": {},
   "outputs": [
    {
     "name": "stdout",
     "output_type": "stream",
     "text": [
      "a\n",
      "abccba\n",
      "b\n",
      "bccb\n",
      "c\n",
      "cc\n",
      "c\n",
      "b\n",
      "a\n",
      "True\n"
     ]
    }
   ],
   "source": [
    "def ispallindrome(s):\n",
    "    return sub_string==sub_string[::-1]\n",
    "s=\"abccba\"    \n",
    "for i in range(len(s)):\n",
    "    for j in range(i+1,len(s)+1):\n",
    "        sub_string=s[i:j]\n",
    "        if ispallindrome(sub_string):\n",
    "            print(sub_string)\n",
    "print(ispallindrome(s))\n",
    "        "
   ]
  },
  {
   "cell_type": "code",
   "execution_count": 30,
   "id": "29c9db7c-4ffd-4769-8f87-6c3e1536a2ad",
   "metadata": {},
   "outputs": [
    {
     "name": "stdout",
     "output_type": "stream",
     "text": [
      "abc\n"
     ]
    }
   ],
   "source": [
    "\n",
    "def compress(s):\n",
    "    if not s:\n",
    "        return \"\"\n",
    "    current=s[0]\n",
    "    for i in range(1,len(s)):\n",
    "        if s[i]!=s[i-1]:\n",
    "            current+=s[i]\n",
    "    return current\n",
    "s=\"aaaabbbbccccc\"\n",
    "print(compress(s))\n",
    "        "
   ]
  },
  {
   "cell_type": "code",
   "execution_count": 43,
   "id": "60e1ba68-8aee-47a3-b62c-ea8dcede1127",
   "metadata": {},
   "outputs": [
    {
     "name": "stdout",
     "output_type": "stream",
     "text": [
      "{'a': 4, 'b': 5, 'c': 5}\n"
     ]
    }
   ],
   "source": [
    "def count_char(s):\n",
    "    dict={}\n",
    "    for i in s:\n",
    "        if i in dict:\n",
    "            dict[i]+=1\n",
    "        else:\n",
    "            dict[i]=1\n",
    "    return dict\n",
    "s=\"aaaabbbbbccccc\"\n",
    "print(count_char(s))\n",
    "        "
   ]
  },
  {
   "cell_type": "code",
   "execution_count": 30,
   "id": "0d66e282-b429-41df-9593-24f581681974",
   "metadata": {},
   "outputs": [
    {
     "name": "stdout",
     "output_type": "stream",
     "text": [
      "MAyur\n"
     ]
    }
   ],
   "source": [
    "s = \"maYUR\"\n",
    "b = \"\"\n",
    "for i in range(len(s)):\n",
    "    if 'A' <= s[i] <= 'Z':\n",
    "        b += chr(ord(s[i]) + ord('a') - ord('A'))\n",
    "    elif 'a' <= s[i] <= 'z':\n",
    "        b += chr(ord(s[i]) + ord('A') - ord('a'))\n",
    "print(b)\n"
   ]
  },
  {
   "cell_type": "code",
   "execution_count": 24,
   "id": "d7eb86ef-1fdc-4fbf-b101-b64e5df46c03",
   "metadata": {},
   "outputs": [
    {
     "name": "stdout",
     "output_type": "stream",
     "text": [
      "{'seven': 7, 'two': 2, 'three': 3, 'four': 4, 'five': 5}\n"
     ]
    }
   ],
   "source": [
    "s=\"seven two three four five \"\n",
    "a=s.split(\" \")\n",
    "mapping={\n",
    "\"seven\":7,\n",
    "\"two\":2,\n",
    "\"three\":3,\n",
    "\"four\":4,\n",
    "\"five\":5}\n",
    "dict={}\n",
    "for i in a:\n",
    "    if i in mapping:\n",
    "        dict[i]=mapping[i]\n",
    "print(dict)\n",
    "    \n",
    "    \n",
    "\n"
   ]
  },
  {
   "cell_type": "code",
   "execution_count": 58,
   "id": "e4994d97-14d0-42f7-b667-19cc9c49ad9f",
   "metadata": {},
   "outputs": [],
   "source": [
    "a='@@@@how@@@@'\n"
   ]
  },
  {
   "cell_type": "code",
   "execution_count": 60,
   "id": "713d2f29-3aa0-49d5-a530-9736836d3117",
   "metadata": {},
   "outputs": [
    {
     "data": {
      "text/plain": [
       "'how@@@@'"
      ]
     },
     "execution_count": 60,
     "metadata": {},
     "output_type": "execute_result"
    }
   ],
   "source": [
    "a.lstrip(\"@\")"
   ]
  },
  {
   "cell_type": "code",
   "execution_count": 61,
   "id": "c4612084-4aa2-47a3-8739-558b741f8d7d",
   "metadata": {},
   "outputs": [
    {
     "data": {
      "text/plain": [
       "'@@@@how'"
      ]
     },
     "execution_count": 61,
     "metadata": {},
     "output_type": "execute_result"
    }
   ],
   "source": [
    "a.rstrip(\"@\")"
   ]
  },
  {
   "cell_type": "code",
   "execution_count": 62,
   "id": "19d6b3c7-71d0-44a0-8572-6e71efc8ba9b",
   "metadata": {},
   "outputs": [
    {
     "data": {
      "text/plain": [
       "'how'"
      ]
     },
     "execution_count": 62,
     "metadata": {},
     "output_type": "execute_result"
    }
   ],
   "source": [
    "a.strip(\"@\")"
   ]
  },
  {
   "cell_type": "code",
   "execution_count": null,
   "id": "88f8864f-5e52-4588-9dd6-30df149d4673",
   "metadata": {},
   "outputs": [],
   "source": []
  }
 ],
 "metadata": {
  "kernelspec": {
   "display_name": "Python 3 (ipykernel)",
   "language": "python",
   "name": "python3"
  },
  "language_info": {
   "codemirror_mode": {
    "name": "ipython",
    "version": 3
   },
   "file_extension": ".py",
   "mimetype": "text/x-python",
   "name": "python",
   "nbconvert_exporter": "python",
   "pygments_lexer": "ipython3",
   "version": "3.13.0"
  }
 },
 "nbformat": 4,
 "nbformat_minor": 5
}
