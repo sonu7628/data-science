{
 "cells": [
  {
   "cell_type": "raw",
   "id": "86528d86-4173-42ee-94a3-4c40217734bf",
   "metadata": {},
   "source": [
    "while with else:\n",
    "while with else block\n",
    "syntax:\n",
    "while condition:\n",
    "    while body\n",
    "else:\n",
    "    else body\n",
    "the else block code executed while condition is false ,if the while condition is true it doesnt go to the else block.\n"
   ]
  },
  {
   "cell_type": "code",
   "execution_count": 1,
   "id": "421aced3-88b4-4bd2-b136-587e6727cfdb",
   "metadata": {},
   "outputs": [
    {
     "name": "stdout",
     "output_type": "stream",
     "text": [
      "1\n",
      "2\n",
      "3\n",
      "4\n",
      "5\n",
      "6\n",
      "7\n",
      "8\n",
      "9\n",
      "10\n",
      "stop here\n"
     ]
    }
   ],
   "source": [
    "i=1\n",
    "while i<=10:\n",
    "    print(i)\n",
    "    i+=1\n",
    "else:\n",
    "    print('stop here')"
   ]
  },
  {
   "cell_type": "code",
   "execution_count": null,
   "id": "e37fb97d-9acb-40eb-a26d-4a0361301037",
   "metadata": {},
   "outputs": [],
   "source": []
  },
  {
   "cell_type": "code",
   "execution_count": 2,
   "id": "0ac286b1-8643-4b1d-bf9f-650881510e69",
   "metadata": {},
   "outputs": [
    {
     "name": "stdout",
     "output_type": "stream",
     "text": [
      "2\n",
      "3\n",
      "4\n",
      "5\n",
      "1\n",
      "2\n",
      "3\n",
      "4\n",
      "5\n",
      "6\n",
      "7\n",
      "8\n",
      "9\n",
      "10\n"
     ]
    }
   ],
   "source": [
    "i=1\n",
    "j=2\n",
    "while i<=10:\n",
    "    while j<=5:\n",
    "        print(j)\n",
    "        j+=1\n",
    "    print(i)\n",
    "    i+=1"
   ]
  },
  {
   "cell_type": "code",
   "execution_count": 3,
   "id": "48a44940-e4f8-49fd-b38d-be7b1e01526b",
   "metadata": {},
   "outputs": [
    {
     "name": "stdout",
     "output_type": "stream",
     "text": [
      "2\n",
      "3\n",
      "4\n",
      "5\n",
      "1\n",
      "2\n",
      "3\n",
      "4\n",
      "5\n",
      "2\n",
      "2\n",
      "3\n",
      "4\n",
      "5\n",
      "3\n",
      "2\n",
      "3\n",
      "4\n",
      "5\n",
      "4\n",
      "2\n",
      "3\n",
      "4\n",
      "5\n",
      "5\n",
      "2\n",
      "3\n",
      "4\n",
      "5\n",
      "6\n",
      "2\n",
      "3\n",
      "4\n",
      "5\n",
      "7\n",
      "2\n",
      "3\n",
      "4\n",
      "5\n",
      "8\n",
      "2\n",
      "3\n",
      "4\n",
      "5\n",
      "9\n",
      "2\n",
      "3\n",
      "4\n",
      "5\n",
      "10\n"
     ]
    }
   ],
   "source": [
    "i=1\n",
    "while i<=10:\n",
    "    j=2\n",
    "    while j<=5:\n",
    "        print(j)\n",
    "        j+=1\n",
    "    print(i)\n",
    "    i+=1"
   ]
  },
  {
   "cell_type": "code",
   "execution_count": 4,
   "id": "e6e403fb-19ec-40cf-ad01-de23169807f7",
   "metadata": {},
   "outputs": [
    {
     "name": "stdout",
     "output_type": "stream",
     "text": [
      "2\n",
      "3\n",
      "4\n",
      "5\n",
      "3\n",
      "3\n",
      "4\n",
      "5\n",
      "4\n",
      "3\n",
      "4\n",
      "5\n",
      "5\n",
      "3\n",
      "4\n",
      "5\n",
      "6\n",
      "3\n",
      "4\n",
      "5\n",
      "7\n",
      "3\n",
      "4\n",
      "5\n",
      "1\n",
      "2\n",
      "3\n",
      "4\n",
      "5\n",
      "3\n",
      "3\n",
      "4\n",
      "5\n",
      "4\n",
      "3\n",
      "4\n",
      "5\n",
      "5\n",
      "3\n",
      "4\n",
      "5\n",
      "6\n",
      "3\n",
      "4\n",
      "5\n",
      "7\n",
      "3\n",
      "4\n",
      "5\n",
      "2\n",
      "2\n",
      "3\n",
      "4\n",
      "5\n",
      "3\n",
      "3\n",
      "4\n",
      "5\n",
      "4\n",
      "3\n",
      "4\n",
      "5\n",
      "5\n",
      "3\n",
      "4\n",
      "5\n",
      "6\n",
      "3\n",
      "4\n",
      "5\n",
      "7\n",
      "3\n",
      "4\n",
      "5\n",
      "3\n",
      "2\n",
      "3\n",
      "4\n",
      "5\n",
      "3\n",
      "3\n",
      "4\n",
      "5\n",
      "4\n",
      "3\n",
      "4\n",
      "5\n",
      "5\n",
      "3\n",
      "4\n",
      "5\n",
      "6\n",
      "3\n",
      "4\n",
      "5\n",
      "7\n",
      "3\n",
      "4\n",
      "5\n",
      "4\n",
      "2\n",
      "3\n",
      "4\n",
      "5\n",
      "3\n",
      "3\n",
      "4\n",
      "5\n",
      "4\n",
      "3\n",
      "4\n",
      "5\n",
      "5\n",
      "3\n",
      "4\n",
      "5\n",
      "6\n",
      "3\n",
      "4\n",
      "5\n",
      "7\n",
      "3\n",
      "4\n",
      "5\n",
      "5\n",
      "2\n",
      "3\n",
      "4\n",
      "5\n",
      "3\n",
      "3\n",
      "4\n",
      "5\n",
      "4\n",
      "3\n",
      "4\n",
      "5\n",
      "5\n",
      "3\n",
      "4\n",
      "5\n",
      "6\n",
      "3\n",
      "4\n",
      "5\n",
      "7\n",
      "3\n",
      "4\n",
      "5\n",
      "6\n",
      "2\n",
      "3\n",
      "4\n",
      "5\n",
      "3\n",
      "3\n",
      "4\n",
      "5\n",
      "4\n",
      "3\n",
      "4\n",
      "5\n",
      "5\n",
      "3\n",
      "4\n",
      "5\n",
      "6\n",
      "3\n",
      "4\n",
      "5\n",
      "7\n",
      "3\n",
      "4\n",
      "5\n",
      "7\n",
      "2\n",
      "3\n",
      "4\n",
      "5\n",
      "3\n",
      "3\n",
      "4\n",
      "5\n",
      "4\n",
      "3\n",
      "4\n",
      "5\n",
      "5\n",
      "3\n",
      "4\n",
      "5\n",
      "6\n",
      "3\n",
      "4\n",
      "5\n",
      "7\n",
      "3\n",
      "4\n",
      "5\n",
      "8\n",
      "2\n",
      "3\n",
      "4\n",
      "5\n",
      "3\n",
      "3\n",
      "4\n",
      "5\n",
      "4\n",
      "3\n",
      "4\n",
      "5\n",
      "5\n",
      "3\n",
      "4\n",
      "5\n",
      "6\n",
      "3\n",
      "4\n",
      "5\n",
      "7\n",
      "3\n",
      "4\n",
      "5\n",
      "9\n",
      "2\n",
      "3\n",
      "4\n",
      "5\n",
      "3\n",
      "3\n",
      "4\n",
      "5\n",
      "4\n",
      "3\n",
      "4\n",
      "5\n",
      "5\n",
      "3\n",
      "4\n",
      "5\n",
      "6\n",
      "3\n",
      "4\n",
      "5\n",
      "7\n",
      "3\n",
      "4\n",
      "5\n",
      "10\n"
     ]
    }
   ],
   "source": [
    "i=1\n",
    "while i<=10:\n",
    "    j=2\n",
    "    while j<=7:\n",
    "        print(j)\n",
    "        k=3\n",
    "        while k<=5:\n",
    "            print(k)\n",
    "            k+=1\n",
    "        j+=1\n",
    "    print(i)\n",
    "    i+=1"
   ]
  },
  {
   "cell_type": "raw",
   "id": "12e3fa69-f4f0-4824-af56-35167b1434a8",
   "metadata": {},
   "source": [
    "for loop:(iterative approach)\n",
    "it is used for iterating over the sequence \n",
    "iterate==traverse--visit the number in a sequence\n",
    "sequence :list,tuple,set,dictionary\n",
    "working of a for loop is same as while loop but the implementation is different.\n",
    "syntax:\n",
    "for element in sequence :\n",
    "    body of for\n",
    "element:iterator,who is going to iterate the sequence,\n",
    "so the working of while loop and for loop is same ,\n",
    "but the implentation is different.\n",
    "Number of comparision of while loop and for loop over the sequence.\n",
    "Range:\n",
    "print the value in specific range.\n",
    "syntax:\n",
    "range(start st.,end st.,step size)\n",
    "\n",
    "\n"
   ]
  },
  {
   "cell_type": "code",
   "execution_count": 5,
   "id": "ca81d3e9-0185-434f-bb10-807860518c97",
   "metadata": {},
   "outputs": [
    {
     "name": "stdout",
     "output_type": "stream",
     "text": [
      "1\n",
      "2\n",
      "3\n",
      "4\n",
      "5\n",
      "6\n",
      "7\n",
      "8\n",
      "9\n"
     ]
    }
   ],
   "source": [
    "for i in range(1,10,1):\n",
    "    print(i)"
   ]
  },
  {
   "cell_type": "code",
   "execution_count": 6,
   "id": "706ed7f0-7057-4af2-b75a-6ab839aff1e3",
   "metadata": {},
   "outputs": [
    {
     "name": "stdout",
     "output_type": "stream",
     "text": [
      "1\n",
      "3\n",
      "5\n",
      "7\n",
      "9\n"
     ]
    }
   ],
   "source": [
    "for i in range(1,10,2):\n",
    "    print(i)"
   ]
  },
  {
   "cell_type": "code",
   "execution_count": 7,
   "id": "34929c57-a39d-42da-b151-bcaa2131edf2",
   "metadata": {},
   "outputs": [
    {
     "name": "stdout",
     "output_type": "stream",
     "text": [
      "0\n",
      "1\n",
      "2\n",
      "3\n",
      "4\n",
      "5\n",
      "6\n",
      "7\n",
      "8\n",
      "9\n"
     ]
    }
   ],
   "source": [
    "for i in range (10):\n",
    "    print(i)"
   ]
  },
  {
   "cell_type": "raw",
   "id": "049a4166-8085-47d6-bedb-c7af5645b24c",
   "metadata": {},
   "source": [
    "End step is a mandatory step and you need to specify it.\n",
    "Otherwise the compiler will not understand where to stop."
   ]
  },
  {
   "cell_type": "code",
   "execution_count": null,
   "id": "c72e3efa-259f-4388-8fec-b4909fb084c5",
   "metadata": {},
   "outputs": [],
   "source": [
    "n=int(input(\"enter a num:\"))\n",
    "is_divisible=False\n",
    "for i in range(2,n):\n",
    "    if n%i==0:\n",
    "        is_divisible=True\n",
    "        break\n",
    "if is_divisible==False:\n",
    "    print(\"prime\")\n",
    "else:\n",
    "    print(\"not prime\")\n",
    "    "
   ]
  },
  {
   "cell_type": "raw",
   "id": "5e37d6e6-01dc-466a-8207-e2c993999064",
   "metadata": {},
   "source": [
    "break:\n",
    "it is unconditional statement,we dont need to specify the condition.\n",
    "\n"
   ]
  },
  {
   "cell_type": "code",
   "execution_count": null,
   "id": "909863da-ed2c-47bc-8277-8b614e7e4c3f",
   "metadata": {},
   "outputs": [],
   "source": [
    "i=2\n",
    "while i<=10:\n",
    "    if i==3:\n",
    "        break\n",
    "    else:\n",
    "        print(i)\n",
    "    i+=1"
   ]
  },
  {
   "cell_type": "raw",
   "id": "3e8ef14f-05ba-4527-90ab-4d5604203325",
   "metadata": {},
   "source": [
    "check the number is perfect or not\n",
    "check the number is amstrong or not."
   ]
  },
  {
   "cell_type": "raw",
   "id": "1b8a8ac8-1c92-42e1-b263-948f6f946242",
   "metadata": {},
   "source": [
    "Q1.print prime number from 1 - 100 ."
   ]
  },
  {
   "cell_type": "code",
   "execution_count": 6,
   "id": "c0aaa121-4b4a-4221-9cd7-0f8cc0f98cbd",
   "metadata": {},
   "outputs": [
    {
     "name": "stdout",
     "output_type": "stream",
     "text": [
      "2\n",
      "3\n",
      "5\n",
      "7\n",
      "11\n",
      "13\n",
      "17\n",
      "19\n",
      "23\n",
      "29\n",
      "31\n",
      "37\n",
      "41\n",
      "43\n",
      "47\n",
      "53\n",
      "59\n",
      "61\n",
      "67\n",
      "71\n",
      "73\n",
      "79\n",
      "83\n",
      "89\n",
      "97\n"
     ]
    }
   ],
   "source": [
    "for num in range(2,101):\n",
    "        is_prime=True\n",
    "        for i in range(2,num):\n",
    "            if num%i==0:\n",
    "                is_prime=False\n",
    "                break\n",
    "        if is_prime==True:\n",
    "            print(num)"
   ]
  },
  {
   "cell_type": "code",
   "execution_count": 11,
   "id": "0c95c72c-f06e-4ac5-91b6-8217551ce766",
   "metadata": {},
   "outputs": [
    {
     "name": "stdout",
     "output_type": "stream",
     "text": [
      "2\n",
      "3\n",
      "5\n",
      "7\n",
      "11\n",
      "13\n",
      "17\n",
      "19\n",
      "23\n",
      "29\n",
      "31\n",
      "37\n",
      "41\n",
      "43\n",
      "47\n",
      "53\n",
      "59\n",
      "61\n",
      "67\n",
      "71\n",
      "73\n",
      "79\n",
      "83\n",
      "89\n",
      "97\n"
     ]
    }
   ],
   "source": [
    "for i in range(2,101):\n",
    "    for j in range(2,i):\n",
    "        if i%j==0:\n",
    "            break\n",
    "    else:\n",
    "        print(i)\n",
    "    "
   ]
  },
  {
   "cell_type": "code",
   "execution_count": 1,
   "id": "16f1aa65-cda5-472f-9bfe-0d4a2543492f",
   "metadata": {},
   "outputs": [],
   "source": [
    "n=100\n",
    "i=2\n",
    "j=2\n",
    "while i<=n:\n",
    "    while j<=i:\n",
    "        if i%j==0:\n",
    "            break\n",
    "        j+=1\n",
    "    else:\n",
    "        print(i)\n",
    "    i+=1\n",
    "    "
   ]
  },
  {
   "cell_type": "raw",
   "id": "a5904000-00e8-4e23-8c27-7ae4345a2c24",
   "metadata": {},
   "source": [
    "Check the number is perfect or not."
   ]
  },
  {
   "cell_type": "code",
   "execution_count": 6,
   "id": "4385c118-7b3b-4a3e-923b-56a185eea6d2",
   "metadata": {},
   "outputs": [
    {
     "name": "stdin",
     "output_type": "stream",
     "text": [
      "enter any number: 6\n"
     ]
    },
    {
     "name": "stdout",
     "output_type": "stream",
     "text": [
      "number is perfect\n"
     ]
    }
   ],
   "source": [
    "n=int(input(\"enter any number:\"))\n",
    "sum=0\n",
    "for i in range(1,n):\n",
    "    if n%i==0:\n",
    "        sum+=i\n",
    "if sum==n:\n",
    "    print(\"number is perfect\")\n",
    "else:\n",
    "    print(\"number is not perfect\")\n",
    "      "
   ]
  },
  {
   "cell_type": "raw",
   "id": "1ec70618-74c5-4129-a4cc-255f10828850",
   "metadata": {},
   "source": [
    "check the number is amstrong or not."
   ]
  },
  {
   "cell_type": "code",
   "execution_count": 2,
   "id": "20dd950f-7588-4171-a6bf-f62a294fc3fe",
   "metadata": {},
   "outputs": [
    {
     "name": "stdin",
     "output_type": "stream",
     "text": [
      "enter any number: 9474\n"
     ]
    },
    {
     "name": "stdout",
     "output_type": "stream",
     "text": [
      "number is amstrong\n"
     ]
    }
   ],
   "source": [
    "num=int(input(\"enter any number:\"))\n",
    "sum=0\n",
    "temp=num\n",
    "order=len(str(num))\n",
    "while temp>0:\n",
    "    digit=temp%10\n",
    "    x=digit**order\n",
    "    sum=sum+x\n",
    "    temp//=10\n",
    "    \n",
    "if sum==num:\n",
    "    print(\"number is amstrong\")\n",
    "else:\n",
    "    print(\"number is not amstrong\")\n",
    "          "
   ]
  },
  {
   "cell_type": "code",
   "execution_count": 4,
   "id": "7cb3ba6e-9b7a-4fba-970f-6736e411dc58",
   "metadata": {},
   "outputs": [
    {
     "name": "stdin",
     "output_type": "stream",
     "text": [
      "enter any number: 50\n",
      "enter any number: 200\n"
     ]
    },
    {
     "name": "stdout",
     "output_type": "stream",
     "text": [
      "53\n",
      "59\n",
      "61\n",
      "67\n",
      "71\n",
      "73\n",
      "79\n",
      "83\n",
      "89\n",
      "97\n",
      "101\n",
      "103\n",
      "107\n",
      "109\n",
      "113\n",
      "127\n",
      "131\n",
      "137\n",
      "139\n",
      "149\n",
      "151\n",
      "157\n",
      "163\n",
      "167\n",
      "173\n",
      "179\n",
      "181\n",
      "191\n",
      "193\n",
      "197\n",
      "199\n"
     ]
    }
   ],
   "source": [
    "lower=int(input(\"enter any number:\"))\n",
    "upper=int(input(\"enter any number:\"))\n",
    "for num in range(lower,upper):\n",
    "    if num>1:\n",
    "        for i in range(2,num):\n",
    "            if num%i==0:\n",
    "                break\n",
    "        else:\n",
    "            print(num)"
   ]
  },
  {
   "cell_type": "raw",
   "id": "c95908a5-4a3f-4608-a724-e4bc29f252f6",
   "metadata": {},
   "source": [
    "continue:\n",
    "unconditional statement so we dont require to specify any condition .once the continue is encounter the cursor goes automatically towards the first statement in the scope.(pythogoras)"
   ]
  },
  {
   "cell_type": "code",
   "execution_count": 1,
   "id": "acb4d051-1b69-43d2-a068-d55d18c826c3",
   "metadata": {},
   "outputs": [
    {
     "name": "stdout",
     "output_type": "stream",
     "text": [
      "1\n",
      "3\n",
      "5\n",
      "7\n",
      "9\n",
      "else block\n"
     ]
    }
   ],
   "source": [
    "for i in range(10):\n",
    "    if i%2==0:\n",
    "        continue\n",
    "    print(i)\n",
    "else:\n",
    "    print(\"else block\")"
   ]
  },
  {
   "cell_type": "code",
   "execution_count": 1,
   "id": "48a41fd6-c6cb-4f5a-859c-01b1e45739fd",
   "metadata": {},
   "outputs": [
    {
     "name": "stdin",
     "output_type": "stream",
     "text": [
      "enter a num: 5\n"
     ]
    },
    {
     "name": "stdout",
     "output_type": "stream",
     "text": [
      "factorial of : 120\n"
     ]
    }
   ],
   "source": [
    "n=int(input(\"enter a num:\"))\n",
    "i=1\n",
    "factorial=1\n",
    "while i<=n:\n",
    "    factorial*=i\n",
    "    i+=1\n",
    "print(\"factorial of :\",factorial)\n",
    "    "
   ]
  },
  {
   "cell_type": "markdown",
   "id": "f2dec5b4-c2df-4c7f-ace2-6a079b950970",
   "metadata": {},
   "source": [
    "# n=int(input(\"enter a num:\"))\n",
    "factorial=1\n",
    "for i in range (1,n+1):\n",
    "    factorial*=i\n",
    "print(\"factorial of :\",factorial)"
   ]
  },
  {
   "cell_type": "code",
   "execution_count": 15,
   "id": "619aea8e-983c-4c5d-b75d-16da26a00e00",
   "metadata": {},
   "outputs": [
    {
     "name": "stdout",
     "output_type": "stream",
     "text": [
      "1\n",
      "2\n",
      "4\n",
      "5\n",
      "7\n",
      "8\n",
      "9\n",
      "10\n"
     ]
    }
   ],
   "source": [
    "for i in range(1,11):\n",
    "    if i==3 or i==6:\n",
    "        continue\n",
    "    print(i)        "
   ]
  },
  {
   "cell_type": "markdown",
   "id": "330243aa-8902-4c5b-b732-2d6e6006f802",
   "metadata": {},
   "source": [
    "# FUNCTIONS"
   ]
  },
  {
   "cell_type": "raw",
   "id": "b542a3cc-366c-4ce7-b66d-97f9b5b89607",
   "metadata": {},
   "source": [
    "function is a self content block to solve a particular problem.Through function we are achieving the modularity.\n",
    "function divides larger programme into small small module.Functions supports the reusability,Once we define the\n",
    "function we can use the function any number of times.\n",
    "3 types:\n",
    "1.proto type declaration \n",
    "2.function definition\n",
    "3.function calling\n",
    "syntax:\n",
    "definition;\n",
    "def function_name(parameters):\n",
    "    function body\n",
    "\n",
    "function calling;\n",
    "function_name(argument)\n",
    "#function may or may not return the value of expression.\n",
    "All the user define function is called by the main function \n",
    "The main function called by the os.\n",
    "-for returning the value or expression from a function we required \n",
    "to use return statement.\n",
    "return[value/expression]\n",
    "-Most of the time in case of expression only function will return.\n",
    "-Whenever we are writing a code using function then define it first.\n"
   ]
  },
  {
   "cell_type": "code",
   "execution_count": 16,
   "id": "63c3f142-c4e3-4b4d-a549-a878fe055943",
   "metadata": {},
   "outputs": [
    {
     "name": "stdout",
     "output_type": "stream",
     "text": [
      "hello how are you?\n"
     ]
    }
   ],
   "source": [
    "def my_function():\n",
    "    print(\"hello how are you?\")\n",
    "my_function()"
   ]
  },
  {
   "cell_type": "code",
   "execution_count": 17,
   "id": "1e509c6e-cfe9-4a98-b6f0-92384e89fb31",
   "metadata": {},
   "outputs": [
    {
     "name": "stdout",
     "output_type": "stream",
     "text": [
      "11\n"
     ]
    }
   ],
   "source": [
    "def addition(a,b):\n",
    "    sum=a+b\n",
    "    print(sum)\n",
    "addition(5,6)"
   ]
  },
  {
   "cell_type": "code",
   "execution_count": 18,
   "id": "66ba371a-47b9-4f47-b12e-b5dd7aabc097",
   "metadata": {},
   "outputs": [
    {
     "data": {
      "text/plain": [
       "11"
      ]
     },
     "execution_count": 18,
     "metadata": {},
     "output_type": "execute_result"
    }
   ],
   "source": [
    "def addition(a,b):\n",
    "    sum=a+b\n",
    "    return sum\n",
    "addition(5,6)"
   ]
  },
  {
   "cell_type": "code",
   "execution_count": 19,
   "id": "b8742fca-132f-42b7-86d3-dcf8166e71bd",
   "metadata": {},
   "outputs": [
    {
     "data": {
      "text/plain": [
       "30"
      ]
     },
     "execution_count": 19,
     "metadata": {},
     "output_type": "execute_result"
    }
   ],
   "source": [
    "def multi(a,b):\n",
    "    multiplication=a*b\n",
    "    return multiplication\n",
    "multi(5,6)"
   ]
  },
  {
   "cell_type": "code",
   "execution_count": 22,
   "id": "5a31f0c8-548d-45e7-9fe2-d08193d2d401",
   "metadata": {},
   "outputs": [
    {
     "data": {
      "text/plain": [
       "5.0"
      ]
     },
     "execution_count": 22,
     "metadata": {},
     "output_type": "execute_result"
    }
   ],
   "source": [
    "def division(a,b):\n",
    "    div=a/b\n",
    "    return div\n",
    "division(30,6)"
   ]
  },
  {
   "cell_type": "code",
   "execution_count": 31,
   "id": "894a8e8e-d135-425f-95db-f07e7e660daa",
   "metadata": {},
   "outputs": [
    {
     "data": {
      "text/plain": [
       "93326215443944152681699238856266700490715968264381621468592963895217599993229915608941463976156518286253697920827223758251185210916864000000000000000000000000"
      ]
     },
     "execution_count": 31,
     "metadata": {},
     "output_type": "execute_result"
    }
   ],
   "source": [
    "def factorial(n):\n",
    "    fact=1\n",
    "    for i in range(1,n+1):\n",
    "         fact*=i\n",
    "    return fact\n",
    "factorial(100)        "
   ]
  },
  {
   "cell_type": "code",
   "execution_count": 33,
   "id": "b44a99cb-9ea9-47a5-ab45-c0ca38006098",
   "metadata": {},
   "outputs": [
    {
     "data": {
      "text/plain": [
       "5050"
      ]
     },
     "execution_count": 33,
     "metadata": {},
     "output_type": "execute_result"
    }
   ],
   "source": [
    "def sum_num(n):\n",
    "    sum=0\n",
    "    for i in range(n+1):\n",
    "        sum+=i\n",
    "    return sum\n",
    "sum_num(100)"
   ]
  },
  {
   "cell_type": "code",
   "execution_count": 2,
   "id": "c2d31a21-35a5-4f63-9e73-597a96039485",
   "metadata": {},
   "outputs": [
    {
     "name": "stdout",
     "output_type": "stream",
     "text": [
      "90 is maximum\n"
     ]
    }
   ],
   "source": [
    "def max(n1,n2,n3):\n",
    "    if n1>=n2 and n1>=n3:\n",
    "        print(n1,\"is maximum\")\n",
    "    elif n2>=n1 and n2>=n3:\n",
    "        print(n2,\"is maximum\")\n",
    "    else:\n",
    "        print(n3,\"is max\")\n",
    "max(90,76,89)\n"
   ]
  },
  {
   "cell_type": "code",
   "execution_count": 59,
   "id": "942c8e4d-20c3-426a-ba9a-1ad7c15ad370",
   "metadata": {},
   "outputs": [
    {
     "name": "stdout",
     "output_type": "stream",
     "text": [
      "number is not prime\n"
     ]
    }
   ],
   "source": [
    "def prime(n):\n",
    "    is_divisible=False\n",
    "    for i in range(2,n):\n",
    "        if n%i==0:\n",
    "            is_divisible=True\n",
    "            break\n",
    "        return is_divisible\n",
    "if prime(24)==False:\n",
    "    print(\"number is prime\")\n",
    "else:\n",
    "    print(\"number is not prime\")"
   ]
  },
  {
   "cell_type": "code",
   "execution_count": 2,
   "id": "64968c8a-4755-4424-9829-632fecd5bde6",
   "metadata": {},
   "outputs": [
    {
     "name": "stdin",
     "output_type": "stream",
     "text": [
      "Enter a number: 100\n"
     ]
    },
    {
     "data": {
      "text/plain": [
       "0"
      ]
     },
     "execution_count": 2,
     "metadata": {},
     "output_type": "execute_result"
    }
   ],
   "source": [
    "n=int(input(\"Enter a number:\"))\n",
    "def diff():\n",
    "    a=0\n",
    "    b=0\n",
    "    for i in range(1,n+1):\n",
    "        if i%2==0:\n",
    "            a+=1\n",
    "        if i%2 !=0:\n",
    "            b+=1\n",
    "    difference=a-b\n",
    "    return difference\n",
    "diff()\n"
   ]
  },
  {
   "cell_type": "markdown",
   "id": "01ac4e7d-ac8f-4504-ac4f-383a6470f205",
   "metadata": {},
   "source": [
    "# Recurssion"
   ]
  },
  {
   "cell_type": "raw",
   "id": "477d71a3-2c4d-4b8c-9e45-f9b40bac79cc",
   "metadata": {},
   "source": [
    "-Approach towards the problem solving.\n",
    "When we get a repetative approach we have to use iterate and recursive.\n",
    "-There are two steps.\n",
    "1.Anchor STEP/stop step\n",
    "-Termination condition\n",
    "-where exactly function calling gets stop.\n",
    "2.Recursive step\n",
    "-which statements we wants to execute repeatedly.\n",
    "-Whenever we are writing the recursive code stack will be created in the stack segment implicitly.\n",
    "\n",
    "-stack= It is a linear /generic DS.\n",
    "standard operation of stack:\n",
    "1.push:insert the element from the stack\n",
    "In Recurssion:\n",
    "push:\n",
    "we are pushing all the recurssive function.\n",
    "pop:\n",
    "whenever the recurssive fc execution done and it is started returning the value it will get poped.\n",
    "Recursive programme execution will be done in two phases.\n",
    "1.whinding phase:\n",
    "pushing in function\n",
    "2.unwinding:\n",
    "returning the value\n",
    "elements are stored inside the stack in the form of activation record.\n",
    "-Whenever we are not specifying the anchor step it may leads to stack overflow and segmentation error.\n",
    "it is mandatory to write the anchor step.\n"
   ]
  },
  {
   "cell_type": "code",
   "execution_count": 13,
   "id": "2934e9be-32e9-48e4-85ab-aab39c4acb77",
   "metadata": {},
   "outputs": [
    {
     "name": "stdin",
     "output_type": "stream",
     "text": [
      "enter a number 6\n",
      "enter 2nd number 4\n"
     ]
    },
    {
     "name": "stdout",
     "output_type": "stream",
     "text": [
      "24\n"
     ]
    }
   ],
   "source": [
    "def multi(n,i):\n",
    "    if i==0:\n",
    "        return 0\n",
    "    else:\n",
    "        return n+ multi(n,(i-1))\n",
    "        \n",
    "n=int(input(\"enter a number\"))\n",
    "i=int(input(\"enter 2nd number\"))\n",
    "print(multi(n,i))\n"
   ]
  },
  {
   "cell_type": "code",
   "execution_count": null,
   "id": "88a1f40d-3c12-4046-ae53-9cfc57d9e471",
   "metadata": {},
   "outputs": [],
   "source": []
  },
  {
   "cell_type": "code",
   "execution_count": 38,
   "id": "fab5c4a9-1c42-4c4e-b682-46096c17f3cb",
   "metadata": {},
   "outputs": [
    {
     "name": "stdin",
     "output_type": "stream",
     "text": [
      "enter a number 30\n",
      "enter 2nd number 3\n"
     ]
    },
    {
     "data": {
      "text/plain": [
       "10"
      ]
     },
     "execution_count": 38,
     "metadata": {},
     "output_type": "execute_result"
    }
   ],
   "source": [
    "def div(a,b):\n",
    "    if a<b:\n",
    "        return 0\n",
    "    else:\n",
    "        return 1+div(a-b,b)\n",
    "a=int(input(\"enter a number\"))\n",
    "b=int(input(\"enter 2nd number\"))\n",
    "div(a,b)"
   ]
  },
  {
   "cell_type": "code",
   "execution_count": 41,
   "id": "8c857c13-33fa-463e-afc8-33d3e5b61e1f",
   "metadata": {},
   "outputs": [
    {
     "data": {
      "text/plain": [
       "120"
      ]
     },
     "execution_count": 41,
     "metadata": {},
     "output_type": "execute_result"
    }
   ],
   "source": [
    "def sum(n):\n",
    "    if n==0:\n",
    "        return 0\n",
    "    else:\n",
    "        return n+sum(n-1)\n",
    "sum(15)"
   ]
  },
  {
   "cell_type": "code",
   "execution_count": 26,
   "id": "465a3681-5b4a-4130-8fc5-235be8859e61",
   "metadata": {},
   "outputs": [
    {
     "name": "stdout",
     "output_type": "stream",
     "text": [
      "50\n",
      "49\n",
      "48\n",
      "47\n",
      "46\n",
      "45\n",
      "44\n",
      "43\n",
      "42\n",
      "41\n",
      "40\n",
      "39\n",
      "38\n",
      "37\n",
      "36\n",
      "35\n",
      "34\n",
      "33\n",
      "32\n",
      "31\n",
      "30\n",
      "29\n",
      "28\n",
      "27\n",
      "26\n",
      "25\n",
      "24\n",
      "23\n",
      "22\n",
      "21\n",
      "20\n",
      "19\n",
      "18\n",
      "17\n",
      "16\n",
      "15\n",
      "14\n",
      "13\n",
      "12\n",
      "11\n",
      "10\n",
      "9\n",
      "8\n",
      "7\n",
      "6\n",
      "5\n",
      "4\n",
      "3\n",
      "2\n",
      "1\n",
      "None\n"
     ]
    }
   ],
   "source": [
    "\n",
    "def print_num(n):\n",
    "    if n==0:\n",
    "        return\n",
    "    else:\n",
    "        print(n)\n",
    "        print_num(n-1)\n",
    "        \n",
    "print(print_num(50))\n",
    "        "
   ]
  },
  {
   "cell_type": "code",
   "execution_count": 27,
   "id": "62ba83d3-e078-4cc3-a2d6-da7a0416a1c9",
   "metadata": {},
   "outputs": [
    {
     "name": "stdout",
     "output_type": "stream",
     "text": [
      "1\n",
      "2\n",
      "3\n",
      "4\n",
      "5\n",
      "6\n",
      "7\n",
      "8\n",
      "9\n",
      "10\n",
      "11\n",
      "12\n",
      "13\n",
      "14\n",
      "15\n",
      "16\n",
      "17\n",
      "18\n",
      "19\n",
      "20\n",
      "21\n",
      "22\n",
      "23\n",
      "24\n",
      "25\n",
      "26\n",
      "27\n",
      "28\n",
      "29\n",
      "30\n",
      "31\n",
      "32\n",
      "33\n",
      "34\n",
      "35\n",
      "36\n",
      "37\n",
      "38\n",
      "39\n",
      "40\n",
      "41\n",
      "42\n",
      "43\n",
      "44\n",
      "45\n",
      "46\n",
      "47\n",
      "48\n",
      "49\n",
      "50\n",
      "None\n"
     ]
    }
   ],
   "source": [
    "\n",
    "def print_num(n,i=1):\n",
    "    if n==0:\n",
    "        return\n",
    "    else:\n",
    "        print(i)\n",
    "        return print_num(n-1,i+1)\n",
    "        \n",
    "print(print_num(50))"
   ]
  },
  {
   "cell_type": "code",
   "execution_count": 34,
   "id": "9f09ee1f-5b0c-4413-be19-83327f4b8930",
   "metadata": {},
   "outputs": [
    {
     "name": "stdout",
     "output_type": "stream",
     "text": [
      "4\n"
     ]
    }
   ],
   "source": [
    "\n",
    "def nod(n,count=0):\n",
    "    if n!=0:\n",
    "        return nod(n//10,count+1)\n",
    "    else:\n",
    "        return count\n",
    "print(nod(1234))\n",
    "        "
   ]
  },
  {
   "cell_type": "code",
   "execution_count": 36,
   "id": "1f690708-c44c-4932-9d24-abd25c87bf58",
   "metadata": {},
   "outputs": [
    {
     "ename": "RecursionError",
     "evalue": "maximum recursion depth exceeded",
     "output_type": "error",
     "traceback": [
      "\u001b[1;31m---------------------------------------------------------------------------\u001b[0m",
      "\u001b[1;31mRecursionError\u001b[0m                            Traceback (most recent call last)",
      "Cell \u001b[1;32mIn[36], line 6\u001b[0m\n\u001b[0;32m      4\u001b[0m         \u001b[38;5;28;01mreturn\u001b[39;00m \u001b[38;5;241m2\u001b[39m\n\u001b[0;32m      5\u001b[0m     \u001b[38;5;28;01mreturn\u001b[39;00m \u001b[38;5;28msum\u001b[39m(n\u001b[38;5;241m-\u001b[39m\u001b[38;5;241m1\u001b[39m)\u001b[38;5;241m*\u001b[39mn\n\u001b[1;32m----> 6\u001b[0m \u001b[38;5;28mprint\u001b[39m(\u001b[38;5;28;43msum\u001b[39;49m\u001b[43m(\u001b[49m\u001b[38;5;241;43m5\u001b[39;49m\u001b[43m)\u001b[49m)\n",
      "Cell \u001b[1;32mIn[36], line 5\u001b[0m, in \u001b[0;36msum\u001b[1;34m(n)\u001b[0m\n\u001b[0;32m      3\u001b[0m \u001b[38;5;28;01mif\u001b[39;00m n\u001b[38;5;241m==\u001b[39m\u001b[38;5;241m2\u001b[39m:\n\u001b[0;32m      4\u001b[0m     \u001b[38;5;28;01mreturn\u001b[39;00m \u001b[38;5;241m2\u001b[39m\n\u001b[1;32m----> 5\u001b[0m \u001b[38;5;28;01mreturn\u001b[39;00m \u001b[38;5;28;43msum\u001b[39;49m\u001b[43m(\u001b[49m\u001b[43mn\u001b[49m\u001b[38;5;241;43m-\u001b[39;49m\u001b[38;5;241;43m1\u001b[39;49m\u001b[43m)\u001b[49m\u001b[38;5;241m*\u001b[39mn\n",
      "Cell \u001b[1;32mIn[36], line 5\u001b[0m, in \u001b[0;36msum\u001b[1;34m(n)\u001b[0m\n\u001b[0;32m      3\u001b[0m \u001b[38;5;28;01mif\u001b[39;00m n\u001b[38;5;241m==\u001b[39m\u001b[38;5;241m2\u001b[39m:\n\u001b[0;32m      4\u001b[0m     \u001b[38;5;28;01mreturn\u001b[39;00m \u001b[38;5;241m2\u001b[39m\n\u001b[1;32m----> 5\u001b[0m \u001b[38;5;28;01mreturn\u001b[39;00m \u001b[38;5;28;43msum\u001b[39;49m\u001b[43m(\u001b[49m\u001b[43mn\u001b[49m\u001b[38;5;241;43m-\u001b[39;49m\u001b[38;5;241;43m1\u001b[39;49m\u001b[43m)\u001b[49m\u001b[38;5;241m*\u001b[39mn\n",
      "    \u001b[1;31m[... skipping similar frames: sum at line 5 (2974 times)]\u001b[0m\n",
      "Cell \u001b[1;32mIn[36], line 5\u001b[0m, in \u001b[0;36msum\u001b[1;34m(n)\u001b[0m\n\u001b[0;32m      3\u001b[0m \u001b[38;5;28;01mif\u001b[39;00m n\u001b[38;5;241m==\u001b[39m\u001b[38;5;241m2\u001b[39m:\n\u001b[0;32m      4\u001b[0m     \u001b[38;5;28;01mreturn\u001b[39;00m \u001b[38;5;241m2\u001b[39m\n\u001b[1;32m----> 5\u001b[0m \u001b[38;5;28;01mreturn\u001b[39;00m \u001b[38;5;28;43msum\u001b[39;49m\u001b[43m(\u001b[49m\u001b[43mn\u001b[49m\u001b[38;5;241;43m-\u001b[39;49m\u001b[38;5;241;43m1\u001b[39;49m\u001b[43m)\u001b[49m\u001b[38;5;241m*\u001b[39mn\n",
      "\u001b[1;31mRecursionError\u001b[0m: maximum recursion depth exceeded"
     ]
    }
   ],
   "source": [
    "def sum(n):\n",
    "    n=3\n",
    "    if n==2:\n",
    "        return 2\n",
    "    return sum(n-1)*n\n",
    "print(sum(5))"
   ]
  },
  {
   "cell_type": "code",
   "execution_count": 37,
   "id": "80a44f69-039e-40db-bde5-69a8843c9a4d",
   "metadata": {},
   "outputs": [
    {
     "ename": "UnboundLocalError",
     "evalue": "cannot access local variable 'counter' where it is not associated with a value",
     "output_type": "error",
     "traceback": [
      "\u001b[1;31m---------------------------------------------------------------------------\u001b[0m",
      "\u001b[1;31mUnboundLocalError\u001b[0m                         Traceback (most recent call last)",
      "Cell \u001b[1;32mIn[37], line 9\u001b[0m\n\u001b[0;32m      7\u001b[0m         c\u001b[38;5;241m=\u001b[39mcalc(a,b\u001b[38;5;241m/\u001b[39m\u001b[38;5;241m/\u001b[39m\u001b[38;5;241m3\u001b[39m)\n\u001b[0;32m      8\u001b[0m         \u001b[38;5;28;01mreturn\u001b[39;00m (c\u001b[38;5;241m*\u001b[39mc\u001b[38;5;241m*\u001b[39mc)\n\u001b[1;32m----> 9\u001b[0m \u001b[38;5;28mprint\u001b[39m(\u001b[43mcalc\u001b[49m\u001b[43m(\u001b[49m\u001b[38;5;241;43m4\u001b[39;49m\u001b[43m,\u001b[49m\u001b[38;5;241;43m81\u001b[39;49m\u001b[43m)\u001b[49m)\n\u001b[0;32m     10\u001b[0m \u001b[38;5;28mprint\u001b[39m(counter)\n",
      "Cell \u001b[1;32mIn[37], line 3\u001b[0m, in \u001b[0;36mcalc\u001b[1;34m(a, b)\u001b[0m\n\u001b[0;32m      2\u001b[0m \u001b[38;5;28;01mdef\u001b[39;00m \u001b[38;5;21mcalc\u001b[39m(a,b):\n\u001b[1;32m----> 3\u001b[0m     \u001b[43mcounter\u001b[49m\u001b[38;5;241m+\u001b[39m\u001b[38;5;241m=\u001b[39m\u001b[38;5;241m1\u001b[39m\n\u001b[0;32m      4\u001b[0m     \u001b[38;5;28;01mif\u001b[39;00m b\u001b[38;5;241m==\u001b[39m\u001b[38;5;241m3\u001b[39m:\n\u001b[0;32m      5\u001b[0m         \u001b[38;5;28;01mreturn\u001b[39;00m(a\u001b[38;5;241m*\u001b[39ma\u001b[38;5;241m*\u001b[39ma)\n",
      "\u001b[1;31mUnboundLocalError\u001b[0m: cannot access local variable 'counter' where it is not associated with a value"
     ]
    }
   ],
   "source": [
    "counter=0\n",
    "def calc(a,b):\n",
    "    counter+=1\n",
    "    if b==3:\n",
    "        return(a*a*a)\n",
    "    else:\n",
    "        c=calc(a,b//3)\n",
    "        return (c*c*c)\n",
    "print(calc(4,81))\n",
    "print(counter)\n",
    "               "
   ]
  },
  {
   "cell_type": "code",
   "execution_count": 38,
   "id": "5b2e2489-76ff-46ed-a300-5e4aa3f16773",
   "metadata": {},
   "outputs": [
    {
     "data": {
      "text/plain": [
       "12"
      ]
     },
     "execution_count": 38,
     "metadata": {},
     "output_type": "execute_result"
    }
   ],
   "source": [
    "def foo(n,r):\n",
    "    if n>0:\n",
    "        return((n%r)+foo(n//r,r))\n",
    "    else:\n",
    "        return 0\n",
    "foo(345,10)"
   ]
  },
  {
   "cell_type": "code",
   "execution_count": 39,
   "id": "96f500f7-3d45-4a51-b022-dbe1b12c220d",
   "metadata": {},
   "outputs": [
    {
     "name": "stdout",
     "output_type": "stream",
     "text": [
      "1\n",
      "0\n",
      "1\n",
      "0\n",
      "1\n",
      "1\n",
      "0\n",
      "1\n"
     ]
    }
   ],
   "source": [
    "def fun(n):\n",
    "    if n<=1:\n",
    "        print(n)\n",
    "    else:\n",
    "        fun(n//2)\n",
    "        print(n%2)\n",
    "fun(173)"
   ]
  },
  {
   "cell_type": "code",
   "execution_count": 40,
   "id": "d5c67849-7eb3-4511-8cf6-2a92dce3aef0",
   "metadata": {},
   "outputs": [
    {
     "ename": "UnboundLocalError",
     "evalue": "cannot access local variable 'r' where it is not associated with a value",
     "output_type": "error",
     "traceback": [
      "\u001b[1;31m---------------------------------------------------------------------------\u001b[0m",
      "\u001b[1;31mUnboundLocalError\u001b[0m                         Traceback (most recent call last)",
      "Cell \u001b[1;32mIn[40], line 10\u001b[0m\n\u001b[0;32m      8\u001b[0m     \u001b[38;5;28;01melse\u001b[39;00m:\n\u001b[0;32m      9\u001b[0m         \u001b[38;5;28;01mreturn\u001b[39;00m fun(n\u001b[38;5;241m-\u001b[39m\u001b[38;5;241m1\u001b[39m)\u001b[38;5;241m+\u001b[39mr\n\u001b[1;32m---> 10\u001b[0m \u001b[43mfun\u001b[49m\u001b[43m(\u001b[49m\u001b[38;5;241;43m5\u001b[39;49m\u001b[43m)\u001b[49m\n",
      "Cell \u001b[1;32mIn[40], line 7\u001b[0m, in \u001b[0;36mfun\u001b[1;34m(n)\u001b[0m\n\u001b[0;32m      5\u001b[0m \u001b[38;5;28;01mif\u001b[39;00m n\u001b[38;5;241m>\u001b[39m\u001b[38;5;241m3\u001b[39m:\n\u001b[0;32m      6\u001b[0m     r\u001b[38;5;241m=\u001b[39mn\n\u001b[1;32m----> 7\u001b[0m     \u001b[38;5;28;01mreturn\u001b[39;00m \u001b[43mfun\u001b[49m\u001b[43m(\u001b[49m\u001b[43mn\u001b[49m\u001b[38;5;241;43m-\u001b[39;49m\u001b[38;5;241;43m2\u001b[39;49m\u001b[43m)\u001b[49m\u001b[38;5;241m+\u001b[39m\u001b[38;5;241m2\u001b[39m\n\u001b[0;32m      8\u001b[0m \u001b[38;5;28;01melse\u001b[39;00m:\n\u001b[0;32m      9\u001b[0m     \u001b[38;5;28;01mreturn\u001b[39;00m fun(n\u001b[38;5;241m-\u001b[39m\u001b[38;5;241m1\u001b[39m)\u001b[38;5;241m+\u001b[39mr\n",
      "Cell \u001b[1;32mIn[40], line 9\u001b[0m, in \u001b[0;36mfun\u001b[1;34m(n)\u001b[0m\n\u001b[0;32m      7\u001b[0m     \u001b[38;5;28;01mreturn\u001b[39;00m fun(n\u001b[38;5;241m-\u001b[39m\u001b[38;5;241m2\u001b[39m)\u001b[38;5;241m+\u001b[39m\u001b[38;5;241m2\u001b[39m\n\u001b[0;32m      8\u001b[0m \u001b[38;5;28;01melse\u001b[39;00m:\n\u001b[1;32m----> 9\u001b[0m     \u001b[38;5;28;01mreturn\u001b[39;00m \u001b[43mfun\u001b[49m\u001b[43m(\u001b[49m\u001b[43mn\u001b[49m\u001b[38;5;241;43m-\u001b[39;49m\u001b[38;5;241;43m1\u001b[39;49m\u001b[43m)\u001b[49m\u001b[38;5;241m+\u001b[39mr\n",
      "Cell \u001b[1;32mIn[40], line 9\u001b[0m, in \u001b[0;36mfun\u001b[1;34m(n)\u001b[0m\n\u001b[0;32m      7\u001b[0m     \u001b[38;5;28;01mreturn\u001b[39;00m fun(n\u001b[38;5;241m-\u001b[39m\u001b[38;5;241m2\u001b[39m)\u001b[38;5;241m+\u001b[39m\u001b[38;5;241m2\u001b[39m\n\u001b[0;32m      8\u001b[0m \u001b[38;5;28;01melse\u001b[39;00m:\n\u001b[1;32m----> 9\u001b[0m     \u001b[38;5;28;01mreturn\u001b[39;00m \u001b[43mfun\u001b[49m\u001b[43m(\u001b[49m\u001b[43mn\u001b[49m\u001b[38;5;241;43m-\u001b[39;49m\u001b[38;5;241;43m1\u001b[39;49m\u001b[43m)\u001b[49m\u001b[38;5;241m+\u001b[39mr\n",
      "Cell \u001b[1;32mIn[40], line 9\u001b[0m, in \u001b[0;36mfun\u001b[1;34m(n)\u001b[0m\n\u001b[0;32m      7\u001b[0m     \u001b[38;5;28;01mreturn\u001b[39;00m fun(n\u001b[38;5;241m-\u001b[39m\u001b[38;5;241m2\u001b[39m)\u001b[38;5;241m+\u001b[39m\u001b[38;5;241m2\u001b[39m\n\u001b[0;32m      8\u001b[0m \u001b[38;5;28;01melse\u001b[39;00m:\n\u001b[1;32m----> 9\u001b[0m     \u001b[38;5;28;01mreturn\u001b[39;00m fun(n\u001b[38;5;241m-\u001b[39m\u001b[38;5;241m1\u001b[39m)\u001b[38;5;241m+\u001b[39m\u001b[43mr\u001b[49m\n",
      "\u001b[1;31mUnboundLocalError\u001b[0m: cannot access local variable 'r' where it is not associated with a value"
     ]
    }
   ],
   "source": [
    "r=0\n",
    "def fun(n):\n",
    "    if n<=0:\n",
    "        return 1\n",
    "    if n>3:\n",
    "        r=n\n",
    "        return fun(n-2)+2\n",
    "    else:\n",
    "        return fun(n-1)+r\n",
    "fun(5)\n",
    "    "
   ]
  },
  {
   "cell_type": "code",
   "execution_count": 5,
   "id": "ac217f14-a200-4973-959e-57b4c69fd275",
   "metadata": {},
   "outputs": [
    {
     "data": {
      "text/plain": [
       "300.0"
      ]
     },
     "execution_count": 5,
     "metadata": {},
     "output_type": "execute_result"
    }
   ],
   "source": [
    "def lcm(a,b):\n",
    "    n=a%b\n",
    "    if n==0:\n",
    "        return a                                                       \n",
    "    else:\n",
    "        return a*lcm(b,n)/n\n",
    "lcm(60,25)\n",
    "        \n",
    "        "
   ]
  },
  {
   "cell_type": "code",
   "execution_count": 1,
   "id": "a11f946a-7126-4e57-a014-935f469940a7",
   "metadata": {},
   "outputs": [
    {
     "data": {
      "text/plain": [
       "1000000"
      ]
     },
     "execution_count": 1,
     "metadata": {},
     "output_type": "execute_result"
    }
   ],
   "source": [
    "def expo(x,n):\n",
    "    if n==0:\n",
    "        return 1\n",
    "    elif n%2==0:\n",
    "        xp1=expo(x,n//2)\n",
    "        result=xp1*xp1\n",
    "    else:\n",
    "        xp2=expo(x,n//2)\n",
    "        result=xp2*xp2*x\n",
    "    return result\n",
    "expo(10,6)"
   ]
  },
  {
   "cell_type": "code",
   "execution_count": 12,
   "id": "7f55d3b4-1926-4d1c-8846-8c231a73d7c9",
   "metadata": {},
   "outputs": [
    {
     "data": {
      "text/plain": [
       "6"
      ]
     },
     "execution_count": 12,
     "metadata": {},
     "output_type": "execute_result"
    }
   ],
   "source": [
    "def combination(n,r):\n",
    "    if r==0 or r==n:\n",
    "        return 1\n",
    "    else:\n",
    "        return combination(n-1,r-1)+combination(n-1,r)\n",
    "combination(6,5)\n",
    "    \n",
    "    "
   ]
  },
  {
   "cell_type": "code",
   "execution_count": 25,
   "id": "053a4fc8-b99f-41dd-ad0c-9ae4908ca02e",
   "metadata": {},
   "outputs": [
    {
     "data": {
      "text/plain": [
       "15"
      ]
     },
     "execution_count": 25,
     "metadata": {},
     "output_type": "execute_result"
    }
   ],
   "source": [
    "def gcd(x,y):\n",
    "    if x==y:\n",
    "        return x\n",
    "    elif x>y:\n",
    "        return gcd(x-y,y)\n",
    "    else:\n",
    "        return gcd(x,y-x)\n",
    "gcd(15,225)\n",
    "        "
   ]
  },
  {
   "cell_type": "code",
   "execution_count": 4,
   "id": "0b4779ac-f5b2-4b05-a4be-8db4dd671798",
   "metadata": {},
   "outputs": [
    {
     "data": {
      "text/plain": [
       "33"
      ]
     },
     "execution_count": 4,
     "metadata": {},
     "output_type": "execute_result"
    }
   ],
   "source": [
    "def gcd(a,b):\n",
    "    while b!=0:\n",
    "        a,b =b,a%b\n",
    "    return a\n",
    "gcd(222,33)"
   ]
  },
  {
   "cell_type": "code",
   "execution_count": 11,
   "id": "055f907a-240d-42d5-a271-1c28bec2c4ea",
   "metadata": {},
   "outputs": [
    {
     "data": {
      "text/plain": [
       "2"
      ]
     },
     "execution_count": 11,
     "metadata": {},
     "output_type": "execute_result"
    }
   ],
   "source": [
    "def gcd(a,b):\n",
    "    if b==0:\n",
    "        return a\n",
    "    else:\n",
    "        return gcd(b,a%b)\n",
    "        return b\n",
    "gcd(10,4)"
   ]
  },
  {
   "cell_type": "markdown",
   "id": "2cc8ab03-bc83-48f2-ac9c-9a32b5a9b133",
   "metadata": {},
   "source": [
    "# iterative approach"
   ]
  },
  {
   "cell_type": "raw",
   "id": "ddd3420b-0244-41d4-aa88-efe1d634d4e1",
   "metadata": {},
   "source": [
    "-in cases recurssive version is better than iterative version but recursion always have the stack overhead.\n",
    "so the space complexity of the recurssion is always greater than iterative version.\n",
    "advantage:-\n",
    "1.Very logical\n",
    "2.very easy to implement\n",
    "\n",
    "disdvantage:-\n",
    "1.stack overflow\n",
    "2.it may leads to segmentation fault\n"
   ]
  },
  {
   "cell_type": "code",
   "execution_count": 9,
   "id": "0851fa52-0789-461d-9667-efa2d8180eda",
   "metadata": {},
   "outputs": [
    {
     "name": "stdin",
     "output_type": "stream",
     "text": [
      "enter any number: 123\n"
     ]
    },
    {
     "name": "stdout",
     "output_type": "stream",
     "text": [
      "321"
     ]
    }
   ],
   "source": [
    "n=int(input(\"enter any number:\"))\n",
    "while n>0:\n",
    "    digit=n%10\n",
    "    print(digit,end=\"\")\n",
    "    n=n//10\n",
    "    "
   ]
  },
  {
   "cell_type": "code",
   "execution_count": 2,
   "id": "219e18ad-8649-406c-904a-f5f89975e773",
   "metadata": {},
   "outputs": [
    {
     "data": {
      "text/plain": [
       "321"
      ]
     },
     "execution_count": 2,
     "metadata": {},
     "output_type": "execute_result"
    }
   ],
   "source": [
    "def reverse(n,i=0):\n",
    "    if n==0:\n",
    "        return i\n",
    "    else:\n",
    "        return reverse(n//10,i*10+n%10)\n",
    "reverse(123)\n",
    "\n",
    "    \n",
    "        "
   ]
  },
  {
   "cell_type": "code",
   "execution_count": 3,
   "id": "198f72c7-d4c3-4f88-96ad-8e2f6fa82d91",
   "metadata": {},
   "outputs": [
    {
     "name": "stdout",
     "output_type": "stream",
     "text": [
      "2\n"
     ]
    }
   ],
   "source": [
    "def count_once(n,count=0):\n",
    "    while n>0:\n",
    "        count+=n&1\n",
    "        n=n>>1\n",
    "    return count\n",
    "print(count_once(9))\n",
    "      \n",
    "\n",
    "\n",
    "    \n",
    "    "
   ]
  },
  {
   "cell_type": "code",
   "execution_count": 21,
   "id": "40e88bfd-b772-42df-bb11-30822ffb4008",
   "metadata": {},
   "outputs": [
    {
     "data": {
      "text/plain": [
       "730"
      ]
     },
     "execution_count": 21,
     "metadata": {},
     "output_type": "execute_result"
    }
   ],
   "source": [
    "def amstrong(n,sum=0):\n",
    "    if n>0:\n",
    "        return amstrong(n//10 ,sum+(n%10)**3)\n",
    "    else:\n",
    "        return sum\n",
    "amstrong(91)\n"
   ]
  },
  {
   "cell_type": "code",
   "execution_count": 19,
   "id": "2a86f9a7-fc2f-4771-8448-cc6288a003c4",
   "metadata": {},
   "outputs": [
    {
     "name": "stdout",
     "output_type": "stream",
     "text": [
      "6\n"
     ]
    }
   ],
   "source": [
    "def add_digit(n):\n",
    "    last_digit=0\n",
    "    if n>10:\n",
    "        return last_digit+n%10\n",
    "        return add_digit(n//10)\n",
    "    if n<10:\n",
    "        \n",
    "        return (n+last_digit)\n",
    "print(add_digit(23756))"
   ]
  },
  {
   "cell_type": "code",
   "execution_count": 16,
   "id": "7763e547-2486-459c-a8da-753575d838ad",
   "metadata": {},
   "outputs": [
    {
     "name": "stdout",
     "output_type": "stream",
     "text": [
      "3\n"
     ]
    }
   ],
   "source": [
    "def sum_first_last_digit(n):\n",
    "    if n < 10:\n",
    "        return n\n",
    "    last_digit = n % 10\n",
    "    n = n // 10\n",
    "    if n < 10:\n",
    "        return n + last_digit\n",
    "    return sum_first_last_digit(n)\n",
    "number = 12345\n",
    "result = sum_first_last_digit(number)\n",
    "print(result)\n"
   ]
  },
  {
   "cell_type": "code",
   "execution_count": 17,
   "id": "37e4510f-4056-4eb6-903c-c115d5aff8d8",
   "metadata": {},
   "outputs": [
    {
     "name": "stdout",
     "output_type": "stream",
     "text": [
      "The sum of the first and last digits of 12345 is 3\n"
     ]
    }
   ],
   "source": [
    "def sum_first_last_digit(n):\n",
    "    # Base case: If n is a single-digit number\n",
    "    if n < 10:\n",
    "        return n\n",
    "\n",
    "    # Get the last digit\n",
    "    last_digit = n % 10\n",
    "\n",
    "    # Remove the last digit\n",
    "    n = n // 10\n",
    "\n",
    "    # Recursive case: If the reduced n is a single-digit number, it's the first digit\n",
    "    if n < 10:\n",
    "        return n + last_digit\n",
    "\n",
    "    # Continue removing digits until the number is reduced to a single-digit number\n",
    "    return sum_first_last_digit(n)\n",
    "\n",
    "# Example usage\n",
    "number = 12345\n",
    "result = sum_first_last_digit(number)\n",
    "print(f\"The sum of the first and last digits of {number} is {result}\")\n"
   ]
  },
  {
   "cell_type": "code",
   "execution_count": 19,
   "id": "5bc96012-1509-41c4-b616-e2b6d33072b8",
   "metadata": {},
   "outputs": [
    {
     "name": "stdin",
     "output_type": "stream",
     "text": [
      "Enter a number:  12345\n"
     ]
    },
    {
     "name": "stdout",
     "output_type": "stream",
     "text": [
      "Sum of first and last digit: 4\n"
     ]
    }
   ],
   "source": [
    "def sum_first_last(n, first=None, count=0):\n",
    "    if first is None:\n",
    "        first = n % 10\n",
    "        n = n // 10\n",
    "    if n == 0:\n",
    "        return first + count\n",
    "    else:\n",
    "        count = count * 10 + n % 10\n",
    "        return sum_first_last(count)\n",
    "\n",
    "num = int(input(\"Enter a number: \"))\n",
    "result = sum_first_last(num)\n",
    "print(\"Sum of first and last digit:\", result)\n"
   ]
  },
  {
   "cell_type": "code",
   "execution_count": null,
   "id": "6a2b3bb2-0be0-4c88-8cb6-42a2aac12196",
   "metadata": {},
   "outputs": [],
   "source": []
  }
 ],
 "metadata": {
  "kernelspec": {
   "display_name": "Python 3 (ipykernel)",
   "language": "python",
   "name": "python3"
  },
  "language_info": {
   "codemirror_mode": {
    "name": "ipython",
    "version": 3
   },
   "file_extension": ".py",
   "mimetype": "text/x-python",
   "name": "python",
   "nbconvert_exporter": "python",
   "pygments_lexer": "ipython3",
   "version": "3.13.0"
  }
 },
 "nbformat": 4,
 "nbformat_minor": 5
}
