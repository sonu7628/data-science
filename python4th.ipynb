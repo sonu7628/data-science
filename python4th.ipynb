{
 "cells": [
  {
   "cell_type": "code",
   "execution_count": 1,
   "id": "e40d52ab-2004-4fa4-ac61-2b70edca612d",
   "metadata": {},
   "outputs": [
    {
     "name": "stdout",
     "output_type": "stream",
     "text": [
      "[1, 2, 34, 56, 100]\n"
     ]
    }
   ],
   "source": [
    "#append():\n",
    "list=[1,2,34,56]\n",
    "list.append(100)\n",
    "print(list)"
   ]
  },
  {
   "cell_type": "code",
   "execution_count": 2,
   "id": "fa97ebd6-e990-4ef9-b4ec-ba051bec5d09",
   "metadata": {},
   "outputs": [
    {
     "name": "stdout",
     "output_type": "stream",
     "text": [
      "[1, 2, 3, 4, 10]\n"
     ]
    }
   ],
   "source": [
    "list=[1,2,3,4]\n",
    "list+=[10]\n",
    "print(list)\n",
    "    "
   ]
  },
  {
   "cell_type": "code",
   "execution_count": null,
   "id": "874b395a-0339-4410-af2d-a49d5bbe6e46",
   "metadata": {},
   "outputs": [],
   "source": [
    "#append number using recurssion"
   ]
  },
  {
   "cell_type": "code",
   "execution_count": 1,
   "id": "6f0597c0-f54d-4cb0-ae4b-ed6c2182affc",
   "metadata": {},
   "outputs": [
    {
     "name": "stdout",
     "output_type": "stream",
     "text": [
      "[1, 2, 3, 4, 5]\n"
     ]
    }
   ],
   "source": [
    "def my_list(list,item,index=0):\n",
    "    if index==len(list):\n",
    "        return 0\n",
    "    else:\n",
    "        my_list(list,item,index+1)\n",
    "        return list+item\n",
    "list=[1,2,3,4]\n",
    "item=[5]\n",
    "print(my_list(list,item))\n",
    "    "
   ]
  },
  {
   "cell_type": "code",
   "execution_count": null,
   "id": "657b5ab4-2b51-4968-964e-a999de7cd35f",
   "metadata": {},
   "outputs": [],
   "source": [
    "#append number using iteration"
   ]
  },
  {
   "cell_type": "code",
   "execution_count": 3,
   "id": "814d61cc-f034-42fd-a5ea-e7491f303135",
   "metadata": {},
   "outputs": [
    {
     "name": "stdout",
     "output_type": "stream",
     "text": [
      "[1, 2, 3, 4, 5]\n"
     ]
    }
   ],
   "source": [
    "def add_num(list,num):\n",
    "    for i in list:\n",
    "        if i==len(list):\n",
    "            print(list+num) \n",
    "list=[1,2,3,4]\n",
    "add_num(list,[5])\n",
    "            "
   ]
  },
  {
   "cell_type": "code",
   "execution_count": 4,
   "id": "de59ac38-703a-4d1d-9ca5-ee0bf4848277",
   "metadata": {},
   "outputs": [
    {
     "name": "stdout",
     "output_type": "stream",
     "text": [
      "None\n"
     ]
    }
   ],
   "source": [
    "def my_list(list,item,index=0):\n",
    "    if index==len(list):\n",
    "        return list+[item]\n",
    "    else:\n",
    "        my_list(list,item,index+1)\n",
    "        \n",
    "list=[1,2,3,4]\n",
    "print(my_list(list,5))"
   ]
  },
  {
   "cell_type": "code",
   "execution_count": 8,
   "id": "40cf43cf-2727-4c20-99cd-479ada64d76a",
   "metadata": {},
   "outputs": [
    {
     "name": "stdout",
     "output_type": "stream",
     "text": [
      "[1, 2, 3, [2, 3, 4]]\n"
     ]
    }
   ],
   "source": [
    "list1=[1,2,3]\n",
    "list2=[2,3,4]\n",
    "list3=list1.append(list2)\n",
    "print(list1)"
   ]
  },
  {
   "cell_type": "code",
   "execution_count": 9,
   "id": "4337cdcf-dd16-4c3a-9c54-6232a62da32c",
   "metadata": {},
   "outputs": [
    {
     "name": "stdout",
     "output_type": "stream",
     "text": [
      "[1, 2, 3, 2, 3, 4]\n"
     ]
    }
   ],
   "source": [
    "list1=[1,2,3]\n",
    "list2=[2,3,4]\n",
    "list1.extend(list2)\n",
    "print(list1)"
   ]
  },
  {
   "cell_type": "code",
   "execution_count": 19,
   "id": "f81adf52-df49-4982-9237-d2069ac51e5e",
   "metadata": {},
   "outputs": [
    {
     "name": "stdout",
     "output_type": "stream",
     "text": [
      "[17, 19, 2]\n",
      "None\n"
     ]
    }
   ],
   "source": [
    "list1=[21,17,19,15,2]\n",
    "list2=[31,17,19,2,23,76]\n",
    "def common(list1,list2):\n",
    "    list3=[]\n",
    "    for i in list1:\n",
    "        for j in list2:\n",
    "            if i==j:\n",
    "                list3.append(i)\n",
    "    print(list3)\n",
    "print(common(list1,list2))\n",
    "\n",
    "            "
   ]
  },
  {
   "cell_type": "code",
   "execution_count": 28,
   "id": "19cad1ba-4c67-4d30-9d0b-0d0eb660530a",
   "metadata": {},
   "outputs": [
    {
     "name": "stdout",
     "output_type": "stream",
     "text": [
      "even: 2 odd: 2\n",
      "None\n"
     ]
    }
   ],
   "source": [
    "def count_num(list1):\n",
    "    a=0\n",
    "    b=0\n",
    "    for i in list1:\n",
    "        if i%2==0:\n",
    "            a+=1\n",
    "        else:\n",
    "            b+=1\n",
    "    print(\"even:\",a,\"odd:\",b)\n",
    "list1=[1,2,3,4]\n",
    "print(count_num(list1))"
   ]
  },
  {
   "cell_type": "code",
   "execution_count": 52,
   "id": "00cd1de0-5290-43e5-926b-65e02ecbca34",
   "metadata": {},
   "outputs": [
    {
     "name": "stdout",
     "output_type": "stream",
     "text": [
      "5\n"
     ]
    }
   ],
   "source": [
    "def max_el(list,max,min):\n",
    "    max=list[0]\n",
    "    min=list[0]\n",
    "    for i in list:\n",
    "        if max<i:\n",
    "            max=i\n",
    "    return max\n",
    "list=[1,2,3,5]\n",
    "print(max_el(list,max,min))"
   ]
  },
  {
   "cell_type": "code",
   "execution_count": null,
   "id": "16bd17b5-99ec-4360-bdf3-95e69acdcbfe",
   "metadata": {},
   "outputs": [],
   "source": [
    "#using binary"
   ]
  },
  {
   "cell_type": "code",
   "execution_count": null,
   "id": "bc85ad2d-a5cc-49ab-ae3e-fd971c76ebe0",
   "metadata": {},
   "outputs": [],
   "source": [
    "#insert function"
   ]
  },
  {
   "cell_type": "code",
   "execution_count": null,
   "id": "33b6b9b4-0610-4ccb-8921-2c9d733966f1",
   "metadata": {},
   "outputs": [],
   "source": [
    "insert(x,y)\n",
    "x-position where exactly we need to insert "
   ]
  },
  {
   "cell_type": "code",
   "execution_count": 47,
   "id": "b2dfad26-f63e-4372-a410-6f3f09359447",
   "metadata": {},
   "outputs": [
    {
     "name": "stdout",
     "output_type": "stream",
     "text": [
      "[23, 4, 56, 100, 67]\n"
     ]
    }
   ],
   "source": [
    "list=[23,4,56,67]\n",
    "list.insert(3,100)\n",
    "print(list)"
   ]
  },
  {
   "cell_type": "code",
   "execution_count": 48,
   "id": "f126b737-4d44-4b6c-93af-d73edfc72848",
   "metadata": {},
   "outputs": [],
   "source": [
    "list.remove(23)"
   ]
  },
  {
   "cell_type": "code",
   "execution_count": 49,
   "id": "5481f0c7-31c0-4c53-939f-3d9b5a3d5a01",
   "metadata": {},
   "outputs": [
    {
     "data": {
      "text/plain": [
       "[4, 56, 100, 67]"
      ]
     },
     "execution_count": 49,
     "metadata": {},
     "output_type": "execute_result"
    }
   ],
   "source": [
    "list"
   ]
  },
  {
   "cell_type": "raw",
   "id": "e841f5e4-b021-4adc-9462-bf8d930f5acb",
   "metadata": {},
   "source": [
    "def insert(list,idx=0,ele):\n",
    "    if idx==2:\n",
    "        return list.append(ele)\n",
    "    else:\n",
    "        insert(list,idx+1,ele)\n",
    "list=[1,11,22,34]\n",
    "print(insert(list,4))"
   ]
  },
  {
   "cell_type": "code",
   "execution_count": null,
   "id": "b75f45f6-2b79-4b94-99fa-f8dcc45471a5",
   "metadata": {},
   "outputs": [],
   "source": []
  }
 ],
 "metadata": {
  "kernelspec": {
   "display_name": "Python 3 (ipykernel)",
   "language": "python",
   "name": "python3"
  },
  "language_info": {
   "codemirror_mode": {
    "name": "ipython",
    "version": 3
   },
   "file_extension": ".py",
   "mimetype": "text/x-python",
   "name": "python",
   "nbconvert_exporter": "python",
   "pygments_lexer": "ipython3",
   "version": "3.13.0"
  }
 },
 "nbformat": 4,
 "nbformat_minor": 5
}
