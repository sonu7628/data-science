{
 "cells": [
  {
   "cell_type": "raw",
   "id": "9f7c4742-7901-4c28-a21b-b45dc251b982",
   "metadata": {},
   "source": [
    "1. Write a Python program to create a tuple."
   ]
  },
  {
   "cell_type": "code",
   "execution_count": 1,
   "id": "2a5621c2-dfb1-403d-aa31-cdad7d3011ee",
   "metadata": {},
   "outputs": [
    {
     "data": {
      "text/plain": [
       "(1, 2, 3, 4)"
      ]
     },
     "execution_count": 1,
     "metadata": {},
     "output_type": "execute_result"
    }
   ],
   "source": [
    "tup=(1,2,3,4)\n",
    "tup"
   ]
  },
  {
   "cell_type": "raw",
   "id": "8af6a86f-1fde-49f7-bb71-bdd1544be269",
   "metadata": {},
   "source": [
    "2. Write a Python program to create a tuple with different data types."
   ]
  },
  {
   "cell_type": "code",
   "execution_count": 2,
   "id": "ed38077b-8673-4847-9a27-172738960d61",
   "metadata": {},
   "outputs": [
    {
     "data": {
      "text/plain": [
       "(1, 2.3, True, 'mayur')"
      ]
     },
     "execution_count": 2,
     "metadata": {},
     "output_type": "execute_result"
    }
   ],
   "source": [
    "tup1=(1,2.3,True,\"mayur\")\n",
    "tup1"
   ]
  },
  {
   "cell_type": "raw",
   "id": "e6384c86-a643-40e2-913d-654da1d67879",
   "metadata": {},
   "source": [
    "3. Write a Python program to create a tuple of numbers and print one item."
   ]
  },
  {
   "cell_type": "code",
   "execution_count": 3,
   "id": "28a2a1a7-d791-4e99-aa8c-42f042147543",
   "metadata": {},
   "outputs": [
    {
     "data": {
      "text/plain": [
       "3"
      ]
     },
     "execution_count": 3,
     "metadata": {},
     "output_type": "execute_result"
    }
   ],
   "source": [
    "tup2=(2,3,4,5)\n",
    "tup2[1]"
   ]
  },
  {
   "cell_type": "raw",
   "id": "8e99b1f6-85e9-4d4d-bdc2-71fb3ec00f6b",
   "metadata": {},
   "source": [
    "4. Write a Python program to add an item to a tuple."
   ]
  },
  {
   "cell_type": "code",
   "execution_count": 5,
   "id": "dc025efd-2b73-4a26-836d-d1f16eb1b806",
   "metadata": {},
   "outputs": [
    {
     "data": {
      "text/plain": [
       "[2, 3, 4, 5]"
      ]
     },
     "execution_count": 5,
     "metadata": {},
     "output_type": "execute_result"
    }
   ],
   "source": [
    "tup3=(2,3,4)\n",
    "list3=list(tup3)\n",
    "list3.append(5)\n",
    "list3"
   ]
  },
  {
   "cell_type": "raw",
   "id": "9fbe442f-00ac-494a-9279-95e6d39da333",
   "metadata": {},
   "source": [
    "6. Write a Python program to convert a tuple to a string."
   ]
  },
  {
   "cell_type": "code",
   "execution_count": 8,
   "id": "7be08675-7016-4ff0-afb8-f9e083b2ce93",
   "metadata": {},
   "outputs": [
    {
     "data": {
      "text/plain": [
       "\"('mayur', 3, 4)\""
      ]
     },
     "execution_count": 8,
     "metadata": {},
     "output_type": "execute_result"
    }
   ],
   "source": [
    "tup4=(\"mayur\",3,4)\n",
    "str4=str(tup4)\n",
    "type(str4)\n",
    "str4"
   ]
  },
  {
   "cell_type": "raw",
   "id": "4f16f6d5-e770-4c85-b76b-113da5618874",
   "metadata": {},
   "source": [
    "7. Write a Python program to get the 4th element from the last element of a tuple."
   ]
  },
  {
   "cell_type": "code",
   "execution_count": 10,
   "id": "32d1cb7d-f15d-4615-9f68-de4f08f8ed81",
   "metadata": {},
   "outputs": [
    {
     "data": {
      "text/plain": [
       "2"
      ]
     },
     "execution_count": 10,
     "metadata": {},
     "output_type": "execute_result"
    }
   ],
   "source": [
    "tup5=(1,2,3,4,7)\n",
    "tup5[-4]"
   ]
  },
  {
   "cell_type": "raw",
   "id": "d1e89696-3c02-4dd5-bb9a-669da4718c2a",
   "metadata": {},
   "source": [
    "8. Write a Python program to create the colon of tuple"
   ]
  },
  {
   "cell_type": "code",
   "execution_count": 1,
   "id": "8b02b090-140e-4b2e-909e-7583c2f823f9",
   "metadata": {},
   "outputs": [
    {
     "name": "stdout",
     "output_type": "stream",
     "text": [
      "sonu:akhi:madhav:rashmi\n"
     ]
    }
   ],
   "source": [
    "tup6=(\"sonu\",\"akhi\",\"madhav\",\"rashmi\")\n",
    "a=\":\".join(tuple(tup6))\n",
    "print(a)"
   ]
  },
  {
   "cell_type": "raw",
   "id": "0d24463b-18ea-4bd9-8c5c-afa08f50d9f0",
   "metadata": {},
   "source": [
    "9. Write a Python program to find repeated items in a tuple."
   ]
  },
  {
   "cell_type": "code",
   "execution_count": 7,
   "id": "804bb618-70d7-42c6-9a8e-ec84bb3914af",
   "metadata": {},
   "outputs": [
    {
     "name": "stdout",
     "output_type": "stream",
     "text": [
      "(2, 5)\n"
     ]
    }
   ],
   "source": [
    "def repeated_item(tup1):\n",
    "    list2=[]\n",
    "    for i in range(len(tup1)):\n",
    "        for j in range(i+1,len(tup1)):\n",
    "            if tup1[i]==tup1[j] and tup1[i] not in list2:\n",
    "                list2.append(tup1[i])\n",
    "    tup2=tuple(list2)\n",
    "    return tup2\n",
    "tup1=(1,2,2,3,4,5,5)\n",
    "print(repeated_item(tup1))"
   ]
  },
  {
   "cell_type": "raw",
   "id": "9347a6e5-996d-4b63-93f5-a88d10a84be9",
   "metadata": {},
   "source": [
    "10.Write a Python program to check whether an element exists within a tuple."
   ]
  },
  {
   "cell_type": "code",
   "execution_count": 13,
   "id": "22c52461-e214-4da1-b85e-2a7a22be9a95",
   "metadata": {},
   "outputs": [
    {
     "name": "stdin",
     "output_type": "stream",
     "text": [
      "enter any number: 4\n"
     ]
    },
    {
     "name": "stdout",
     "output_type": "stream",
     "text": [
      "Element exists\n",
      "None\n"
     ]
    }
   ],
   "source": [
    "def check_ele(tup):\n",
    "    for i in range(len(tup)):\n",
    "        if num==tup[i]:\n",
    "            print(\"Element exists\")\n",
    "            break\n",
    "    else:\n",
    "        print(\"element doesn't exist\")\n",
    "num=int(input(\"enter any number:\"))\n",
    "tup=(2,3,4,5)\n",
    "print(check_ele(tup))"
   ]
  },
  {
   "cell_type": "raw",
   "id": "940965a4-2e8b-4b47-b370-2ca084ec9794",
   "metadata": {},
   "source": [
    "11. Write a Python program to convert a list to a tuple."
   ]
  },
  {
   "cell_type": "code",
   "execution_count": 1,
   "id": "a902bf1b-4d90-4092-9f52-c0efee622862",
   "metadata": {},
   "outputs": [
    {
     "data": {
      "text/plain": [
       "(1, 2, 3, 4, 5)"
      ]
     },
     "execution_count": 1,
     "metadata": {},
     "output_type": "execute_result"
    }
   ],
   "source": [
    "list1=[1,2,3,4,5]\n",
    "tup1=tuple(list1)\n",
    "tup1"
   ]
  },
  {
   "cell_type": "raw",
   "id": "984d4ab0-a377-4afa-833e-7b18b215d4fc",
   "metadata": {},
   "source": [
    "12. Write a Python program to remove an item from a tuple."
   ]
  },
  {
   "cell_type": "code",
   "execution_count": 3,
   "id": "0cf43628-226d-4052-8b1e-12bf2359a83f",
   "metadata": {},
   "outputs": [
    {
     "data": {
      "text/plain": [
       "(1, 2, 4)"
      ]
     },
     "execution_count": 3,
     "metadata": {},
     "output_type": "execute_result"
    }
   ],
   "source": [
    "tup2=(1,2,3,4)\n",
    "list2=list(tup2)\n",
    "list2.remove(3)\n",
    "list2\n",
    "tup2=tuple(list2)\n",
    "tup2"
   ]
  },
  {
   "cell_type": "raw",
   "id": "22021ff2-9736-41f7-b13d-7bb98f660b76",
   "metadata": {},
   "source": [
    "13. Write a Python program to slice a tuple."
   ]
  },
  {
   "cell_type": "code",
   "execution_count": 4,
   "id": "57c83fc2-f299-4a72-91c7-46f85f161640",
   "metadata": {},
   "outputs": [
    {
     "data": {
      "text/plain": [
       "(2, 3)"
      ]
     },
     "execution_count": 4,
     "metadata": {},
     "output_type": "execute_result"
    }
   ],
   "source": [
    "tup=(1,2,3,4)\n",
    "tup[1:3]"
   ]
  },
  {
   "cell_type": "raw",
   "id": "1e491231-e087-43e6-8ba7-3400b5308a5b",
   "metadata": {},
   "source": [
    "14. Write a Python program to find the index of an item in a tuple."
   ]
  },
  {
   "cell_type": "code",
   "execution_count": 5,
   "id": "f0ed20d9-8fd4-4425-baab-45f238e8e200",
   "metadata": {},
   "outputs": [
    {
     "data": {
      "text/plain": [
       "4"
      ]
     },
     "execution_count": 5,
     "metadata": {},
     "output_type": "execute_result"
    }
   ],
   "source": [
    "tup3=(1,2,3,4,54)\n",
    "tup3.index(54)"
   ]
  },
  {
   "cell_type": "raw",
   "id": "60eaff7c-994e-4741-bcb4-1a4fd0bd082e",
   "metadata": {},
   "source": [
    "15. Write a Python program to find the length of a tuple."
   ]
  },
  {
   "cell_type": "code",
   "execution_count": 6,
   "id": "2ed29b24-3393-4a74-9cd0-23f8443a5d46",
   "metadata": {},
   "outputs": [
    {
     "data": {
      "text/plain": [
       "4"
      ]
     },
     "execution_count": 6,
     "metadata": {},
     "output_type": "execute_result"
    }
   ],
   "source": [
    "tup4=(4,5,6,8)\n",
    "len(tup4)"
   ]
  },
  {
   "cell_type": "raw",
   "id": "cf59a20c-c264-4cc6-b2cf-741eca8d6ce8",
   "metadata": {},
   "source": [
    "16. The idea is to count the no. of time the product occurred, its already\n",
    "mentioned in the question no. are disctinct, we just need to the all the\n",
    "combinations.For a,b,c,d there can be 8 combinations, lets take (a,b) as 1 and\n",
    "(c,d) as 2 so there it can be written as &quot;12&quot; or &quot;21&quot; so 2 ways and then the 1-\n",
    "which is ab can also be written as &quot;ab&quot; or &quot;ba&quot; so again 2 ways and likewise for\n",
    "cd. So the max unique combination for a tuple (a,b,c,d) can be 2x2x2 = 8.Once\n",
    "we have a count of the no. of products we can find the combination."
   ]
  },
  {
   "cell_type": "code",
   "execution_count": null,
   "id": "d2bfdf86-f0cf-4c59-90b6-ba47118abee9",
   "metadata": {},
   "outputs": [],
   "source": []
  }
 ],
 "metadata": {
  "kernelspec": {
   "display_name": "Python 3 (ipykernel)",
   "language": "python",
   "name": "python3"
  },
  "language_info": {
   "codemirror_mode": {
    "name": "ipython",
    "version": 3
   },
   "file_extension": ".py",
   "mimetype": "text/x-python",
   "name": "python",
   "nbconvert_exporter": "python",
   "pygments_lexer": "ipython3",
   "version": "3.13.0"
  }
 },
 "nbformat": 4,
 "nbformat_minor": 5
}
