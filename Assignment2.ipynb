{
 "cells": [
  {
   "cell_type": "raw",
   "id": "308d670c-9785-4a03-aca5-80e40314a66d",
   "metadata": {},
   "source": [
    "Q1.Write a  Python program to check if each number is prime in a given list of\n",
    "numbers. Return True if all numbers are prime otherwise False.\n",
    "Sample Data:\n",
    "([0, 3, 4, 7, 9]) -&gt; False\n",
    "([3, 5, 7, 13]) -&gt; True\n",
    "([1, 5, 3]) -&gt; False"
   ]
  },
  {
   "cell_type": "code",
   "execution_count": 5,
   "id": "d4887946-82c8-498f-a557-aebdcde4c777",
   "metadata": {},
   "outputs": [
    {
     "name": "stdout",
     "output_type": "stream",
     "text": [
      "True\n"
     ]
    }
   ],
   "source": [
    "def check_prime(list):\n",
    "    list2=[]\n",
    "    for i in list:\n",
    "        count=0\n",
    "        for j in range(1,i+1):\n",
    "            if i%j==0:\n",
    "                count+=1\n",
    "        if count==2:\n",
    "            list2.append(i)\n",
    "    if len(list)==len(list2):\n",
    "        return True\n",
    "    else:\n",
    "        return False\n",
    "list=[5,3,7]\n",
    "print(check_prime(list))\n",
    "            "
   ]
  },
  {
   "cell_type": "raw",
   "id": "a08626a6-f6c4-43e8-8475-09a040bc6c09",
   "metadata": {},
   "source": [
    "Q2. Write a  Python program to generate all permutations of a list in Python."
   ]
  },
  {
   "cell_type": "code",
   "execution_count": 1,
   "id": "8ad241c4-98ee-4ed7-863f-3011ef6bfbc3",
   "metadata": {},
   "outputs": [
    {
     "name": "stdout",
     "output_type": "stream",
     "text": [
      "[1, 2, 3]\n",
      "[1, 3, 2]\n",
      "[2, 1, 3]\n",
      "[2, 3, 1]\n",
      "[3, 1, 2]\n",
      "[3, 2, 1]\n"
     ]
    }
   ],
   "source": [
    "def get_permutations(list):\n",
    "    if len(list)==0:\n",
    "        return []\n",
    "    if len(list)==1:\n",
    "        return [list]\n",
    "    permutation=[]\n",
    "    for i in range(len(list)):\n",
    "        current_element=list[i]\n",
    "        remaining_element=list[:i]+list[i+1:]\n",
    "        for p in get_permutations(remaining_element):\n",
    "            permutation.append([current_element] + p)\n",
    "    return permutation\n",
    "list=[1,2,3]\n",
    "perm=get_permutations(list)\n",
    "for k in perm:\n",
    "    print(k)"
   ]
  },
  {
   "cell_type": "raw",
   "id": "2595d10b-4e4d-4711-901c-7aec0c22fb11",
   "metadata": {},
   "source": [
    "Q3. Write a Python program that uses the Sieve of Eratosthenes method to compute prime numbers up to a specified number."
   ]
  },
  {
   "cell_type": "code",
   "execution_count": 2,
   "id": "e78fb2ab-7f42-4fb5-b9f7-2ab4ec8fb8b7",
   "metadata": {},
   "outputs": [
    {
     "name": "stdout",
     "output_type": "stream",
     "text": [
      "[2, 3, 5, 7, 11, 13, 17, 19, 23, 29, 31, 37, 41, 43, 47, 53, 59, 61, 67, 71, 73, 79, 83, 89, 97]\n",
      "None\n"
     ]
    }
   ],
   "source": [
    "def sieve_eratosthenes(limit):\n",
    "    if limit<2:\n",
    "        return []\n",
    "    prime=[True for _ in range(limit+1)]\n",
    "    p=2\n",
    "    while p*p<=limit:\n",
    "        if prime[p]:\n",
    "            for i in range (p*p,limit+1,p):\n",
    "                prime[i]=False\n",
    "        p+=1\n",
    "    prime_number=[p for p in range(2,limit+1) if prime[p]]\n",
    "    print(prime_number)\n",
    "limit=100\n",
    "print(sieve_eratosthenes(limit))\n",
    "                  \n",
    "    "
   ]
  },
  {
   "cell_type": "raw",
   "id": "9ccd7245-8d49-4e6b-8483-cbd0316a7233",
   "metadata": {},
   "source": [
    "Q4. Write a Python program to change the position of every n-th value to the (n+1)th in a list.\n",
    "Sample list: [0,1,2,3,4,5]\n",
    "Expected Output: [1, 0, 3, 2, 5, 4] would be truncated to -2."
   ]
  },
  {
   "cell_type": "code",
   "execution_count": 3,
   "id": "dfc249b2-9c2f-4bcb-8088-8728d67418e1",
   "metadata": {},
   "outputs": [
    {
     "name": "stdout",
     "output_type": "stream",
     "text": [
      "[1, 0, 3, 2, 5, 4]\n"
     ]
    }
   ],
   "source": [
    "def interchange_pos(list):\n",
    "    list2=[]\n",
    "    for n in list:\n",
    "        for i in range(0,len(list),2):\n",
    "            if list[i]==n:\n",
    "                list2.append(n+1)\n",
    "                list2.append(n)\n",
    "    return list2\n",
    "list=[0,1,2,3,4,5]\n",
    "print(interchange_pos(list))\n",
    "\n",
    "        "
   ]
  },
  {
   "cell_type": "raw",
   "id": "807362ae-096d-4e28-9045-a8c2fa5a9370",
   "metadata": {},
   "source": [
    "Q5. Write a Python program to compute the product of the odd digits in a given number, or 0 if there aren't any.\n",
    "Input: 123456789\n",
    "Output:\n",
    "945\n",
    "Input: 2468\n",
    "Output:\n",
    "0\n",
    "Input: 13579\n",
    "Output:\n",
    "945"
   ]
  },
  {
   "cell_type": "code",
   "execution_count": 6,
   "id": "289309cd-9472-4cc1-a09d-d07e95f1ef06",
   "metadata": {},
   "outputs": [
    {
     "name": "stdout",
     "output_type": "stream",
     "text": [
      "9\n"
     ]
    }
   ],
   "source": [
    "def get_product(num):\n",
    "    product=1\n",
    "    has_odd_digit=False\n",
    "    while num>0:\n",
    "        digit = num%10\n",
    "        if digit % 2 != 0:\n",
    "            product*= digit\n",
    "            has_odd_digit=True\n",
    "        num//=10\n",
    "    return product if has_odd_digit else 0\n",
    "num=12469\n",
    "print(get_product(num))\n",
    "            "
   ]
  },
  {
   "cell_type": "raw",
   "id": "b0dd96f0-0617-42b2-a9d7-47967fb8c7ec",
   "metadata": {},
   "source": [
    "Q6. Write a Python program to find the largest integer divisor of a number n that is less than n.\n",
    "Input: 18\n",
    "Output:\n",
    "9"
   ]
  },
  {
   "cell_type": "code",
   "execution_count": 7,
   "id": "aef64c97-6772-442d-b68b-c5669c9e7f83",
   "metadata": {},
   "outputs": [
    {
     "name": "stdout",
     "output_type": "stream",
     "text": [
      "11\n"
     ]
    }
   ],
   "source": [
    "def largest_divisor(n):\n",
    "    for i in range(n//2,0,-1):\n",
    "        if n%i==0:\n",
    "            return i\n",
    "n=121\n",
    "print(largest_divisor(n))\n",
    "        "
   ]
  },
  {
   "cell_type": "raw",
   "id": "c4aefe66-c6b1-4c6c-a0f1-60623e8c009f",
   "metadata": {},
   "source": [
    "Q7. Write a Python program to sort the numbers in a given list by the sum of\n",
    "their digits.\n",
    "Input: [10, 11, 12, 13, 14, 15, 16, 17, 18, 19, 20]\n",
    "Output:\n",
    "[10, 11, 20, 12, 13, 14, 15, 16, 17, 18, 19]\n",
    "Input: [23, 2, 9, 34, 8, 9, 10, 74]\n",
    "Output:\n",
    "[10, 2, 23, 34, 8, 9, 9, 74]"
   ]
  },
  {
   "cell_type": "code",
   "execution_count": 1,
   "id": "d6fdec90-c8ed-4e9f-996e-682a06a7a0bf",
   "metadata": {},
   "outputs": [
    {
     "name": "stdout",
     "output_type": "stream",
     "text": [
      "[10, 20, 12, 21, 34, 54, 67]\n"
     ]
    }
   ],
   "source": [
    "def digit_sum(n):\n",
    "    return sum(int(digit) for digit in str(n))\n",
    "def get_sort_list(numbers):\n",
    "    def get_digit_sum(n):\n",
    "        return digit_sum(n)\n",
    "    return sorted(numbers,key=get_digit_sum)\n",
    "numbers=[10,12,34,54,67,20,21]\n",
    "print(get_sort_list(numbers))\n"
   ]
  },
  {
   "cell_type": "raw",
   "id": "5e017e24-8552-4165-875f-6a7addbc903c",
   "metadata": {},
   "source": [
    "Q8. Write a Python program to determine which triples sum to zero from a\n",
    "given list of lists.\n",
    "Input: [[1343532, -2920635, 332], [-27, 18, 9], [4, 0, -4], [2, 2, 2], [-20, 16, 4]]\n",
    "Output:\n",
    "[False, True, True, False, True]\n",
    "Input: [[1, 2, -3], [-4, 0, 4], [0, 1, -5], [1, 1, 1], [-2, 4, -1]]\n",
    "Output:\n",
    "[True, True, False, False, False]"
   ]
  },
  {
   "cell_type": "code",
   "execution_count": 2,
   "id": "5a96e8a4-379c-4d6e-b467-48bc7ae74c6a",
   "metadata": {},
   "outputs": [
    {
     "name": "stdout",
     "output_type": "stream",
     "text": [
      "[True, True, False, False, False]\n"
     ]
    }
   ],
   "source": [
    "def get_sum_triples(list):\n",
    "    result=[]\n",
    "    for inner_list in list:\n",
    "        is_zero=False\n",
    "        for i in range(len(inner_list)-2):\n",
    "            if inner_list[i]+inner_list[i+1]+inner_list[i+2]==0:\n",
    "                is_zero=True\n",
    "                result.append(is_zero)\n",
    "            else:\n",
    "                is_zero=False\n",
    "                result.append(is_zero)\n",
    "    return result\n",
    "list=[[1, 2, -3], [-4, 0, 4], [0, 1, -5], [1, 1, 1], [-2, 4, -1]]\n",
    "print(get_sum_triples(list))"
   ]
  },
  {
   "cell_type": "raw",
   "id": "e9bbfefc-423b-4bb8-adba-2a8631e9bb49",
   "metadata": {},
   "source": [
    "Q9. Write a Python program to sort numbers based on strings.\n",
    "Input: six one four one two three\n",
    "Output:\n",
    "one two three four six\n",
    "Input: six one four three two nine eight\n",
    "\n",
    "Output:\n",
    "one two three four six eight nine\n",
    "Input: nine eight seven six five four three two one\n",
    "Output:\n",
    "one two three four five six seven eight nine"
   ]
  },
  {
   "cell_type": "code",
   "execution_count": null,
   "id": "c92e93a1-c827-4803-a1a7-492ed371bf9a",
   "metadata": {},
   "outputs": [],
   "source": []
  },
  {
   "cell_type": "raw",
   "id": "4ba7ed4c-4d9e-4914-8d86-3e5162d25fbb",
   "metadata": {},
   "source": [
    "Q10. Write a Python program to find all even palindromes up to n.\n",
    "Output:\n",
    "Even palindromes up to 50 -\n",
    "[0, 2, 4, 6, 8, 22, 44]\n",
    "Even palindromes up to 100 -\n",
    "[0, 2, 4, 6, 8, 22, 44, 66, 88]"
   ]
  },
  {
   "cell_type": "code",
   "execution_count": 4,
   "id": "365f2174-019d-41f0-8efb-fdea037cec96",
   "metadata": {},
   "outputs": [
    {
     "name": "stdin",
     "output_type": "stream",
     "text": [
      "Enter any number: 2000\n"
     ]
    },
    {
     "data": {
      "text/plain": [
       "[0,\n",
       " 2,\n",
       " 4,\n",
       " 6,\n",
       " 8,\n",
       " 22,\n",
       " 44,\n",
       " 66,\n",
       " 88,\n",
       " 202,\n",
       " 212,\n",
       " 222,\n",
       " 232,\n",
       " 242,\n",
       " 252,\n",
       " 262,\n",
       " 272,\n",
       " 282,\n",
       " 292,\n",
       " 404,\n",
       " 414,\n",
       " 424,\n",
       " 434,\n",
       " 444,\n",
       " 454,\n",
       " 464,\n",
       " 474,\n",
       " 484,\n",
       " 494,\n",
       " 606,\n",
       " 616,\n",
       " 626,\n",
       " 636,\n",
       " 646,\n",
       " 656,\n",
       " 666,\n",
       " 676,\n",
       " 686,\n",
       " 696,\n",
       " 808,\n",
       " 818,\n",
       " 828,\n",
       " 838,\n",
       " 848,\n",
       " 858,\n",
       " 868,\n",
       " 878,\n",
       " 888,\n",
       " 898]"
      ]
     },
     "execution_count": 4,
     "metadata": {},
     "output_type": "execute_result"
    }
   ],
   "source": [
    "def check_palindrome(num):\n",
    "    return str(num)==str(num)[::-1]\n",
    "def print_even_palindrome(n):\n",
    "    even_palindrome=[]\n",
    "    for num in range(0,n+1):\n",
    "        if num%2==0 and check_palindrome(num):\n",
    "            even_palindrome.append(num)\n",
    "    return even_palindrome\n",
    "n=int(input(\"Enter any number:\"))\n",
    "print_even_palindrome(n)\n",
    "            "
   ]
  },
  {
   "cell_type": "raw",
   "id": "0b5f589e-9c10-4a68-bfe3-6bc8277e6d53",
   "metadata": {},
   "source": [
    "Q11. Write a Python program to find a list of all numbers that are adjacent to a\n",
    "prime number in the list, sorted without duplicates.\n",
    "Input:\n",
    "[2, 17, 16, 0, 6, 4, 5]\n",
    "Output:\n",
    "[2, 4, 16, 17]\n",
    "Input:\n",
    "[1, 2, 19, 16, 6, 4, 10]\n",
    "Output:\n",
    "[1, 2, 16, 19]\n",
    "Input:\n",
    "[1, 2, 3, 5, 1, 16, 7, 11, 4]\n",
    "Output:\n",
    "[1, 2, 3, 4, 5, 7, 11, 16]"
   ]
  },
  {
   "cell_type": "code",
   "execution_count": 20,
   "id": "5070e685-813a-4442-b787-55399d9f89a4",
   "metadata": {},
   "outputs": [
    {
     "name": "stdout",
     "output_type": "stream",
     "text": [
      "[1, 2, 3, 4, 5, 7, 11, 16]\n"
     ]
    }
   ],
   "source": [
    "def is_prime(num,count=0):\n",
    "    if num<2:\n",
    "        return False\n",
    "    for i in range(2,num):\n",
    "        if num%i==0:\n",
    "            return False\n",
    "    return True\n",
    "def adj_prime_num(list):\n",
    "    adj_prime=set()\n",
    "    for i in range(len(list)):\n",
    "        if is_prime (list[i]):\n",
    "            if i>0:\n",
    "                adj_prime.add(list[i-1])\n",
    "            if i<len(list)-1:\n",
    "                adj_prime.add(list[i+1])\n",
    "            #adj_prime.add(list[i])    \n",
    "    return sorted(adj_prime)\n",
    "list=[1,2,3,5,1,16,7,11,4]\n",
    "print(adj_prime_num(list))\n",
    "                              \n",
    "        \n",
    "        "
   ]
  },
  {
   "cell_type": "raw",
   "id": "5362aecd-db29-48ed-b1a2-f26550926361",
   "metadata": {},
   "source": [
    "Q12. Write a Python program to sort a list of elements using Gnome sort.\n",
    "Gnome sort is a sorting algorithm originally proposed by Dr. Hamid Sarbazi-\n",
    "Azad (Professor of Computer Engineering at Sharif University of Technology)\n",
    "in 2000 and called &quot;stupid sort&quot; (not to be confused with bogosort), and then\n",
    "\n",
    "later on described by Dick Grune and named &quot;gnome sort&quot;. The algorithm\n",
    "always finds the first place where two adjacent elements are in the wrong\n",
    "order, and swaps them. It takes advantage of the fact that performing a swap\n",
    "can introduce a new out-of-order adjacent pair only next to the two swapped\n",
    "elements."
   ]
  },
  {
   "cell_type": "code",
   "execution_count": 21,
   "id": "d44efe43-4eaa-4711-8912-c7a393ea4ec4",
   "metadata": {},
   "outputs": [
    {
     "name": "stdout",
     "output_type": "stream",
     "text": [
      "[12, 13, 21, 32, 34, 67, 87]\n"
     ]
    }
   ],
   "source": [
    "def gnome_sort(list):\n",
    "    index=0\n",
    "    while index<len(list):\n",
    "        if index ==0 or list[index]>=list[index-1]:\n",
    "            index+=1\n",
    "        else:\n",
    "            list[index-1],list[index]=list[index],list[index-1]\n",
    "            index-=1\n",
    "    return list\n",
    "list=[12,32,13,34,21,87,67]\n",
    "print(gnome_sort(list))"
   ]
  },
  {
   "cell_type": "code",
   "execution_count": null,
   "id": "f59da1b2-e8f0-4855-ab86-8f81cfd5fa8a",
   "metadata": {},
   "outputs": [],
   "source": []
  }
 ],
 "metadata": {
  "kernelspec": {
   "display_name": "Python 3 (ipykernel)",
   "language": "python",
   "name": "python3"
  },
  "language_info": {
   "codemirror_mode": {
    "name": "ipython",
    "version": 3
   },
   "file_extension": ".py",
   "mimetype": "text/x-python",
   "name": "python",
   "nbconvert_exporter": "python",
   "pygments_lexer": "ipython3",
   "version": "3.13.0"
  }
 },
 "nbformat": 4,
 "nbformat_minor": 5
}
