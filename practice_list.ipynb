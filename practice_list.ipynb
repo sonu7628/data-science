{
 "cells": [
  {
   "cell_type": "raw",
   "id": "99cefe78-0912-421a-9a83-f5a52a801862",
   "metadata": {},
   "source": [
    "1.One day three best friends Petya, Vasya and Tonya decided to form a team and take part in programming contests. Participants are usually offered several problems during programming contests. Long before the start the friends decided that they will implement a problem if at least two of them are sure about the solution. Otherwise, the friends won't write the problem's solution. This contest offers n problems to the participants. For each problem we know, which friend is sure about the solution. Help the friends find the number of problems for which they will write a solution.\n",
    "Input                                                                                                                            \n",
    "The first input line contains a single integer n (1 ≤ n ≤ 1000) — the number of problems in the contest. Then n lines contain three integers each, each integer is either 0 or 1. If the first number in the line equals 1, then Petya is sure about the problem's solution, otherwise he isn't sure. The second number shows Vasya's view on the solution, the third number shows Tonya's view. The numbers on the lines are separated by spaces.\n",
    "Output                                                                                                                                           \n",
    "Print a single integer — the number of problems the friends will implement on the contest.\n",
    "Input\n",
    "3\n",
    "1 1 0\n",
    "1 1 1\n",
    "1 0 0\n",
    "output\n",
    "2\n",
    "Input\n",
    "2\n",
    "1 0 0\n",
    "0 1 1\n",
    "Output\n",
    "1\n",
    "Note  In the first sample Petya and Vasya are sure that they know how to solve the first problem and all three of them know how to solve the second problem. That means that they will write solutions for these problems. Only Petya is sure about the solution for the third problem, but that isn't enough, so the friends won't take it.In the second sample the friends will only implement the second problem, as Vasya and Tonya are sure about the solution.\n",
    "\n"
   ]
  },
  {
   "cell_type": "code",
   "execution_count": 5,
   "id": "5d069db5-68d3-49a6-b914-745388388698",
   "metadata": {},
   "outputs": [
    {
     "name": "stdin",
     "output_type": "stream",
     "text": [
      "Enter the number of problems: 3\n",
      " 1 0 1\n",
      " 1 1 1\n",
      " 0 0 1\n"
     ]
    },
    {
     "name": "stdout",
     "output_type": "stream",
     "text": [
      "2\n"
     ]
    }
   ],
   "source": [
    "n=int(input(\"Enter the number of problems:\"))\n",
    "count=0\n",
    "for _ in range(n):\n",
    "    p,v,t=map(int,input().split())\n",
    "    if p+v+t>=2:\n",
    "        count+=1\n",
    "print(count)"
   ]
  },
  {
   "cell_type": "raw",
   "id": "a883c036-d5ad-455c-8408-224d3f0aa9e6",
   "metadata": {},
   "source": [
    "Q2: Is your horseshoe on the other hoof?\n",
    "Valera the Horse is going to the party with friends. He has been following the fashion trends for a while, and he knows that it is very popular to wear all horseshoes of different color. Valera has got four horseshoes left from the last year, but maybe some of them have the same color. In this case he needs to go to the store and buy some few more horseshoes, not to lose face in front of his stylish comrades. Fortunately, the store sells horseshoes of all colors under the sun and Valera has enough money to buy any four of them. However, in order to save the money, he would like to spend as little money as possible, so you need to help Valera and determine what is the minimum number of horseshoes he needs to buy to wear four horseshoes of different colors to a party.\n",
    "Input   \n",
    "The first line contains four space-separated integers s1, s2, s3, s4 (1 ≤ s1, s2, s3, s4 ≤ 109) — the colors of horseshoes Valera has.                 Consider all possible colors indexed with integers.\n",
    "Output                                                                                                                              \n",
    "Print a single integer — the minimum number of horseshoes Valera needs to buy.\n",
    "Input\n",
    "1 7 3 3\n",
    "Output\n",
    "1\n",
    "Input\n",
    "7 7 7 7\n",
    "Output\n",
    "3\n",
    "\n"
   ]
  },
  {
   "cell_type": "code",
   "execution_count": 1,
   "id": "9feb837d-f513-4eb2-95e2-d6cf2d280aa1",
   "metadata": {},
   "outputs": [
    {
     "name": "stdin",
     "output_type": "stream",
     "text": [
      "enter any number: 4\n",
      "enter any number1: 1\n",
      "enter any number2: 2\n",
      "enter any number3: 3\n",
      "enter any number4: 3\n"
     ]
    },
    {
     "name": "stdout",
     "output_type": "stream",
     "text": [
      "{1, 2, 3}\n",
      "1\n"
     ]
    }
   ],
   "source": [
    "n=int(input(\"enter any number:\"))\n",
    "a=[]\n",
    "for i in range(n):\n",
    "    num=int(input(f\"enter any number{i+1}:\"))\n",
    "    a.append(num)\n",
    "b=set(a)\n",
    "print(b)\n",
    "print(n-len(b))"
   ]
  },
  {
   "cell_type": "raw",
   "id": "46c53d9f-eb63-434d-92b8-fb4c0c7d8603",
   "metadata": {},
   "source": [
    "Q3\n",
    "Vehicle Manufacturing\n",
    "You are tasked with determining the number of two-wheelers and four-wheelers that need to be manufactured based on the given total number of vehicles and the total number of wheels.\n",
    "You are provided with two integers:\n",
    "v: the total number of vehicles (both two-wheelers and four-wheelers).\n",
    "w: the total number of wheels for all the vehicles combined.\n",
    "Your task is to calculate and print how many two-wheelers and four-wheelers must be manufactured based on the input data. If it's not possible to manufacture such a combination, print −1−1.\n",
    "Input Format\n",
    "The first line of input will contain a single integer TT, denoting the number of test cases.\n",
    "Each test case consists of two lines of input.\n",
    "The first line contains an integer vv — the total number of vehicles.\n",
    "The second line contains an integer ww — the total number of wheels.\n",
    "Output Format\n",
    "For each test case,\n",
    "If a valid combination of two-wheelers and four-wheelers exists, print two integers:\n",
    "The number of two-wheelers, the number of four-wheelers.\n",
    "If no valid combination is possible, print -1.\n",
    "Constraints\n",
    "1≤T≤1001≤T≤100\n",
    "0≤v≤1060≤v≤106\n",
    "0≤w≤40≤w≤4 x 106106\n",
    "\n",
    "Input\n",
    "\n",
    "2\n",
    "12 \n",
    "34\n",
    "10 \n",
    "25\n",
    "Output:   7 5\n",
    "          -1\n",
    "\n",
    "Explanation:\n",
    "Test Case 1: You have 12 vehicles in total and 34 wheels, which is possible with 7 two-wheelers and 5 four-wheelers.\n",
    "Test Case 2: it is not possible to have 25 wheels with 10 vehicles, so the output is -1."
   ]
  },
  {
   "cell_type": "code",
   "execution_count": 30,
   "id": "1e20d4bb-047c-4f6e-8ec2-1ca940f9a723",
   "metadata": {},
   "outputs": [
    {
     "name": "stdin",
     "output_type": "stream",
     "text": [
      "enter the number of cases: 2\n",
      "enter the number of vehicles: 12\n",
      "enter the number of wheels: 34\n"
     ]
    },
    {
     "name": "stdout",
     "output_type": "stream",
     "text": [
      "7 5\n"
     ]
    },
    {
     "name": "stdin",
     "output_type": "stream",
     "text": [
      "enter the number of vehicles: 10\n",
      "enter the number of wheels: 25\n"
     ]
    },
    {
     "name": "stdout",
     "output_type": "stream",
     "text": [
      "-1\n"
     ]
    }
   ],
   "source": [
    "n=int(input(\"enter the number of cases:\"))\n",
    "for _ in range(n):\n",
    "    v=int(input(\"enter the number of vehicles:\"))\n",
    "    w=int(input(\"enter the number of wheels:\"))\n",
    "    if w%2!=0 or w<2*v or w>4*v:\n",
    "        print(-1)\n",
    "    else:\n",
    "        x=(4*v)-w\n",
    "        t=x/2\n",
    "        f=v-t\n",
    "        print(int(t),int(f))"
   ]
  },
  {
   "cell_type": "raw",
   "id": "cafa75ee-3d98-44a4-8afc-bcd692e99cf7",
   "metadata": {},
   "source": [
    "Question:4\n",
    "Problem Statement –\n",
    "Joseph is learning digital logic subject which will be for his next semester. He usually tries to solve unit assignment problems before the lecture. Today he got one tricky question. The problem statement is “A positive integer has been given as an input. Convert decimal value to binary representation. Toggle all bits of it after the most significant bit including the most significant bit. Print the positive integer value after toggling all bits”.\n",
    "Constrains-\n",
    "1<=N<=100\n",
    "Example 1:\n",
    "Input :\n",
    "10  -> Integer\n",
    "Output :\n",
    "5    -> result- Integer\n",
    "Explanation:\n",
    "Binary representation of 10 is 1010. After toggling the bits(1010), will get 0101 which represents “5”. Hence output will print “5”.\n"
   ]
  },
  {
   "cell_type": "code",
   "execution_count": 32,
   "id": "723344da-b4b9-413f-b216-936bc3dc5521",
   "metadata": {},
   "outputs": [
    {
     "name": "stdin",
     "output_type": "stream",
     "text": [
      "enter any number: 20\n"
     ]
    },
    {
     "name": "stdout",
     "output_type": "stream",
     "text": [
      "10\n"
     ]
    }
   ],
   "source": [
    "n= int(input(\"enter any number:\"))\n",
    "a=n>>1\n",
    "print(a)"
   ]
  },
  {
   "cell_type": "raw",
   "id": "c945c793-9b2d-419a-87a1-23bb0dae6d21",
   "metadata": {},
   "source": [
    "Question:5\n",
    "Jack is always excited about sunday. It is favourite day, when he gets to play all day. And goes to cycling with his friends. \n",
    "So every time when the months starts he counts the number of sundays he will get to enjoy. Considering the month can start with any day, be it Sunday, Monday…. Or so on.\n",
    "Count the number of Sunday jack will get within n number of days.\n",
    " Example 1:\n",
    "Input \n",
    "mon-> input String denoting the start of the month.\n",
    "13  -> input integer denoting the number of days from the start of the month.\n",
    "Output :\n",
    "2    -> number of days within 13 days.\n",
    "Explanation:\n",
    "The month start with mon(Monday). So the upcoming sunday will arrive in next 6 days. And then next Sunday in next 7 days and so on.\n",
    "Now total number of days are 13. It means 6 days to first sunday and then remaining 7 days will end up in another sunday. Total 2 sundays may fall within 13 days.\n"
   ]
  },
  {
   "cell_type": "code",
   "execution_count": 4,
   "id": "f2b4a170-b956-49e8-ac28-3b8ea77ff315",
   "metadata": {},
   "outputs": [
    {
     "name": "stdout",
     "output_type": "stream",
     "text": [
      "2\n"
     ]
    }
   ],
   "source": [
    "def count_sunday(start_day,n):\n",
    "    day_index={\"sun\":0,\"mon\":1,\"tue\":2,\"wed\":3,\"thu\":4,\"fri\":5,\"sat\":6}\n",
    "    start_index=day_index[start_day]\n",
    "    total_sunday=0\n",
    "    for day in range(1,n+1):\n",
    "        sunday=(start_index+day)%7\n",
    "        if sunday==0:\n",
    "            total_sunday+=1\n",
    "    return total_sunday\n",
    "n=13\n",
    "start_day=\"mon\"\n",
    "print(count_sunday(start_day,n))"
   ]
  },
  {
   "cell_type": "raw",
   "id": "7df5a812-40ed-4998-b04f-52768a1e46c9",
   "metadata": {},
   "source": [
    "Question:6\n",
    "Airport security officials have confiscated several item of the passengers at the security check point. All the items have been dumped into a huge box (array). Each item possesses a certain amount of risk[0,1,2]. Here, the risk severity of the items represent an array[] of N number of integer values. The task here is to sort the items based on their levels of risk in the array. The risk values range from 0 to 2.\n",
    "Example :\n",
    "Input :\n",
    "7  -> Value of N\n",
    "[1,0,2,0,1,0,2]-> Element of arr[0] to arr[N-1], while input each element is separated by new line.\n",
    "Output :\n",
    "0 0 0 1 1 2 2  -> Element after sorting based on risk severity \n",
    "Example 2:\n",
    "input : 10  -> Value of N \n",
    "[2,1,0,2,1,0,0,1,2,0] -> Element of arr[0] to arr[N-1], while input each element is separated by a new line.\n",
    "Output : \n",
    "0 0 0 0 1 1 1 2 2 2  ->Elements after sorting based on risk severity.\n",
    "Explanation:\n",
    "In the above example, the input is an array of size N consisting of only 0’s, 1’s and 2s. The output is a sorted array from 0 to 2 based on risk severity\n"
   ]
  },
  {
   "cell_type": "code",
   "execution_count": 1,
   "id": "31621439-931a-41e9-aab6-1faef9aeabbe",
   "metadata": {},
   "outputs": [
    {
     "name": "stdin",
     "output_type": "stream",
     "text": [
      "enter the value: 10\n",
      "enter num1: 0\n",
      "enter num2: 0\n",
      "enter num3: 0\n",
      "enter num4: 0\n",
      "enter num5: 1\n",
      "enter num6: 1\n",
      "enter num7: 1\n",
      "enter num8: 2\n",
      "enter num9: 2\n",
      "enter num10: 2\n"
     ]
    },
    {
     "name": "stdout",
     "output_type": "stream",
     "text": [
      "0 0 0 0 1 1 1 2 2 2 "
     ]
    }
   ],
   "source": [
    "list2=[]\n",
    "n=int(input(\"enter the value:\"))\n",
    "numbers=[]\n",
    "for j in range(n):\n",
    "    num=int(input(f\"enter num{j+1}:\"))\n",
    "    numbers.append(num)\n",
    "for i in numbers:\n",
    "    if i<3:\n",
    "        list2.append(i)\n",
    "a=sorted(list2)\n",
    "for i in a:\n",
    "    print(i,end=\" \")\n",
    "    "
   ]
  },
  {
   "cell_type": "raw",
   "id": "d2fef9ab-0cd3-4f38-8bfb-102ea051482b",
   "metadata": {},
   "source": [
    "Question:7\n",
    "A furnishing company is manufacturing a new collection of curtains. The curtains are of two colors aqua(a) and black (b). The curtains color is represented as a string(str) consisting of a’s and b’s of length N. Then, they are packed (substring) into L number of curtains in each box. The box with the maximum number of ‘aqua’ (a) color curtains is labeled. The task here is to find the number of ‘aqua’ color curtains in the labeled box.\n",
    "Note :\n",
    "If ‘L’ is not a multiple of N, the remaining number of curtains should be considered as a substring too. In simple words, after dividing the curtains in sets of ‘L’, any curtains left will be another set(refer example 1)\n",
    "Example 1:\n",
    "Input :\n",
    "bbbaaababa -> Value of str\n",
    "3    -> Value of L\n",
    "Output:\n",
    "3   -> Maximum number of a’s\n",
    "Explanation:\n",
    "From the input given above.\n",
    "Dividing the string into sets of 3 characters each \n",
    "Set 1: {b,b,b}\n",
    "Set 2: {a,a,a}\n",
    "Set 3: {b,a,b}\n",
    "Set 4: {a} -> leftover characters also as taken as another set\n",
    "Among all the sets, Set 2 has more number of a’s. The number of a’s in set 2 is 3.\n",
    "Hence, the output is 3.\n",
    "Example 2:\n",
    "Input :\n",
    "abbbaabbb -> Value of str\n",
    "5   -> Value of L\n",
    "Output:\n",
    "2   -> Maximum number of a’s\n",
    "Explanation:\n",
    "From the input given above,\n",
    "Dividing the string into sets of 5 characters each.\n",
    "Set 1: {a,b,b,b,b}\n",
    "Set 2: {a,a,b,b,b}\n",
    "Among both the sets, set 2 has more number of a’s. The number of a’s in set 2 is 2.\n",
    "Hence, the output is 2.\n",
    "Constraints:\n",
    "1<=L<=10\n",
    "1<=N<=50\n",
    "The input format for testing \n",
    "The candidate has to write the code to accept two inputs separated by a new line.\n",
    "First input- Accept string that contains character a and b only\n",
    "Second input- Accept value for N(Positive integer number)\n",
    "The output  format for testing\n",
    "The output should be a positive integer number of print the message(if any) given in the problem statement.(Check the output in Example 1, Example 2).\n"
   ]
  },
  {
   "cell_type": "code",
   "execution_count": 12,
   "id": "e03a7008-f475-4a17-812e-57777471843e",
   "metadata": {},
   "outputs": [
    {
     "name": "stdin",
     "output_type": "stream",
     "text": [
      " aaabbbabab\n",
      " 3\n"
     ]
    },
    {
     "name": "stdout",
     "output_type": "stream",
     "text": [
      "3\n"
     ]
    }
   ],
   "source": [
    "curtain_str=input().strip()\n",
    "L=int(input().strip())\n",
    "sub_strings=[curtain_str[i:i+L] for i in range(0,len(curtain_str),L)]\n",
    "max_a_count=0\n",
    "for sub_string in sub_strings:\n",
    "    max_a_count=max(max_a_count,sub_string.count(\"a\"))\n",
    "print(max_a_count)"
   ]
  },
  {
   "cell_type": "raw",
   "id": "459b3b89-5693-4117-90bc-58b6e72f1689",
   "metadata": {},
   "source": [
    "Question:8\n",
    "An international round table conference will be held in india. Presidents from all over the world representing their respective countries will be attending the conference. The task is to find the possible number of ways(P) to make the N members sit around the circular table such that.\n",
    "The president and prime minister of India will always sit next to each other.\n",
    "Example 1:\n",
    "Input :\n",
    "4   -> Value of N(No. of members)\n",
    "Output : \n",
    "12  -> Possible ways of seating the members\n",
    "Explanation:\n",
    "2  members should always be next to each other. \n",
    "So, 2 members can be in 2!ways\n",
    "Rest of the members can be arranged in (4-1)! ways.(1 is subtracted because the previously selected two members will be considered as single members now).\n",
    "So total possible ways 4 members can be seated around the circular table 2*6= 12.\n",
    "Hence, output is 12.\n",
    "Example 2:\n",
    "Input:\n",
    "10  -> Value of N(No. of members)\n",
    "Output :\n",
    "725760 -> Possible ways of seating the members \n",
    "Explanation:\n",
    "2 members should always be next to each other.\n",
    "So, 2 members can be in 2! ways \n",
    "Rest of the members can be arranged in (10-1)! Ways. (1 is subtracted because the previously selected two members will be considered as a single member now).\n",
    "So, total possible ways 10 members can be seated around a round table is \n",
    "2*362880 = 725760 ways.\n",
    "Hence, output is 725760.\n",
    "The input format for testing\n",
    "The candidate has to write the code to accept one input \n",
    "First input – Accept value of number of N(Positive integer number)\n",
    "The output format for testing \n",
    "The output should be a positive integer number or print the message(if any) given in the problem statement(Check the output in example 1, example2)\n",
    "Constraints :\n",
    "2<=N<=50\n"
   ]
  },
  {
   "cell_type": "code",
   "execution_count": 4,
   "id": "511468c0-1a73-44fd-829d-819be22a2de9",
   "metadata": {},
   "outputs": [
    {
     "name": "stdin",
     "output_type": "stream",
     "text": [
      " 7\n"
     ]
    },
    {
     "name": "stdout",
     "output_type": "stream",
     "text": [
      "1440\n"
     ]
    }
   ],
   "source": [
    "import math\n",
    "N=int(input().strip())\n",
    "if N>2:\n",
    "    p=2*math.factorial(N-1)\n",
    "    print(p)"
   ]
  },
  {
   "cell_type": "raw",
   "id": "dba98f42-992b-41aa-9cee-fb15bf9a47f2",
   "metadata": {},
   "source": [
    "Question:9\n",
    "An intelligence agency has received reports about some threats. The reports consist of numbers in a mysterious method. There is a number “N” and another number “R”. Those numbers are studied thoroughly and it is concluded that all digits of the number ‘N’ are summed up and this action is performed ‘R’ number of times. The resultant is also a single digit that is yet to be deciphered. The task here is to find the single-digit sum of the given number ‘N’ by repeating the action ‘R’ number of times.\n",
    "If the value of ‘R’ is 0, print the output as ‘0’.\n",
    "Example 1:\n",
    "Input :\n",
    "99 -> Value of N\n",
    "3  -> Value of R\n",
    "Output :\n",
    "9  -> Possible ways to fill the cistern.\n",
    "Explanation:\n",
    "Here, the number N=99\n",
    "Sum of the digits N: 9+9 = 18\n",
    "Repeat step 2 ‘R’ times i.e. 3 tims  (9+9)+(9+9)+(9+9) = 18+18+18 =54\n",
    "Add digits of 54 as we need a single digit 5+4\n",
    "Hence , the output is 9.\n",
    "Example 2:\n",
    "Input :\n",
    "1234   -> Value of N\n",
    "2      -> Value of R\n",
    "Output :\n",
    "2  -> Possible ways to fill the cistern\n",
    "Explanation:\n",
    "Here, the number N=1234\n",
    "Sum of the digits of N: 1+2+3+4 =10\n",
    "Repeat step 2 ‘R’ times i.e. 2 times  (1+2+3+4)+(1+2+3+4)= 10+10=20\n",
    "Add digits of 20 as we need a single digit. 2+0=2\n",
    "Hence, the output is 2.\n",
    "Constraints:\n",
    "0<N<=1000\n",
    "0<=R<=50\n",
    "The Input format for testing \n",
    "The candidate has to write the code to accept 2 input(s)\n",
    "First input- Accept value for N (positive integer number)\n",
    "Second input: Accept value for R(Positive integer number)\n",
    "The output format for testing \n",
    "The output should be a positive integer number or print the message (if any) given in the problem statement. (Check the output in Example 1, Example 2).\n"
   ]
  },
  {
   "cell_type": "code",
   "execution_count": 2,
   "id": "1b119642-03a4-4e8d-aedb-3d1586b160bd",
   "metadata": {},
   "outputs": [
    {
     "name": "stdin",
     "output_type": "stream",
     "text": [
      "enter any number: 1234\n",
      "enter value of power: 2\n"
     ]
    },
    {
     "name": "stdout",
     "output_type": "stream",
     "text": [
      "2\n"
     ]
    }
   ],
   "source": [
    "def calculate_sum_digit(n):\n",
    "    sum=0\n",
    "    while n>0:\n",
    "        digit=n%10\n",
    "        sum+=digit\n",
    "        n//=10\n",
    "    return sum\n",
    "def sum_single_digit(x,r):\n",
    "    sum=0\n",
    "    while x>0:\n",
    "        digit=x%10\n",
    "        sum+=digit\n",
    "        x//=10\n",
    "    total_sum=sum*r\n",
    "    result=calculate_sum_digit(total_sum)\n",
    "    return result\n",
    "x=int(input(\"enter any number:\"))\n",
    "r=int(input(\"enter value of power:\"))\n",
    "print(sum_single_digit(x,r))\n",
    "        \n",
    "        "
   ]
  },
  {
   "cell_type": "raw",
   "id": "54662291-a3da-43db-95a0-9d83b32819a7",
   "metadata": {},
   "source": [
    "Question:10\n",
    "Problem Statement\n",
    "Particulate matters are the biggest contributors to Delhi pollution. The main reason behind the increase in the concentration of PMs include vehicle emission by applying Odd Even concept for all types of vehicles. The vehicles with the odd last digit in the registration number will be allowed on roads on odd dates and those with even last digit will on even dates.\n",
    "Given an integer array a[], contains the last digit of the registration number of N vehicles traveling on date D(a positive integer). The task is to calculate the total fine collected by the traffic police department from the vehicles violating the rules.\n",
    "Note : For violating the rule, vehicles would be fined as X Rs.\n",
    "Example 1:\n",
    "Input :\n",
    "4 -> Value of N\n",
    "{5,2,3,7} -> a[], Elements a[0] to a[N-1], during input each element is separated by a new line\n",
    "12 -> Value of D, i.e. date \n",
    "200 -> Value of x i.e. fine\n",
    "Output :\n",
    "600  -> total fine collected \n",
    "Explanation:\n",
    "Date D=12 means , only an even number of vehicles are allowed. \n",
    "Find will be collected from 5,3 and 7 with an amount of 200 each.\n",
    "Hence, the output = 600.\n",
    "Example 2:\n",
    "Input :\n",
    "5   -> Value of N \n",
    "{2,5,1,6,8}  -> a[], elements a[0] to a[N-1], during input each element is separated by new line\n",
    "3 -> Value of D i.e. date \n",
    "300 -> Value of X i.e. fine \n",
    "Output :\n",
    "900  -> total fine collected \n",
    "Explanation:\n",
    "Date D=3 means only odd number vehicles with are allowed.\n",
    "Find will be collected from 2,6 and 8 with an amount of 300 each.\n",
    "Hence, the output = 900 \n",
    "Constraints:\n",
    "0<N<=100\n",
    "1<=a[i]<=9\n",
    "1<=D <=30\n",
    "100<=x<=5000 \n",
    "The input format for testing \n",
    "The candidate has to write the code to accept 4 input(s).\n",
    "First input – Accept for N(Positive integer) values (a[]), where each value is separated by a new line.\n",
    "Third input – Accept value for D(Positive integer)\n",
    "Fourth input – Accept value for X(Positive integer )\n",
    "The output format for testing \n",
    "The output should be a positive integer number (Check the output in Example 1, Example e) if no fine is collected then print ”0”.\n"
   ]
  },
  {
   "cell_type": "code",
   "execution_count": 1,
   "id": "9c7f5215-c89e-4002-8be2-d843deec6a7e",
   "metadata": {},
   "outputs": [
    {
     "name": "stdin",
     "output_type": "stream",
     "text": [
      "Enter the number of vehicles: 5\n",
      "input the list nums1 2\n",
      "input the list nums2 3\n",
      "input the list nums3 4\n",
      "input the list nums4 5\n",
      "input the list nums5 6\n",
      "enter the date: 12\n",
      "enter the amount of fine: 200\n"
     ]
    },
    {
     "name": "stdout",
     "output_type": "stream",
     "text": [
      "400\n"
     ]
    }
   ],
   "source": [
    "def calculate_fine(n,a,x,d):\n",
    "    date_odd=d%2!=0\n",
    "    fine=0\n",
    "    for i in a:\n",
    "        reg_odd=i%2!=0\n",
    "        if date_odd and not reg_odd:\n",
    "            fine+=x\n",
    "        if not date_odd and reg_odd:\n",
    "            fine+=x\n",
    "    return fine\n",
    "n=int(input(\"Enter the number of vehicles:\"))\n",
    "#a=[1,2,3,4,5]\n",
    "a=[]\n",
    "for j in range(n):\n",
    "    num=int(input(f\"input the list nums{j+1}\"))\n",
    "    a.append(num)\n",
    "d=int(input(\"enter the date:\"))\n",
    "x=int(input(\"enter the amount of fine:\"))\n",
    "print(calculate_fine(n,a,x,d))\n"
   ]
  },
  {
   "cell_type": "code",
   "execution_count": null,
   "id": "65574828-7820-4fc4-9903-ca424b2f8049",
   "metadata": {},
   "outputs": [],
   "source": []
  },
  {
   "cell_type": "code",
   "execution_count": null,
   "id": "0801315c-2a9b-4e48-96bd-db9cb306b2e9",
   "metadata": {},
   "outputs": [],
   "source": []
  }
 ],
 "metadata": {
  "kernelspec": {
   "display_name": "Python 3 (ipykernel)",
   "language": "python",
   "name": "python3"
  },
  "language_info": {
   "codemirror_mode": {
    "name": "ipython",
    "version": 3
   },
   "file_extension": ".py",
   "mimetype": "text/x-python",
   "name": "python",
   "nbconvert_exporter": "python",
   "pygments_lexer": "ipython3",
   "version": "3.13.0"
  }
 },
 "nbformat": 4,
 "nbformat_minor": 5
}
