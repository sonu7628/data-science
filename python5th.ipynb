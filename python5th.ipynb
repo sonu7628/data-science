{
 "cells": [
  {
   "cell_type": "raw",
   "id": "096574b9-a216-42cd-9dfe-106202230aee",
   "metadata": {},
   "source": [
    "sorting:-\n",
    "-Arranging the elements in ascending or descending order.\n",
    "-By default the sorting is ascending\n",
    "a.comparision based sort:\n",
    "sorting the elements by comparing\n",
    "1.Bubble sort\n",
    "2.Insertion sort\n",
    "3.Selection sort\n",
    "-non comparision based sort\n",
    "1.radix sort\n",
    "2.count sort\n",
    "3.bucket sort \n",
    "list.sort()--hybrid sort\n",
    "insertion ,visualgo.net3"
   ]
  },
  {
   "cell_type": "raw",
   "id": "187ceba7-ba32-453e-99a4-cbc095da7304",
   "metadata": {},
   "source": [
    "SELECTION SORT"
   ]
  },
  {
   "cell_type": "code",
   "execution_count": 1,
   "id": "1a416aae-e4d1-4cde-abe7-fa741b832235",
   "metadata": {},
   "outputs": [
    {
     "name": "stdout",
     "output_type": "stream",
     "text": [
      "[1, 2, 3, 4, 5]\n"
     ]
    }
   ],
   "source": [
    "def selection_sort(list):\n",
    "    for i in range(len(list)):\n",
    "        small_idx=i\n",
    "        for j in range(i+1,len(list)):\n",
    "            if list[j] < list[small_idx]:\n",
    "                small_idx=j\n",
    "        list[i],list[small_idx] = list[small_idx],list[i]\n",
    "    return list\n",
    "list=[1,3,2,5,4]\n",
    "print(selection_sort(list))"
   ]
  },
  {
   "cell_type": "markdown",
   "id": "aef8f191-7656-48c1-9955-5d8e3e71a3c0",
   "metadata": {},
   "source": [
    "### insertion sort"
   ]
  },
  {
   "cell_type": "code",
   "execution_count": null,
   "id": "5740e4cf-20b0-436b-a7a7-0ce14b172df1",
   "metadata": {},
   "outputs": [],
   "source": [
    "def insertion_sort(list):\n",
    "    for i in range(1,len(list)):\n",
    "        curr=i\n",
    "        prev=i-1\n",
    "        while prev<0 and curr<list[prev-1]:\n",
    "            list[prev+1]=list[prev]\n",
    "            prev-=1\n",
    "        list[prev]=curr\n",
    "    return list\n",
    "list=[1,5,4,2,3]\n",
    "print(insertion_sort(list))"
   ]
  },
  {
   "cell_type": "raw",
   "id": "5f135c6e-8702-49a9-88da-0f462cb6a887",
   "metadata": {},
   "source": [
    "DIVIDE AND CONQUOR"
   ]
  },
  {
   "cell_type": "raw",
   "id": "0b26e424-4f99-406d-b66d-d9bdff9ece93",
   "metadata": {},
   "source": [
    "MERG SORT:-\n",
    "it is a algorithimic strategy , whenever we have bigger problem will try to divide to the  sub problem.\n",
    "when the problem is solved in one or two iteration then it is a small problem.\n",
    "-Try to find the indivisual solution for the sub probelm\n",
    "-combine all sub problem solution to solve the problem.\n",
    "it is a recurssive approach.\n",
    "-when the main problem same as sub problem we can solve it.\n",
    "ex- merge sort,quick sort\n"
   ]
  },
  {
   "cell_type": "code",
   "execution_count": 21,
   "id": "0ec78062-5124-4ff7-8373-a389ed594e4c",
   "metadata": {},
   "outputs": [
    {
     "name": "stdout",
     "output_type": "stream",
     "text": [
      "Original array: [64, 25, 12, 22, 11]\n",
      "Sorted array: [11, 12, 22, 25, 64]\n"
     ]
    }
   ],
   "source": [
    "\n",
    "def merge_sort(arr):\n",
    "    if len(arr) <= 1:\n",
    "        return arr\n",
    "    mid = len(arr) // 2\n",
    "    left_half = arr[:mid]\n",
    "    right_half = arr[mid:]\n",
    "    left_half = merge_sort(left_half)\n",
    "    right_half = merge_sort(right_half)\n",
    "    return merge(left_half, right_half)\n",
    "\n",
    "def merge(left, right):\n",
    "    merged = []\n",
    "    while len(left) > 0 and len(right) > 0:\n",
    "        if left[0] <= right[0]:\n",
    "            merged.append(left.pop(0))\n",
    "        else:\n",
    "            merged.append(right.pop(0))\n",
    "    merged.extend(left)\n",
    "    merged.extend(right)\n",
    "    return merged\n",
    "\n",
    "arr = [64, 25, 12, 22, 11]\n",
    "print(\"Original array:\", arr)\n",
    "print(\"Sorted array:\", merge_sort(arr))\n"
   ]
  },
  {
   "cell_type": "code",
   "execution_count": 25,
   "id": "77885180-4a31-456a-add4-1ae9ebf4dbf4",
   "metadata": {},
   "outputs": [
    {
     "ename": "RecursionError",
     "evalue": "maximum recursion depth exceeded",
     "output_type": "error",
     "traceback": [
      "\u001b[1;31m---------------------------------------------------------------------------\u001b[0m",
      "\u001b[1;31mRecursionError\u001b[0m                            Traceback (most recent call last)",
      "Cell \u001b[1;32mIn[25], line 31\u001b[0m\n\u001b[0;32m     29\u001b[0m low\u001b[38;5;241m=\u001b[39m\u001b[38;5;241m0\u001b[39m\n\u001b[0;32m     30\u001b[0m high\u001b[38;5;241m=\u001b[39m\u001b[38;5;28mlen\u001b[39m(\u001b[38;5;28mlist\u001b[39m)\u001b[38;5;241m-\u001b[39m\u001b[38;5;241m1\u001b[39m\n\u001b[1;32m---> 31\u001b[0m \u001b[38;5;28mprint\u001b[39m(\u001b[43mmergesort\u001b[49m\u001b[43m(\u001b[49m\u001b[38;5;28;43mlist\u001b[39;49m\u001b[43m,\u001b[49m\u001b[43mlow\u001b[49m\u001b[43m,\u001b[49m\u001b[43mhigh\u001b[49m\u001b[43m)\u001b[49m)\n",
      "Cell \u001b[1;32mIn[25], line 25\u001b[0m, in \u001b[0;36mmergesort\u001b[1;34m(list, l, h)\u001b[0m\n\u001b[0;32m     23\u001b[0m     \u001b[38;5;28;01mreturn\u001b[39;00m \u001b[38;5;28mlist\u001b[39m\n\u001b[0;32m     24\u001b[0m mid\u001b[38;5;241m=\u001b[39m(l\u001b[38;5;241m+\u001b[39mh)\u001b[38;5;241m/\u001b[39m\u001b[38;5;241m/\u001b[39m\u001b[38;5;241m2\u001b[39m\n\u001b[1;32m---> 25\u001b[0m left_part\u001b[38;5;241m=\u001b[39m\u001b[43mmergesort\u001b[49m\u001b[43m(\u001b[49m\u001b[38;5;28;43mlist\u001b[39;49m\u001b[43m,\u001b[49m\u001b[43mlow\u001b[49m\u001b[43m,\u001b[49m\u001b[43mmid\u001b[49m\u001b[43m)\u001b[49m\n\u001b[0;32m     26\u001b[0m right_part\u001b[38;5;241m=\u001b[39mmergesort(\u001b[38;5;28mlist\u001b[39m,mid\u001b[38;5;241m+\u001b[39m\u001b[38;5;241m1\u001b[39m,high)\n\u001b[0;32m     27\u001b[0m \u001b[38;5;28;01mreturn\u001b[39;00m merge(left_part,right_part)\n",
      "Cell \u001b[1;32mIn[25], line 25\u001b[0m, in \u001b[0;36mmergesort\u001b[1;34m(list, l, h)\u001b[0m\n\u001b[0;32m     23\u001b[0m     \u001b[38;5;28;01mreturn\u001b[39;00m \u001b[38;5;28mlist\u001b[39m\n\u001b[0;32m     24\u001b[0m mid\u001b[38;5;241m=\u001b[39m(l\u001b[38;5;241m+\u001b[39mh)\u001b[38;5;241m/\u001b[39m\u001b[38;5;241m/\u001b[39m\u001b[38;5;241m2\u001b[39m\n\u001b[1;32m---> 25\u001b[0m left_part\u001b[38;5;241m=\u001b[39m\u001b[43mmergesort\u001b[49m\u001b[43m(\u001b[49m\u001b[38;5;28;43mlist\u001b[39;49m\u001b[43m,\u001b[49m\u001b[43mlow\u001b[49m\u001b[43m,\u001b[49m\u001b[43mmid\u001b[49m\u001b[43m)\u001b[49m\n\u001b[0;32m     26\u001b[0m right_part\u001b[38;5;241m=\u001b[39mmergesort(\u001b[38;5;28mlist\u001b[39m,mid\u001b[38;5;241m+\u001b[39m\u001b[38;5;241m1\u001b[39m,high)\n\u001b[0;32m     27\u001b[0m \u001b[38;5;28;01mreturn\u001b[39;00m merge(left_part,right_part)\n",
      "    \u001b[1;31m[... skipping similar frames: mergesort at line 25 (2974 times)]\u001b[0m\n",
      "Cell \u001b[1;32mIn[25], line 25\u001b[0m, in \u001b[0;36mmergesort\u001b[1;34m(list, l, h)\u001b[0m\n\u001b[0;32m     23\u001b[0m     \u001b[38;5;28;01mreturn\u001b[39;00m \u001b[38;5;28mlist\u001b[39m\n\u001b[0;32m     24\u001b[0m mid\u001b[38;5;241m=\u001b[39m(l\u001b[38;5;241m+\u001b[39mh)\u001b[38;5;241m/\u001b[39m\u001b[38;5;241m/\u001b[39m\u001b[38;5;241m2\u001b[39m\n\u001b[1;32m---> 25\u001b[0m left_part\u001b[38;5;241m=\u001b[39m\u001b[43mmergesort\u001b[49m\u001b[43m(\u001b[49m\u001b[38;5;28;43mlist\u001b[39;49m\u001b[43m,\u001b[49m\u001b[43mlow\u001b[49m\u001b[43m,\u001b[49m\u001b[43mmid\u001b[49m\u001b[43m)\u001b[49m\n\u001b[0;32m     26\u001b[0m right_part\u001b[38;5;241m=\u001b[39mmergesort(\u001b[38;5;28mlist\u001b[39m,mid\u001b[38;5;241m+\u001b[39m\u001b[38;5;241m1\u001b[39m,high)\n\u001b[0;32m     27\u001b[0m \u001b[38;5;28;01mreturn\u001b[39;00m merge(left_part,right_part)\n",
      "\u001b[1;31mRecursionError\u001b[0m: maximum recursion depth exceeded"
     ]
    }
   ],
   "source": [
    "def merge_sort(list):\n",
    "    if len(list) <= 1:\n",
    "        return list\n",
    "    mid = len(list) // 2\n",
    "    left_half = list[:mid]\n",
    "    right_half = list[mid:]\n",
    "    left_half = merge_sort(left_half)\n",
    "    right_half = merge_sort(right_half)\n",
    "    return merge(left_half, right_half)\n",
    "\n",
    "def merge(left, right):\n",
    "    merged = []\n",
    "    while len(left) > 0 and len(right) > 0:\n",
    "        if left[0] <= right[0]:\n",
    "            merged.append(left.pop(0))\n",
    "        else:\n",
    "            merged.append(right.pop(0))\n",
    "    merged.extend(left)\n",
    "    merged.extend(right)\n",
    "    return merged\n",
    "def mergesort(list,l,h):\n",
    "    if len(list)==1:\n",
    "        return list\n",
    "    mid=(l+h)//2\n",
    "    left_part=mergesort(list,low,mid)\n",
    "    right_part=mergesort(list,mid+1,high)\n",
    "    return merge(left_part,right_part)\n",
    "list=[1,2,3,2,4,5,65,54,34,78]\n",
    "low=0\n",
    "high=len(list)-1\n",
    "print(mergesort(list,low,high))"
   ]
  },
  {
   "cell_type": "code",
   "execution_count": 7,
   "id": "468bd561-30c6-4105-b2b2-93b2d463adee",
   "metadata": {},
   "outputs": [
    {
     "ename": "RecursionError",
     "evalue": "maximum recursion depth exceeded",
     "output_type": "error",
     "traceback": [
      "\u001b[1;31m---------------------------------------------------------------------------\u001b[0m",
      "\u001b[1;31mRecursionError\u001b[0m                            Traceback (most recent call last)",
      "Cell \u001b[1;32mIn[7], line 45\u001b[0m\n\u001b[0;32m     43\u001b[0m l \u001b[38;5;241m=\u001b[39m \u001b[38;5;241m0\u001b[39m\n\u001b[0;32m     44\u001b[0m h \u001b[38;5;241m=\u001b[39m \u001b[38;5;28mlen\u001b[39m(lst)\u001b[38;5;241m-\u001b[39m\u001b[38;5;241m1\u001b[39m\n\u001b[1;32m---> 45\u001b[0m sorted_list \u001b[38;5;241m=\u001b[39m \u001b[43mmergesort\u001b[49m\u001b[43m(\u001b[49m\u001b[43mlst\u001b[49m\u001b[43m,\u001b[49m\u001b[43ml\u001b[49m\u001b[43m,\u001b[49m\u001b[43mh\u001b[49m\u001b[43m)\u001b[49m\n\u001b[0;32m     46\u001b[0m \u001b[38;5;28mprint\u001b[39m(sorted_list)\n",
      "Cell \u001b[1;32mIn[7], line 9\u001b[0m, in \u001b[0;36mmergesort\u001b[1;34m(lst, l, h)\u001b[0m\n\u001b[0;32m      4\u001b[0m     \u001b[38;5;28;01mreturn\u001b[39;00m lst\n\u001b[0;32m      6\u001b[0m mid \u001b[38;5;241m=\u001b[39m (l \u001b[38;5;241m+\u001b[39m h) \u001b[38;5;241m/\u001b[39m\u001b[38;5;241m/\u001b[39m \u001b[38;5;241m2\u001b[39m  \n\u001b[1;32m----> 9\u001b[0m left_part \u001b[38;5;241m=\u001b[39m \u001b[43mmergesort\u001b[49m\u001b[43m(\u001b[49m\u001b[43mlst\u001b[49m\u001b[43m,\u001b[49m\u001b[43m \u001b[49m\u001b[43ml\u001b[49m\u001b[43m,\u001b[49m\u001b[43m \u001b[49m\u001b[43mmid\u001b[49m\u001b[43m)\u001b[49m\n\u001b[0;32m     10\u001b[0m right_part \u001b[38;5;241m=\u001b[39m mergesort(lst, mid \u001b[38;5;241m+\u001b[39m \u001b[38;5;241m1\u001b[39m, h)\n\u001b[0;32m     13\u001b[0m \u001b[38;5;28;01mreturn\u001b[39;00m merging(left_part, right_part)\n",
      "Cell \u001b[1;32mIn[7], line 9\u001b[0m, in \u001b[0;36mmergesort\u001b[1;34m(lst, l, h)\u001b[0m\n\u001b[0;32m      4\u001b[0m     \u001b[38;5;28;01mreturn\u001b[39;00m lst\n\u001b[0;32m      6\u001b[0m mid \u001b[38;5;241m=\u001b[39m (l \u001b[38;5;241m+\u001b[39m h) \u001b[38;5;241m/\u001b[39m\u001b[38;5;241m/\u001b[39m \u001b[38;5;241m2\u001b[39m  \n\u001b[1;32m----> 9\u001b[0m left_part \u001b[38;5;241m=\u001b[39m \u001b[43mmergesort\u001b[49m\u001b[43m(\u001b[49m\u001b[43mlst\u001b[49m\u001b[43m,\u001b[49m\u001b[43m \u001b[49m\u001b[43ml\u001b[49m\u001b[43m,\u001b[49m\u001b[43m \u001b[49m\u001b[43mmid\u001b[49m\u001b[43m)\u001b[49m\n\u001b[0;32m     10\u001b[0m right_part \u001b[38;5;241m=\u001b[39m mergesort(lst, mid \u001b[38;5;241m+\u001b[39m \u001b[38;5;241m1\u001b[39m, h)\n\u001b[0;32m     13\u001b[0m \u001b[38;5;28;01mreturn\u001b[39;00m merging(left_part, right_part)\n",
      "    \u001b[1;31m[... skipping similar frames: mergesort at line 9 (2974 times)]\u001b[0m\n",
      "Cell \u001b[1;32mIn[7], line 9\u001b[0m, in \u001b[0;36mmergesort\u001b[1;34m(lst, l, h)\u001b[0m\n\u001b[0;32m      4\u001b[0m     \u001b[38;5;28;01mreturn\u001b[39;00m lst\n\u001b[0;32m      6\u001b[0m mid \u001b[38;5;241m=\u001b[39m (l \u001b[38;5;241m+\u001b[39m h) \u001b[38;5;241m/\u001b[39m\u001b[38;5;241m/\u001b[39m \u001b[38;5;241m2\u001b[39m  \n\u001b[1;32m----> 9\u001b[0m left_part \u001b[38;5;241m=\u001b[39m \u001b[43mmergesort\u001b[49m\u001b[43m(\u001b[49m\u001b[43mlst\u001b[49m\u001b[43m,\u001b[49m\u001b[43m \u001b[49m\u001b[43ml\u001b[49m\u001b[43m,\u001b[49m\u001b[43m \u001b[49m\u001b[43mmid\u001b[49m\u001b[43m)\u001b[49m\n\u001b[0;32m     10\u001b[0m right_part \u001b[38;5;241m=\u001b[39m mergesort(lst, mid \u001b[38;5;241m+\u001b[39m \u001b[38;5;241m1\u001b[39m, h)\n\u001b[0;32m     13\u001b[0m \u001b[38;5;28;01mreturn\u001b[39;00m merging(left_part, right_part)\n",
      "\u001b[1;31mRecursionError\u001b[0m: maximum recursion depth exceeded"
     ]
    }
   ],
   "source": [
    "def mergesort(lst,l,h):\n",
    "   \n",
    "    if len(lst)<1:\n",
    "        return lst\n",
    "    \n",
    "    mid = (l + h) // 2  \n",
    "    \n",
    "    \n",
    "    left_part = mergesort(lst, l, mid)\n",
    "    right_part = mergesort(lst, mid + 1, h)\n",
    "  \n",
    "    \n",
    "    return merging(left_part, right_part)\n",
    "\n",
    "def merging(left_part, right_part):\n",
    "    i = 0  \n",
    "    j = 0  \n",
    "    list3 = []  \n",
    "    \n",
    "    \n",
    "    while i < len(left_part) and j < len(right_part):\n",
    "        if left_part[i] < right_part[j]:\n",
    "            list3.append(left_part[i])\n",
    "            i += 1\n",
    "        else:\n",
    "            list3.append(right_part[j])\n",
    "            j += 1\n",
    "\n",
    "    \n",
    "    while i < len(left_part):\n",
    "        list3.append(left_part[i])\n",
    "        i += 1\n",
    "\n",
    "    \n",
    "    while j < len(right_part):\n",
    "        list3.append(right_part[j])\n",
    "        j += 1\n",
    "\n",
    "    return list3\n",
    "\n",
    "\n",
    "lst = [45, 2, 3, 78, 1, 90, 46, 81, 23]\n",
    "l = 0\n",
    "h = len(lst)-1\n",
    "sorted_list = mergesort(lst,l,h)\n",
    "print(sorted_list)"
   ]
  },
  {
   "cell_type": "raw",
   "id": "eff7202e-7e2a-4f38-95b9-6209fcdd0365",
   "metadata": {},
   "source": [
    "MERGE SORT"
   ]
  },
  {
   "cell_type": "code",
   "execution_count": 1,
   "id": "d3c64682-15f8-4481-bc41-235c48e7f992",
   "metadata": {},
   "outputs": [
    {
     "name": "stdout",
     "output_type": "stream",
     "text": [
      "[2, 4, 23, 43, 45, 49, 67, 90, 190]\n"
     ]
    }
   ],
   "source": [
    "def merge_sort(list):\n",
    "    if len(list)<=1:\n",
    "        return list\n",
    "    mid=len(list)//2\n",
    "\n",
    "    left=list[:mid]\n",
    "    right=list[mid:]\n",
    "\n",
    "    left=merge_sort(left)\n",
    "    right=merge_sort(right)\n",
    "\n",
    "    return merging(left,right)\n",
    "def merging(list1,list2):\n",
    "    list3=[]\n",
    "    len_list1=len(list1)\n",
    "    len_list2=len(list2)\n",
    "    i,j=0,0\n",
    "    while i <len(list1) and j < len(list2):\n",
    "        if list1[i] <=list2[j]:\n",
    "            list3.append(list1[i])\n",
    "            i+=1\n",
    "        else:\n",
    "            list3.append(list2[j])\n",
    "            j+=1\n",
    "    while i<len_list1:\n",
    "        list3.append(list1[i])\n",
    "        i+=1\n",
    "    while j<len_list2:\n",
    "        list3.append(list2[j])\n",
    "        j+=1\n",
    "    return list3\n",
    "list=[23,43,45,67,2,4,49,90,190]\n",
    "sorted_list=merge_sort(list)\n",
    "print(sorted_list)"
   ]
  },
  {
   "cell_type": "raw",
   "id": "a03b72c4-a61b-463b-8000-8fcd29d3114e",
   "metadata": {},
   "source": [
    "INSERTION SORT"
   ]
  },
  {
   "cell_type": "code",
   "execution_count": 1,
   "id": "bd3cc248-a78f-4f24-b041-e4951f5fb893",
   "metadata": {},
   "outputs": [
    {
     "name": "stdout",
     "output_type": "stream",
     "text": [
      "[12, 20, 23, 34, 54, 56, 76]\n"
     ]
    }
   ],
   "source": [
    "def insertion_sort(list):\n",
    "    for i in range(1,len(list)):\n",
    "        j=i\n",
    "        while list[j-1]>list[j] and j>0:\n",
    "            list[j-1],list[j]=list[j],list[j-1]\n",
    "            j-=1\n",
    "    return list\n",
    "list=[12,34,54,23,20,76,56]\n",
    "print(insertion_sort(list))"
   ]
  },
  {
   "cell_type": "code",
   "execution_count": 38,
   "id": "8290b881-a6d3-441a-bbf2-6c772e575900",
   "metadata": {},
   "outputs": [
    {
     "name": "stdout",
     "output_type": "stream",
     "text": [
      "5\n"
     ]
    }
   ],
   "source": [
    "def merge_sort(list1, list2):\n",
    "    list3 = []\n",
    "    len_list1 = len(list1)\n",
    "    len_list2 = len(list2)\n",
    "    i, j = 0, 0\n",
    "    while i < len(list1) and j < len(list2):\n",
    "        if list1[i] <= list2[j]:\n",
    "            list3.append(list1[i])\n",
    "            i += 1\n",
    "        else:\n",
    "            list3.append(list2[j])\n",
    "            j += 1\n",
    "    while i < len_list1:\n",
    "        list3.append(list1[i])\n",
    "        i += 1\n",
    "    while j < len_list2:\n",
    "        list3.append(list2[j])\n",
    "        j += 1\n",
    "    return list3\n",
    "\n",
    "def find_median(list3):\n",
    "    list3 = merge_sort(list3[0], list3[1])\n",
    "    if len(list3) % 2 == 0:\n",
    "        mid = len(list3) // 2\n",
    "        median = (list3[mid - 1] + list3[mid]) / 2\n",
    "        print(median)\n",
    "    else:\n",
    "        median = list3[len(list3) // 2]\n",
    "        print(median)\n",
    "\n",
    "list1 = [1, 2, 3, 4, 5]\n",
    "list2 = [6, 8, 10, 12]\n",
    "find_median([list1,list2])\n"
   ]
  },
  {
   "cell_type": "raw",
   "id": "5f25fa53-9526-46e4-b8ed-bf16fe311429",
   "metadata": {},
   "source": [
    "doubt : actual element"
   ]
  },
  {
   "cell_type": "code",
   "execution_count": 11,
   "id": "076fdcf1-1978-4c6c-9d31-1da944f6007d",
   "metadata": {},
   "outputs": [
    {
     "name": "stdout",
     "output_type": "stream",
     "text": [
      "duplicate element: 3\n"
     ]
    }
   ],
   "source": [
    "def duplicate_value(list):\n",
    "    for i in range(0,len(list)):\n",
    "            if i==list[i]:\n",
    "                return i\n",
    "                \n",
    "list=[1,2,3,3,4,5]\n",
    "duplicate=duplicate_value(list)\n",
    "print(\"duplicate element:\",duplicate)\n",
    "                "
   ]
  },
  {
   "cell_type": "code",
   "execution_count": 6,
   "id": "5ee95a32-cc0f-416c-b60f-e74a1c5cf801",
   "metadata": {},
   "outputs": [
    {
     "name": "stdout",
     "output_type": "stream",
     "text": [
      "4\n"
     ]
    }
   ],
   "source": [
    "def sum(list):\n",
    "    count=0\n",
    "    for i in range(0,len(list)):\n",
    "        for j in range(i+1,len(list)):\n",
    "            if list[i]+list[j]==n:\n",
    "                count+=1\n",
    "    return count\n",
    "n=10\n",
    "list=[2,4,5,6,8,5,9,1]\n",
    "print(sum(list))"
   ]
  },
  {
   "cell_type": "code",
   "execution_count": 5,
   "id": "70099820-8ba9-4ad9-a313-a15182b195f2",
   "metadata": {},
   "outputs": [
    {
     "name": "stdout",
     "output_type": "stream",
     "text": [
      "45\n",
      "None\n"
     ]
    }
   ],
   "source": [
    "def merge_sort(list):\n",
    "    if len(list)<=1:\n",
    "        return list\n",
    "    mid=len(list)//2\n",
    "\n",
    "    left=list[:mid]\n",
    "    right=list[mid:]\n",
    "\n",
    "    left=merge_sort(left)\n",
    "    right=merge_sort(right)\n",
    "\n",
    "    return merging(left,right)\n",
    "def merging(list1,list2):\n",
    "    list3=[]\n",
    "    len_list1=len(list1)\n",
    "    len_list2=len(list2)\n",
    "    i,j,k=0,0,0\n",
    "    while i <len(list1) and j < len(list2):\n",
    "        if list1[i] <=list2[j]:\n",
    "            list3.append(list1[i])\n",
    "            i+=1\n",
    "        else:\n",
    "            list3.append(list2[j])\n",
    "            j+=1\n",
    "    while i<len_list1:\n",
    "        list3.append(list1[i])\n",
    "        i+=1\n",
    "    while j<len_list2:\n",
    "        list3.append(list2[j])\n",
    "        j+=1\n",
    "    return list3\n",
    "def third_smallest(list):\n",
    "    print(list[2])\n",
    "        \n",
    "        \n",
    "list=[23,43,45,67,2,4,49,90,190]\n",
    "print(third_smallest(list))"
   ]
  },
  {
   "cell_type": "code",
   "execution_count": 17,
   "id": "715f9735-8b92-4c13-be30-ebed3eb0d513",
   "metadata": {},
   "outputs": [
    {
     "name": "stdout",
     "output_type": "stream",
     "text": [
      "190\n"
     ]
    }
   ],
   "source": [
    "def mul(a,b):\n",
    "    if b==0:\n",
    "        return 0\n",
    "    elif a<0 and b>0:\n",
    "        return a+mul(a,b-1)\n",
    "    elif a>0 and b<0:\n",
    "        return -a+mul(a,b+1)\n",
    "    elif a<0 and b<0:\n",
    "        return -a+mul(a,b+1)\n",
    "    else:\n",
    "        return a+mul(a,b-1)\n",
    "print(mul(-10,-19))\n"
   ]
  },
  {
   "cell_type": "code",
   "execution_count": 28,
   "id": "aa001615-bfdb-4d4f-9004-e34e4be7f8a6",
   "metadata": {},
   "outputs": [
    {
     "name": "stdout",
     "output_type": "stream",
     "text": [
      "0.125\n"
     ]
    }
   ],
   "source": [
    "def power(x,n):\n",
    "    if n==0:\n",
    "        return 1\n",
    "    elif n<0:\n",
    "        return 1/(x*power(x,-n-1))\n",
    "    else:\n",
    "        return x*power(x,n-1)\n",
    "print(power(2,-3))\n",
    "        "
   ]
  },
  {
   "cell_type": "raw",
   "id": "36767bd1-5ad5-4a98-a993-8f63f55ee762",
   "metadata": {},
   "source": [
    "quick sort:-"
   ]
  },
  {
   "cell_type": "code",
   "execution_count": null,
   "id": "3837272e-50d9-4a7e-9553-5e2c7e7a3f18",
   "metadata": {},
   "outputs": [],
   "source": []
  }
 ],
 "metadata": {
  "kernelspec": {
   "display_name": "Python 3 (ipykernel)",
   "language": "python",
   "name": "python3"
  },
  "language_info": {
   "codemirror_mode": {
    "name": "ipython",
    "version": 3
   },
   "file_extension": ".py",
   "mimetype": "text/x-python",
   "name": "python",
   "nbconvert_exporter": "python",
   "pygments_lexer": "ipython3",
   "version": "3.13.0"
  }
 },
 "nbformat": 4,
 "nbformat_minor": 5
}
