{
 "cells": [
  {
   "cell_type": "markdown",
   "id": "a0316e4f-fee8-4fbd-8ad8-79c1daaf47e0",
   "metadata": {},
   "source": [
    "### Regular Expression"
   ]
  },
  {
   "cell_type": "raw",
   "id": "3e821a43-47de-4953-8afd-a19316139025",
   "metadata": {},
   "source": [
    "module: many predefined function related to regular expression.\n",
    "match,search,findall,sub,..\n",
    "syntax:-for including the module in our programme.\n",
    "import module name\n",
    "import re\n",
    "regex: regular expression\n",
    "-sequence of the character to define the specific pattern.\n",
    "-We try use the special character more.\n",
    "-we are using the regular expression to find,match the particular pattern in the string.\n",
    "-compiler will always scan the regular from left to right.\n",
    "--it is case sensitive.\n",
    "-we have to write re in verbose form.\n",
    "ex-\n",
    "string=\"abc\"\n",
    "pattern=\"^A\"\n",
    "ex-\n",
    "file1,file2,file3\n",
    "ex-\n",
    "pattern=\"^a...s$\"\n",
    "-while creating the regular expression\n",
    "expression:\n",
    "A-Z,a-z,0-9,few special characters\n",
    "usage:-\n",
    "1.Data extraction\n",
    "2.Text Processing\n",
    "ex- \n",
    "processor: intel i5 hz generation 12\n",
    "3.NLP\n",
    "4.web scrpping\n",
    "-extracting the data from the website.\n",
    "\n",
    "Mathematical intutiion:-\n",
    "regular expression : regular language\n",
    "programming language: noam chomsky\n",
    "regular language: reguar expression\n",
    "formal language theory\n",
    "ex: test_string=\"sight\"\n",
    "    pattern=\"sight$\"\n",
    "    p=\"f.n\"\n",
    "    string:fun,fon,fin\n",
    "    p=\"^b...b$\"\n",
    "\n",
    "groups:-\n",
    "meta characters:\n",
    ".,[],?,+,{},()\n",
    "\n",
    "1.[]\n",
    "-it will match the set of characters in the string.\n",
    "-Whichever the characters we have to match we have to wrrite in the square bracket.\n",
    "[a]......abb....match\n",
    "[ab]......abnnn...match\n",
    "[abc]\n",
    "$-last of the string\n",
    "*-it will give the zero or more occureneces/closure\n",
    "^- carret will negate the value when we using inside the \n",
    "|- or\n",
    ">-any unknown character\n",
    "?-0 or 1 occurences of number\n",
    "{m}-exactly m times\n",
    "{m,}-atleast m times\n",
    "{m,n}-atleast m and atmost n\n",
    "\\A-starting of any sentence\n",
    "\\d-matches any decimal digit eqivalent to[^0-9]\n",
    "\\D-matches any non decimal\n",
    "full match-\"2024-04-11\",\\d{4}-\\d{2}-\\d{2}\n",
    "()-\n",
    "\\b-matches if the specified characters are at the begining or end of the word.\n",
    "\\B-opposite of \\b .matches if the specified characters are at the begining or end of a word\n",
    "\\s-matches where a string contains any whitespace character.equivalent to[\\t\\n\\r\\f\\v]\n",
    "\\S-matches where a string contains any non-whitespace character.equivalent to[\\t\\n\\r\\f\\v]\n",
    "\\w-matches any alphanumeric character(digits and alphabets)equivalent to[a-zA-Z0-9].by the way \n",
    "_is also considered as an alphanumeric character.\n",
    "\\W-matches any non alpha numeric character equivaent to [^a-zA-Z0-9]\n",
    "\\Z-matches if the specified characters are at the end of a string.\n"
   ]
  },
  {
   "cell_type": "code",
   "execution_count": 1,
   "id": "b69d3832-3a67-42bd-a65e-453bb448ea60",
   "metadata": {},
   "outputs": [],
   "source": [
    "import re"
   ]
  },
  {
   "cell_type": "code",
   "execution_count": 12,
   "id": "1dd962a8-e1ab-42de-9c4c-dbd846d1b9ca",
   "metadata": {},
   "outputs": [
    {
     "name": "stdout",
     "output_type": "stream",
     "text": [
      "match successful\n"
     ]
    }
   ],
   "source": [
    "test_string=\"1b\"\n",
    "pattern=\"[b]\"\n",
    "result=re.search(pattern,test_string)\n",
    "if result:\n",
    "    print(\"match successful\")\n",
    "else:\n",
    "    print(\"match unsuccessful\")"
   ]
  },
  {
   "cell_type": "code",
   "execution_count": 7,
   "id": "3167fbab-ed87-402a-93e0-3865efd5d497",
   "metadata": {},
   "outputs": [
    {
     "name": "stdout",
     "output_type": "stream",
     "text": [
      "match successful\n"
     ]
    }
   ],
   "source": [
    "#re in which string starts with b and end with ba and it will take exactly 7 length.\n",
    "test_string=\"b1234ba\"\n",
    "pattern=\"^b....ba$\"\n",
    "result=re.match(pattern,test_string)\n",
    "if result:\n",
    "    print(\"match successful\")\n",
    "else:\n",
    "    print(\"match unsuccessful\")\n"
   ]
  },
  {
   "cell_type": "code",
   "execution_count": 16,
   "id": "8d09762b-e946-4f1e-bfc4-94ddb829d37f",
   "metadata": {},
   "outputs": [
    {
     "name": "stdout",
     "output_type": "stream",
     "text": [
      "match successful\n"
     ]
    }
   ],
   "source": [
    "# re for string contains abb and after that any number of times.\n",
    "test_string=\"abbaaaaabbb\"\n",
    "pattern=\"abb*\"\n",
    "result=re.match(pattern,test_string)\n",
    "if result:\n",
    "    print(\"match successful\")\n",
    "else:\n",
    "    print(\"match unsuccessful\")"
   ]
  },
  {
   "cell_type": "code",
   "execution_count": 6,
   "id": "6bbf9862-cb20-4be6-8856-d711ed2cfe19",
   "metadata": {},
   "outputs": [
    {
     "name": "stdout",
     "output_type": "stream",
     "text": [
      "match successful\n"
     ]
    }
   ],
   "source": [
    "import re\n",
    "pattern=\"[^a-zA-Z]\"\n",
    "string=\"3S1abchbiubib\"\n",
    "result=re.match(pattern,string)\n",
    "if result:\n",
    "    print(\"match successful\")\n",
    "else:\n",
    "    print(\"match unsuccessful\")"
   ]
  },
  {
   "cell_type": "code",
   "execution_count": 9,
   "id": "e44cc6c1-1406-4452-8655-9604a4d1d7b7",
   "metadata": {},
   "outputs": [
    {
     "name": "stdout",
     "output_type": "stream",
     "text": [
      "match unsuccessful\n"
     ]
    }
   ],
   "source": [
    "import re\n",
    "pattern=\"[^b]a$\"\n",
    "string=\"3aa\"\n",
    "result=re.match(pattern,string)\n",
    "if result:\n",
    "    print(\"match successful\")\n",
    "else:\n",
    "    print(\"match unsuccessful\")"
   ]
  },
  {
   "cell_type": "code",
   "execution_count": 11,
   "id": "c47d328b-92ff-4d3a-bb3a-2369c39aa0db",
   "metadata": {},
   "outputs": [
    {
     "name": "stdout",
     "output_type": "stream",
     "text": [
      "match successful\n"
     ]
    }
   ],
   "source": [
    "import re\n",
    "pattern=\"^ab|ba|ca\"\n",
    "string=\"bac\"\n",
    "result=re.match(pattern,string)\n",
    "if result:\n",
    "    print(\"match successful\")\n",
    "else:\n",
    "    print(\"match unsuccessful\")"
   ]
  },
  {
   "cell_type": "code",
   "execution_count": 14,
   "id": "37e90f0c-d43c-4e5d-92f1-cc3c83c8e658",
   "metadata": {},
   "outputs": [
    {
     "name": "stdout",
     "output_type": "stream",
     "text": [
      "match successful\n"
     ]
    }
   ],
   "source": [
    "import re\n",
    "pattern=\"^ab.b$\"\n",
    "string=\"abfb\"\n",
    "result=re.match(pattern,string)\n",
    "if result:\n",
    "    print(\"match successful\")\n",
    "else:\n",
    "    print(\"match unsuccessful\")"
   ]
  },
  {
   "cell_type": "code",
   "execution_count": 15,
   "id": "db1d9c76-c786-43ae-bf93-59e3cbea59c6",
   "metadata": {},
   "outputs": [
    {
     "name": "stdout",
     "output_type": "stream",
     "text": [
      "match successful\n"
     ]
    }
   ],
   "source": [
    "import re\n",
    "pattern=\"^ab*D\"\n",
    "string=\"abbbbD\"\n",
    "result=re.match(pattern,string)\n",
    "if result:\n",
    "    print(\"match successful\")\n",
    "else:\n",
    "    print(\"match unsuccessful\")"
   ]
  },
  {
   "cell_type": "code",
   "execution_count": 16,
   "id": "dad1d278-fb81-4765-bc84-d2b3adc64137",
   "metadata": {},
   "outputs": [
    {
     "name": "stdout",
     "output_type": "stream",
     "text": [
      "match successful\n"
     ]
    }
   ],
   "source": [
    "import re\n",
    "pattern=\"^ab+D\"\n",
    "string=\"abD\"\n",
    "result=re.match(pattern,string)\n",
    "if result:\n",
    "    print(\"match successful\")\n",
    "else:\n",
    "    print(\"match unsuccessful\")"
   ]
  },
  {
   "cell_type": "code",
   "execution_count": 7,
   "id": "d294137e-49f5-44fe-8ab1-6c9e5d4839f1",
   "metadata": {},
   "outputs": [
    {
     "name": "stdout",
     "output_type": "stream",
     "text": [
      "match unsuccessful\n"
     ]
    }
   ],
   "source": [
    "import re\n",
    "pattern=\"ac{2}|ac{4}|ac{6}\"\n",
    "string=\"acac\"\n",
    "result=re.search(pattern,string)\n",
    "if result:\n",
    "    print(\"match successful\")\n",
    "else:\n",
    "    print(\"match unsuccessful\")"
   ]
  },
  {
   "cell_type": "code",
   "execution_count": 19,
   "id": "0d366818-f6a0-46f2-b28e-c131b71e3ca3",
   "metadata": {},
   "outputs": [
    {
     "name": "stdout",
     "output_type": "stream",
     "text": [
      "match successful\n"
     ]
    }
   ],
   "source": [
    "import re\n",
    "pattern=\"a?b\"\n",
    "string=\"ab\"\n",
    "result=re.match(pattern,string)\n",
    "if result:\n",
    "    print(\"match successful\")\n",
    "else:\n",
    "    print(\"match unsuccessful\")"
   ]
  },
  {
   "cell_type": "code",
   "execution_count": 28,
   "id": "af197d0e-eff8-4544-a14d-a026466c5386",
   "metadata": {},
   "outputs": [
    {
     "name": "stdout",
     "output_type": "stream",
     "text": [
      "match successful\n"
     ]
    }
   ],
   "source": [
    "import re\n",
    "pattern=\"a{3,8}\"\n",
    "string=\"aaaaaaa\"\n",
    "result=re.match(pattern,string)\n",
    "if result:\n",
    "    print(\"match successful\")\n",
    "else:\n",
    "    print(\"match unsuccessful\")"
   ]
  },
  {
   "cell_type": "code",
   "execution_count": 29,
   "id": "4a6b88a9-024b-4661-808e-c35fdbec48a6",
   "metadata": {},
   "outputs": [
    {
     "name": "stdout",
     "output_type": "stream",
     "text": [
      "match successful\n"
     ]
    }
   ],
   "source": [
    "import re\n",
    "pattern=\"^a{2}b{4}\"\n",
    "string=\"aabbbb\"\n",
    "result=re.match(pattern,string)\n",
    "if result:\n",
    "    print(\"match successful\")\n",
    "else:\n",
    "    print(\"match unsuccessful\")"
   ]
  },
  {
   "cell_type": "code",
   "execution_count": 31,
   "id": "9d2f682c-4f66-4425-baaa-bce598cb9dc8",
   "metadata": {},
   "outputs": [
    {
     "name": "stdout",
     "output_type": "stream",
     "text": [
      "match successful\n"
     ]
    }
   ],
   "source": [
    "import re\n",
    "pattern=\"(a|b|c)xz\"\n",
    "string=\"axz\"\n",
    "result=re.match(pattern,string)\n",
    "if result:\n",
    "    print(\"match successful\")\n",
    "else:\n",
    "    print(\"match unsuccessful\")"
   ]
  },
  {
   "cell_type": "code",
   "execution_count": 32,
   "id": "16e986c4-e24b-4c27-bd2c-1cbe0833c358",
   "metadata": {},
   "outputs": [
    {
     "name": "stdout",
     "output_type": "stream",
     "text": [
      "match successful\n"
     ]
    }
   ],
   "source": [
    "import re\n",
    "pattern=\"^(ab{2})*\"\n",
    "string=\"abbabb\"\n",
    "result=re.match(pattern,string)\n",
    "if result:\n",
    "    print(\"match successful\")\n",
    "else:\n",
    "    print(\"match unsuccessful\")"
   ]
  },
  {
   "cell_type": "code",
   "execution_count": 33,
   "id": "45a97a82-68d4-421c-aff3-9437df5cf8e7",
   "metadata": {},
   "outputs": [
    {
     "name": "stdout",
     "output_type": "stream",
     "text": [
      "match successful\n"
     ]
    }
   ],
   "source": [
    "import re\n",
    "pattern=\"^(ab|ba)ca$\"\n",
    "string=\"abca\"\n",
    "result=re.match(pattern,string)\n",
    "if result:\n",
    "    print(\"match successful\")\n",
    "else:\n",
    "    print(\"match unsuccessful\")"
   ]
  },
  {
   "cell_type": "code",
   "execution_count": 38,
   "id": "3d1af13a-70f8-485b-b48d-5d85ca033921",
   "metadata": {},
   "outputs": [
    {
     "name": "stdout",
     "output_type": "stream",
     "text": [
      "match successful\n"
     ]
    }
   ],
   "source": [
    "import re\n",
    "pattern=\"(^(ba)zzc$)\"\n",
    "string=\"bazzc\"\n",
    "result=re.match(pattern,string)\n",
    "if result:\n",
    "    print(\"match successful\")\n",
    "else:\n",
    "    print(\"match unsuccessful\")"
   ]
  },
  {
   "cell_type": "code",
   "execution_count": 46,
   "id": "57b1755e-c814-496f-b930-c49e217c66dc",
   "metadata": {},
   "outputs": [
    {
     "name": "stdout",
     "output_type": "stream",
     "text": [
      "match unsuccessful\n"
     ]
    }
   ],
   "source": [
    "import re\n",
    "pattern=\"(file[0-10])\"\n",
    "string=\"file1 file\"\n",
    "result=re.match(pattern,string)\n",
    "if result:\n",
    "    print(\"match successful\")\n",
    "else:\n",
    "    print(\"match unsuccessful\")"
   ]
  },
  {
   "cell_type": "code",
   "execution_count": 51,
   "id": "21aaf44d-bcd7-49cb-8c1c-884149552469",
   "metadata": {},
   "outputs": [
    {
     "name": "stdout",
     "output_type": "stream",
     "text": [
      "['28', '11', '1996']\n"
     ]
    },
    {
     "name": "stderr",
     "output_type": "stream",
     "text": [
      "<>:2: SyntaxWarning: invalid escape sequence '\\d'\n",
      "<>:2: SyntaxWarning: invalid escape sequence '\\d'\n",
      "C:\\Users\\SOUBHAGYA\\AppData\\Local\\Temp\\ipykernel_5612\\160474673.py:2: SyntaxWarning: invalid escape sequence '\\d'\n",
      "  pattern=\"\\d{2,4}\"\n"
     ]
    }
   ],
   "source": [
    "import re\n",
    "pattern=\"\\d{2,4}\"\n",
    "string=\"I am born in 28 day 11month 1996year\"\n",
    "print(re.findall(pattern,string))\n"
   ]
  },
  {
   "cell_type": "code",
   "execution_count": 69,
   "id": "7bc82ce1-11b6-484c-9744-26780ee7568d",
   "metadata": {},
   "outputs": [
    {
     "name": "stdout",
     "output_type": "stream",
     "text": [
      "['tokiyo']\n"
     ]
    }
   ],
   "source": [
    "import re\n",
    "pattern=\"(tokiyo)\"\n",
    "string=\"the tokiyo is a capital city of japan and its found in 1667\"\n",
    "print(re.findall(pattern,string))\n"
   ]
  },
  {
   "cell_type": "code",
   "execution_count": 72,
   "id": "b5dcaa8d-f47f-4edf-8c3a-b0461ac66d25",
   "metadata": {},
   "outputs": [
    {
     "name": "stdout",
     "output_type": "stream",
     "text": [
      "match successful\n"
     ]
    }
   ],
   "source": [
    "#num9-3,num2-4times,followed by xyz\n",
    "import re\n",
    "pattern=\"(9{3}2{4})xyz\"\n",
    "string=\"9992222xyz\"\n",
    "result=re.match(pattern,string)\n",
    "if result:\n",
    "    print(\"match successful\")\n",
    "else:\n",
    "    print(\"match unsuccessful\")\n"
   ]
  },
  {
   "cell_type": "raw",
   "id": "37f9ec5d-d08b-45d7-9aad-6e4f32ee0e2a",
   "metadata": {},
   "source": [
    "email masking:\n",
    "soubhagyalenka18@gmail.com\n",
    "################@gmail.com"
   ]
  },
  {
   "cell_type": "code",
   "execution_count": 9,
   "id": "cbe6229e-ce0e-4e3e-8cfe-250dc21f9eeb",
   "metadata": {},
   "outputs": [
    {
     "name": "stdout",
     "output_type": "stream",
     "text": [
      "<re.Match object; span=(0, 9), match='mayur.com'>\n"
     ]
    },
    {
     "name": "stderr",
     "output_type": "stream",
     "text": [
      "<>:3: SyntaxWarning: invalid escape sequence '\\.'\n",
      "<>:3: SyntaxWarning: invalid escape sequence '\\.'\n",
      "C:\\Users\\SOUBHAGYA\\AppData\\Local\\Temp\\ipykernel_21288\\1702841108.py:3: SyntaxWarning: invalid escape sequence '\\.'\n",
      "  pattern=\"mayur\\.com\"\n"
     ]
    }
   ],
   "source": [
    "import re\n",
    "s=\"mayur.com\"\n",
    "pattern=\"mayur\\.com\"\n",
    "print(re.match(pattern,s))"
   ]
  },
  {
   "cell_type": "code",
   "execution_count": 11,
   "id": "1de49012-7c19-461e-a434-2fe8bfe65eab",
   "metadata": {},
   "outputs": [
    {
     "data": {
      "text/plain": [
       "'mayur.com'"
      ]
     },
     "execution_count": 11,
     "metadata": {},
     "output_type": "execute_result"
    }
   ],
   "source": [
    "s[0:9]"
   ]
  },
  {
   "cell_type": "code",
   "execution_count": 16,
   "id": "1a6e4bfc-e21c-4a7b-a90d-e78d3a21b9e6",
   "metadata": {},
   "outputs": [
    {
     "name": "stdout",
     "output_type": "stream",
     "text": [
      "<re.Match object; span=(0, 9), match='text1.txt'>\n"
     ]
    },
    {
     "name": "stderr",
     "output_type": "stream",
     "text": [
      "<>:2: SyntaxWarning: invalid escape sequence '\\.'\n",
      "<>:2: SyntaxWarning: invalid escape sequence '\\.'\n",
      "C:\\Users\\SOUBHAGYA\\AppData\\Local\\Temp\\ipykernel_21288\\2098035482.py:2: SyntaxWarning: invalid escape sequence '\\.'\n",
      "  p=\"text[0-9]\\.txt\"\n"
     ]
    }
   ],
   "source": [
    "s=\"text1.txt\"\n",
    "p=\"text[0-9]\\.txt\"\n",
    "print(re.match(p,s))"
   ]
  },
  {
   "cell_type": "code",
   "execution_count": 17,
   "id": "672d95ba-6d03-455e-bd52-7513bfea280d",
   "metadata": {},
   "outputs": [
    {
     "name": "stdout",
     "output_type": "stream",
     "text": [
      "\tdhd\n"
     ]
    }
   ],
   "source": [
    "print(\"\\tdhd\")#tab space"
   ]
  },
  {
   "cell_type": "code",
   "execution_count": 20,
   "id": "794e4ed8-6a98-466e-84a9-a6d4c22b5488",
   "metadata": {},
   "outputs": [
    {
     "name": "stdout",
     "output_type": "stream",
     "text": [
      "<re.Match object; span=(0, 9), match='mayur.com'>\n"
     ]
    },
    {
     "name": "stderr",
     "output_type": "stream",
     "text": [
      "<>:2: SyntaxWarning: invalid escape sequence '\\w'\n",
      "<>:2: SyntaxWarning: invalid escape sequence '\\w'\n",
      "C:\\Users\\SOUBHAGYA\\AppData\\Local\\Temp\\ipykernel_21288\\2728115942.py:2: SyntaxWarning: invalid escape sequence '\\w'\n",
      "  p=\"\\w+\\.\\w{3}\"\n"
     ]
    }
   ],
   "source": [
    "s=\"mayur.com\"\n",
    "p=\"\\w+\\.\\w{3}\"\n",
    "print(re.match(p,s))"
   ]
  },
  {
   "cell_type": "code",
   "execution_count": 4,
   "id": "046794ae-ee14-49c1-b711-9d29f28c201b",
   "metadata": {},
   "outputs": [
    {
     "name": "stdout",
     "output_type": "stream",
     "text": [
      "['mayurkulkarni636@gmail.com', 'mayurk447@gmail.com']\n"
     ]
    },
    {
     "name": "stderr",
     "output_type": "stream",
     "text": [
      "<>:4: SyntaxWarning: invalid escape sequence '\\@'\n",
      "<>:4: SyntaxWarning: invalid escape sequence '\\@'\n",
      "C:\\Users\\SOUBHAGYA\\AppData\\Local\\Temp\\ipykernel_19148\\3891971269.py:4: SyntaxWarning: invalid escape sequence '\\@'\n",
      "  p=\"[a-z0-9]+\\@gmail\\.com\"\n"
     ]
    }
   ],
   "source": [
    "import re\n",
    "s=\"\"\"mayurkulkarni636@gmail.com,\n",
    "    mayurk447@gmail.com\"\"\"\n",
    "p=\"[a-z0-9]+\\@gmail\\.com\"\n",
    "print(re.findall(p,s))"
   ]
  },
  {
   "cell_type": "code",
   "execution_count": 56,
   "id": "ecd1cd38-01c6-4fd7-af29-f34882010087",
   "metadata": {},
   "outputs": [
    {
     "name": "stdout",
     "output_type": "stream",
     "text": [
      "<re.Match object; span=(0, 19), match='C:\\\\Windows\\\\System32'>\n"
     ]
    },
    {
     "name": "stderr",
     "output_type": "stream",
     "text": [
      "<>:2: SyntaxWarning: invalid escape sequence '\\W'\n",
      "<>:2: SyntaxWarning: invalid escape sequence '\\W'\n",
      "C:\\Users\\SOUBHAGYA\\AppData\\Local\\Temp\\ipykernel_21288\\673097784.py:2: SyntaxWarning: invalid escape sequence '\\W'\n",
      "  s=\"C:\\Windows\\System32\"\n"
     ]
    }
   ],
   "source": [
    "#max lenth of email address-320\n",
    "s=\"C:\\Windows\\System32\"\n",
    "p=\"[A-Z]:\\\\\\\\[A-Za-z0-9\\\\\\\\]+\"\n",
    "print(re.search(p,s))"
   ]
  },
  {
   "cell_type": "code",
   "execution_count": 57,
   "id": "b7522066-2f63-4833-b2d1-718ae57843df",
   "metadata": {},
   "outputs": [
    {
     "name": "stdout",
     "output_type": "stream",
     "text": [
      "<re.Match object; span=(0, 19), match='C:\\\\Windows\\\\System32'>\n"
     ]
    },
    {
     "name": "stderr",
     "output_type": "stream",
     "text": [
      "<>:1: SyntaxWarning: invalid escape sequence '\\W'\n",
      "<>:2: SyntaxWarning: invalid escape sequence '\\W'\n",
      "<>:1: SyntaxWarning: invalid escape sequence '\\W'\n",
      "<>:2: SyntaxWarning: invalid escape sequence '\\W'\n",
      "C:\\Users\\SOUBHAGYA\\AppData\\Local\\Temp\\ipykernel_21288\\1405106454.py:1: SyntaxWarning: invalid escape sequence '\\W'\n",
      "  s=\"C:\\Windows\\System32\"\n",
      "C:\\Users\\SOUBHAGYA\\AppData\\Local\\Temp\\ipykernel_21288\\1405106454.py:2: SyntaxWarning: invalid escape sequence '\\W'\n",
      "  p=re.escape(\"C:\\Windows\\System32\")\n"
     ]
    }
   ],
   "source": [
    "s=\"C:\\Windows\\System32\"\n",
    "p=re.escape(\"C:\\Windows\\System32\")\n",
    "print(re.match(p,s))"
   ]
  },
  {
   "cell_type": "code",
   "execution_count": 60,
   "id": "e6401009-3580-4051-ae38-e1137cb5d68b",
   "metadata": {},
   "outputs": [
    {
     "name": "stdout",
     "output_type": "stream",
     "text": [
      "<re.Match object; span=(0, 41), match='\\nC:\\\\Windows\\nC:\\\\Python\\nC:\\\\Windows\\\\System32'>\n"
     ]
    },
    {
     "name": "stderr",
     "output_type": "stream",
     "text": [
      "<>:1: SyntaxWarning: invalid escape sequence '\\W'\n",
      "<>:5: SyntaxWarning: invalid escape sequence '\\W'\n",
      "<>:1: SyntaxWarning: invalid escape sequence '\\W'\n",
      "<>:5: SyntaxWarning: invalid escape sequence '\\W'\n",
      "C:\\Users\\SOUBHAGYA\\AppData\\Local\\Temp\\ipykernel_21288\\2840370868.py:1: SyntaxWarning: invalid escape sequence '\\W'\n",
      "  s=\"\"\"\n",
      "C:\\Users\\SOUBHAGYA\\AppData\\Local\\Temp\\ipykernel_21288\\2840370868.py:5: SyntaxWarning: invalid escape sequence '\\W'\n",
      "  p=re.escape(\"\"\"\n"
     ]
    }
   ],
   "source": [
    "s=\"\"\"\n",
    "C:\\Windows\n",
    "C:\\Python\n",
    "C:\\Windows\\System32\"\"\"\n",
    "p=re.escape(\"\"\"\n",
    "C:\\Windows\n",
    "C:\\Python\n",
    "C:\\Windows\\System32\"\"\")\n",
    "print(re.match(p,s))"
   ]
  },
  {
   "cell_type": "code",
   "execution_count": 65,
   "id": "6bc91a84-0b88-4499-9610-4ac70ab68e05",
   "metadata": {},
   "outputs": [
    {
     "name": "stdout",
     "output_type": "stream",
     "text": [
      "['licence', 'license', 'licence']\n"
     ]
    }
   ],
   "source": [
    "text=\"\"\"Yesterday,I was driving my car without a driving licence.The traffic police stopped me and asked for my license.I told them that I forgot my licence at home.\"\"\"\n",
    "pattern=\"licen[a-z]e\"\n",
    "print(re.findall(pattern,text))"
   ]
  },
  {
   "cell_type": "code",
   "execution_count": 66,
   "id": "106f64e5-2438-4fc1-99d0-bdf769d7c6e7",
   "metadata": {},
   "outputs": [
    {
     "name": "stdout",
     "output_type": "stream",
     "text": [
      "['Y', 's', 't', 'r', 'd', 'y', ',', ' ', 'w', 's', ' ', 'd', 'r', 'v', 'n', 'g', ' ', 'm', 'y', ' ', 'c', 'r', ' ', 'w', 't', 'h', 't', ' ', ' ', 'd', 'r', 'v', 'n', 'g', ' ', 'l', 'c', 'n', 'c', '.', 'T', 'h', ' ', 't', 'r', 'f', 'f', 'c', ' ', 'p', 'l', 'c', ' ', 's', 't', 'p', 'p', 'd', ' ', 'm', ' ', 'n', 'd', ' ', 's', 'k', 'd', ' ', 'f', 'r', ' ', 'm', 'y', ' ', 'l', 'c', 'n', 's', '.', ' ', 't', 'l', 'd', ' ', 't', 'h', 'm', ' ', 't', 'h', 't', ' ', ' ', 'f', 'r', 'g', 't', ' ', 'm', 'y', ' ', 'l', 'c', 'n', 'c', ' ', 't', ' ', 'h', 'm', '.']\n"
     ]
    }
   ],
   "source": [
    "text=\"\"\"Yesterday,I was driving my car without a driving licence.The traffic police stopped me and asked for my license.I told them that I forgot my licence at home.\"\"\"\n",
    "pattern=\"[^aeiouAEIOU]\"\n",
    "print(re.findall(pattern,text))"
   ]
  },
  {
   "cell_type": "code",
   "execution_count": 67,
   "id": "64e307cb-0811-4b49-8a4e-ba32784e054a",
   "metadata": {},
   "outputs": [
    {
     "name": "stdout",
     "output_type": "stream",
     "text": [
      "['dogs', 'dog', 'dogs']\n"
     ]
    }
   ],
   "source": [
    "txt=\"\"\"I have 2 dogs.one dog is 1 year old and other one is 2year old.Both dogs are very cute!\"\"\"\n",
    "p=\"dogs*\"\n",
    "print(re.findall(p,txt))"
   ]
  },
  {
   "cell_type": "code",
   "execution_count": 19,
   "id": "20a86204-2bdf-48ad-941b-7f299c320325",
   "metadata": {},
   "outputs": [
    {
     "name": "stdout",
     "output_type": "stream",
     "text": [
      "['file1.txt', 'file_one.txt', 'file.txt', 'fil.txt', 'file-1.txt']\n"
     ]
    },
    {
     "name": "stderr",
     "output_type": "stream",
     "text": [
      "<>:11: SyntaxWarning: invalid escape sequence '\\w'\n",
      "<>:11: SyntaxWarning: invalid escape sequence '\\w'\n",
      "C:\\Users\\SOUBHAGYA\\AppData\\Local\\Temp\\ipykernel_18016\\762175917.py:11: SyntaxWarning: invalid escape sequence '\\w'\n",
      "  pattern=\"\\w+[a-z\\\\-0-9]+\\.txt\"\n"
     ]
    }
   ],
   "source": [
    "#find all filenames starting with \n",
    "import re\n",
    "txt='''\n",
    "file1.txt\n",
    "file_one.txt\n",
    "file.txt\n",
    "fil.txt\n",
    "file.xml\n",
    "file-1.txt\n",
    "'''\n",
    "pattern=\"\\w+[a-z\\\\-0-9]+\\.txt\"\n",
    "print(re.findall(pattern,txt))"
   ]
  },
  {
   "cell_type": "code",
   "execution_count": 26,
   "id": "d550ad8a-305b-4068-8d33-9f52ceab8f2f",
   "metadata": {},
   "outputs": [
    {
     "name": "stdout",
     "output_type": "stream",
     "text": [
      "['abc123@gmail.com', 'xyz447@my_work.edu', 'pqrs999@outlook.in']\n"
     ]
    },
    {
     "name": "stderr",
     "output_type": "stream",
     "text": [
      "<>:5: SyntaxWarning: invalid escape sequence '\\w'\n",
      "<>:5: SyntaxWarning: invalid escape sequence '\\w'\n",
      "C:\\Users\\SOUBHAGYA\\AppData\\Local\\Temp\\ipykernel_18016\\2165957999.py:5: SyntaxWarning: invalid escape sequence '\\w'\n",
      "  pattern=\"\\w+[0-9\\\\@_a-z.]+\"\n"
     ]
    }
   ],
   "source": [
    "txt='''\n",
    "abc123@gmail.com\n",
    "xyz447@my_work.edu\n",
    "pqrs999@outlook.in'''\n",
    "pattern=\"\\w+[0-9\\\\@_a-z.]+\"\n",
    "print(re.findall(pattern,txt))"
   ]
  },
  {
   "cell_type": "code",
   "execution_count": 29,
   "id": "7fb8c729-6dbf-4a4a-92f5-dd8d65fde76a",
   "metadata": {},
   "outputs": [
    {
     "name": "stdout",
     "output_type": "stream",
     "text": [
      "['file1.txt', 'file09.txt']\n"
     ]
    },
    {
     "name": "stderr",
     "output_type": "stream",
     "text": [
      "<>:9: SyntaxWarning: invalid escape sequence '\\w'\n",
      "<>:9: SyntaxWarning: invalid escape sequence '\\w'\n",
      "C:\\Users\\SOUBHAGYA\\AppData\\Local\\Temp\\ipykernel_18016\\1043137333.py:9: SyntaxWarning: invalid escape sequence '\\w'\n",
      "  p=\"\\w+[0-9].txt\"\n"
     ]
    }
   ],
   "source": [
    "txt='''\n",
    "file1.txt\n",
    "file_one.txt\n",
    "file09.txt\n",
    "fil.txt\n",
    "file23.xml\n",
    "file.txt\n",
    "'''\n",
    "p=\"\\w+[0-9].txt\"\n",
    "print(re.findall(p,txt))"
   ]
  },
  {
   "cell_type": "code",
   "execution_count": 30,
   "id": "1be4274a-5272-429b-ba06-64c64ca446fb",
   "metadata": {},
   "outputs": [
    {
     "name": "stdout",
     "output_type": "stream",
     "text": [
      "['123143', '5657', '4435', '5465111']\n"
     ]
    }
   ],
   "source": [
    "#filter out all 4 or more digit numbers.\n",
    "txt='''\n",
    "123143\n",
    "432\n",
    "5657\n",
    "4435\n",
    "5465111'''\n",
    "p=\"[0-9]{4,}\"\n",
    "print(re.findall(p,txt))\n"
   ]
  },
  {
   "cell_type": "code",
   "execution_count": 32,
   "id": "ce3a7500-fd5f-4ac6-988f-541c2788b318",
   "metadata": {},
   "outputs": [
    {
     "name": "stdout",
     "output_type": "stream",
     "text": [
      "['gooogle.com', 'nasa.gov.in', 'facebook.in']\n"
     ]
    },
    {
     "name": "stderr",
     "output_type": "stream",
     "text": [
      "<>:5: SyntaxWarning: invalid escape sequence '\\w'\n",
      "<>:5: SyntaxWarning: invalid escape sequence '\\w'\n",
      "C:\\Users\\SOUBHAGYA\\AppData\\Local\\Temp\\ipykernel_18016\\3683204870.py:5: SyntaxWarning: invalid escape sequence '\\w'\n",
      "  p=\"\\w+[\\.a-z]+\"\n"
     ]
    }
   ],
   "source": [
    "txt='''\n",
    "gooogle.com\n",
    "nasa.gov.in\n",
    "facebook.in'''\n",
    "p=\"\\w+[\\.a-z]+\"\n",
    "print(re.findall(p,txt))"
   ]
  },
  {
   "cell_type": "code",
   "execution_count": 36,
   "id": "9fd3e9df-ec50-4249-bec7-218bc534b460",
   "metadata": {},
   "outputs": [
    {
     "name": "stdout",
     "output_type": "stream",
     "text": [
      "['language', 'Language']\n"
     ]
    }
   ],
   "source": [
    "txt='''\n",
    "Python is a beautiful language is not python Language'''\n",
    "p=\"language\"\n",
    "print(re.findall(p,txt,re.I))"
   ]
  },
  {
   "cell_type": "code",
   "execution_count": 38,
   "id": "c59b03ea-1c77-4791-bde4-fc156cb31c4f",
   "metadata": {},
   "outputs": [
    {
     "name": "stdout",
     "output_type": "stream",
     "text": [
      "['', 'gooogle.com', 'nasa.gov.in', 'facebook.in', '']\n"
     ]
    }
   ],
   "source": [
    "s='''\n",
    "gooogle.com\n",
    "nasa.gov.in\n",
    "facebook.in\n",
    "'''\n",
    "print(re.split('\\n',s))"
   ]
  },
  {
   "cell_type": "code",
   "execution_count": 40,
   "id": "b3ac3fdd-62f2-41e8-abe0-78109936968e",
   "metadata": {},
   "outputs": [
    {
     "name": "stdout",
     "output_type": "stream",
     "text": [
      "[':12', ':89.']\n"
     ]
    },
    {
     "name": "stderr",
     "output_type": "stream",
     "text": [
      "<>:2: SyntaxWarning: invalid escape sequence '\\:'\n",
      "<>:2: SyntaxWarning: invalid escape sequence '\\:'\n",
      "C:\\Users\\SOUBHAGYA\\AppData\\Local\\Temp\\ipykernel_18016\\2929813574.py:2: SyntaxWarning: invalid escape sequence '\\:'\n",
      "  p=\"[\\:0-9.]+\"\n"
     ]
    }
   ],
   "source": [
    "s=\"twelve:12 eightynine:89.\"\n",
    "p=\"[\\:0-9.]+\"\n",
    "print(re.findall(p,s))"
   ]
  },
  {
   "cell_type": "code",
   "execution_count": 49,
   "id": "2b9b4635-8d3e-4dbc-80fb-0928253b6347",
   "metadata": {},
   "outputs": [
    {
     "name": "stdout",
     "output_type": "stream",
     "text": [
      "['support_@subnet.com', 'assistance1_2_3@subnet.com']\n"
     ]
    },
    {
     "name": "stderr",
     "output_type": "stream",
     "text": [
      "<>:3: SyntaxWarning: invalid escape sequence '\\w'\n",
      "<>:3: SyntaxWarning: invalid escape sequence '\\w'\n",
      "C:\\Users\\SOUBHAGYA\\AppData\\Local\\Temp\\ipykernel_18016\\489601627.py:3: SyntaxWarning: invalid escape sequence '\\w'\n",
      "  p=\"\\w+@[\\_.a-z0-9]+\"\n"
     ]
    }
   ],
   "source": [
    "txt='''for enquiry contact support_@subnet.com and\n",
    "for assistance assistance1_2_3@subnet.com'''\n",
    "p=\"\\w+@[\\_.a-z0-9]+\"\n",
    "print(re.findall(p,txt))"
   ]
  },
  {
   "cell_type": "raw",
   "id": "ed056b54-b6a5-4b40-9d86-8d7e6aa84588",
   "metadata": {},
   "source": [
    "#re.compile:\n",
    "-it will compile the pattern into regex object\n",
    "-we can use the object to find all the patterns in the given string.\n",
    "-syntax:\n",
    "re.compile(pattern)"
   ]
  },
  {
   "cell_type": "code",
   "execution_count": 50,
   "id": "26b93161-9d01-44f5-8beb-c6ed75ced2d4",
   "metadata": {},
   "outputs": [
    {
     "name": "stdout",
     "output_type": "stream",
     "text": [
      "['assistance', 'assistance']\n"
     ]
    }
   ],
   "source": [
    "pattern=re.compile(\"assistance\",re.I)\n",
    "print(re.findall(pattern,txt))\n"
   ]
  },
  {
   "cell_type": "code",
   "execution_count": 12,
   "id": "c6daa406-b0a2-4e7a-8d64-36e6bfc713f9",
   "metadata": {},
   "outputs": [
    {
     "name": "stdout",
     "output_type": "stream",
     "text": [
      "m############636@#m###.com\n"
     ]
    }
   ],
   "source": [
    "import re\n",
    "txt='mayurkulkarni636@gmail.com'\n",
    "result=re.sub(r\"[^0-9@.com]\",\"#\",txt)\n",
    "print(result)"
   ]
  },
  {
   "cell_type": "code",
   "execution_count": 24,
   "id": "343f7019-8c17-471d-a462-382a6e9b6918",
   "metadata": {},
   "outputs": [
    {
     "name": "stdout",
     "output_type": "stream",
     "text": [
      "##594847##\n"
     ]
    },
    {
     "name": "stderr",
     "output_type": "stream",
     "text": [
      "<>:2: SyntaxWarning: invalid escape sequence '\\d'\n",
      "<>:2: SyntaxWarning: invalid escape sequence '\\d'\n",
      "C:\\Users\\SOUBHAGYA\\AppData\\Local\\Temp\\ipykernel_14136\\3000542390.py:2: SyntaxWarning: invalid escape sequence '\\d'\n",
      "  print(re.sub(\"\\d{2}\\d{6}\\d{2}\",\"##594847##\",txt))\n"
     ]
    }
   ],
   "source": [
    "txt=\"7859484978\"\n",
    "print(re.sub(\"\\d{2}\\d{6}\\d{2}\",\"##594847##\",txt))"
   ]
  },
  {
   "cell_type": "code",
   "execution_count": 4,
   "id": "9e2ec105-db46-4ec0-a0fa-9798e97473c8",
   "metadata": {},
   "outputs": [
    {
     "name": "stdout",
     "output_type": "stream",
     "text": [
      "['2016', '09', '02']\n"
     ]
    },
    {
     "name": "stderr",
     "output_type": "stream",
     "text": [
      "<>:3: SyntaxWarning: invalid escape sequence '\\d'\n",
      "<>:3: SyntaxWarning: invalid escape sequence '\\d'\n",
      "C:\\Users\\SOUBHAGYA\\AppData\\Local\\Temp\\ipykernel_18348\\88962942.py:3: SyntaxWarning: invalid escape sequence '\\d'\n",
      "  p=\"\\d{2,4}\"\n"
     ]
    }
   ],
   "source": [
    "import re\n",
    "url1= \"https://www.washingtonpost.com/news/football-insider/wp/2016/09/02/odell-beckhams-fame-rests-on-one-stupid-little-ball-josh-norman-tells-author/\"\n",
    "p=\"\\d{2,4}\"\n",
    "print(re.findall(p,url1))"
   ]
  },
  {
   "cell_type": "code",
   "execution_count": 7,
   "id": "2b97a145-f6f1-457c-89b7-a2425de3770f",
   "metadata": {},
   "outputs": [
    {
     "name": "stdout",
     "output_type": "stream",
     "text": [
      "192.255.86.11\n"
     ]
    },
    {
     "name": "stderr",
     "output_type": "stream",
     "text": [
      "<>:2: SyntaxWarning: invalid escape sequence '\\.'\n",
      "<>:2: SyntaxWarning: invalid escape sequence '\\.'\n",
      "C:\\Users\\SOUBHAGYA\\AppData\\Local\\Temp\\ipykernel_18348\\801549276.py:2: SyntaxWarning: invalid escape sequence '\\.'\n",
      "  p=\"[1-9\\.]+\"\n"
     ]
    }
   ],
   "source": [
    "string=\"192.0255.086.11\"\n",
    "p=\"[1-9\\.]+\"\n",
    "print(re.sub(\"0\",\"\",string))"
   ]
  },
  {
   "cell_type": "code",
   "execution_count": 18,
   "id": "d343002d-fe02-40e2-a42f-003067f73e7d",
   "metadata": {},
   "outputs": [
    {
     "name": "stdout",
     "output_type": "stream",
     "text": [
      "['The', 'quick', 'brown', 'fox', 'jumps', 'over', 'the', 'lazy', 'dog']\n"
     ]
    },
    {
     "name": "stderr",
     "output_type": "stream",
     "text": [
      "<>:2: SyntaxWarning: invalid escape sequence '\\w'\n",
      "<>:2: SyntaxWarning: invalid escape sequence '\\w'\n",
      "C:\\Users\\SOUBHAGYA\\AppData\\Local\\Temp\\ipykernel_18348\\3636693852.py:2: SyntaxWarning: invalid escape sequence '\\w'\n",
      "  pattern=\"(\\w{3,5})\"\n"
     ]
    }
   ],
   "source": [
    "txt=\"The quick brown fox jumps over the lazy dog.\"\n",
    "pattern=\"(\\w{3,5})\"\n",
    "print(re.findall(pattern,txt))"
   ]
  },
  {
   "cell_type": "code",
   "execution_count": 25,
   "id": "7d695736-7495-4740-9cf6-76b3c318079f",
   "metadata": {},
   "outputs": [
    {
     "name": "stdout",
     "output_type": "stream",
     "text": [
      "True\n"
     ]
    },
    {
     "name": "stderr",
     "output_type": "stream",
     "text": [
      "<>:2: SyntaxWarning: invalid escape sequence '\\w'\n",
      "<>:2: SyntaxWarning: invalid escape sequence '\\w'\n",
      "C:\\Users\\SOUBHAGYA\\AppData\\Local\\Temp\\ipykernel_18348\\2188915352.py:2: SyntaxWarning: invalid escape sequence '\\w'\n",
      "  p=\"\\w+@\\w+\\.\\w+\"\n"
     ]
    }
   ],
   "source": [
    "def valid_email(email):\n",
    "    p=\"\\w+@\\w+\\.\\w+\"\n",
    "    result=re.match(p,email)\n",
    "    if result :\n",
    "        return True\n",
    "    else:\n",
    "        return False\n",
    "email=\"slenka18@gmail.com\"\n",
    "print(valid_email(email))\n"
   ]
  },
  {
   "cell_type": "code",
   "execution_count": 19,
   "id": "66546939-1018-4e9e-9200-e7ab6191cbce",
   "metadata": {},
   "outputs": [
    {
     "name": "stdout",
     "output_type": "stream",
     "text": [
      "True\n"
     ]
    }
   ],
   "source": [
    "# string followed by 0b or 1b.\n",
    "import re\n",
    "def matching(string):\n",
    "    pattern=\"(0b|1b)$\"\n",
    "    if re.search(pattern,string):\n",
    "        return True\n",
    "    else:\n",
    "        return False\n",
    "string=\"aaa0b\"\n",
    "print(matching(string))"
   ]
  },
  {
   "cell_type": "code",
   "execution_count": 69,
   "id": "544a4956-9368-4fc5-bf7e-626b20d6479a",
   "metadata": {},
   "outputs": [
    {
     "name": "stderr",
     "output_type": "stream",
     "text": [
      "<>:3: SyntaxWarning: invalid escape sequence '\\@'\n",
      "<>:3: SyntaxWarning: invalid escape sequence '\\@'\n",
      "C:\\Users\\SOUBHAGYA\\AppData\\Local\\Temp\\ipykernel_18348\\294618065.py:3: SyntaxWarning: invalid escape sequence '\\@'\n",
      "  pattern=\"(^[a-zA-Z0-9])([a-zA-Z0-9]*)(\\@)([a-zA-Z]+\\.)([a-z]+)\"\n"
     ]
    }
   ],
   "source": [
    "#grouping\n",
    "string=\"mayurkulkarni898@gmail.com\"\n",
    "pattern=\"(^[a-zA-Z0-9])([a-zA-Z0-9]*)(\\@)([a-zA-Z]+\\.)([a-z]+)\"\n",
    "match=re.search(pattern,string)"
   ]
  },
  {
   "cell_type": "code",
   "execution_count": 53,
   "id": "d34f956c-734b-40c4-be5a-2afa3a99d254",
   "metadata": {},
   "outputs": [
    {
     "data": {
      "text/plain": [
       "'m'"
      ]
     },
     "execution_count": 53,
     "metadata": {},
     "output_type": "execute_result"
    }
   ],
   "source": [
    "match.group(1)"
   ]
  },
  {
   "cell_type": "code",
   "execution_count": 57,
   "id": "b3e79903-bc41-4b11-b351-74804640e46d",
   "metadata": {},
   "outputs": [
    {
     "name": "stdout",
     "output_type": "stream",
     "text": [
      "m###############\n"
     ]
    }
   ],
   "source": [
    "x=match.group(1)+\"#\"*len(match.group(2))\n",
    "print(x)"
   ]
  },
  {
   "cell_type": "code",
   "execution_count": 70,
   "id": "b28f3150-a814-49cb-8df5-51c18da1ba74",
   "metadata": {},
   "outputs": [],
   "source": [
    "y=match.group(3)+match.group(4)+\"#\"*len(match.group(5))"
   ]
  },
  {
   "cell_type": "code",
   "execution_count": 71,
   "id": "0095a9eb-41a2-4e2d-8e00-edbbd662aaed",
   "metadata": {},
   "outputs": [
    {
     "name": "stdout",
     "output_type": "stream",
     "text": [
      "@gmail.###\n"
     ]
    }
   ],
   "source": [
    "print(y)"
   ]
  },
  {
   "cell_type": "code",
   "execution_count": 72,
   "id": "16cc493e-62f1-4f73-b2da-a0cde2964bcc",
   "metadata": {},
   "outputs": [
    {
     "data": {
      "text/plain": [
       "'m###############@gmail.###'"
      ]
     },
     "execution_count": 72,
     "metadata": {},
     "output_type": "execute_result"
    }
   ],
   "source": [
    "x+y"
   ]
  },
  {
   "cell_type": "code",
   "execution_count": 20,
   "id": "657c9c00-d894-4b2e-afca-353748efc772",
   "metadata": {},
   "outputs": [
    {
     "name": "stderr",
     "output_type": "stream",
     "text": [
      "<>:2: SyntaxWarning: invalid escape sequence '\\@'\n",
      "<>:2: SyntaxWarning: invalid escape sequence '\\@'\n",
      "C:\\Users\\SOUBHAGYA\\AppData\\Local\\Temp\\ipykernel_20744\\2900914437.py:2: SyntaxWarning: invalid escape sequence '\\@'\n",
      "  pattern=\"(^[a-z])([a-z0-9]*)(\\@)([a-z]*)(\\.)([a-z]*)\"\n"
     ]
    }
   ],
   "source": [
    "email=\"soubhagyalenka18@gmail.com\"\n",
    "pattern=\"(^[a-z])([a-z0-9]*)(\\@)([a-z]*)(\\.)([a-z]*)\"\n",
    "match=re.search(pattern,email)"
   ]
  },
  {
   "cell_type": "code",
   "execution_count": 21,
   "id": "489ac39b-3295-43f4-8372-d09487e85d67",
   "metadata": {},
   "outputs": [
    {
     "data": {
      "text/plain": [
       "'s'"
      ]
     },
     "execution_count": 21,
     "metadata": {},
     "output_type": "execute_result"
    }
   ],
   "source": [
    "match.group(1)"
   ]
  },
  {
   "cell_type": "code",
   "execution_count": 22,
   "id": "5840f693-ad19-4043-bd42-1d0bb744e1d1",
   "metadata": {},
   "outputs": [
    {
     "name": "stdout",
     "output_type": "stream",
     "text": [
      "s###############\n"
     ]
    }
   ],
   "source": [
    "x=match.group(1)+\"#\"*len(match.group(2))\n",
    "print(x)"
   ]
  },
  {
   "cell_type": "code",
   "execution_count": 31,
   "id": "b9d7e7e4-cfea-4b16-88fe-6d7b49144cc7",
   "metadata": {},
   "outputs": [
    {
     "name": "stdout",
     "output_type": "stream",
     "text": [
      "@#####\n"
     ]
    }
   ],
   "source": [
    "y=match.group(3)+\"#\"*len(match.group(4))\n",
    "print(y)"
   ]
  },
  {
   "cell_type": "code",
   "execution_count": 32,
   "id": "c531a4d8-1e21-4d99-bf1e-94fe69715159",
   "metadata": {},
   "outputs": [
    {
     "name": "stdout",
     "output_type": "stream",
     "text": [
      ".###\n"
     ]
    }
   ],
   "source": [
    "z=match.group(5)+\"#\"*len(match.group(6))\n",
    "print(z)"
   ]
  },
  {
   "cell_type": "code",
   "execution_count": 33,
   "id": "4f2351a5-8d46-439c-bfaa-fac00386ffef",
   "metadata": {},
   "outputs": [
    {
     "data": {
      "text/plain": [
       "'s###############@#####.###'"
      ]
     },
     "execution_count": 33,
     "metadata": {},
     "output_type": "execute_result"
    }
   ],
   "source": [
    "x+y+z"
   ]
  },
  {
   "cell_type": "code",
   "execution_count": 39,
   "id": "93c80111-60e4-4bf3-83c4-598d96c6cb15",
   "metadata": {},
   "outputs": [],
   "source": [
    "import re\n",
    "number=\"7846849995\"\n",
    "p=\"([0-9]{2})([0-9]{6})([0-9]{2})\"\n",
    "match=re.search(p,number)"
   ]
  },
  {
   "cell_type": "code",
   "execution_count": 40,
   "id": "43066ff1-9b4d-494d-b67f-c2ec7aba29df",
   "metadata": {},
   "outputs": [
    {
     "data": {
      "text/plain": [
       "'78'"
      ]
     },
     "execution_count": 40,
     "metadata": {},
     "output_type": "execute_result"
    }
   ],
   "source": [
    "match.group(1)"
   ]
  },
  {
   "cell_type": "code",
   "execution_count": 41,
   "id": "7e8dc6e0-9c81-400b-854e-e818c09dd913",
   "metadata": {},
   "outputs": [
    {
     "name": "stdout",
     "output_type": "stream",
     "text": [
      "78######95\n"
     ]
    }
   ],
   "source": [
    "x=match.group(1)+\"#\"*len(match.group(2))+match.group(3)\n",
    "print(x)"
   ]
  },
  {
   "cell_type": "code",
   "execution_count": 8,
   "id": "41787475-4ad3-44b5-a813-de8e2becfc09",
   "metadata": {},
   "outputs": [
    {
     "name": "stdout",
     "output_type": "stream",
     "text": [
      "ma##############@gmail.###\n"
     ]
    },
    {
     "name": "stderr",
     "output_type": "stream",
     "text": [
      "<>:2: SyntaxWarning: invalid escape sequence '\\@'\n",
      "<>:2: SyntaxWarning: invalid escape sequence '\\@'\n",
      "C:\\Users\\SOUBHAGYA\\AppData\\Local\\Temp\\ipykernel_18636\\1748937108.py:2: SyntaxWarning: invalid escape sequence '\\@'\n",
      "  p=\"([a-z]{2})([a-z0-9]*)(\\@)([a-z]*\\.)([a-z]*)\"\n"
     ]
    }
   ],
   "source": [
    "def masking(email):\n",
    "    p=\"([a-z]{2})([a-z0-9]*)(\\@)([a-z]*\\.)([a-z]*)\"\n",
    "    match=re.search(p,email)\n",
    "    x=match.group(1)+\"#\"*len(match.group(2))+match.group(3)+(match.group(4))+\"#\"*len(match.group(5))\n",
    "    return x\n",
    "email=\"mayurkulkarni636@gmail.com\"\n",
    "print(masking(email))"
   ]
  },
  {
   "cell_type": "code",
   "execution_count": 26,
   "id": "ad785e57-4954-4d88-843a-646b7251b7a3",
   "metadata": {},
   "outputs": [
    {
     "name": "stdout",
     "output_type": "stream",
     "text": [
      "1########9\n"
     ]
    },
    {
     "name": "stderr",
     "output_type": "stream",
     "text": [
      "<>:2: SyntaxWarning: invalid escape sequence '\\('\n",
      "<>:2: SyntaxWarning: invalid escape sequence '\\('\n",
      "C:\\Users\\SOUBHAGYA\\AppData\\Local\\Temp\\ipykernel_18636\\2811674958.py:2: SyntaxWarning: invalid escape sequence '\\('\n",
      "  p=\"([0-9]{1})\\((\\d{3})\\)-(\\d{3})-(\\d{2})(\\d{1})\"\n"
     ]
    }
   ],
   "source": [
    "num=\"1(345)-456-789\"\n",
    "p=\"([0-9]{1})\\((\\d{3})\\)-(\\d{3})-(\\d{2})(\\d{1})\"\n",
    "match=re.search(p,num)\n",
    "x=match.group(1)+\"#\"*len(match.group(2))+\"#\"*len(match.group(3))+\"#\"*len(match.group(4))+match.group(5)\n",
    "print(x)"
   ]
  },
  {
   "cell_type": "raw",
   "id": "254061a0-8757-4568-a27c-f98e28fa8177",
   "metadata": {},
   "source": [
    "write a python programme that matches a word containing \"z\"."
   ]
  },
  {
   "cell_type": "code",
   "execution_count": 30,
   "id": "fe9efa98-8349-48f1-86b7-92258949361b",
   "metadata": {},
   "outputs": [
    {
     "name": "stdout",
     "output_type": "stream",
     "text": [
      "<re.Match object; span=(1, 2), match='z'>\n"
     ]
    }
   ],
   "source": [
    "p=\"[z]\"\n",
    "s=\"azbc\"\n",
    "print(re.search(p,s))"
   ]
  },
  {
   "cell_type": "raw",
   "id": "505226d5-98b6-4d46-bcb1-05c923784ca5",
   "metadata": {},
   "source": [
    "write a python programme to check for a number at the end of a string."
   ]
  },
  {
   "cell_type": "code",
   "execution_count": 31,
   "id": "95f67bb8-745e-4158-be48-a627a8d00f37",
   "metadata": {},
   "outputs": [
    {
     "name": "stdout",
     "output_type": "stream",
     "text": [
      "<re.Match object; span=(3, 4), match='2'>\n"
     ]
    }
   ],
   "source": [
    "p=\"[0-9]$\"\n",
    "s=\"abc2\"\n",
    "print(re.search(p,s))"
   ]
  },
  {
   "cell_type": "code",
   "execution_count": 37,
   "id": "84040a02-5271-48a9-bf54-d4c580b78282",
   "metadata": {},
   "outputs": [
    {
     "name": "stdout",
     "output_type": "stream",
     "text": [
      "['https:\\\\www.google.com\\\\', 'https:\\\\www.github.co.in\\\\']\n"
     ]
    },
    {
     "name": "stderr",
     "output_type": "stream",
     "text": [
      "<>:3: SyntaxWarning: invalid escape sequence '\\w'\n",
      "<>:3: SyntaxWarning: invalid escape sequence '\\w'\n",
      "C:\\Users\\SOUBHAGYA\\AppData\\Local\\Temp\\ipykernel_18636\\1834785348.py:3: SyntaxWarning: invalid escape sequence '\\w'\n",
      "  p=\"\\w+\\:\\\\\\\\[a-z.\\\\\\\\]*\"\n"
     ]
    }
   ],
   "source": [
    "s='''https:\\\\www.google.com\\\\<p>this the unavailable content <p> but is visible for dummies.\n",
    "https:\\\\www.github.co.in\\\\<center><p>this the unavailabe content <p>but visible for dummies.'''\n",
    "p=\"\\w+\\:\\\\\\\\[a-z.\\\\\\\\]*\"\n",
    "print(re.findall(p,s))"
   ]
  },
  {
   "cell_type": "code",
   "execution_count": 39,
   "id": "3f5a4813-0b5b-4a4e-9f10-47b8ee3ae988",
   "metadata": {},
   "outputs": [
    {
     "name": "stdout",
     "output_type": "stream",
     "text": [
      "same\n"
     ]
    }
   ],
   "source": [
    "list1=[\"a\",\"bc\"]\n",
    "list2=[\"a\",\"b\",\"c\"]\n",
    "c1=\"\"\n",
    "c2=\"\"\n",
    "for i in list1:\n",
    "    c1+=i\n",
    "for j in list2:\n",
    "    c2+=j\n",
    "if c1==c2:\n",
    "    print(\"same\")\n",
    "else:\n",
    "    print(\"not same\")\n",
    "        "
   ]
  },
  {
   "cell_type": "code",
   "execution_count": 47,
   "id": "d8440019-14bc-4581-a49b-fbdb47bb4588",
   "metadata": {},
   "outputs": [
    {
     "name": "stdout",
     "output_type": "stream",
     "text": [
      "['5', '9', '9', '5']\n"
     ]
    }
   ],
   "source": [
    "str1=\"52\"\n",
    "str2=\"679\"\n",
    "str3=\"4520\"\n",
    "str4=\"4620\"\n",
    "list=[]\n",
    "list2=[]\n",
    "list.append((str1))\n",
    "list.append((str2))\n",
    "list.append((str3))\n",
    "list.append((str4))\n",
    "for i in list:\n",
    "    for j in i:\n",
    "        if int(j)%2!=0:\n",
    "            list2.append(max(i))\n",
    "print(list2)"
   ]
  },
  {
   "cell_type": "raw",
   "id": "c1c96350-ffa1-4d5f-bad3-bc230eeb9a65",
   "metadata": {},
   "source": [
    "pip install pypdf4"
   ]
  },
  {
   "cell_type": "code",
   "execution_count": 48,
   "id": "a10fc598-27a0-4284-8403-9eaa6a3b19c1",
   "metadata": {},
   "outputs": [
    {
     "name": "stdout",
     "output_type": "stream",
     "text": [
      "10\n"
     ]
    }
   ],
   "source": [
    "# max peak among the list\n",
    "def find_max(list):\n",
    "    maximum=list[0]\n",
    "    for i in range(1,len(list)):\n",
    "        if maximum<list[i]:\n",
    "            maximum=list[i]\n",
    "    return maximum\n",
    "list=[2,3,5,6,7,5,1,8,10,7,6]\n",
    "print(find_max(list))\n",
    "    \n",
    "        \n",
    "        "
   ]
  },
  {
   "cell_type": "code",
   "execution_count": 51,
   "id": "97a7e9cd-63db-4f68-bb03-4f52bcd987df",
   "metadata": {},
   "outputs": [
    {
     "name": "stdout",
     "output_type": "stream",
     "text": [
      "7\n",
      "10\n",
      "None\n"
     ]
    }
   ],
   "source": [
    "def find_max(list):\n",
    "    maximum=list[0]\n",
    "    for i in range(1,len(list)-1):\n",
    "        if list[i-1]<=list[i]>=list[i+1]:\n",
    "            print(list[i])\n",
    "list=[2,3,5,6,7,5,1,8,10,7,6]\n",
    "print(find_max(list))\n",
    "            \n",
    "            \n",
    "        "
   ]
  },
  {
   "cell_type": "code",
   "execution_count": null,
   "id": "30114365-2df5-4b52-8d0e-d3f986d58f49",
   "metadata": {},
   "outputs": [],
   "source": []
  }
 ],
 "metadata": {
  "kernelspec": {
   "display_name": "Python 3 (ipykernel)",
   "language": "python",
   "name": "python3"
  },
  "language_info": {
   "codemirror_mode": {
    "name": "ipython",
    "version": 3
   },
   "file_extension": ".py",
   "mimetype": "text/x-python",
   "name": "python",
   "nbconvert_exporter": "python",
   "pygments_lexer": "ipython3",
   "version": "3.13.0"
  }
 },
 "nbformat": 4,
 "nbformat_minor": 5
}
