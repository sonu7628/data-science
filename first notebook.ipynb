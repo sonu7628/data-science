{
 "cells": [
  {
   "cell_type": "code",
   "execution_count": 1,
   "id": "ebe662d7-7160-4178-b896-b4b119c5e254",
   "metadata": {},
   "outputs": [
    {
     "name": "stdin",
     "output_type": "stream",
     "text": [
      "enter length: 12\n"
     ]
    }
   ],
   "source": [
    "length = int(input(\"enter length:\"))\n",
    "            "
   ]
  },
  {
   "cell_type": "code",
   "execution_count": 2,
   "id": "3bdcec7c-4b3a-4713-872e-0fba48972c74",
   "metadata": {},
   "outputs": [
    {
     "name": "stdin",
     "output_type": "stream",
     "text": [
      "enter breadth: 10\n"
     ]
    }
   ],
   "source": [
    "breadth= int (input(\"enter breadth:\"))"
   ]
  },
  {
   "cell_type": "code",
   "execution_count": 3,
   "id": "d2371b15-f922-41ff-9ca3-827baab67c41",
   "metadata": {},
   "outputs": [],
   "source": [
    "perimeter=2*(length+breadth)"
   ]
  },
  {
   "cell_type": "code",
   "execution_count": 4,
   "id": "24a41aa8-562c-41cc-97a7-2547b1659961",
   "metadata": {},
   "outputs": [
    {
     "name": "stdout",
     "output_type": "stream",
     "text": [
      "44\n"
     ]
    }
   ],
   "source": [
    "print(perimeter)"
   ]
  },
  {
   "cell_type": "markdown",
   "id": "a2222f7e-fed8-4b08-81f2-b248b25a2f0c",
   "metadata": {},
   "source": [
    "#AREA OF TRAPEZIUM"
   ]
  },
  {
   "cell_type": "code",
   "execution_count": 5,
   "id": "cde2815a-8783-422f-81f8-88d70e4735bf",
   "metadata": {},
   "outputs": [
    {
     "name": "stdin",
     "output_type": "stream",
     "text": [
      "Enter one side of trapezium: 10\n"
     ]
    }
   ],
   "source": [
    "a= int(input(\"Enter one side of trapezium:\"))"
   ]
  },
  {
   "cell_type": "code",
   "execution_count": 6,
   "id": "c6a692b3-48b4-4a95-9666-4e9ef00fd4ee",
   "metadata": {},
   "outputs": [
    {
     "name": "stdin",
     "output_type": "stream",
     "text": [
      "Enter other side of trapezium: 12\n"
     ]
    }
   ],
   "source": [
    "b= int(input(\"Enter other side of trapezium:\"))"
   ]
  },
  {
   "cell_type": "code",
   "execution_count": 7,
   "id": "a067b232-7e26-455f-87c5-e7157eddd393",
   "metadata": {},
   "outputs": [
    {
     "name": "stdin",
     "output_type": "stream",
     "text": [
      "enter height 5\n"
     ]
    }
   ],
   "source": [
    "h= int(input(\"enter height\"))"
   ]
  },
  {
   "cell_type": "code",
   "execution_count": 10,
   "id": "77d47ca9-e373-4d8f-bee7-ea11cf2d1730",
   "metadata": {},
   "outputs": [
    {
     "name": "stdout",
     "output_type": "stream",
     "text": [
      "area of trapezium : 55.0\n"
     ]
    }
   ],
   "source": [
    "area = 0.5*(a+b)*h\n",
    "print(\"area of trapezium :\",area)"
   ]
  },
  {
   "cell_type": "code",
   "execution_count": 11,
   "id": "7e093bdf-8ae9-492a-a796-dc4969210568",
   "metadata": {},
   "outputs": [],
   "source": [
    "#programme to check the number is odd or even\n"
   ]
  },
  {
   "cell_type": "code",
   "execution_count": 12,
   "id": "2dd6fcc6-7d06-478c-994b-15f83ed590c0",
   "metadata": {},
   "outputs": [
    {
     "name": "stdin",
     "output_type": "stream",
     "text": [
      "enter a number 12412578\n"
     ]
    }
   ],
   "source": [
    "num=int(input(\"enter a number\"))\n"
   ]
  },
  {
   "cell_type": "code",
   "execution_count": 13,
   "id": "b224b0ba-2c61-4604-90e2-c6d43fd86eb2",
   "metadata": {},
   "outputs": [
    {
     "name": "stdout",
     "output_type": "stream",
     "text": [
      "even\n"
     ]
    }
   ],
   "source": [
    "if num%2==0:\n",
    "    print(\"even\")\n",
    "else:\n",
    "    print(\"odd\")\n"
   ]
  },
  {
   "cell_type": "code",
   "execution_count": 14,
   "id": "ee6dde01-c1ac-4b17-b8ac-97caf66f8fac",
   "metadata": {},
   "outputs": [
    {
     "name": "stdin",
     "output_type": "stream",
     "text": [
      "enter a number 10\n"
     ]
    }
   ],
   "source": [
    "num=int(input(\"enter a number\"))"
   ]
  },
  {
   "cell_type": "code",
   "execution_count": 15,
   "id": "7fd4753e-8169-45fd-9784-73c2ce28a0cd",
   "metadata": {},
   "outputs": [
    {
     "name": "stdin",
     "output_type": "stream",
     "text": [
      "enter a number 14\n"
     ]
    }
   ],
   "source": [
    "num2= int(input(\"enter a number\"))"
   ]
  },
  {
   "cell_type": "code",
   "execution_count": 16,
   "id": "4a8a5f49-9309-449a-9be0-3c72503be05c",
   "metadata": {},
   "outputs": [
    {
     "name": "stdout",
     "output_type": "stream",
     "text": [
      "greater one is : 14\n"
     ]
    }
   ],
   "source": [
    "if num>num2:\n",
    "    print(\"greater one is :\",num)\n",
    "else:\n",
    "    print(\"greater one is :\",num2)"
   ]
  },
  {
   "cell_type": "code",
   "execution_count": 17,
   "id": "a8456fc9-48a9-4909-a0b7-23150ab93651",
   "metadata": {},
   "outputs": [
    {
     "name": "stdin",
     "output_type": "stream",
     "text": [
      "enter a number 12\n",
      "enter a number 34\n",
      "enter a number 58\n"
     ]
    },
    {
     "name": "stdout",
     "output_type": "stream",
     "text": [
      "greatest one is: 58\n"
     ]
    }
   ],
   "source": [
    "num1=int(input(\"enter a number\"))\n",
    "num2= int(input(\"enter a number\"))\n",
    "num3= int(input(\"enter a number\"))\n",
    "if num1>num2 and num1>num3:\n",
    "    print(\"greatest one is :\",num1)\n",
    "elif num2>num1 and num2>num3:\n",
    "    print(\"greatest one is :\",num2)\n",
    "else:\n",
    "    print(\"greatest one is:\",num3)\n"
   ]
  },
  {
   "cell_type": "code",
   "execution_count": 1,
   "id": "48c0750c-ad58-47ac-912a-0273b959443d",
   "metadata": {},
   "outputs": [
    {
     "name": "stdin",
     "output_type": "stream",
     "text": [
      "enter first number 67\n",
      "enter second number 34\n",
      "enter third number 45\n",
      "enter fourth number 89\n"
     ]
    },
    {
     "name": "stdout",
     "output_type": "stream",
     "text": [
      "greatest one is : 89\n"
     ]
    }
   ],
   "source": [
    "num1=int(input(\"enter first number\"))\n",
    "num2= int(input(\"enter second number\"))\n",
    "num3= int(input(\"enter third number\"))\n",
    "num4= int(input(\"enter fourth number\"))\n",
    "if num1>num2 and num1>num3 and num1>num4:\n",
    "    print(\"greatest one is :\",num1)\n",
    "elif num2>num3 and num2>num4 and num2>num1:\n",
    "    print(\"greatest one is :\",num2)\n",
    "elif num3>num1 and num3>num4 and num3>num2:\n",
    "    print(\"greatest one is :\",num3)\n",
    "else:\n",
    "    print(\"greatest one is :\",num4)"
   ]
  },
  {
   "cell_type": "code",
   "execution_count": 36,
   "id": "f77cb8bb-9150-4482-aca1-5b1a2b8650e5",
   "metadata": {},
   "outputs": [
    {
     "name": "stdin",
     "output_type": "stream",
     "text": [
      "enter a num: 2\n"
     ]
    },
    {
     "name": "stdout",
     "output_type": "stream",
     "text": [
      "1\n"
     ]
    }
   ],
   "source": [
    "num=int(input(\"enter a num:\"))\n",
    "if num==1:\n",
    "    n=num<<1\n",
    "    print(n)\n",
    "elif num==2:\n",
    "    x=num>>1\n",
    "    print(x)\n",
    "    "
   ]
  },
  {
   "cell_type": "code",
   "execution_count": 29,
   "id": "5ea94deb-201f-431f-862e-174c8cf92f97",
   "metadata": {},
   "outputs": [
    {
     "name": "stdin",
     "output_type": "stream",
     "text": [
      "enter the radius: 4\n",
      "enter value : 3\n",
      "enter value : 3\n",
      "enter value : 4\n",
      "enter value : 4\n",
      "enter value : 5\n",
      "enter value : 5\n"
     ]
    },
    {
     "ename": "TypeError",
     "evalue": "unsupported operand type(s) for -: 'tuple' and 'tuple'",
     "output_type": "error",
     "traceback": [
      "\u001b[1;31m---------------------------------------------------------------------------\u001b[0m",
      "\u001b[1;31mTypeError\u001b[0m                                 Traceback (most recent call last)",
      "Cell \u001b[1;32mIn[29], line 10\u001b[0m\n\u001b[0;32m      8\u001b[0m x4\u001b[38;5;241m=\u001b[39m\u001b[38;5;28mint\u001b[39m(\u001b[38;5;28minput\u001b[39m(\u001b[38;5;124m\"\u001b[39m\u001b[38;5;124menter value :\u001b[39m\u001b[38;5;124m\"\u001b[39m)),\n\u001b[0;32m      9\u001b[0m y4\u001b[38;5;241m=\u001b[39m\u001b[38;5;28mint\u001b[39m(\u001b[38;5;28minput\u001b[39m(\u001b[38;5;124m\"\u001b[39m\u001b[38;5;124menter value :\u001b[39m\u001b[38;5;124m\"\u001b[39m))\n\u001b[1;32m---> 10\u001b[0m op\u001b[38;5;241m=\u001b[39m((\u001b[43mx2\u001b[49m\u001b[38;5;241;43m-\u001b[39;49m\u001b[43mx1\u001b[49m)\u001b[38;5;241m*\u001b[39m\u001b[38;5;241m*\u001b[39m\u001b[38;5;241m2\u001b[39m\u001b[38;5;241m+\u001b[39m(y2\u001b[38;5;241m-\u001b[39my1)\u001b[38;5;241m*\u001b[39m\u001b[38;5;241m*\u001b[39m\u001b[38;5;241m2\u001b[39m)\u001b[38;5;241m*\u001b[39m\u001b[38;5;241m*\u001b[39m\u001b[38;5;241m0.5\u001b[39m\n\u001b[0;32m     11\u001b[0m os\u001b[38;5;241m=\u001b[39m((x3\u001b[38;5;241m-\u001b[39mx1)\u001b[38;5;241m*\u001b[39m\u001b[38;5;241m*\u001b[39m\u001b[38;5;241m2\u001b[39m\u001b[38;5;241m+\u001b[39m(y3\u001b[38;5;241m-\u001b[39my1)\u001b[38;5;241m*\u001b[39m\u001b[38;5;241m*\u001b[39m\u001b[38;5;241m2\u001b[39m)\u001b[38;5;241m*\u001b[39m\u001b[38;5;241m*\u001b[39m\u001b[38;5;241m0.5\u001b[39m\n\u001b[0;32m     12\u001b[0m oq\u001b[38;5;241m=\u001b[39m((x4\u001b[38;5;241m-\u001b[39mx1)\u001b[38;5;241m*\u001b[39m\u001b[38;5;241m*\u001b[39m\u001b[38;5;241m2\u001b[39m\u001b[38;5;241m+\u001b[39m(y4\u001b[38;5;241m-\u001b[39my1)\u001b[38;5;241m*\u001b[39m\u001b[38;5;241m*\u001b[39m\u001b[38;5;241m2\u001b[39m)\u001b[38;5;241m*\u001b[39m\u001b[38;5;241m*\u001b[39m\u001b[38;5;241m0.5\u001b[39m\n",
      "\u001b[1;31mTypeError\u001b[0m: unsupported operand type(s) for -: 'tuple' and 'tuple'"
     ]
    }
   ],
   "source": [
    "r=int(input(\"enter the radius:\")),\n",
    "x1=0,\n",
    "y1=0,\n",
    "x2=int(input(\"enter value :\")),\n",
    "y2=int(input(\"enter value :\")),\n",
    "x3=int(input(\"enter value :\")),\n",
    "y3=int(input(\"enter value :\")),\n",
    "x4=int(input(\"enter value :\")),\n",
    "y4=int(input(\"enter value :\"))\n",
    "op=((x2-x1)**2+(y2-y1)**2)**0.5\n",
    "os=((x3-x1)**2+(y3-y1)**2)**0.5\n",
    "oq=((x4-x1)**2+(y4-y1)**2)**0.5\n",
    "if op>r:\n",
    "    print(\"point outside the circle\")\n",
    "if op==r:\n",
    "    print(\"point at the circumference\")\n",
    "elif op<r:\n",
    "    print(\"point inside the citcle\")\n",
    "    \n",
    "    \n"
   ]
  },
  {
   "cell_type": "code",
   "execution_count": null,
   "id": "4e785aa0-7ba1-46b6-846f-b7e364b9fedf",
   "metadata": {},
   "outputs": [],
   "source": []
  },
  {
   "cell_type": "code",
   "execution_count": 30,
   "id": "2568e944-99ca-4deb-b4c7-9cb7fa3ed4b5",
   "metadata": {},
   "outputs": [
    {
     "name": "stdout",
     "output_type": "stream",
     "text": [
      "10 20\n"
     ]
    }
   ],
   "source": [
    "a=20\n",
    "b=10\n",
    "a=a^b\n",
    "b=a^b\n",
    "a=a^b\n",
    "print(a,b)"
   ]
  },
  {
   "cell_type": "code",
   "execution_count": 38,
   "id": "75716b66-39c5-4a10-9d72-036efad5206f",
   "metadata": {},
   "outputs": [
    {
     "name": "stdin",
     "output_type": "stream",
     "text": [
      "enter a num: 20\n"
     ]
    },
    {
     "name": "stdout",
     "output_type": "stream",
     "text": [
      "num is positive\n"
     ]
    }
   ],
   "source": [
    "n=int(input(\"enter a num:\"))\n",
    "if n>0:\n",
    "    print(\"num is positive\")\n",
    "elif n==0:\n",
    "    print(\"num is neutral\")\n",
    "else:\n",
    "    print(\"num is negetive\")"
   ]
  },
  {
   "cell_type": "code",
   "execution_count": 39,
   "id": "1d1d0f1b-974a-4239-9c06-381432a8028a",
   "metadata": {},
   "outputs": [
    {
     "name": "stdin",
     "output_type": "stream",
     "text": [
      "enter a num: 80\n"
     ]
    },
    {
     "name": "stdout",
     "output_type": "stream",
     "text": [
      "eligible for voting\n"
     ]
    }
   ],
   "source": [
    "age=int(input(\"enter a num:\"))\n",
    "if age>18:\n",
    "    print(\"eligible for voting\")\n",
    "\n",
    "else:\n",
    "    print(\"not eligible for voting\")"
   ]
  },
  {
   "cell_type": "code",
   "execution_count": 22,
   "id": "ea237901-cca8-40fb-adc4-85ebbd7617db",
   "metadata": {},
   "outputs": [
    {
     "name": "stdin",
     "output_type": "stream",
     "text": [
      "Enter the x-coordinate of circle center: 0\n",
      "Enter the y-coordinate of circle center: 0\n",
      "enter the value of radius: 5\n",
      "Enter the x-coordinate of point1: 3\n",
      "Enter the y-coordinate of point1: 4\n"
     ]
    },
    {
     "name": "stdout",
     "output_type": "stream",
     "text": [
      "point(3.0,4.0)is position of  circle.\n"
     ]
    },
    {
     "name": "stdin",
     "output_type": "stream",
     "text": [
      "Enter the x-coordinate of point2: 5\n",
      "Enter the y-coordinate of point2: 0\n"
     ]
    },
    {
     "name": "stdout",
     "output_type": "stream",
     "text": [
      "point(5.0,0.0)is position of  circle.\n"
     ]
    },
    {
     "name": "stdin",
     "output_type": "stream",
     "text": [
      "Enter the x-coordinate of point3: 7\n",
      "Enter the y-coordinate of point3: 9\n"
     ]
    },
    {
     "name": "stdout",
     "output_type": "stream",
     "text": [
      "point(7.0,9.0)is position of  circle.\n"
     ]
    },
    {
     "ename": "SyntaxError",
     "evalue": "'return' outside function (3269955567.py, line 16)",
     "output_type": "error",
     "traceback": [
      "\u001b[1;36m  Cell \u001b[1;32mIn[22], line 16\u001b[1;36m\u001b[0m\n\u001b[1;33m    return \"inside\"\u001b[0m\n\u001b[1;37m    ^\u001b[0m\n\u001b[1;31mSyntaxError\u001b[0m\u001b[1;31m:\u001b[0m 'return' outside function\n"
     ]
    }
   ],
   "source": [
    "\n",
    "    center_x=float(input(\"Enter the x-coordinate of circle center:\"))\n",
    "    center_y=float(input(\"Enter the y-coordinate of circle center:\"))\n",
    "    radius=float(input(\"enter the value of radius:\"))\n",
    "    for i in range(3):\n",
    "        x=float(input(f\"Enter the x-coordinate of point{i+1}:\"))            \n",
    "        y=float(input(f\"Enter the y-coordinate of point{i+1}:\"))\n",
    "        position=check_point_position(x,y,center_x,center_y,radius)\n",
    "        print(f\"point({x},{y})is position of  circle.\")\n",
    "        \n",
    "import math\n",
    "def cal_dist(x1,y1,x2,y2):\n",
    "     return math.sqrt((x2-x1)**2+(y2-y1)**2)\n",
    "def check_point_position(x,y,center_x,center_y,radius):\n",
    "     distance=cal_dist(x,y,center_x,center_y)\n",
    "    if distance<radius:\n",
    "        return \"inside\"\n",
    "    elif distance==radius:\n",
    "        return \"on the circumference\"\n",
    "    else:\n",
    "        return \"outside\"\n",
    "\n",
    "        "
   ]
  },
  {
   "cell_type": "code",
   "execution_count": 24,
   "id": "0682f809-4359-4215-8843-396e371f0dea",
   "metadata": {},
   "outputs": [
    {
     "name": "stdin",
     "output_type": "stream",
     "text": [
      "Enter the x-coordinate of the circle's center:  0\n",
      "Enter the y-coordinate of the circle's center:  0\n",
      "Enter the radius of the circle:  3\n",
      "Enter the x-coordinate of point 1:  4\n",
      "Enter the y-coordinate of point 1:  5\n"
     ]
    },
    {
     "name": "stdout",
     "output_type": "stream",
     "text": [
      "Point (4.0, 5.0) is Outside the circle.\n"
     ]
    },
    {
     "name": "stdin",
     "output_type": "stream",
     "text": [
      "Enter the x-coordinate of point 2:  4\n",
      "Enter the y-coordinate of point 2:  7\n"
     ]
    },
    {
     "name": "stdout",
     "output_type": "stream",
     "text": [
      "Point (4.0, 7.0) is Outside the circle.\n"
     ]
    },
    {
     "name": "stdin",
     "output_type": "stream",
     "text": [
      "Enter the x-coordinate of point 3:  1\n",
      "Enter the y-coordinate of point 3:  1\n"
     ]
    },
    {
     "name": "stdout",
     "output_type": "stream",
     "text": [
      "Point (1.0, 1.0) is Inside the circle.\n"
     ]
    }
   ],
   "source": [
    "import math\n",
    "\n",
    "def calculate_distance(x1, y1, x2, y2):\n",
    "    return math.sqrt((x2 - x1)**2 + (y2 - y1)**2)\n",
    "\n",
    "def check_point_position(x, y, center_x, center_y, radius):\n",
    "    distance = calculate_distance(x, y, center_x, center_y)\n",
    "    if distance < radius:\n",
    "        return \"Inside\"\n",
    "    elif distance == radius:\n",
    "        return \"On\"\n",
    "    else:\n",
    "        return \"Outside\"\n",
    "\n",
    "def main():\n",
    "    # Get circle details from user\n",
    "    center_x = float(input(\"Enter the x-coordinate of the circle's center: \"))\n",
    "    center_y = float(input(\"Enter the y-coordinate of the circle's center: \"))\n",
    "    radius = float(input(\"Enter the radius of the circle: \"))\n",
    "\n",
    "    # Get three points from user\n",
    "    for i in range(3):\n",
    "        x = float(input(f\"Enter the x-coordinate of point {i+1}: \"))\n",
    "        y = float(input(f\"Enter the y-coordinate of point {i+1}: \"))\n",
    "\n",
    "        position = check_point_position(x, y, center_x, center_y, radius)\n",
    "        print(f\"Point ({x}, {y}) is {position} the circle.\")\n",
    "\n",
    "if __name__ == \"__main__\":\n",
    "    main()\n"
   ]
  },
  {
   "cell_type": "code",
   "execution_count": null,
   "id": "4e5199cb-f404-4a4e-b8fc-4f0d57ad25f6",
   "metadata": {},
   "outputs": [
    {
     "name": "stdin",
     "output_type": "stream",
     "text": [
      "enter the coordinate of center of x-axis: 0\n",
      "enter the coordinate of center of y-axis: 0\n",
      "enter the radius of circle: 5\n",
      "enter the coordinate of x axis1:  3\n",
      "enter the coordinate of y axis1:  4\n"
     ]
    },
    {
     "name": "stdout",
     "output_type": "stream",
     "text": [
      "on\n",
      "point(3.0,4.0)in None the circle\n"
     ]
    }
   ],
   "source": [
    "#### import math\n",
    "def calc_dist(x1,y1,x2,y2):\n",
    "    return math.sqrt ((x2-x1)**2 + (y2-y1)**2)\n",
    "def check_position(x,y,center_x,center_y,radius):\n",
    "    distance=calc_dist(x,y,center_x,center_y)\n",
    "    if (distance<radius):\n",
    "        print(\"inside\")\n",
    "    elif (distance==radius):\n",
    "        print(\"on\")\n",
    "    else:\n",
    "        print(\"outside\")\n",
    "def main():\n",
    "    center_x=float(input(\"enter the coordinate of center of x-axis:\"))\n",
    "    center_y=float(input(\"enter the coordinate of center of y-axis:\"))\n",
    "    radius=float(input(\"enter the radius of circle:\"))\n",
    "    for i in range(3):\n",
    "        x=float(input(f\"enter the coordinate of x axis{i+1}: \"))\n",
    "        y=float(input(f\"enter the coordinate of y axis{i+1}: \"))\n",
    "\n",
    "        position=check_position(x,y,center_x,center_y,radius)\n",
    "        print(f\"point({x},{y})in {position} the circle\")\n",
    "if__name__==\"__main__\"\n",
    "main()"
   ]
  },
  {
   "cell_type": "raw",
   "id": "64fe198a-306b-464d-9d16-002181d2e0b8",
   "metadata": {},
   "source": [
    "write a programme the salary of a medical representive including salry bonus an incentive offers to him "
   ]
  },
  {
   "cell_type": "code",
   "execution_count": 4,
   "id": "d3a4efd0-a883-46ec-b109-30a3315ad9fc",
   "metadata": {},
   "outputs": [
    {
     "name": "stdin",
     "output_type": "stream",
     "text": [
      "enter the sales 200000\n"
     ]
    },
    {
     "name": "stdout",
     "output_type": "stream",
     "text": [
      "get salary: 30700.0\n"
     ]
    }
   ],
   "source": [
    "sales=float(input(\"enter the sales\"))\n",
    "salary1=4000+0.2*4000+1.1*4000+500+0.1*sales+1000\n",
    "salary2=4000+0.1*4000+1.1*4000+500+0.04*sales+500\n",
    "if sales>100000:\n",
    "    print(\"get salary:\",salary1)\n",
    "else:\n",
    "    print(\"get salary:\",salary2)"
   ]
  },
  {
   "cell_type": "code",
   "execution_count": 10,
   "id": "4dab3800-5c60-4953-b6c8-96c0e68f6846",
   "metadata": {},
   "outputs": [
    {
     "name": "stdin",
     "output_type": "stream",
     "text": [
      "enter the age: 12\n"
     ]
    },
    {
     "name": "stdout",
     "output_type": "stream",
     "text": [
      "not adult\n"
     ]
    }
   ],
   "source": [
    "age=int(input(\"enter the age:\"))\n",
    "if age>21:\n",
    "    print(\"adult\", \"drink alcohol\")\n",
    "elif age>18:\n",
    "    print(\"adult\")\n",
    "else:\n",
    "    print(\"not adult\")\n",
    "        "
   ]
  },
  {
   "cell_type": "code",
   "execution_count": 15,
   "id": "6c519e31-58e0-4413-bbed-e25985c0c52b",
   "metadata": {},
   "outputs": [
    {
     "name": "stdin",
     "output_type": "stream",
     "text": [
      "enter marks of sub1: 23\n",
      "enter marks of sub2: 45\n",
      "enter marks of sub3: 90\n",
      "enter marks of sub4: 56\n",
      "enter marks of sub5: 78\n"
     ]
    },
    {
     "name": "stdout",
     "output_type": "stream",
     "text": [
      "F\n"
     ]
    }
   ],
   "source": [
    "sub1=int(input(\"enter marks of sub1:\"))\n",
    "sub2=int(input(\"enter marks of sub2:\"))\n",
    "sub3=int(input(\"enter marks of sub3:\"))\n",
    "sub4=int(input(\"enter marks of sub4:\"))\n",
    "sub5=int(input(\"enter marks of sub5:\"))\n",
    "total_marks=(sub1+sub2+sub3+sub4+sub5)\n",
    "full_marks=500\n",
    "percentage=(total_marks/full_marks*100)\n",
    "if percentage>90:\n",
    "    print(\"A+\")\n",
    "elif percentage>=85:\n",
    "    print(\"A\")\n",
    "elif percentage>=75:\n",
    "    print(\"B\")\n",
    "elif percentage>=60:\n",
    "    print(\"C\")\n",
    "else :\n",
    "    print(\"F\")"
   ]
  },
  {
   "cell_type": "markdown",
   "id": "e0a2e106-8ffc-43b5-acb2-ed31b747fb02",
   "metadata": {},
   "source": [
    "#nested if"
   ]
  },
  {
   "cell_type": "raw",
   "id": "229af98e-37cb-4e8d-8762-aaf933b63670",
   "metadata": {},
   "source": [
    "if statement inside the if statement\n",
    "syntax:\n",
    "    if condition:\n",
    "        if condition:\n",
    "            stmt1\n",
    "            stmt2"
   ]
  },
  {
   "cell_type": "code",
   "execution_count": 23,
   "id": "60d67e59-56e0-45c0-9de2-d3d17717c15d",
   "metadata": {},
   "outputs": [
    {
     "name": "stdin",
     "output_type": "stream",
     "text": [
      "enter a number: 20\n"
     ]
    },
    {
     "name": "stdout",
     "output_type": "stream",
     "text": [
      "divisible by both\n"
     ]
    }
   ],
   "source": [
    "num=int(input(\"enter a number:\"))\n",
    "if num%5==0:\n",
    "        if num%10==0:\n",
    "            print(\"divisible by both\")\n",
    "        elif(num % 10!=0):\n",
    "            print(\"not divisible by 10\")\n",
    "else :\n",
    "    print(\"not divisible\")"
   ]
  },
  {
   "cell_type": "markdown",
   "id": "eec48804-fb95-48ea-b325-bfafe4c49ec6",
   "metadata": {},
   "source": [
    "# iterative approach"
   ]
  },
  {
   "cell_type": "raw",
   "id": "0f576eaf-11c0-4731-bb28-d28da8389fea",
   "metadata": {},
   "source": [
    "iterative approach(loop) repetative statements\n",
    "whenever we want execute specific block of a code repeatedly then we will go for loop\n",
    "1. while loop\n",
    "2.for loop\n",
    "we need to find out three steps\n",
    "1. initialization\n",
    "2. termination condition\n",
    "3. updation\n",
    "whenever we are using the loop then that approach is called iterative approach.\n",
    "\n"
   ]
  },
  {
   "cell_type": "raw",
   "id": "93f0e7fe-3ab1-4dcd-81b0-dd855605c0e3",
   "metadata": {},
   "source": [
    "while loop:\n",
    "syntax:\n",
    "while condition :\n",
    "    while body"
   ]
  },
  {
   "cell_type": "code",
   "execution_count": 2,
   "id": "61e52067-c7c3-4b2c-9318-34c7b2e823b0",
   "metadata": {},
   "outputs": [
    {
     "name": "stdout",
     "output_type": "stream",
     "text": [
      "hello\n",
      "hello\n",
      "hello\n",
      "hello\n",
      "hello\n",
      "hello\n",
      "hello\n",
      "hello\n",
      "hello\n",
      "hello\n"
     ]
    }
   ],
   "source": [
    "i=1\n",
    "while i<=10:\n",
    "    print(\"hello\")\n",
    "    i+=1"
   ]
  },
  {
   "cell_type": "code",
   "execution_count": 3,
   "id": "8d6de6cb-9041-4d1e-84cc-170f6f72dc11",
   "metadata": {},
   "outputs": [
    {
     "name": "stdout",
     "output_type": "stream",
     "text": [
      "10\n",
      "9\n",
      "8\n",
      "7\n",
      "6\n",
      "5\n",
      "4\n",
      "3\n",
      "2\n",
      "1\n"
     ]
    }
   ],
   "source": [
    "i=10\n",
    "while i>=1:\n",
    "    print(i)\n",
    "    i-=1"
   ]
  },
  {
   "cell_type": "code",
   "execution_count": 4,
   "id": "7d7a177e-83bc-4fc8-a5bf-0cf0a76ade7d",
   "metadata": {},
   "outputs": [
    {
     "name": "stdout",
     "output_type": "stream",
     "text": [
      "2\n",
      "3\n",
      "4\n",
      "5\n",
      "6\n",
      "7\n",
      "8\n",
      "9\n",
      "10\n",
      "11\n"
     ]
    }
   ],
   "source": [
    "i=1\n",
    "while i<=10:\n",
    "    i+=1\n",
    "    print(i)\n",
    "    "
   ]
  },
  {
   "cell_type": "code",
   "execution_count": 10,
   "id": "f839534c-f823-4bcc-b560-580b77f64d42",
   "metadata": {},
   "outputs": [
    {
     "name": "stdin",
     "output_type": "stream",
     "text": [
      "enter a number: 2\n"
     ]
    },
    {
     "name": "stdout",
     "output_type": "stream",
     "text": [
      "2\n"
     ]
    },
    {
     "name": "stdin",
     "output_type": "stream",
     "text": [
      "enter the number: 0\n"
     ]
    },
    {
     "name": "stdout",
     "output_type": "stream",
     "text": [
      "over\n"
     ]
    }
   ],
   "source": [
    "a=int(input(\"enter a number:\"))\n",
    "while a!= 0 :\n",
    "    print(a)\n",
    "    a=int(input(\"enter the number:\"))\n",
    "print(\"over\")"
   ]
  },
  {
   "cell_type": "code",
   "execution_count": 14,
   "id": "9726b6db-a98e-44c6-8b15-c167e2eebf15",
   "metadata": {},
   "outputs": [
    {
     "name": "stdout",
     "output_type": "stream",
     "text": [
      "55\n"
     ]
    }
   ],
   "source": [
    "i=1\n",
    "sum=0\n",
    "while i<=10:\n",
    "    sum+=i\n",
    "    i+=1\n",
    "print(sum)\n",
    "\n",
    "\n"
   ]
  },
  {
   "cell_type": "code",
   "execution_count": 24,
   "id": "3192ed5f-1677-495c-9b7b-54aa0d77ee6e",
   "metadata": {},
   "outputs": [
    {
     "name": "stdin",
     "output_type": "stream",
     "text": [
      "enter a number: 5\n"
     ]
    },
    {
     "name": "stdout",
     "output_type": "stream",
     "text": [
      "120\n"
     ]
    }
   ],
   "source": [
    "n=int(input(\"enter a number:\"))\n",
    "multi=1\n",
    "i=1\n",
    "while i<=n:\n",
    "    multi*=i\n",
    "    i+=1\n",
    "print(multi)"
   ]
  },
  {
   "cell_type": "code",
   "execution_count": 10,
   "id": "25594311-ac3c-43c1-848d-cc321231ad05",
   "metadata": {},
   "outputs": [
    {
     "name": "stdin",
     "output_type": "stream",
     "text": [
      "enter a num: 5\n"
     ]
    },
    {
     "name": "stdout",
     "output_type": "stream",
     "text": [
      "9\n"
     ]
    }
   ],
   "source": [
    "n=int(input(\"enter a num:\"))\n",
    "i=1\n",
    "sum=0\n",
    "while i<=n:\n",
    "      sum+=i\n",
    "      i+=2\n",
    "print(sum)"
   ]
  },
  {
   "cell_type": "code",
   "execution_count": 1,
   "id": "09648795-b06d-4d67-a90b-648a391fddfb",
   "metadata": {},
   "outputs": [
    {
     "name": "stdin",
     "output_type": "stream",
     "text": [
      "enter a num: 50\n"
     ]
    },
    {
     "name": "stdout",
     "output_type": "stream",
     "text": [
      "0\n",
      "10\n",
      "20\n",
      "30\n",
      "40\n",
      "50\n"
     ]
    }
   ],
   "source": [
    "n=int(input(\"enter a num:\"))\n",
    "i=1\n",
    "while i<=n:\n",
    "    if i%5==0 and i%10==0:\n",
    "        print(i)\n",
    "    i+=1"
   ]
  },
  {
   "cell_type": "code",
   "execution_count": 1,
   "id": "47fb57b6-3abc-4e99-9e98-f9994935adaa",
   "metadata": {},
   "outputs": [
    {
     "name": "stdin",
     "output_type": "stream",
     "text": [
      "enter a num: 123\n"
     ]
    },
    {
     "name": "stdout",
     "output_type": "stream",
     "text": [
      "6\n"
     ]
    }
   ],
   "source": [
    "n=int(input(\"enter a num:\"))\n",
    "sum=0\n",
    "while n>0:\n",
    "     sum = sum+n%10\n",
    "     n=n//10\n",
    "print(sum)\n",
    "    "
   ]
  },
  {
   "cell_type": "code",
   "execution_count": 4,
   "id": "ecb54a29-5545-4d70-97fe-f5d53a8ed7c8",
   "metadata": {},
   "outputs": [
    {
     "name": "stdin",
     "output_type": "stream",
     "text": [
      "enter a num: 12908\n"
     ]
    },
    {
     "name": "stdout",
     "output_type": "stream",
     "text": [
      "8 0 9 2 1 \n",
      "digit sum: 20\n"
     ]
    }
   ],
   "source": [
    "n=int(input(\"enter a num:\"))\n",
    "sum=0\n",
    "digit=0\n",
    "while n>0:\n",
    "     digit=n%10\n",
    "     sum = sum+digit\n",
    "     print(digit,end=\" \")\n",
    "     n=n//10\n",
    "print(\"\\ndigit sum:\",sum)"
   ]
  },
  {
   "cell_type": "code",
   "execution_count": null,
   "id": "8fae027d-02a2-4d1f-a16a-e3e4d126577d",
   "metadata": {},
   "outputs": [],
   "source": [
    "i=1\n",
    "list=[]\n",
    "while i<=10:\n",
    "    a=(i**2)\n",
    "    i+=1\n",
    "prinlist.append(a))"
   ]
  },
  {
   "cell_type": "code",
   "execution_count": null,
   "id": "ea756175-17cb-4e63-ad56-9bfc7c6e717b",
   "metadata": {},
   "outputs": [],
   "source": [
    "n=int(input(\"enter a number:\"))\n",
    "i=2\n",
    "is_divisible=False\n",
    "while i<n:\n",
    "    if n%i==0:\n",
    "        is_divisible=True\n",
    "    i+=1\n",
    "    if is_divisible==False:\n",
    "    print(\"prime\")\n",
    "\n",
    "    "
   ]
  },
  {
   "cell_type": "code",
   "execution_count": null,
   "id": "ed848b05-b61d-4fa7-8f4a-37b261e29339",
   "metadata": {},
   "outputs": [],
   "source": []
  }
 ],
 "metadata": {
  "kernelspec": {
   "display_name": "Python 3 (ipykernel)",
   "language": "python",
   "name": "python3"
  },
  "language_info": {
   "codemirror_mode": {
    "name": "ipython",
    "version": 3
   },
   "file_extension": ".py",
   "mimetype": "text/x-python",
   "name": "python",
   "nbconvert_exporter": "python",
   "pygments_lexer": "ipython3",
   "version": "3.13.0"
  }
 },
 "nbformat": 4,
 "nbformat_minor": 5
}
