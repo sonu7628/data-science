{
 "cells": [
  {
   "cell_type": "raw",
   "id": "ecdb4eb8-bff4-40bf-b2e4-7f2855c359d0",
   "metadata": {},
   "source": [
    "@ Errors : issue or mistake thats disturbs the normal flow of execution.\n",
    "          1. syntax Error: - it will occure when python compiler will not able to parse it or it is not following the proper syntax\n",
    "                           - we need to rectifly the syntax then only we will able to execute the program\n",
    "                           - indentation error \n",
    "                           - invalid literal \n",
    "                           - missing parenthesis-----\n",
    "                           - all the syntax error will occurs before the excution of the program.\n",
    " specify\n",
    "          2. runtime Error: - runtime Error will occurs when we are executing the program.\n",
    "                            - runtime Error will not contain any syntactical error.\n",
    "                            1. zerodivision error ex-\n",
    "                            2. type error ex-  a=\"2\"+2 \n",
    "                            3. value error ex- int('abc')\n",
    "                            4. index error ex-list=[1,2,3,4]\n",
    "                                              print(list[5\n",
    "                            5. stackoverflow: when we are not specifyting the anchor step\n",
    "                            6. recursion error: \n",
    "                                   1.  when we are not specifyting the anchor step\n",
    "                                   2. wrong recursive call\n",
    "                            7. key error: \n",
    "                            8. file not found error etc\n",
    "          3. logical Error: - there is no syntax error and no runtime error\n",
    "                            - it occurs when we are getting incorrect output or unexpected output\n",
    "          4. symtac Error handling: \n",
    "                           - we will check the syntax and rectify it\n",
    "                           - logical error : - test the code \n",
    "                                             - debug the code\n",
    "                           -  runtime Error:\n",
    "                                      exception handling\n",
    "                           - segmentation fault: we are generally getting segmentation fault in lower programming languaage \n",
    "                                                - when python \n",
    "                            - because python has its own memory module and garbage collection\n",
    "                                  - we will get the segmentation fault python when we are is dealing with the external libraries  which is built in @ @ @ c/c++\n",
    "@ Exception : - unwanted or unexpected event thats disturb the normal flow\n",
    "              -  exception can be occurs in hardware level as well as software.\n",
    "              -  if exception is happening in the hardware level we called as interrupt.\n",
    "              -  to handle the interrupt we have interrupt service routine in interrupt vector table.\n",
    "              -  in case of software if we got  the exception we have exceptional handling\n",
    "@ Exceptional Handlinng : - means not rectiflying the runtime arror \n",
    "                          - it is giving alternate way to handle that error\n",
    "                          - it is not the process of rectifing or correctinh the\n",
    "                          1. resource leak:\n",
    "                               ex - open\n",
    "                          2. unreleased lock:\n",
    "                               ex: program: process:\n",
    "                                shared resoured : where the shared resource is available we called it  as critical section \n",
    "                                p1------enter into the critical section\n",
    "                                semaphore : any integer value except 0\n",
    "                                it leads to starvation or deadlock\n",
    "                          3. transaction issue: \n",
    "                              transation: \n",
    "                          - for handling the exception we have  \n",
    "                                1.try block: - code which raised the exception is called raisky code\n",
    "                                             - raisky code will always be put into try block \n",
    "                                             - always try to put the minimum instruction/code into the try block\n",
    "                                             - risky code - which will raise the exception\n",
    "                                2. except block: - except block will excepted only when the exception is raised \n",
    "                                                 - if there is no exception the exception block will not be executed\n",
    "                                                 - once the exception is raised the statement below that will not executed because the exception \n",
    "                                                     control in directly suspended from try block to except block\n",
    "                                                 - every exception in a python will considered as object it having the corresponding exception class\n",
    "                                                 - whenever the exception is occurs PVM will create the object for the  exception class and if the                                                     exception handling code is available pvm will excuted that otherwisw there will be abnormal termination\n",
    "                                                 - whenever there is a exception it is handle by expecpt block\n",
    "                                                 - we can use the mutiple exception block \n",
    "                                                   ex - try:\n",
    "                                                        except e1:\n",
    "                                                        except e2:\n",
    "\n",
    "                                                   - divison code:\n",
    "                                                   - except (ZeroDivisionError,valueError):\n",
    "                                3. else block:\n",
    "                                    \n",
    "                                4. finally block: - it is use for resource cleaning purpose\n",
    "                                                  - weather the expection is raised or not finally block will be executed\n",
    "                                                  - we cant keep the cleanup code in exception block because if there is no exception the cleanup code \n",
    "                                                        will not be executed\n",
    "                                                  - Q who cleanup your code\n",
    "\n",
    "Q How to handle the exception handling:\n",
    "@ control flow\n",
    "     try:\n",
    "         instruction1\n",
    "         instruction2 \n",
    "         instruction3\n",
    "         instruction4\n",
    "   except e:\n",
    "          instruction5\n",
    "    instruction6\n",
    "- if the exception occurs in the instruction2 then the instruction1,instruction2 and instruction6 is executed it is normal termination\n",
    "- if the all try block instruction has no any exception then the except block is not execute but exception in \n",
    "    instruction6 then its called abnormal termination\n",
    "Q  How the python will manage the memory: \n",
    "  - 4gb ram:6 gb program\n",
    "processor------ HDD\n",
    "   - there is no relation between program size and space complexity\n",
    "@ garbage collection : virtual memory:\n",
    "   - in python  memory allocation and deallocation will be done automatically because python has a garbage collector\n",
    "   - garbage collector is available in virtual memory(indirectly it is a secondary memory)\n",
    "   - genrally in a python we are mostly using heap segment\n",
    "   - Q the program to given he signal to the garbage collection it is available in python interpreter\n",
    "   - garbage collector space is always consider as the heap segment\n",
    "   \n",
    "@ OOp : principle \n",
    "@ Predefined Function with Moduls :\n",
    "@ decorator :\n",
    "@ generator :\n",
    "\n",
    "@ Moduls : \n",
    "@ Programming Language :\n",
    "      language--------: \n",
    "\n",
    "ASIDic properties\n",
    "pvm:"
   ]
  },
  {
   "cell_type": "code",
   "execution_count": 1,
   "id": "bdfaced6-8cbb-46ad-8573-9f6936b1f6d6",
   "metadata": {},
   "outputs": [
    {
     "name": "stdout",
     "output_type": "stream",
     "text": [
      "division not possible\n"
     ]
    }
   ],
   "source": [
    "try:\n",
    "    print(10/0)\n",
    "except ZeroDivisionError:\n",
    "    print(\"division not possible\")"
   ]
  },
  {
   "cell_type": "code",
   "execution_count": null,
   "id": "4e1eca24-84b7-4de7-860b-af1abde92e42",
   "metadata": {},
   "outputs": [],
   "source": []
  },
  {
   "cell_type": "code",
   "execution_count": 7,
   "id": "a9bdbbac-95b4-4552-b3a3-2239f4a916ff",
   "metadata": {},
   "outputs": [
    {
     "name": "stdin",
     "output_type": "stream",
     "text": [
      "enter any number 5\n",
      "enter any number 2\n"
     ]
    },
    {
     "name": "stdout",
     "output_type": "stream",
     "text": [
      "2.5\n"
     ]
    }
   ],
   "source": [
    "def divide_numbers(a,b):\n",
    "    if b==0:\n",
    "       print(\" Division by zero is not allowed\") \n",
    "    else:\n",
    "       return (a/b)\n",
    "a=float(input(\"enter any number\"))\n",
    "b=float(input(\"enter any number\"))\n",
    "print (divide_numbers(a,b))\n"
   ]
  },
  {
   "cell_type": "code",
   "execution_count": 8,
   "id": "cbc99d2d-8ffa-48a7-b106-263520fc645e",
   "metadata": {},
   "outputs": [
    {
     "name": "stdin",
     "output_type": "stream",
     "text": [
      "Enter the numerator:  10\n",
      "Enter the denominator:  2\n"
     ]
    },
    {
     "name": "stdout",
     "output_type": "stream",
     "text": [
      "The result is: 5.0\n",
      "Division operation completed.\n"
     ]
    }
   ],
   "source": [
    "def divide_numbers():\n",
    "    try:\n",
    "        num1 = float(input(\"Enter the numerator: \"))\n",
    "        num2 = float(input(\"Enter the denominator: \"))\n",
    "        result = num1 / num2\n",
    "    except ZeroDivisionError:\n",
    "        print(\"Error: Division by zero is not allowed.\")\n",
    "    except ValueError:\n",
    "        print(\"Error: Invalid input. Please enter numeric values.\")\n",
    "    else:\n",
    "        print(f\"The result is: {result}\")\n",
    "    finally:\n",
    "        print(\"Division operation completed.\")\n",
    "divide_numbers()\n"
   ]
  },
  {
   "cell_type": "code",
   "execution_count": 6,
   "id": "6ad227b2-d48b-4cc4-af5b-bd3892e2cbb6",
   "metadata": {},
   "outputs": [
    {
     "name": "stdin",
     "output_type": "stream",
     "text": [
      "Enter the file name to read:  file1\n"
     ]
    },
    {
     "name": "stdout",
     "output_type": "stream",
     "text": [
      "File content:\n",
      "python programming is a simple one\n",
      "python is good for scripting\n",
      "python is really good for automation\n",
      "python has good backend framework\n",
      "134 567 8907!@#$%^&*\n",
      "File read successfully.\n",
      "Operation completed.\n"
     ]
    }
   ],
   "source": [
    " # I want to read the file and print the content on the file we have write permission\n",
    "def read_and_print_file():\n",
    "    try:\n",
    "        file_name = input(\"Enter the file name to read: \")\n",
    "        with open(file_name, 'r') as file:\n",
    "            content = file.read()\n",
    "            print(\"File content:\")\n",
    "            print(content)\n",
    "    except FileNotFoundError:\n",
    "        print(f\"Error: The file '{file_name}' was not found.\")\n",
    "    except Exception as e:\n",
    "        print(f\"An unexpected error occurred: {e}\")\n",
    "    else:\n",
    "        print(\"File read successfully.\")\n",
    "    finally:\n",
    "        print(\"Operation completed.\")\n",
    "\n",
    "read_and_print_file()"
   ]
  },
  {
   "cell_type": "code",
   "execution_count": 9,
   "id": "51855b81-f713-468e-ac7a-3aaf86ea81f3",
   "metadata": {},
   "outputs": [
    {
     "name": "stdout",
     "output_type": "stream",
     "text": [
      "<class 'ZeroDivisionError'>\n",
      "<class 'ZeroDivisionError'>\n",
      "ZeroDivisionError\n",
      "division by zero\n"
     ]
    }
   ],
   "source": [
    "try:\n",
    "    print(10/0)\n",
    "except Exception as e:\n",
    "    print (type(e))\n",
    "    print(e.__class__)\n",
    "    print(e.__class__.__name__)\n",
    "    print(e)"
   ]
  },
  {
   "cell_type": "code",
   "execution_count": 11,
   "id": "e30e6439-dbc5-4411-9611-15e738e00222",
   "metadata": {},
   "outputs": [
    {
     "name": "stdout",
     "output_type": "stream",
     "text": [
      "division not possible\n",
      "division is possible\n"
     ]
    }
   ],
   "source": [
    "try:\n",
    "    print(10/0)\n",
    "except ZeroDivisionError:\n",
    "    print(\"division not possible\")\n",
    "finally:\n",
    "    print(\"division is possible\")"
   ]
  },
  {
   "cell_type": "code",
   "execution_count": 10,
   "id": "4fb24c9a-a6a5-431f-81b5-8b5809700317",
   "metadata": {},
   "outputs": [
    {
     "name": "stdout",
     "output_type": "stream",
     "text": [
      "original lisi: [1, 2, 3, 4]\n",
      "list after appending 5: [1, 2, 3, 4, 5]\n"
     ]
    }
   ],
   "source": [
    "#  write a python program that perform any list operation and that handle the attribute error if there is a exception\n",
    "try:\n",
    "    list=[1,2,3,4]\n",
    "    print(\"original lisi:\",list)\n",
    "    list.append(5)\n",
    "    print(\"list after appending 5:\",list)\n",
    "except AttributeError:\n",
    "    print (\"opration is not possible\")\n",
    "    "
   ]
  },
  {
   "cell_type": "raw",
   "id": "6348a1c2-6fff-4945-aa01-44326c898ffb",
   "metadata": {},
   "source": [
    "# problem statement:\n",
    "1.take a rectangle and decide that point is lies on the rectangle or not\n",
    "hint: compare the points x1 with x3 and if else statement\n",
    " \n",
    "2. two circle distance between two circle is given check whether they touch internally or externally\n",
    "hint: 1.4 points: if else statement"
   ]
  },
  {
   "cell_type": "code",
   "execution_count": null,
   "id": "e7ff6ba4-57da-43a6-8803-a91cecc9c8bd",
   "metadata": {},
   "outputs": [],
   "source": []
  },
  {
   "cell_type": "code",
   "execution_count": null,
   "id": "a9bccb3b-11ad-43bc-a421-db4951ea9942",
   "metadata": {},
   "outputs": [],
   "source": []
  }
 ],
 "metadata": {
  "kernelspec": {
   "display_name": "Python 3 (ipykernel)",
   "language": "python",
   "name": "python3"
  },
  "language_info": {
   "codemirror_mode": {
    "name": "ipython",
    "version": 3
   },
   "file_extension": ".py",
   "mimetype": "text/x-python",
   "name": "python",
   "nbconvert_exporter": "python",
   "pygments_lexer": "ipython3",
   "version": "3.13.0"
  }
 },
 "nbformat": 4,
 "nbformat_minor": 5
}
